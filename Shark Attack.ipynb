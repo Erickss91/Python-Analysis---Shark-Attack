{
 "cells": [
  {
   "cell_type": "markdown",
   "id": "36d0daac",
   "metadata": {},
   "source": [
    "# Estudo e mapeamento dos ataques de tubarão no Estado de Pernambuco"
   ]
  },
  {
   "cell_type": "markdown",
   "id": "7b69e03f",
   "metadata": {},
   "source": [
    "#### Objetivo"
   ]
  },
  {
   "cell_type": "markdown",
   "id": "49ac92fc",
   "metadata": {},
   "source": [
    "O projeto tem como objetivo mapear as localizações e o perfil de vítimas de ataques de tubarão dentro do Estado de Pernambuco."
   ]
  },
  {
   "cell_type": "markdown",
   "id": "779b27ca",
   "metadata": {},
   "source": [
    "#### Escopo da análise"
   ]
  },
  {
   "cell_type": "markdown",
   "id": "2c596f46",
   "metadata": {},
   "source": [
    "   A base de dados analisada tem como fonte o site ...., que mostra ocorrências de ataques de tubarão ao redor do mundo no período de ... a ... . \n",
    "\n",
    "   O estudo focado no Brasil teve seu objeto de análise escolhido como Estado de Pernanbuco pela grande quantidade de ataques ocorridos em suas praias.\n",
    "    \n",
    "Criação de mapa  interativo para fácil visualização das ocorrências.\n",
    "\n",
    "Itens analisados sobre o perfil da vítima:\n",
    "    Ano;\n",
    "    Dia da Semana;\n",
    "    Atividade;\n",
    "    Fatalidade;\n",
    "    Sexo;    \n",
    "\n",
    "O arquivo utilizado tem formato .xls"
   ]
  },
  {
   "cell_type": "markdown",
   "id": "7f2d7839",
   "metadata": {},
   "source": [
    "### Análise"
   ]
  },
  {
   "cell_type": "markdown",
   "id": "4ea59974",
   "metadata": {},
   "source": [
    "A base de dados que deu origem a este projeto traz ataques de tubarão ao redor do mundo no período de ... a ... . e suas primeiras 4 linhas podem ser visualizadas abaixo:"
   ]
  },
  {
   "cell_type": "code",
   "execution_count": 189,
   "id": "c4f42ba2",
   "metadata": {
    "scrolled": false
   },
   "outputs": [
    {
     "data": {
      "text/html": [
       "<div>\n",
       "<style scoped>\n",
       "    .dataframe tbody tr th:only-of-type {\n",
       "        vertical-align: middle;\n",
       "    }\n",
       "\n",
       "    .dataframe tbody tr th {\n",
       "        vertical-align: top;\n",
       "    }\n",
       "\n",
       "    .dataframe thead th {\n",
       "        text-align: right;\n",
       "    }\n",
       "</style>\n",
       "<table border=\"1\" class=\"dataframe\">\n",
       "  <thead>\n",
       "    <tr style=\"text-align: right;\">\n",
       "      <th></th>\n",
       "      <th>case_number</th>\n",
       "      <th>date</th>\n",
       "      <th>year</th>\n",
       "      <th>type</th>\n",
       "      <th>country</th>\n",
       "      <th>area</th>\n",
       "      <th>location</th>\n",
       "      <th>activity</th>\n",
       "      <th>name</th>\n",
       "      <th>sex_</th>\n",
       "      <th>age</th>\n",
       "      <th>injury</th>\n",
       "      <th>fatal_(y_n)</th>\n",
       "      <th>time</th>\n",
       "      <th>species_</th>\n",
       "      <th>investigator_or_source</th>\n",
       "      <th>pdf</th>\n",
       "      <th>href_formula</th>\n",
       "      <th>href</th>\n",
       "      <th>case_number.1</th>\n",
       "      <th>case_number.2</th>\n",
       "      <th>original_order</th>\n",
       "    </tr>\n",
       "  </thead>\n",
       "  <tbody>\n",
       "    <tr>\n",
       "      <th>0</th>\n",
       "      <td>2021.07.27.b</td>\n",
       "      <td>27-Jul-2021</td>\n",
       "      <td>2021.0</td>\n",
       "      <td>Unprovoked</td>\n",
       "      <td>USA</td>\n",
       "      <td>Georgia</td>\n",
       "      <td>Tybee Island, Chatham County</td>\n",
       "      <td>NaN</td>\n",
       "      <td>Yamada Atsushi</td>\n",
       "      <td>M</td>\n",
       "      <td>50s</td>\n",
       "      <td>Lower left legf bitten</td>\n",
       "      <td>N</td>\n",
       "      <td>NaN</td>\n",
       "      <td>NaN</td>\n",
       "      <td>C. Creswell and J. Marchand, GSAF</td>\n",
       "      <td>2021.07.27.b-Atsushi.pdf</td>\n",
       "      <td>http://sharkattackfile.net/spreadsheets/pdf_di...</td>\n",
       "      <td>http://sharkattackfile.net/spreadsheets/pdf di...</td>\n",
       "      <td>2021.07.27.b</td>\n",
       "      <td>2021.07.27.b</td>\n",
       "      <td>6677.0</td>\n",
       "    </tr>\n",
       "    <tr>\n",
       "      <th>1</th>\n",
       "      <td>2021.07.27.a</td>\n",
       "      <td>27-Jul-2021</td>\n",
       "      <td>2021.0</td>\n",
       "      <td>NaN</td>\n",
       "      <td>AUSTRALIA</td>\n",
       "      <td>Western Australia</td>\n",
       "      <td>Varanus Island</td>\n",
       "      <td>Fishing</td>\n",
       "      <td>male</td>\n",
       "      <td>M</td>\n",
       "      <td>30s</td>\n",
       "      <td>Leg bitten</td>\n",
       "      <td>N</td>\n",
       "      <td>20h30</td>\n",
       "      <td>Sickelfin lemon shark, 3m</td>\n",
       "      <td>J. Marchand, GSAF</td>\n",
       "      <td>2021.07.27.a-Australia.pdf</td>\n",
       "      <td>http://sharkattackfile.net/spreadsheets/pdf_di...</td>\n",
       "      <td>http://sharkattackfile.net/spreadsheets/pdf_di...</td>\n",
       "      <td>2021.07.27.a</td>\n",
       "      <td>2021.07.27.a</td>\n",
       "      <td>6676.0</td>\n",
       "    </tr>\n",
       "    <tr>\n",
       "      <th>2</th>\n",
       "      <td>2021.07.26</td>\n",
       "      <td>26-Jul-2021</td>\n",
       "      <td>2021.0</td>\n",
       "      <td>Unprovoked</td>\n",
       "      <td>USA</td>\n",
       "      <td>New York</td>\n",
       "      <td>Jones Beach, Nassau County</td>\n",
       "      <td>Swimming</td>\n",
       "      <td>male</td>\n",
       "      <td>M</td>\n",
       "      <td>NaN</td>\n",
       "      <td>Minor injury to calf</td>\n",
       "      <td>N</td>\n",
       "      <td>11h00</td>\n",
       "      <td>A small shark</td>\n",
       "      <td>S. Curatolo-Wagemann, GSAF &amp; K. McMurray, Trac...</td>\n",
       "      <td>2021.07.26-JonesBeach, pdf</td>\n",
       "      <td>http://sharkattackfile.net/spreadsheets/pdf_di...</td>\n",
       "      <td>http://sharkattackfile.net/spreadsheets/pdf_di...</td>\n",
       "      <td>2021.07.26</td>\n",
       "      <td>2021.07.26</td>\n",
       "      <td>6675.0</td>\n",
       "    </tr>\n",
       "    <tr>\n",
       "      <th>3</th>\n",
       "      <td>2021.07.25</td>\n",
       "      <td>25-Jul-2021</td>\n",
       "      <td>2021.0</td>\n",
       "      <td>Unprovoked</td>\n",
       "      <td>BRAZIL</td>\n",
       "      <td>Pernambuco</td>\n",
       "      <td>Piedade</td>\n",
       "      <td>Squatting in the water</td>\n",
       "      <td>Everton dos Reis Guimarães</td>\n",
       "      <td>M</td>\n",
       "      <td>32</td>\n",
       "      <td>Lacerations to poster thigh and buttock</td>\n",
       "      <td>N</td>\n",
       "      <td>NaN</td>\n",
       "      <td>NaN</td>\n",
       "      <td>K. McMurray, TrackingSharks.com</td>\n",
       "      <td>2021.07.25-Brazil.pdf</td>\n",
       "      <td>http://sharkattackfile.net/spreadsheets/pdf_di...</td>\n",
       "      <td>http://sharkattackfile.net/spreadsheets/pdf_di...</td>\n",
       "      <td>2021.07.25</td>\n",
       "      <td>2021.07.25</td>\n",
       "      <td>6674.0</td>\n",
       "    </tr>\n",
       "  </tbody>\n",
       "</table>\n",
       "</div>"
      ],
      "text/plain": [
       "    case_number         date    year        type    country  \\\n",
       "0  2021.07.27.b  27-Jul-2021  2021.0  Unprovoked        USA   \n",
       "1  2021.07.27.a  27-Jul-2021  2021.0         NaN  AUSTRALIA   \n",
       "2    2021.07.26  26-Jul-2021  2021.0  Unprovoked        USA   \n",
       "3    2021.07.25  25-Jul-2021  2021.0  Unprovoked     BRAZIL   \n",
       "\n",
       "                area                      location                activity  \\\n",
       "0            Georgia  Tybee Island, Chatham County                     NaN   \n",
       "1  Western Australia                Varanus Island                 Fishing   \n",
       "2           New York    Jones Beach, Nassau County                Swimming   \n",
       "3         Pernambuco                       Piedade  Squatting in the water   \n",
       "\n",
       "                          name sex_  age  \\\n",
       "0              Yamada Atsushi     M  50s   \n",
       "1                         male    M  30s   \n",
       "2                         male    M  NaN   \n",
       "3  Everton dos Reis Guimarães     M   32   \n",
       "\n",
       "                                    injury fatal_(y_n)   time  \\\n",
       "0                   Lower left legf bitten           N    NaN   \n",
       "1                               Leg bitten           N  20h30   \n",
       "2                    Minor injury to calf            N  11h00   \n",
       "3  Lacerations to poster thigh and buttock           N    NaN   \n",
       "\n",
       "                    species_  \\\n",
       "0                        NaN   \n",
       "1  Sickelfin lemon shark, 3m   \n",
       "2              A small shark   \n",
       "3                        NaN   \n",
       "\n",
       "                              investigator_or_source  \\\n",
       "0                  C. Creswell and J. Marchand, GSAF   \n",
       "1                                  J. Marchand, GSAF   \n",
       "2  S. Curatolo-Wagemann, GSAF & K. McMurray, Trac...   \n",
       "3                    K. McMurray, TrackingSharks.com   \n",
       "\n",
       "                          pdf  \\\n",
       "0    2021.07.27.b-Atsushi.pdf   \n",
       "1  2021.07.27.a-Australia.pdf   \n",
       "2  2021.07.26-JonesBeach, pdf   \n",
       "3       2021.07.25-Brazil.pdf   \n",
       "\n",
       "                                        href_formula  \\\n",
       "0  http://sharkattackfile.net/spreadsheets/pdf_di...   \n",
       "1  http://sharkattackfile.net/spreadsheets/pdf_di...   \n",
       "2  http://sharkattackfile.net/spreadsheets/pdf_di...   \n",
       "3  http://sharkattackfile.net/spreadsheets/pdf_di...   \n",
       "\n",
       "                                                href case_number.1  \\\n",
       "0  http://sharkattackfile.net/spreadsheets/pdf di...  2021.07.27.b   \n",
       "1  http://sharkattackfile.net/spreadsheets/pdf_di...  2021.07.27.a   \n",
       "2  http://sharkattackfile.net/spreadsheets/pdf_di...    2021.07.26   \n",
       "3  http://sharkattackfile.net/spreadsheets/pdf_di...    2021.07.25   \n",
       "\n",
       "  case_number.2  original_order  \n",
       "0  2021.07.27.b          6677.0  \n",
       "1  2021.07.27.a          6676.0  \n",
       "2    2021.07.26          6675.0  \n",
       "3    2021.07.25          6674.0  "
      ]
     },
     "execution_count": 189,
     "metadata": {},
     "output_type": "execute_result"
    }
   ],
   "source": [
    "df_excel.head(4)"
   ]
  },
  {
   "cell_type": "markdown",
   "id": "0a0ead8d",
   "metadata": {},
   "source": [
    "O estudo focado no Brasil se iniciou padronizando os dados para decidir qual seria o Estado do país que \n",
    "serviria como objeto de análise do projeto. Para isso avaliou-se quantos ataques ocorreram em cada Estado:"
   ]
  },
  {
   "cell_type": "code",
   "execution_count": 193,
   "id": "a4cc3eb1",
   "metadata": {},
   "outputs": [
    {
     "data": {
      "text/plain": [
       "Pernambuco              77\n",
       "Rio de Janeiro          11\n",
       "Maranhão                 5\n",
       "Bahia                    3\n",
       "Fernando de Noronha      3\n",
       "Alagoas                  2\n",
       "Rio Grande de Norte      2\n",
       "Porto Seguro             1\n",
       "Balneário Camboriú       1\n",
       "Rio Grande Do Sul        1\n",
       "Santa Catarina State     1\n",
       "Boi Island, Victoria     1\n",
       "Paraiba                  1\n",
       "Name: area, dtype: int64"
      ]
     },
     "execution_count": 193,
     "metadata": {},
     "output_type": "execute_result"
    }
   ],
   "source": [
    "df_brazil.area.value_counts()"
   ]
  },
  {
   "cell_type": "markdown",
   "id": "e8316dab",
   "metadata": {},
   "source": [
    "Como grande parte das ocorrências são concentradas em Pernambuco, tratou-se os dados com a localização de cada\n",
    "registro e o número de ocorrências em cada uma delas:"
   ]
  },
  {
   "cell_type": "code",
   "execution_count": 194,
   "id": "22331a17",
   "metadata": {},
   "outputs": [
    {
     "data": {
      "text/plain": [
       "3                    piedade\n",
       "65          cacimba_do_padre\n",
       "533      fernando_de_noronha\n",
       "537               boa_viagem\n",
       "795         punta_del_chifre\n",
       "1030      enseada_dos_corais\n",
       "1247                    pina\n",
       "1664               itamaracá\n",
       "1818                 Unknown\n",
       "2138    pau_amarelo_paulista\n",
       "2245                candeias\n",
       "2604                   paiva\n",
       "2631        barra_de_jangada\n",
       "Name: location, dtype: object"
      ]
     },
     "execution_count": 194,
     "metadata": {},
     "output_type": "execute_result"
    }
   ],
   "source": [
    "df_location.fillna('Unknown').drop_duplicates()"
   ]
  },
  {
   "cell_type": "markdown",
   "id": "a8bc070f",
   "metadata": {},
   "source": [
    "As localizações padronizadas facilitam o mapeamento dos ataques de forma que pôde-se criar a seguinte visualização interativa:"
   ]
  },
  {
   "cell_type": "markdown",
   "id": "2ff237fa",
   "metadata": {},
   "source": [
    "### Ao clicar nos marcadores pode-se ler o nome do local e o número de ataques ocorridos na região."
   ]
  },
  {
   "cell_type": "code",
   "execution_count": 195,
   "id": "761f23fc",
   "metadata": {},
   "outputs": [
    {
     "data": {
      "text/html": [
       "<div style=\"width:100%;\"><div style=\"position:relative;width:100%;height:0;padding-bottom:60%;\"><span style=\"color:#565656\">Make this Notebook Trusted to load map: File -> Trust Notebook</span><iframe src=\"about:blank\" style=\"position:absolute;width:100%;height:100%;left:0;top:0;border:none !important;\" data-html=%3C%21DOCTYPE%20html%3E%0A%3Chead%3E%20%20%20%20%0A%20%20%20%20%3Cmeta%20http-equiv%3D%22content-type%22%20content%3D%22text/html%3B%20charset%3DUTF-8%22%20/%3E%0A%20%20%20%20%0A%20%20%20%20%20%20%20%20%3Cscript%3E%0A%20%20%20%20%20%20%20%20%20%20%20%20L_NO_TOUCH%20%3D%20false%3B%0A%20%20%20%20%20%20%20%20%20%20%20%20L_DISABLE_3D%20%3D%20false%3B%0A%20%20%20%20%20%20%20%20%3C/script%3E%0A%20%20%20%20%0A%20%20%20%20%3Cstyle%3Ehtml%2C%20body%20%7Bwidth%3A%20100%25%3Bheight%3A%20100%25%3Bmargin%3A%200%3Bpadding%3A%200%3B%7D%3C/style%3E%0A%20%20%20%20%3Cstyle%3E%23map%20%7Bposition%3Aabsolute%3Btop%3A0%3Bbottom%3A0%3Bright%3A0%3Bleft%3A0%3B%7D%3C/style%3E%0A%20%20%20%20%3Cscript%20src%3D%22https%3A//cdn.jsdelivr.net/npm/leaflet%401.6.0/dist/leaflet.js%22%3E%3C/script%3E%0A%20%20%20%20%3Cscript%20src%3D%22https%3A//code.jquery.com/jquery-1.12.4.min.js%22%3E%3C/script%3E%0A%20%20%20%20%3Cscript%20src%3D%22https%3A//maxcdn.bootstrapcdn.com/bootstrap/3.2.0/js/bootstrap.min.js%22%3E%3C/script%3E%0A%20%20%20%20%3Cscript%20src%3D%22https%3A//cdnjs.cloudflare.com/ajax/libs/Leaflet.awesome-markers/2.0.2/leaflet.awesome-markers.js%22%3E%3C/script%3E%0A%20%20%20%20%3Clink%20rel%3D%22stylesheet%22%20href%3D%22https%3A//cdn.jsdelivr.net/npm/leaflet%401.6.0/dist/leaflet.css%22/%3E%0A%20%20%20%20%3Clink%20rel%3D%22stylesheet%22%20href%3D%22https%3A//maxcdn.bootstrapcdn.com/bootstrap/3.2.0/css/bootstrap.min.css%22/%3E%0A%20%20%20%20%3Clink%20rel%3D%22stylesheet%22%20href%3D%22https%3A//maxcdn.bootstrapcdn.com/bootstrap/3.2.0/css/bootstrap-theme.min.css%22/%3E%0A%20%20%20%20%3Clink%20rel%3D%22stylesheet%22%20href%3D%22https%3A//maxcdn.bootstrapcdn.com/font-awesome/4.6.3/css/font-awesome.min.css%22/%3E%0A%20%20%20%20%3Clink%20rel%3D%22stylesheet%22%20href%3D%22https%3A//cdnjs.cloudflare.com/ajax/libs/Leaflet.awesome-markers/2.0.2/leaflet.awesome-markers.css%22/%3E%0A%20%20%20%20%3Clink%20rel%3D%22stylesheet%22%20href%3D%22https%3A//cdn.jsdelivr.net/gh/python-visualization/folium/folium/templates/leaflet.awesome.rotate.min.css%22/%3E%0A%20%20%20%20%0A%20%20%20%20%20%20%20%20%20%20%20%20%3Cmeta%20name%3D%22viewport%22%20content%3D%22width%3Ddevice-width%2C%0A%20%20%20%20%20%20%20%20%20%20%20%20%20%20%20%20initial-scale%3D1.0%2C%20maximum-scale%3D1.0%2C%20user-scalable%3Dno%22%20/%3E%0A%20%20%20%20%20%20%20%20%20%20%20%20%3Cstyle%3E%0A%20%20%20%20%20%20%20%20%20%20%20%20%20%20%20%20%23map_a1f79c559c794d608a5d5fcfe0a0adba%20%7B%0A%20%20%20%20%20%20%20%20%20%20%20%20%20%20%20%20%20%20%20%20position%3A%20relative%3B%0A%20%20%20%20%20%20%20%20%20%20%20%20%20%20%20%20%20%20%20%20width%3A%20100.0%25%3B%0A%20%20%20%20%20%20%20%20%20%20%20%20%20%20%20%20%20%20%20%20height%3A%20100.0%25%3B%0A%20%20%20%20%20%20%20%20%20%20%20%20%20%20%20%20%20%20%20%20left%3A%200.0%25%3B%0A%20%20%20%20%20%20%20%20%20%20%20%20%20%20%20%20%20%20%20%20top%3A%200.0%25%3B%0A%20%20%20%20%20%20%20%20%20%20%20%20%20%20%20%20%7D%0A%20%20%20%20%20%20%20%20%20%20%20%20%3C/style%3E%0A%20%20%20%20%20%20%20%20%0A%3C/head%3E%0A%3Cbody%3E%20%20%20%20%0A%20%20%20%20%0A%20%20%20%20%20%20%20%20%20%20%20%20%3Cdiv%20class%3D%22folium-map%22%20id%3D%22map_a1f79c559c794d608a5d5fcfe0a0adba%22%20%3E%3C/div%3E%0A%20%20%20%20%20%20%20%20%0A%3C/body%3E%0A%3Cscript%3E%20%20%20%20%0A%20%20%20%20%0A%20%20%20%20%20%20%20%20%20%20%20%20var%20map_a1f79c559c794d608a5d5fcfe0a0adba%20%3D%20L.map%28%0A%20%20%20%20%20%20%20%20%20%20%20%20%20%20%20%20%22map_a1f79c559c794d608a5d5fcfe0a0adba%22%2C%0A%20%20%20%20%20%20%20%20%20%20%20%20%20%20%20%20%7B%0A%20%20%20%20%20%20%20%20%20%20%20%20%20%20%20%20%20%20%20%20center%3A%20%5B-8.027223049248697%2C%20-34.869305493039306%5D%2C%0A%20%20%20%20%20%20%20%20%20%20%20%20%20%20%20%20%20%20%20%20crs%3A%20L.CRS.EPSG3857%2C%0A%20%20%20%20%20%20%20%20%20%20%20%20%20%20%20%20%20%20%20%20zoom%3A%2011%2C%0A%20%20%20%20%20%20%20%20%20%20%20%20%20%20%20%20%20%20%20%20zoomControl%3A%20true%2C%0A%20%20%20%20%20%20%20%20%20%20%20%20%20%20%20%20%20%20%20%20preferCanvas%3A%20false%2C%0A%20%20%20%20%20%20%20%20%20%20%20%20%20%20%20%20%7D%0A%20%20%20%20%20%20%20%20%20%20%20%20%29%3B%0A%0A%20%20%20%20%20%20%20%20%20%20%20%20%0A%0A%20%20%20%20%20%20%20%20%0A%20%20%20%20%0A%20%20%20%20%20%20%20%20%20%20%20%20var%20tile_layer_40b83b09c0a4482bb39bd93e4d50335d%20%3D%20L.tileLayer%28%0A%20%20%20%20%20%20%20%20%20%20%20%20%20%20%20%20%22https%3A//%7Bs%7D.tile.openstreetmap.org/%7Bz%7D/%7Bx%7D/%7By%7D.png%22%2C%0A%20%20%20%20%20%20%20%20%20%20%20%20%20%20%20%20%7B%22attribution%22%3A%20%22Data%20by%20%5Cu0026copy%3B%20%5Cu003ca%20href%3D%5C%22http%3A//openstreetmap.org%5C%22%5Cu003eOpenStreetMap%5Cu003c/a%5Cu003e%2C%20under%20%5Cu003ca%20href%3D%5C%22http%3A//www.openstreetmap.org/copyright%5C%22%5Cu003eODbL%5Cu003c/a%5Cu003e.%22%2C%20%22detectRetina%22%3A%20false%2C%20%22maxNativeZoom%22%3A%2018%2C%20%22maxZoom%22%3A%2018%2C%20%22minZoom%22%3A%200%2C%20%22noWrap%22%3A%20false%2C%20%22opacity%22%3A%201%2C%20%22subdomains%22%3A%20%22abc%22%2C%20%22tms%22%3A%20false%7D%0A%20%20%20%20%20%20%20%20%20%20%20%20%29.addTo%28map_a1f79c559c794d608a5d5fcfe0a0adba%29%3B%0A%20%20%20%20%20%20%20%20%0A%20%20%20%20%0A%20%20%20%20%20%20%20%20%20%20%20%20var%20marker_14eed287fe60406c878b33a3e9178043%20%3D%20L.marker%28%0A%20%20%20%20%20%20%20%20%20%20%20%20%20%20%20%20%5B-8.22906325741136%2C%20-34.9421057603418%5D%2C%0A%20%20%20%20%20%20%20%20%20%20%20%20%20%20%20%20%7B%7D%0A%20%20%20%20%20%20%20%20%20%20%20%20%29.addTo%28map_a1f79c559c794d608a5d5fcfe0a0adba%29%3B%0A%20%20%20%20%20%20%20%20%0A%20%20%20%20%0A%20%20%20%20%20%20%20%20var%20popup_6bab69db97dd45bba2c103a144ecbd4c%20%3D%20L.popup%28%7B%22maxWidth%22%3A%20%22100%25%22%7D%29%3B%0A%0A%20%20%20%20%20%20%20%20%0A%20%20%20%20%20%20%20%20%20%20%20%20var%20html_cc480dde00884aab9ff73d1d099bd320%20%3D%20%24%28%60%3Cdiv%20id%3D%22html_cc480dde00884aab9ff73d1d099bd320%22%20style%3D%22width%3A%20100.0%25%3B%20height%3A%20100.0%25%3B%22%3Ebarra_de_jangada%3C/div%3E%60%29%5B0%5D%3B%0A%20%20%20%20%20%20%20%20%20%20%20%20popup_6bab69db97dd45bba2c103a144ecbd4c.setContent%28html_cc480dde00884aab9ff73d1d099bd320%29%3B%0A%20%20%20%20%20%20%20%20%0A%0A%20%20%20%20%20%20%20%20marker_14eed287fe60406c878b33a3e9178043.bindPopup%28popup_6bab69db97dd45bba2c103a144ecbd4c%29%0A%20%20%20%20%20%20%20%20%3B%0A%0A%20%20%20%20%20%20%20%20%0A%20%20%20%20%0A%20%20%20%20%0A%20%20%20%20%20%20%20%20%20%20%20%20marker_14eed287fe60406c878b33a3e9178043.bindTooltip%28%0A%20%20%20%20%20%20%20%20%20%20%20%20%20%20%20%20%60%3Cdiv%3E%0A%20%20%20%20%20%20%20%20%20%20%20%20%20%20%20%20%20%20%20%20%20Click%20aqui%21%0A%20%20%20%20%20%20%20%20%20%20%20%20%20%20%20%20%20%3C/div%3E%60%2C%0A%20%20%20%20%20%20%20%20%20%20%20%20%20%20%20%20%7B%22sticky%22%3A%20true%7D%0A%20%20%20%20%20%20%20%20%20%20%20%20%29%3B%0A%20%20%20%20%20%20%20%20%0A%20%20%20%20%0A%20%20%20%20%20%20%20%20%20%20%20%20var%20marker_50c7ea7c4a164ede9489eeb83897eb1f%20%3D%20L.marker%28%0A%20%20%20%20%20%20%20%20%20%20%20%20%20%20%20%20%5B-8.10857303981487%2C%20-34.8892463211503%5D%2C%0A%20%20%20%20%20%20%20%20%20%20%20%20%20%20%20%20%7B%7D%0A%20%20%20%20%20%20%20%20%20%20%20%20%29.addTo%28map_a1f79c559c794d608a5d5fcfe0a0adba%29%3B%0A%20%20%20%20%20%20%20%20%0A%20%20%20%20%0A%20%20%20%20%20%20%20%20var%20popup_b2ab16d33b5a42a58260491fce221cf3%20%3D%20L.popup%28%7B%22maxWidth%22%3A%20%22100%25%22%7D%29%3B%0A%0A%20%20%20%20%20%20%20%20%0A%20%20%20%20%20%20%20%20%20%20%20%20var%20html_e8d494875ec74e7581e3d7cc9fb487a4%20%3D%20%24%28%60%3Cdiv%20id%3D%22html_e8d494875ec74e7581e3d7cc9fb487a4%22%20style%3D%22width%3A%20100.0%25%3B%20height%3A%20100.0%25%3B%22%3Eboa_viagem%3C/div%3E%60%29%5B0%5D%3B%0A%20%20%20%20%20%20%20%20%20%20%20%20popup_b2ab16d33b5a42a58260491fce221cf3.setContent%28html_e8d494875ec74e7581e3d7cc9fb487a4%29%3B%0A%20%20%20%20%20%20%20%20%0A%0A%20%20%20%20%20%20%20%20marker_50c7ea7c4a164ede9489eeb83897eb1f.bindPopup%28popup_b2ab16d33b5a42a58260491fce221cf3%29%0A%20%20%20%20%20%20%20%20%3B%0A%0A%20%20%20%20%20%20%20%20%0A%20%20%20%20%0A%20%20%20%20%0A%20%20%20%20%20%20%20%20%20%20%20%20marker_50c7ea7c4a164ede9489eeb83897eb1f.bindTooltip%28%0A%20%20%20%20%20%20%20%20%20%20%20%20%20%20%20%20%60%3Cdiv%3E%0A%20%20%20%20%20%20%20%20%20%20%20%20%20%20%20%20%20%20%20%20%20Click%20aqui%21%0A%20%20%20%20%20%20%20%20%20%20%20%20%20%20%20%20%20%3C/div%3E%60%2C%0A%20%20%20%20%20%20%20%20%20%20%20%20%20%20%20%20%7B%22sticky%22%3A%20true%7D%0A%20%20%20%20%20%20%20%20%20%20%20%20%29%3B%0A%20%20%20%20%20%20%20%20%0A%20%20%20%20%0A%20%20%20%20%20%20%20%20%20%20%20%20var%20marker_566705302e4e4cbfa245e0f3c0050954%20%3D%20L.marker%28%0A%20%20%20%20%20%20%20%20%20%20%20%20%20%20%20%20%5B-3.84889764599607%2C%20-32.4388716116362%5D%2C%0A%20%20%20%20%20%20%20%20%20%20%20%20%20%20%20%20%7B%7D%0A%20%20%20%20%20%20%20%20%20%20%20%20%29.addTo%28map_a1f79c559c794d608a5d5fcfe0a0adba%29%3B%0A%20%20%20%20%20%20%20%20%0A%20%20%20%20%0A%20%20%20%20%20%20%20%20var%20popup_afc5dc2d8f584956abf0fd8a4b0c5bed%20%3D%20L.popup%28%7B%22maxWidth%22%3A%20%22100%25%22%7D%29%3B%0A%0A%20%20%20%20%20%20%20%20%0A%20%20%20%20%20%20%20%20%20%20%20%20var%20html_060fb6983f1c482f98bc0ecb363844f2%20%3D%20%24%28%60%3Cdiv%20id%3D%22html_060fb6983f1c482f98bc0ecb363844f2%22%20style%3D%22width%3A%20100.0%25%3B%20height%3A%20100.0%25%3B%22%3Ecacimba_do_padre%3C/div%3E%60%29%5B0%5D%3B%0A%20%20%20%20%20%20%20%20%20%20%20%20popup_afc5dc2d8f584956abf0fd8a4b0c5bed.setContent%28html_060fb6983f1c482f98bc0ecb363844f2%29%3B%0A%20%20%20%20%20%20%20%20%0A%0A%20%20%20%20%20%20%20%20marker_566705302e4e4cbfa245e0f3c0050954.bindPopup%28popup_afc5dc2d8f584956abf0fd8a4b0c5bed%29%0A%20%20%20%20%20%20%20%20%3B%0A%0A%20%20%20%20%20%20%20%20%0A%20%20%20%20%0A%20%20%20%20%0A%20%20%20%20%20%20%20%20%20%20%20%20marker_566705302e4e4cbfa245e0f3c0050954.bindTooltip%28%0A%20%20%20%20%20%20%20%20%20%20%20%20%20%20%20%20%60%3Cdiv%3E%0A%20%20%20%20%20%20%20%20%20%20%20%20%20%20%20%20%20%20%20%20%20Click%20aqui%21%0A%20%20%20%20%20%20%20%20%20%20%20%20%20%20%20%20%20%3C/div%3E%60%2C%0A%20%20%20%20%20%20%20%20%20%20%20%20%20%20%20%20%7B%22sticky%22%3A%20true%7D%0A%20%20%20%20%20%20%20%20%20%20%20%20%29%3B%0A%20%20%20%20%20%20%20%20%0A%20%20%20%20%0A%20%20%20%20%20%20%20%20%20%20%20%20var%20marker_aaaae97233c140ff8f22c8dda2b0164c%20%3D%20L.marker%28%0A%20%20%20%20%20%20%20%20%20%20%20%20%20%20%20%20%5B-8.20522836450443%2C%20-34.9181368845543%5D%2C%0A%20%20%20%20%20%20%20%20%20%20%20%20%20%20%20%20%7B%7D%0A%20%20%20%20%20%20%20%20%20%20%20%20%29.addTo%28map_a1f79c559c794d608a5d5fcfe0a0adba%29%3B%0A%20%20%20%20%20%20%20%20%0A%20%20%20%20%0A%20%20%20%20%20%20%20%20var%20popup_81782723aae64600b915b948b5ca0e9d%20%3D%20L.popup%28%7B%22maxWidth%22%3A%20%22100%25%22%7D%29%3B%0A%0A%20%20%20%20%20%20%20%20%0A%20%20%20%20%20%20%20%20%20%20%20%20var%20html_255e37dec6fe4e22bb40df65a0685e4d%20%3D%20%24%28%60%3Cdiv%20id%3D%22html_255e37dec6fe4e22bb40df65a0685e4d%22%20style%3D%22width%3A%20100.0%25%3B%20height%3A%20100.0%25%3B%22%3Ecandeias%3C/div%3E%60%29%5B0%5D%3B%0A%20%20%20%20%20%20%20%20%20%20%20%20popup_81782723aae64600b915b948b5ca0e9d.setContent%28html_255e37dec6fe4e22bb40df65a0685e4d%29%3B%0A%20%20%20%20%20%20%20%20%0A%0A%20%20%20%20%20%20%20%20marker_aaaae97233c140ff8f22c8dda2b0164c.bindPopup%28popup_81782723aae64600b915b948b5ca0e9d%29%0A%20%20%20%20%20%20%20%20%3B%0A%0A%20%20%20%20%20%20%20%20%0A%20%20%20%20%0A%20%20%20%20%0A%20%20%20%20%20%20%20%20%20%20%20%20marker_aaaae97233c140ff8f22c8dda2b0164c.bindTooltip%28%0A%20%20%20%20%20%20%20%20%20%20%20%20%20%20%20%20%60%3Cdiv%3E%0A%20%20%20%20%20%20%20%20%20%20%20%20%20%20%20%20%20%20%20%20%20Click%20aqui%21%0A%20%20%20%20%20%20%20%20%20%20%20%20%20%20%20%20%20%3C/div%3E%60%2C%0A%20%20%20%20%20%20%20%20%20%20%20%20%20%20%20%20%7B%22sticky%22%3A%20true%7D%0A%20%20%20%20%20%20%20%20%20%20%20%20%29%3B%0A%20%20%20%20%20%20%20%20%0A%20%20%20%20%0A%20%20%20%20%20%20%20%20%20%20%20%20var%20marker_fd5270f533034f7bbd1edc5663e53f9d%20%3D%20L.marker%28%0A%20%20%20%20%20%20%20%20%20%20%20%20%20%20%20%20%5B-8.3166203054719%2C%20-34.949800544453%5D%2C%0A%20%20%20%20%20%20%20%20%20%20%20%20%20%20%20%20%7B%7D%0A%20%20%20%20%20%20%20%20%20%20%20%20%29.addTo%28map_a1f79c559c794d608a5d5fcfe0a0adba%29%3B%0A%20%20%20%20%20%20%20%20%0A%20%20%20%20%0A%20%20%20%20%20%20%20%20var%20popup_af0ddf36563349a3968e161cd12d04ee%20%3D%20L.popup%28%7B%22maxWidth%22%3A%20%22100%25%22%7D%29%3B%0A%0A%20%20%20%20%20%20%20%20%0A%20%20%20%20%20%20%20%20%20%20%20%20var%20html_1e09bf8b8e51497a86eea4b84d677c59%20%3D%20%24%28%60%3Cdiv%20id%3D%22html_1e09bf8b8e51497a86eea4b84d677c59%22%20style%3D%22width%3A%20100.0%25%3B%20height%3A%20100.0%25%3B%22%3Eenseada_dos_corais%3C/div%3E%60%29%5B0%5D%3B%0A%20%20%20%20%20%20%20%20%20%20%20%20popup_af0ddf36563349a3968e161cd12d04ee.setContent%28html_1e09bf8b8e51497a86eea4b84d677c59%29%3B%0A%20%20%20%20%20%20%20%20%0A%0A%20%20%20%20%20%20%20%20marker_fd5270f533034f7bbd1edc5663e53f9d.bindPopup%28popup_af0ddf36563349a3968e161cd12d04ee%29%0A%20%20%20%20%20%20%20%20%3B%0A%0A%20%20%20%20%20%20%20%20%0A%20%20%20%20%0A%20%20%20%20%0A%20%20%20%20%20%20%20%20%20%20%20%20marker_fd5270f533034f7bbd1edc5663e53f9d.bindTooltip%28%0A%20%20%20%20%20%20%20%20%20%20%20%20%20%20%20%20%60%3Cdiv%3E%0A%20%20%20%20%20%20%20%20%20%20%20%20%20%20%20%20%20%20%20%20%20Click%20aqui%21%0A%20%20%20%20%20%20%20%20%20%20%20%20%20%20%20%20%20%3C/div%3E%60%2C%0A%20%20%20%20%20%20%20%20%20%20%20%20%20%20%20%20%7B%22sticky%22%3A%20true%7D%0A%20%20%20%20%20%20%20%20%20%20%20%20%29%3B%0A%20%20%20%20%20%20%20%20%0A%20%20%20%20%0A%20%20%20%20%20%20%20%20%20%20%20%20var%20marker_9a2a871d76654cdc825f2703af3d0795%20%3D%20L.marker%28%0A%20%20%20%20%20%20%20%20%20%20%20%20%20%20%20%20%5B-8.06626842720967%2C%20-34.8884061375187%5D%2C%0A%20%20%20%20%20%20%20%20%20%20%20%20%20%20%20%20%7B%7D%0A%20%20%20%20%20%20%20%20%20%20%20%20%29.addTo%28map_a1f79c559c794d608a5d5fcfe0a0adba%29%3B%0A%20%20%20%20%20%20%20%20%0A%20%20%20%20%0A%20%20%20%20%20%20%20%20var%20popup_8b807f2d72cf40a386197597ce91e37d%20%3D%20L.popup%28%7B%22maxWidth%22%3A%20%22100%25%22%7D%29%3B%0A%0A%20%20%20%20%20%20%20%20%0A%20%20%20%20%20%20%20%20%20%20%20%20var%20html_7090dd6c316c4005a6e386c43f56a158%20%3D%20%24%28%60%3Cdiv%20id%3D%22html_7090dd6c316c4005a6e386c43f56a158%22%20style%3D%22width%3A%20100.0%25%3B%20height%3A%20100.0%25%3B%22%3Efernando_de_noronha%3C/div%3E%60%29%5B0%5D%3B%0A%20%20%20%20%20%20%20%20%20%20%20%20popup_8b807f2d72cf40a386197597ce91e37d.setContent%28html_7090dd6c316c4005a6e386c43f56a158%29%3B%0A%20%20%20%20%20%20%20%20%0A%0A%20%20%20%20%20%20%20%20marker_9a2a871d76654cdc825f2703af3d0795.bindPopup%28popup_8b807f2d72cf40a386197597ce91e37d%29%0A%20%20%20%20%20%20%20%20%3B%0A%0A%20%20%20%20%20%20%20%20%0A%20%20%20%20%0A%20%20%20%20%0A%20%20%20%20%20%20%20%20%20%20%20%20marker_9a2a871d76654cdc825f2703af3d0795.bindTooltip%28%0A%20%20%20%20%20%20%20%20%20%20%20%20%20%20%20%20%60%3Cdiv%3E%0A%20%20%20%20%20%20%20%20%20%20%20%20%20%20%20%20%20%20%20%20%20Click%20aqui%21%0A%20%20%20%20%20%20%20%20%20%20%20%20%20%20%20%20%20%3C/div%3E%60%2C%0A%20%20%20%20%20%20%20%20%20%20%20%20%20%20%20%20%7B%22sticky%22%3A%20true%7D%0A%20%20%20%20%20%20%20%20%20%20%20%20%29%3B%0A%20%20%20%20%20%20%20%20%0A%20%20%20%20%0A%20%20%20%20%20%20%20%20%20%20%20%20var%20marker_af371e129c824a61949a4948b5d56ec3%20%3D%20L.marker%28%0A%20%20%20%20%20%20%20%20%20%20%20%20%20%20%20%20%5B-7.7516044107398%2C%20-34.8252974167234%5D%2C%0A%20%20%20%20%20%20%20%20%20%20%20%20%20%20%20%20%7B%7D%0A%20%20%20%20%20%20%20%20%20%20%20%20%29.addTo%28map_a1f79c559c794d608a5d5fcfe0a0adba%29%3B%0A%20%20%20%20%20%20%20%20%0A%20%20%20%20%0A%20%20%20%20%20%20%20%20var%20popup_c11459b069874c56b445ee37103620cf%20%3D%20L.popup%28%7B%22maxWidth%22%3A%20%22100%25%22%7D%29%3B%0A%0A%20%20%20%20%20%20%20%20%0A%20%20%20%20%20%20%20%20%20%20%20%20var%20html_31a59516716047028cfb11ce228d39f6%20%3D%20%24%28%60%3Cdiv%20id%3D%22html_31a59516716047028cfb11ce228d39f6%22%20style%3D%22width%3A%20100.0%25%3B%20height%3A%20100.0%25%3B%22%3Eitamarac%C3%A1%3C/div%3E%60%29%5B0%5D%3B%0A%20%20%20%20%20%20%20%20%20%20%20%20popup_c11459b069874c56b445ee37103620cf.setContent%28html_31a59516716047028cfb11ce228d39f6%29%3B%0A%20%20%20%20%20%20%20%20%0A%0A%20%20%20%20%20%20%20%20marker_af371e129c824a61949a4948b5d56ec3.bindPopup%28popup_c11459b069874c56b445ee37103620cf%29%0A%20%20%20%20%20%20%20%20%3B%0A%0A%20%20%20%20%20%20%20%20%0A%20%20%20%20%0A%20%20%20%20%0A%20%20%20%20%20%20%20%20%20%20%20%20marker_af371e129c824a61949a4948b5d56ec3.bindTooltip%28%0A%20%20%20%20%20%20%20%20%20%20%20%20%20%20%20%20%60%3Cdiv%3E%0A%20%20%20%20%20%20%20%20%20%20%20%20%20%20%20%20%20%20%20%20%20Click%20aqui%21%0A%20%20%20%20%20%20%20%20%20%20%20%20%20%20%20%20%20%3C/div%3E%60%2C%0A%20%20%20%20%20%20%20%20%20%20%20%20%20%20%20%20%7B%22sticky%22%3A%20true%7D%0A%20%20%20%20%20%20%20%20%20%20%20%20%29%3B%0A%20%20%20%20%20%20%20%20%0A%20%20%20%20%0A%20%20%20%20%20%20%20%20%20%20%20%20var%20marker_0883b95a9365499dab89a2b20aa8944c%20%3D%20L.marker%28%0A%20%20%20%20%20%20%20%20%20%20%20%20%20%20%20%20%5B-8.26847781521217%2C%20-34.9465551054554%5D%2C%0A%20%20%20%20%20%20%20%20%20%20%20%20%20%20%20%20%7B%7D%0A%20%20%20%20%20%20%20%20%20%20%20%20%29.addTo%28map_a1f79c559c794d608a5d5fcfe0a0adba%29%3B%0A%20%20%20%20%20%20%20%20%0A%20%20%20%20%0A%20%20%20%20%20%20%20%20var%20popup_f85b251c5dc64789b1ff3949b8d5ffe6%20%3D%20L.popup%28%7B%22maxWidth%22%3A%20%22100%25%22%7D%29%3B%0A%0A%20%20%20%20%20%20%20%20%0A%20%20%20%20%20%20%20%20%20%20%20%20var%20html_80709d4e4a3c479e8402e69ff1a08c68%20%3D%20%24%28%60%3Cdiv%20id%3D%22html_80709d4e4a3c479e8402e69ff1a08c68%22%20style%3D%22width%3A%20100.0%25%3B%20height%3A%20100.0%25%3B%22%3Epaiva%3C/div%3E%60%29%5B0%5D%3B%0A%20%20%20%20%20%20%20%20%20%20%20%20popup_f85b251c5dc64789b1ff3949b8d5ffe6.setContent%28html_80709d4e4a3c479e8402e69ff1a08c68%29%3B%0A%20%20%20%20%20%20%20%20%0A%0A%20%20%20%20%20%20%20%20marker_0883b95a9365499dab89a2b20aa8944c.bindPopup%28popup_f85b251c5dc64789b1ff3949b8d5ffe6%29%0A%20%20%20%20%20%20%20%20%3B%0A%0A%20%20%20%20%20%20%20%20%0A%20%20%20%20%0A%20%20%20%20%0A%20%20%20%20%20%20%20%20%20%20%20%20marker_0883b95a9365499dab89a2b20aa8944c.bindTooltip%28%0A%20%20%20%20%20%20%20%20%20%20%20%20%20%20%20%20%60%3Cdiv%3E%0A%20%20%20%20%20%20%20%20%20%20%20%20%20%20%20%20%20%20%20%20%20Click%20aqui%21%0A%20%20%20%20%20%20%20%20%20%20%20%20%20%20%20%20%20%3C/div%3E%60%2C%0A%20%20%20%20%20%20%20%20%20%20%20%20%20%20%20%20%7B%22sticky%22%3A%20true%7D%0A%20%20%20%20%20%20%20%20%20%20%20%20%29%3B%0A%20%20%20%20%20%20%20%20%0A%20%20%20%20%0A%20%20%20%20%20%20%20%20%20%20%20%20var%20marker_84666098563741869abc51a6f95a6da6%20%3D%20L.marker%28%0A%20%20%20%20%20%20%20%20%20%20%20%20%20%20%20%20%5B-7.91357829122554%2C%20-34.8225515338408%5D%2C%0A%20%20%20%20%20%20%20%20%20%20%20%20%20%20%20%20%7B%7D%0A%20%20%20%20%20%20%20%20%20%20%20%20%29.addTo%28map_a1f79c559c794d608a5d5fcfe0a0adba%29%3B%0A%20%20%20%20%20%20%20%20%0A%20%20%20%20%0A%20%20%20%20%20%20%20%20var%20popup_c9454dc1aedc4789985e2778a0cd1123%20%3D%20L.popup%28%7B%22maxWidth%22%3A%20%22100%25%22%7D%29%3B%0A%0A%20%20%20%20%20%20%20%20%0A%20%20%20%20%20%20%20%20%20%20%20%20var%20html_7b0b19be2da64164bdd62923fb5a493d%20%3D%20%24%28%60%3Cdiv%20id%3D%22html_7b0b19be2da64164bdd62923fb5a493d%22%20style%3D%22width%3A%20100.0%25%3B%20height%3A%20100.0%25%3B%22%3Epau_amarelo_paulista%3C/div%3E%60%29%5B0%5D%3B%0A%20%20%20%20%20%20%20%20%20%20%20%20popup_c9454dc1aedc4789985e2778a0cd1123.setContent%28html_7b0b19be2da64164bdd62923fb5a493d%29%3B%0A%20%20%20%20%20%20%20%20%0A%0A%20%20%20%20%20%20%20%20marker_84666098563741869abc51a6f95a6da6.bindPopup%28popup_c9454dc1aedc4789985e2778a0cd1123%29%0A%20%20%20%20%20%20%20%20%3B%0A%0A%20%20%20%20%20%20%20%20%0A%20%20%20%20%0A%20%20%20%20%0A%20%20%20%20%20%20%20%20%20%20%20%20marker_84666098563741869abc51a6f95a6da6.bindTooltip%28%0A%20%20%20%20%20%20%20%20%20%20%20%20%20%20%20%20%60%3Cdiv%3E%0A%20%20%20%20%20%20%20%20%20%20%20%20%20%20%20%20%20%20%20%20%20Click%20aqui%21%0A%20%20%20%20%20%20%20%20%20%20%20%20%20%20%20%20%20%3C/div%3E%60%2C%0A%20%20%20%20%20%20%20%20%20%20%20%20%20%20%20%20%7B%22sticky%22%3A%20true%7D%0A%20%20%20%20%20%20%20%20%20%20%20%20%29%3B%0A%20%20%20%20%20%20%20%20%0A%20%20%20%20%0A%20%20%20%20%20%20%20%20%20%20%20%20var%20marker_7e78dfd691584a1ea50463a7bd62779b%20%3D%20L.marker%28%0A%20%20%20%20%20%20%20%20%20%20%20%20%20%20%20%20%5B-8.16861462331677%2C%20-34.9142004999995%5D%2C%0A%20%20%20%20%20%20%20%20%20%20%20%20%20%20%20%20%7B%7D%0A%20%20%20%20%20%20%20%20%20%20%20%20%29.addTo%28map_a1f79c559c794d608a5d5fcfe0a0adba%29%3B%0A%20%20%20%20%20%20%20%20%0A%20%20%20%20%0A%20%20%20%20%20%20%20%20var%20popup_65f45044ed3c4701b23469a72ceb9f0e%20%3D%20L.popup%28%7B%22maxWidth%22%3A%20%22100%25%22%7D%29%3B%0A%0A%20%20%20%20%20%20%20%20%0A%20%20%20%20%20%20%20%20%20%20%20%20var%20html_7c5b9f28906e463ab3fdaf1495638a9c%20%3D%20%24%28%60%3Cdiv%20id%3D%22html_7c5b9f28906e463ab3fdaf1495638a9c%22%20style%3D%22width%3A%20100.0%25%3B%20height%3A%20100.0%25%3B%22%3Epiedade%3C/div%3E%60%29%5B0%5D%3B%0A%20%20%20%20%20%20%20%20%20%20%20%20popup_65f45044ed3c4701b23469a72ceb9f0e.setContent%28html_7c5b9f28906e463ab3fdaf1495638a9c%29%3B%0A%20%20%20%20%20%20%20%20%0A%0A%20%20%20%20%20%20%20%20marker_7e78dfd691584a1ea50463a7bd62779b.bindPopup%28popup_65f45044ed3c4701b23469a72ceb9f0e%29%0A%20%20%20%20%20%20%20%20%3B%0A%0A%20%20%20%20%20%20%20%20%0A%20%20%20%20%0A%20%20%20%20%0A%20%20%20%20%20%20%20%20%20%20%20%20marker_7e78dfd691584a1ea50463a7bd62779b.bindTooltip%28%0A%20%20%20%20%20%20%20%20%20%20%20%20%20%20%20%20%60%3Cdiv%3E%0A%20%20%20%20%20%20%20%20%20%20%20%20%20%20%20%20%20%20%20%20%20Click%20aqui%21%0A%20%20%20%20%20%20%20%20%20%20%20%20%20%20%20%20%20%3C/div%3E%60%2C%0A%20%20%20%20%20%20%20%20%20%20%20%20%20%20%20%20%7B%22sticky%22%3A%20true%7D%0A%20%20%20%20%20%20%20%20%20%20%20%20%29%3B%0A%20%20%20%20%20%20%20%20%0A%20%20%20%20%0A%20%20%20%20%20%20%20%20%20%20%20%20var%20marker_70dc6c74dd564d46821082cfa38a08ac%20%3D%20L.marker%28%0A%20%20%20%20%20%20%20%20%20%20%20%20%20%20%20%20%5B-8.09567612926708%2C%20-34.8820605841214%5D%2C%0A%20%20%20%20%20%20%20%20%20%20%20%20%20%20%20%20%7B%7D%0A%20%20%20%20%20%20%20%20%20%20%20%20%29.addTo%28map_a1f79c559c794d608a5d5fcfe0a0adba%29%3B%0A%20%20%20%20%20%20%20%20%0A%20%20%20%20%0A%20%20%20%20%20%20%20%20var%20popup_18ec407093d44cb3adf939b0e7c244ce%20%3D%20L.popup%28%7B%22maxWidth%22%3A%20%22100%25%22%7D%29%3B%0A%0A%20%20%20%20%20%20%20%20%0A%20%20%20%20%20%20%20%20%20%20%20%20var%20html_6e27c6fb50854612a81b6f60326cad2a%20%3D%20%24%28%60%3Cdiv%20id%3D%22html_6e27c6fb50854612a81b6f60326cad2a%22%20style%3D%22width%3A%20100.0%25%3B%20height%3A%20100.0%25%3B%22%3Epina%3C/div%3E%60%29%5B0%5D%3B%0A%20%20%20%20%20%20%20%20%20%20%20%20popup_18ec407093d44cb3adf939b0e7c244ce.setContent%28html_6e27c6fb50854612a81b6f60326cad2a%29%3B%0A%20%20%20%20%20%20%20%20%0A%0A%20%20%20%20%20%20%20%20marker_70dc6c74dd564d46821082cfa38a08ac.bindPopup%28popup_18ec407093d44cb3adf939b0e7c244ce%29%0A%20%20%20%20%20%20%20%20%3B%0A%0A%20%20%20%20%20%20%20%20%0A%20%20%20%20%0A%20%20%20%20%0A%20%20%20%20%20%20%20%20%20%20%20%20marker_70dc6c74dd564d46821082cfa38a08ac.bindTooltip%28%0A%20%20%20%20%20%20%20%20%20%20%20%20%20%20%20%20%60%3Cdiv%3E%0A%20%20%20%20%20%20%20%20%20%20%20%20%20%20%20%20%20%20%20%20%20Click%20aqui%21%0A%20%20%20%20%20%20%20%20%20%20%20%20%20%20%20%20%20%3C/div%3E%60%2C%0A%20%20%20%20%20%20%20%20%20%20%20%20%20%20%20%20%7B%22sticky%22%3A%20true%7D%0A%20%20%20%20%20%20%20%20%20%20%20%20%29%3B%0A%20%20%20%20%20%20%20%20%0A%20%20%20%20%0A%20%20%20%20%20%20%20%20%20%20%20%20var%20marker_45bd8ac77b3e48d0802facbec1e7ffaa%20%3D%20L.marker%28%0A%20%20%20%20%20%20%20%20%20%20%20%20%20%20%20%20%5B-8.02577808922562%2C%20-34.8574041507609%5D%2C%0A%20%20%20%20%20%20%20%20%20%20%20%20%20%20%20%20%7B%7D%0A%20%20%20%20%20%20%20%20%20%20%20%20%29.addTo%28map_a1f79c559c794d608a5d5fcfe0a0adba%29%3B%0A%20%20%20%20%20%20%20%20%0A%20%20%20%20%0A%20%20%20%20%20%20%20%20var%20popup_fe80500b5d0d4f2e85ff05931012738a%20%3D%20L.popup%28%7B%22maxWidth%22%3A%20%22100%25%22%7D%29%3B%0A%0A%20%20%20%20%20%20%20%20%0A%20%20%20%20%20%20%20%20%20%20%20%20var%20html_a4dfff3a4eb24e37b844469e8337c6b0%20%3D%20%24%28%60%3Cdiv%20id%3D%22html_a4dfff3a4eb24e37b844469e8337c6b0%22%20style%3D%22width%3A%20100.0%25%3B%20height%3A%20100.0%25%3B%22%3Epunta_del_chifre%3C/div%3E%60%29%5B0%5D%3B%0A%20%20%20%20%20%20%20%20%20%20%20%20popup_fe80500b5d0d4f2e85ff05931012738a.setContent%28html_a4dfff3a4eb24e37b844469e8337c6b0%29%3B%0A%20%20%20%20%20%20%20%20%0A%0A%20%20%20%20%20%20%20%20marker_45bd8ac77b3e48d0802facbec1e7ffaa.bindPopup%28popup_fe80500b5d0d4f2e85ff05931012738a%29%0A%20%20%20%20%20%20%20%20%3B%0A%0A%20%20%20%20%20%20%20%20%0A%20%20%20%20%0A%20%20%20%20%0A%20%20%20%20%20%20%20%20%20%20%20%20marker_45bd8ac77b3e48d0802facbec1e7ffaa.bindTooltip%28%0A%20%20%20%20%20%20%20%20%20%20%20%20%20%20%20%20%60%3Cdiv%3E%0A%20%20%20%20%20%20%20%20%20%20%20%20%20%20%20%20%20%20%20%20%20Click%20aqui%21%0A%20%20%20%20%20%20%20%20%20%20%20%20%20%20%20%20%20%3C/div%3E%60%2C%0A%20%20%20%20%20%20%20%20%20%20%20%20%20%20%20%20%7B%22sticky%22%3A%20true%7D%0A%20%20%20%20%20%20%20%20%20%20%20%20%29%3B%0A%20%20%20%20%20%20%20%20%0A%20%20%20%20%0A%20%20%20%20%20%20%20%20%20%20%20%20var%20marker_1b22d4e2385c4b36b18eb5f2201d61e6%20%3D%20L.marker%28%0A%20%20%20%20%20%20%20%20%20%20%20%20%20%20%20%20%5B-8.22906325741136%2C%20-34.9421057603418%5D%2C%0A%20%20%20%20%20%20%20%20%20%20%20%20%20%20%20%20%7B%7D%0A%20%20%20%20%20%20%20%20%20%20%20%20%29.addTo%28map_a1f79c559c794d608a5d5fcfe0a0adba%29%3B%0A%20%20%20%20%20%20%20%20%0A%20%20%20%20%0A%20%20%20%20%20%20%20%20var%20popup_1ad4b163327d4e5dba1815afa06c2708%20%3D%20L.popup%28%7B%22maxWidth%22%3A%20%22100%25%22%7D%29%3B%0A%0A%20%20%20%20%20%20%20%20%0A%20%20%20%20%20%20%20%20%20%20%20%20var%20html_ef3ff1d159514696918764acbef1d3ea%20%3D%20%24%28%60%3Cdiv%20id%3D%22html_ef3ff1d159514696918764acbef1d3ea%22%20style%3D%22width%3A%20100.0%25%3B%20height%3A%20100.0%25%3B%22%3Ebarra_de_jangada%20%20%20N%C2%BA%20Ataques%3A%2026%3C/div%3E%60%29%5B0%5D%3B%0A%20%20%20%20%20%20%20%20%20%20%20%20popup_1ad4b163327d4e5dba1815afa06c2708.setContent%28html_ef3ff1d159514696918764acbef1d3ea%29%3B%0A%20%20%20%20%20%20%20%20%0A%0A%20%20%20%20%20%20%20%20marker_1b22d4e2385c4b36b18eb5f2201d61e6.bindPopup%28popup_1ad4b163327d4e5dba1815afa06c2708%29%0A%20%20%20%20%20%20%20%20%3B%0A%0A%20%20%20%20%20%20%20%20%0A%20%20%20%20%0A%20%20%20%20%0A%20%20%20%20%20%20%20%20%20%20%20%20marker_1b22d4e2385c4b36b18eb5f2201d61e6.bindTooltip%28%0A%20%20%20%20%20%20%20%20%20%20%20%20%20%20%20%20%60%3Cdiv%3E%0A%20%20%20%20%20%20%20%20%20%20%20%20%20%20%20%20%20%20%20%20%20Click%20aqui%21%0A%20%20%20%20%20%20%20%20%20%20%20%20%20%20%20%20%20%3C/div%3E%60%2C%0A%20%20%20%20%20%20%20%20%20%20%20%20%20%20%20%20%7B%22sticky%22%3A%20true%7D%0A%20%20%20%20%20%20%20%20%20%20%20%20%29%3B%0A%20%20%20%20%20%20%20%20%0A%20%20%20%20%0A%20%20%20%20%20%20%20%20%20%20%20%20var%20marker_cf6e3f088d2a49d1accf967a6ca9f629%20%3D%20L.marker%28%0A%20%20%20%20%20%20%20%20%20%20%20%20%20%20%20%20%5B-8.10857303981487%2C%20-34.8892463211503%5D%2C%0A%20%20%20%20%20%20%20%20%20%20%20%20%20%20%20%20%7B%7D%0A%20%20%20%20%20%20%20%20%20%20%20%20%29.addTo%28map_a1f79c559c794d608a5d5fcfe0a0adba%29%3B%0A%20%20%20%20%20%20%20%20%0A%20%20%20%20%0A%20%20%20%20%20%20%20%20var%20popup_eca973bd76ec4293a6750715a30b96e3%20%3D%20L.popup%28%7B%22maxWidth%22%3A%20%22100%25%22%7D%29%3B%0A%0A%20%20%20%20%20%20%20%20%0A%20%20%20%20%20%20%20%20%20%20%20%20var%20html_4f450e3427a44636a85b1e225740b683%20%3D%20%24%28%60%3Cdiv%20id%3D%22html_4f450e3427a44636a85b1e225740b683%22%20style%3D%22width%3A%20100.0%25%3B%20height%3A%20100.0%25%3B%22%3Eboa_viagem%20%20%20N%C2%BA%20Ataques%3A%2024%3C/div%3E%60%29%5B0%5D%3B%0A%20%20%20%20%20%20%20%20%20%20%20%20popup_eca973bd76ec4293a6750715a30b96e3.setContent%28html_4f450e3427a44636a85b1e225740b683%29%3B%0A%20%20%20%20%20%20%20%20%0A%0A%20%20%20%20%20%20%20%20marker_cf6e3f088d2a49d1accf967a6ca9f629.bindPopup%28popup_eca973bd76ec4293a6750715a30b96e3%29%0A%20%20%20%20%20%20%20%20%3B%0A%0A%20%20%20%20%20%20%20%20%0A%20%20%20%20%0A%20%20%20%20%0A%20%20%20%20%20%20%20%20%20%20%20%20marker_cf6e3f088d2a49d1accf967a6ca9f629.bindTooltip%28%0A%20%20%20%20%20%20%20%20%20%20%20%20%20%20%20%20%60%3Cdiv%3E%0A%20%20%20%20%20%20%20%20%20%20%20%20%20%20%20%20%20%20%20%20%20Click%20aqui%21%0A%20%20%20%20%20%20%20%20%20%20%20%20%20%20%20%20%20%3C/div%3E%60%2C%0A%20%20%20%20%20%20%20%20%20%20%20%20%20%20%20%20%7B%22sticky%22%3A%20true%7D%0A%20%20%20%20%20%20%20%20%20%20%20%20%29%3B%0A%20%20%20%20%20%20%20%20%0A%20%20%20%20%0A%20%20%20%20%20%20%20%20%20%20%20%20var%20marker_9bce70a8a81944e89bf02ee4a22282c1%20%3D%20L.marker%28%0A%20%20%20%20%20%20%20%20%20%20%20%20%20%20%20%20%5B-3.84889764599607%2C%20-32.4388716116362%5D%2C%0A%20%20%20%20%20%20%20%20%20%20%20%20%20%20%20%20%7B%7D%0A%20%20%20%20%20%20%20%20%20%20%20%20%29.addTo%28map_a1f79c559c794d608a5d5fcfe0a0adba%29%3B%0A%20%20%20%20%20%20%20%20%0A%20%20%20%20%0A%20%20%20%20%20%20%20%20var%20popup_c8707e8f77df4fbea384966988a8b690%20%3D%20L.popup%28%7B%22maxWidth%22%3A%20%22100%25%22%7D%29%3B%0A%0A%20%20%20%20%20%20%20%20%0A%20%20%20%20%20%20%20%20%20%20%20%20var%20html_f9a130fc5a414cbebc31cb168b0c88e3%20%3D%20%24%28%60%3Cdiv%20id%3D%22html_f9a130fc5a414cbebc31cb168b0c88e3%22%20style%3D%22width%3A%20100.0%25%3B%20height%3A%20100.0%25%3B%22%3Ecacimba_do_padre%20%20%20N%C2%BA%20Ataques%3A%205%3C/div%3E%60%29%5B0%5D%3B%0A%20%20%20%20%20%20%20%20%20%20%20%20popup_c8707e8f77df4fbea384966988a8b690.setContent%28html_f9a130fc5a414cbebc31cb168b0c88e3%29%3B%0A%20%20%20%20%20%20%20%20%0A%0A%20%20%20%20%20%20%20%20marker_9bce70a8a81944e89bf02ee4a22282c1.bindPopup%28popup_c8707e8f77df4fbea384966988a8b690%29%0A%20%20%20%20%20%20%20%20%3B%0A%0A%20%20%20%20%20%20%20%20%0A%20%20%20%20%0A%20%20%20%20%0A%20%20%20%20%20%20%20%20%20%20%20%20marker_9bce70a8a81944e89bf02ee4a22282c1.bindTooltip%28%0A%20%20%20%20%20%20%20%20%20%20%20%20%20%20%20%20%60%3Cdiv%3E%0A%20%20%20%20%20%20%20%20%20%20%20%20%20%20%20%20%20%20%20%20%20Click%20aqui%21%0A%20%20%20%20%20%20%20%20%20%20%20%20%20%20%20%20%20%3C/div%3E%60%2C%0A%20%20%20%20%20%20%20%20%20%20%20%20%20%20%20%20%7B%22sticky%22%3A%20true%7D%0A%20%20%20%20%20%20%20%20%20%20%20%20%29%3B%0A%20%20%20%20%20%20%20%20%0A%20%20%20%20%0A%20%20%20%20%20%20%20%20%20%20%20%20var%20marker_a43d179ab0a145b5bdade0c16429211a%20%3D%20L.marker%28%0A%20%20%20%20%20%20%20%20%20%20%20%20%20%20%20%20%5B-8.20522836450443%2C%20-34.9181368845543%5D%2C%0A%20%20%20%20%20%20%20%20%20%20%20%20%20%20%20%20%7B%7D%0A%20%20%20%20%20%20%20%20%20%20%20%20%29.addTo%28map_a1f79c559c794d608a5d5fcfe0a0adba%29%3B%0A%20%20%20%20%20%20%20%20%0A%20%20%20%20%0A%20%20%20%20%20%20%20%20var%20popup_47aedf6f97a8423eb1983a72f00edc8c%20%3D%20L.popup%28%7B%22maxWidth%22%3A%20%22100%25%22%7D%29%3B%0A%0A%20%20%20%20%20%20%20%20%0A%20%20%20%20%20%20%20%20%20%20%20%20var%20html_45092a925684402698518a0e04b8c114%20%3D%20%24%28%60%3Cdiv%20id%3D%22html_45092a925684402698518a0e04b8c114%22%20style%3D%22width%3A%20100.0%25%3B%20height%3A%20100.0%25%3B%22%3Ecandeias%20%20%20N%C2%BA%20Ataques%3A%204%3C/div%3E%60%29%5B0%5D%3B%0A%20%20%20%20%20%20%20%20%20%20%20%20popup_47aedf6f97a8423eb1983a72f00edc8c.setContent%28html_45092a925684402698518a0e04b8c114%29%3B%0A%20%20%20%20%20%20%20%20%0A%0A%20%20%20%20%20%20%20%20marker_a43d179ab0a145b5bdade0c16429211a.bindPopup%28popup_47aedf6f97a8423eb1983a72f00edc8c%29%0A%20%20%20%20%20%20%20%20%3B%0A%0A%20%20%20%20%20%20%20%20%0A%20%20%20%20%0A%20%20%20%20%0A%20%20%20%20%20%20%20%20%20%20%20%20marker_a43d179ab0a145b5bdade0c16429211a.bindTooltip%28%0A%20%20%20%20%20%20%20%20%20%20%20%20%20%20%20%20%60%3Cdiv%3E%0A%20%20%20%20%20%20%20%20%20%20%20%20%20%20%20%20%20%20%20%20%20Click%20aqui%21%0A%20%20%20%20%20%20%20%20%20%20%20%20%20%20%20%20%20%3C/div%3E%60%2C%0A%20%20%20%20%20%20%20%20%20%20%20%20%20%20%20%20%7B%22sticky%22%3A%20true%7D%0A%20%20%20%20%20%20%20%20%20%20%20%20%29%3B%0A%20%20%20%20%20%20%20%20%0A%20%20%20%20%0A%20%20%20%20%20%20%20%20%20%20%20%20var%20marker_65bfe7d928ce43239478248ddde825ee%20%3D%20L.marker%28%0A%20%20%20%20%20%20%20%20%20%20%20%20%20%20%20%20%5B-8.3166203054719%2C%20-34.949800544453%5D%2C%0A%20%20%20%20%20%20%20%20%20%20%20%20%20%20%20%20%7B%7D%0A%20%20%20%20%20%20%20%20%20%20%20%20%29.addTo%28map_a1f79c559c794d608a5d5fcfe0a0adba%29%3B%0A%20%20%20%20%20%20%20%20%0A%20%20%20%20%0A%20%20%20%20%20%20%20%20var%20popup_56da2bdeada14de9bcf722066411ff92%20%3D%20L.popup%28%7B%22maxWidth%22%3A%20%22100%25%22%7D%29%3B%0A%0A%20%20%20%20%20%20%20%20%0A%20%20%20%20%20%20%20%20%20%20%20%20var%20html_868e49dd8bc8468f8e2564f39a300266%20%3D%20%24%28%60%3Cdiv%20id%3D%22html_868e49dd8bc8468f8e2564f39a300266%22%20style%3D%22width%3A%20100.0%25%3B%20height%3A%20100.0%25%3B%22%3Eenseada_dos_corais%20%20%20N%C2%BA%20Ataques%3A%204%3C/div%3E%60%29%5B0%5D%3B%0A%20%20%20%20%20%20%20%20%20%20%20%20popup_56da2bdeada14de9bcf722066411ff92.setContent%28html_868e49dd8bc8468f8e2564f39a300266%29%3B%0A%20%20%20%20%20%20%20%20%0A%0A%20%20%20%20%20%20%20%20marker_65bfe7d928ce43239478248ddde825ee.bindPopup%28popup_56da2bdeada14de9bcf722066411ff92%29%0A%20%20%20%20%20%20%20%20%3B%0A%0A%20%20%20%20%20%20%20%20%0A%20%20%20%20%0A%20%20%20%20%0A%20%20%20%20%20%20%20%20%20%20%20%20marker_65bfe7d928ce43239478248ddde825ee.bindTooltip%28%0A%20%20%20%20%20%20%20%20%20%20%20%20%20%20%20%20%60%3Cdiv%3E%0A%20%20%20%20%20%20%20%20%20%20%20%20%20%20%20%20%20%20%20%20%20Click%20aqui%21%0A%20%20%20%20%20%20%20%20%20%20%20%20%20%20%20%20%20%3C/div%3E%60%2C%0A%20%20%20%20%20%20%20%20%20%20%20%20%20%20%20%20%7B%22sticky%22%3A%20true%7D%0A%20%20%20%20%20%20%20%20%20%20%20%20%29%3B%0A%20%20%20%20%20%20%20%20%0A%20%20%20%20%0A%20%20%20%20%20%20%20%20%20%20%20%20var%20marker_ce776da5c89645409b4e126a82e9f6af%20%3D%20L.marker%28%0A%20%20%20%20%20%20%20%20%20%20%20%20%20%20%20%20%5B-8.06626842720967%2C%20-34.8884061375187%5D%2C%0A%20%20%20%20%20%20%20%20%20%20%20%20%20%20%20%20%7B%7D%0A%20%20%20%20%20%20%20%20%20%20%20%20%29.addTo%28map_a1f79c559c794d608a5d5fcfe0a0adba%29%3B%0A%20%20%20%20%20%20%20%20%0A%20%20%20%20%0A%20%20%20%20%20%20%20%20var%20popup_e9445e34bbdb43fda8a6954cbe8833d7%20%3D%20L.popup%28%7B%22maxWidth%22%3A%20%22100%25%22%7D%29%3B%0A%0A%20%20%20%20%20%20%20%20%0A%20%20%20%20%20%20%20%20%20%20%20%20var%20html_b9597ad0888e4415b081095e48b6ce11%20%3D%20%24%28%60%3Cdiv%20id%3D%22html_b9597ad0888e4415b081095e48b6ce11%22%20style%3D%22width%3A%20100.0%25%3B%20height%3A%20100.0%25%3B%22%3Efernando_de_noronha%20%20%20N%C2%BA%20Ataques%3A%202%3C/div%3E%60%29%5B0%5D%3B%0A%20%20%20%20%20%20%20%20%20%20%20%20popup_e9445e34bbdb43fda8a6954cbe8833d7.setContent%28html_b9597ad0888e4415b081095e48b6ce11%29%3B%0A%20%20%20%20%20%20%20%20%0A%0A%20%20%20%20%20%20%20%20marker_ce776da5c89645409b4e126a82e9f6af.bindPopup%28popup_e9445e34bbdb43fda8a6954cbe8833d7%29%0A%20%20%20%20%20%20%20%20%3B%0A%0A%20%20%20%20%20%20%20%20%0A%20%20%20%20%0A%20%20%20%20%0A%20%20%20%20%20%20%20%20%20%20%20%20marker_ce776da5c89645409b4e126a82e9f6af.bindTooltip%28%0A%20%20%20%20%20%20%20%20%20%20%20%20%20%20%20%20%60%3Cdiv%3E%0A%20%20%20%20%20%20%20%20%20%20%20%20%20%20%20%20%20%20%20%20%20Click%20aqui%21%0A%20%20%20%20%20%20%20%20%20%20%20%20%20%20%20%20%20%3C/div%3E%60%2C%0A%20%20%20%20%20%20%20%20%20%20%20%20%20%20%20%20%7B%22sticky%22%3A%20true%7D%0A%20%20%20%20%20%20%20%20%20%20%20%20%29%3B%0A%20%20%20%20%20%20%20%20%0A%20%20%20%20%0A%20%20%20%20%20%20%20%20%20%20%20%20var%20marker_e2c1d9094169478985882986576eb778%20%3D%20L.marker%28%0A%20%20%20%20%20%20%20%20%20%20%20%20%20%20%20%20%5B-7.7516044107398%2C%20-34.8252974167234%5D%2C%0A%20%20%20%20%20%20%20%20%20%20%20%20%20%20%20%20%7B%7D%0A%20%20%20%20%20%20%20%20%20%20%20%20%29.addTo%28map_a1f79c559c794d608a5d5fcfe0a0adba%29%3B%0A%20%20%20%20%20%20%20%20%0A%20%20%20%20%0A%20%20%20%20%20%20%20%20var%20popup_25a40c31f96b4086a7a638af4ae453b6%20%3D%20L.popup%28%7B%22maxWidth%22%3A%20%22100%25%22%7D%29%3B%0A%0A%20%20%20%20%20%20%20%20%0A%20%20%20%20%20%20%20%20%20%20%20%20var%20html_508ebf9e41794ed4847155ab13ea3131%20%3D%20%24%28%60%3Cdiv%20id%3D%22html_508ebf9e41794ed4847155ab13ea3131%22%20style%3D%22width%3A%20100.0%25%3B%20height%3A%20100.0%25%3B%22%3Eitamarac%C3%A1%20%20%20N%C2%BA%20Ataques%3A%202%3C/div%3E%60%29%5B0%5D%3B%0A%20%20%20%20%20%20%20%20%20%20%20%20popup_25a40c31f96b4086a7a638af4ae453b6.setContent%28html_508ebf9e41794ed4847155ab13ea3131%29%3B%0A%20%20%20%20%20%20%20%20%0A%0A%20%20%20%20%20%20%20%20marker_e2c1d9094169478985882986576eb778.bindPopup%28popup_25a40c31f96b4086a7a638af4ae453b6%29%0A%20%20%20%20%20%20%20%20%3B%0A%0A%20%20%20%20%20%20%20%20%0A%20%20%20%20%0A%20%20%20%20%0A%20%20%20%20%20%20%20%20%20%20%20%20marker_e2c1d9094169478985882986576eb778.bindTooltip%28%0A%20%20%20%20%20%20%20%20%20%20%20%20%20%20%20%20%60%3Cdiv%3E%0A%20%20%20%20%20%20%20%20%20%20%20%20%20%20%20%20%20%20%20%20%20Click%20aqui%21%0A%20%20%20%20%20%20%20%20%20%20%20%20%20%20%20%20%20%3C/div%3E%60%2C%0A%20%20%20%20%20%20%20%20%20%20%20%20%20%20%20%20%7B%22sticky%22%3A%20true%7D%0A%20%20%20%20%20%20%20%20%20%20%20%20%29%3B%0A%20%20%20%20%20%20%20%20%0A%20%20%20%20%0A%20%20%20%20%20%20%20%20%20%20%20%20var%20marker_dc768c1d5a494c95b61c8add0bbdbef0%20%3D%20L.marker%28%0A%20%20%20%20%20%20%20%20%20%20%20%20%20%20%20%20%5B-8.26847781521217%2C%20-34.9465551054554%5D%2C%0A%20%20%20%20%20%20%20%20%20%20%20%20%20%20%20%20%7B%7D%0A%20%20%20%20%20%20%20%20%20%20%20%20%29.addTo%28map_a1f79c559c794d608a5d5fcfe0a0adba%29%3B%0A%20%20%20%20%20%20%20%20%0A%20%20%20%20%0A%20%20%20%20%20%20%20%20var%20popup_23d8698cbdce4f4a81233254053aff84%20%3D%20L.popup%28%7B%22maxWidth%22%3A%20%22100%25%22%7D%29%3B%0A%0A%20%20%20%20%20%20%20%20%0A%20%20%20%20%20%20%20%20%20%20%20%20var%20html_1f7a7a83d1684e1599b4a2d3fcacfb55%20%3D%20%24%28%60%3Cdiv%20id%3D%22html_1f7a7a83d1684e1599b4a2d3fcacfb55%22%20style%3D%22width%3A%20100.0%25%3B%20height%3A%20100.0%25%3B%22%3Epaiva%20%20%20N%C2%BA%20Ataques%3A%202%3C/div%3E%60%29%5B0%5D%3B%0A%20%20%20%20%20%20%20%20%20%20%20%20popup_23d8698cbdce4f4a81233254053aff84.setContent%28html_1f7a7a83d1684e1599b4a2d3fcacfb55%29%3B%0A%20%20%20%20%20%20%20%20%0A%0A%20%20%20%20%20%20%20%20marker_dc768c1d5a494c95b61c8add0bbdbef0.bindPopup%28popup_23d8698cbdce4f4a81233254053aff84%29%0A%20%20%20%20%20%20%20%20%3B%0A%0A%20%20%20%20%20%20%20%20%0A%20%20%20%20%0A%20%20%20%20%0A%20%20%20%20%20%20%20%20%20%20%20%20marker_dc768c1d5a494c95b61c8add0bbdbef0.bindTooltip%28%0A%20%20%20%20%20%20%20%20%20%20%20%20%20%20%20%20%60%3Cdiv%3E%0A%20%20%20%20%20%20%20%20%20%20%20%20%20%20%20%20%20%20%20%20%20Click%20aqui%21%0A%20%20%20%20%20%20%20%20%20%20%20%20%20%20%20%20%20%3C/div%3E%60%2C%0A%20%20%20%20%20%20%20%20%20%20%20%20%20%20%20%20%7B%22sticky%22%3A%20true%7D%0A%20%20%20%20%20%20%20%20%20%20%20%20%29%3B%0A%20%20%20%20%20%20%20%20%0A%20%20%20%20%0A%20%20%20%20%20%20%20%20%20%20%20%20var%20marker_8b53504761ae424e80058e4a7d7f1981%20%3D%20L.marker%28%0A%20%20%20%20%20%20%20%20%20%20%20%20%20%20%20%20%5B-7.91357829122554%2C%20-34.8225515338408%5D%2C%0A%20%20%20%20%20%20%20%20%20%20%20%20%20%20%20%20%7B%7D%0A%20%20%20%20%20%20%20%20%20%20%20%20%29.addTo%28map_a1f79c559c794d608a5d5fcfe0a0adba%29%3B%0A%20%20%20%20%20%20%20%20%0A%20%20%20%20%0A%20%20%20%20%20%20%20%20var%20popup_5e5d8454f57946398c3e4ee826306777%20%3D%20L.popup%28%7B%22maxWidth%22%3A%20%22100%25%22%7D%29%3B%0A%0A%20%20%20%20%20%20%20%20%0A%20%20%20%20%20%20%20%20%20%20%20%20var%20html_168f5c7ece8e466ba9c9d5b9748d230b%20%3D%20%24%28%60%3Cdiv%20id%3D%22html_168f5c7ece8e466ba9c9d5b9748d230b%22%20style%3D%22width%3A%20100.0%25%3B%20height%3A%20100.0%25%3B%22%3Epau_amarelo_paulista%20%20%20N%C2%BA%20Ataques%3A%202%3C/div%3E%60%29%5B0%5D%3B%0A%20%20%20%20%20%20%20%20%20%20%20%20popup_5e5d8454f57946398c3e4ee826306777.setContent%28html_168f5c7ece8e466ba9c9d5b9748d230b%29%3B%0A%20%20%20%20%20%20%20%20%0A%0A%20%20%20%20%20%20%20%20marker_8b53504761ae424e80058e4a7d7f1981.bindPopup%28popup_5e5d8454f57946398c3e4ee826306777%29%0A%20%20%20%20%20%20%20%20%3B%0A%0A%20%20%20%20%20%20%20%20%0A%20%20%20%20%0A%20%20%20%20%0A%20%20%20%20%20%20%20%20%20%20%20%20marker_8b53504761ae424e80058e4a7d7f1981.bindTooltip%28%0A%20%20%20%20%20%20%20%20%20%20%20%20%20%20%20%20%60%3Cdiv%3E%0A%20%20%20%20%20%20%20%20%20%20%20%20%20%20%20%20%20%20%20%20%20Click%20aqui%21%0A%20%20%20%20%20%20%20%20%20%20%20%20%20%20%20%20%20%3C/div%3E%60%2C%0A%20%20%20%20%20%20%20%20%20%20%20%20%20%20%20%20%7B%22sticky%22%3A%20true%7D%0A%20%20%20%20%20%20%20%20%20%20%20%20%29%3B%0A%20%20%20%20%20%20%20%20%0A%20%20%20%20%0A%20%20%20%20%20%20%20%20%20%20%20%20var%20marker_c824476e937441289d7a5b22b6258ee4%20%3D%20L.marker%28%0A%20%20%20%20%20%20%20%20%20%20%20%20%20%20%20%20%5B-8.16861462331677%2C%20-34.9142004999995%5D%2C%0A%20%20%20%20%20%20%20%20%20%20%20%20%20%20%20%20%7B%7D%0A%20%20%20%20%20%20%20%20%20%20%20%20%29.addTo%28map_a1f79c559c794d608a5d5fcfe0a0adba%29%3B%0A%20%20%20%20%20%20%20%20%0A%20%20%20%20%0A%20%20%20%20%20%20%20%20var%20popup_5fbcb5c5f8274012b3b90c47ceea140f%20%3D%20L.popup%28%7B%22maxWidth%22%3A%20%22100%25%22%7D%29%3B%0A%0A%20%20%20%20%20%20%20%20%0A%20%20%20%20%20%20%20%20%20%20%20%20var%20html_a31e44cbbaf242baaa46e5a816864a04%20%3D%20%24%28%60%3Cdiv%20id%3D%22html_a31e44cbbaf242baaa46e5a816864a04%22%20style%3D%22width%3A%20100.0%25%3B%20height%3A%20100.0%25%3B%22%3Epiedade%20%20%20N%C2%BA%20Ataques%3A%202%3C/div%3E%60%29%5B0%5D%3B%0A%20%20%20%20%20%20%20%20%20%20%20%20popup_5fbcb5c5f8274012b3b90c47ceea140f.setContent%28html_a31e44cbbaf242baaa46e5a816864a04%29%3B%0A%20%20%20%20%20%20%20%20%0A%0A%20%20%20%20%20%20%20%20marker_c824476e937441289d7a5b22b6258ee4.bindPopup%28popup_5fbcb5c5f8274012b3b90c47ceea140f%29%0A%20%20%20%20%20%20%20%20%3B%0A%0A%20%20%20%20%20%20%20%20%0A%20%20%20%20%0A%20%20%20%20%0A%20%20%20%20%20%20%20%20%20%20%20%20marker_c824476e937441289d7a5b22b6258ee4.bindTooltip%28%0A%20%20%20%20%20%20%20%20%20%20%20%20%20%20%20%20%60%3Cdiv%3E%0A%20%20%20%20%20%20%20%20%20%20%20%20%20%20%20%20%20%20%20%20%20Click%20aqui%21%0A%20%20%20%20%20%20%20%20%20%20%20%20%20%20%20%20%20%3C/div%3E%60%2C%0A%20%20%20%20%20%20%20%20%20%20%20%20%20%20%20%20%7B%22sticky%22%3A%20true%7D%0A%20%20%20%20%20%20%20%20%20%20%20%20%29%3B%0A%20%20%20%20%20%20%20%20%0A%20%20%20%20%0A%20%20%20%20%20%20%20%20%20%20%20%20var%20marker_bb8ea1019e614fb5b26bdfe5a34cfc43%20%3D%20L.marker%28%0A%20%20%20%20%20%20%20%20%20%20%20%20%20%20%20%20%5B-8.09567612926708%2C%20-34.8820605841214%5D%2C%0A%20%20%20%20%20%20%20%20%20%20%20%20%20%20%20%20%7B%7D%0A%20%20%20%20%20%20%20%20%20%20%20%20%29.addTo%28map_a1f79c559c794d608a5d5fcfe0a0adba%29%3B%0A%20%20%20%20%20%20%20%20%0A%20%20%20%20%0A%20%20%20%20%20%20%20%20var%20popup_a15a0b506ba34025b465ebcb07a23623%20%3D%20L.popup%28%7B%22maxWidth%22%3A%20%22100%25%22%7D%29%3B%0A%0A%20%20%20%20%20%20%20%20%0A%20%20%20%20%20%20%20%20%20%20%20%20var%20html_78bf583aead8471fb5126af5037ce979%20%3D%20%24%28%60%3Cdiv%20id%3D%22html_78bf583aead8471fb5126af5037ce979%22%20style%3D%22width%3A%20100.0%25%3B%20height%3A%20100.0%25%3B%22%3Epina%20%20%20N%C2%BA%20Ataques%3A%201%3C/div%3E%60%29%5B0%5D%3B%0A%20%20%20%20%20%20%20%20%20%20%20%20popup_a15a0b506ba34025b465ebcb07a23623.setContent%28html_78bf583aead8471fb5126af5037ce979%29%3B%0A%20%20%20%20%20%20%20%20%0A%0A%20%20%20%20%20%20%20%20marker_bb8ea1019e614fb5b26bdfe5a34cfc43.bindPopup%28popup_a15a0b506ba34025b465ebcb07a23623%29%0A%20%20%20%20%20%20%20%20%3B%0A%0A%20%20%20%20%20%20%20%20%0A%20%20%20%20%0A%20%20%20%20%0A%20%20%20%20%20%20%20%20%20%20%20%20marker_bb8ea1019e614fb5b26bdfe5a34cfc43.bindTooltip%28%0A%20%20%20%20%20%20%20%20%20%20%20%20%20%20%20%20%60%3Cdiv%3E%0A%20%20%20%20%20%20%20%20%20%20%20%20%20%20%20%20%20%20%20%20%20Click%20aqui%21%0A%20%20%20%20%20%20%20%20%20%20%20%20%20%20%20%20%20%3C/div%3E%60%2C%0A%20%20%20%20%20%20%20%20%20%20%20%20%20%20%20%20%7B%22sticky%22%3A%20true%7D%0A%20%20%20%20%20%20%20%20%20%20%20%20%29%3B%0A%20%20%20%20%20%20%20%20%0A%20%20%20%20%0A%20%20%20%20%20%20%20%20%20%20%20%20var%20marker_aae5e72a5f2c4c318c5fe1e7645a56c7%20%3D%20L.marker%28%0A%20%20%20%20%20%20%20%20%20%20%20%20%20%20%20%20%5B-8.02577808922562%2C%20-34.8574041507609%5D%2C%0A%20%20%20%20%20%20%20%20%20%20%20%20%20%20%20%20%7B%7D%0A%20%20%20%20%20%20%20%20%20%20%20%20%29.addTo%28map_a1f79c559c794d608a5d5fcfe0a0adba%29%3B%0A%20%20%20%20%20%20%20%20%0A%20%20%20%20%0A%20%20%20%20%20%20%20%20var%20popup_d9285853f6384f88a7a2d570fe622c47%20%3D%20L.popup%28%7B%22maxWidth%22%3A%20%22100%25%22%7D%29%3B%0A%0A%20%20%20%20%20%20%20%20%0A%20%20%20%20%20%20%20%20%20%20%20%20var%20html_2a13c514d06744dba18356397d215eb5%20%3D%20%24%28%60%3Cdiv%20id%3D%22html_2a13c514d06744dba18356397d215eb5%22%20style%3D%22width%3A%20100.0%25%3B%20height%3A%20100.0%25%3B%22%3Epunta_del_chifre%20%20%20N%C2%BA%20Ataques%3A%201%3C/div%3E%60%29%5B0%5D%3B%0A%20%20%20%20%20%20%20%20%20%20%20%20popup_d9285853f6384f88a7a2d570fe622c47.setContent%28html_2a13c514d06744dba18356397d215eb5%29%3B%0A%20%20%20%20%20%20%20%20%0A%0A%20%20%20%20%20%20%20%20marker_aae5e72a5f2c4c318c5fe1e7645a56c7.bindPopup%28popup_d9285853f6384f88a7a2d570fe622c47%29%0A%20%20%20%20%20%20%20%20%3B%0A%0A%20%20%20%20%20%20%20%20%0A%20%20%20%20%0A%20%20%20%20%0A%20%20%20%20%20%20%20%20%20%20%20%20marker_aae5e72a5f2c4c318c5fe1e7645a56c7.bindTooltip%28%0A%20%20%20%20%20%20%20%20%20%20%20%20%20%20%20%20%60%3Cdiv%3E%0A%20%20%20%20%20%20%20%20%20%20%20%20%20%20%20%20%20%20%20%20%20Click%20aqui%21%0A%20%20%20%20%20%20%20%20%20%20%20%20%20%20%20%20%20%3C/div%3E%60%2C%0A%20%20%20%20%20%20%20%20%20%20%20%20%20%20%20%20%7B%22sticky%22%3A%20true%7D%0A%20%20%20%20%20%20%20%20%20%20%20%20%29%3B%0A%20%20%20%20%20%20%20%20%0A%20%20%20%20%0A%20%20%20%20%20%20%20%20%20%20%20%20var%20marker_7edefb1815664414b0b04fc94a88f2e0%20%3D%20L.marker%28%0A%20%20%20%20%20%20%20%20%20%20%20%20%20%20%20%20%5B-8.22906325741136%2C%20-34.9421057603418%5D%2C%0A%20%20%20%20%20%20%20%20%20%20%20%20%20%20%20%20%7B%7D%0A%20%20%20%20%20%20%20%20%20%20%20%20%29.addTo%28map_a1f79c559c794d608a5d5fcfe0a0adba%29%3B%0A%20%20%20%20%20%20%20%20%0A%20%20%20%20%0A%20%20%20%20%20%20%20%20var%20popup_a28df5a07af14797952314b9fbecabad%20%3D%20L.popup%28%7B%22maxWidth%22%3A%20%22100%25%22%7D%29%3B%0A%0A%20%20%20%20%20%20%20%20%0A%20%20%20%20%20%20%20%20%20%20%20%20var%20html_c0d4babf5b654b27b1c0d6253755e15c%20%3D%20%24%28%60%3Cdiv%20id%3D%22html_c0d4babf5b654b27b1c0d6253755e15c%22%20style%3D%22width%3A%20100.0%25%3B%20height%3A%20100.0%25%3B%22%3Ebarra_de_jangada%3C/div%3E%60%29%5B0%5D%3B%0A%20%20%20%20%20%20%20%20%20%20%20%20popup_a28df5a07af14797952314b9fbecabad.setContent%28html_c0d4babf5b654b27b1c0d6253755e15c%29%3B%0A%20%20%20%20%20%20%20%20%0A%0A%20%20%20%20%20%20%20%20marker_7edefb1815664414b0b04fc94a88f2e0.bindPopup%28popup_a28df5a07af14797952314b9fbecabad%29%0A%20%20%20%20%20%20%20%20%3B%0A%0A%20%20%20%20%20%20%20%20%0A%20%20%20%20%0A%20%20%20%20%0A%20%20%20%20%20%20%20%20%20%20%20%20marker_7edefb1815664414b0b04fc94a88f2e0.bindTooltip%28%0A%20%20%20%20%20%20%20%20%20%20%20%20%20%20%20%20%60%3Cdiv%3E%0A%20%20%20%20%20%20%20%20%20%20%20%20%20%20%20%20%20%20%20%20%20Click%20aqui%21%0A%20%20%20%20%20%20%20%20%20%20%20%20%20%20%20%20%20%3C/div%3E%60%2C%0A%20%20%20%20%20%20%20%20%20%20%20%20%20%20%20%20%7B%22sticky%22%3A%20true%7D%0A%20%20%20%20%20%20%20%20%20%20%20%20%29%3B%0A%20%20%20%20%20%20%20%20%0A%20%20%20%20%0A%20%20%20%20%20%20%20%20%20%20%20%20var%20marker_8dfc3a3920ad4ac7ba64fa0f624ed2d3%20%3D%20L.marker%28%0A%20%20%20%20%20%20%20%20%20%20%20%20%20%20%20%20%5B-8.10857303981487%2C%20-34.8892463211503%5D%2C%0A%20%20%20%20%20%20%20%20%20%20%20%20%20%20%20%20%7B%7D%0A%20%20%20%20%20%20%20%20%20%20%20%20%29.addTo%28map_a1f79c559c794d608a5d5fcfe0a0adba%29%3B%0A%20%20%20%20%20%20%20%20%0A%20%20%20%20%0A%20%20%20%20%20%20%20%20var%20popup_d42c0efee2844d029cbd3a4b32ca676e%20%3D%20L.popup%28%7B%22maxWidth%22%3A%20%22100%25%22%7D%29%3B%0A%0A%20%20%20%20%20%20%20%20%0A%20%20%20%20%20%20%20%20%20%20%20%20var%20html_0d517451b31549caa532a954525a3c1e%20%3D%20%24%28%60%3Cdiv%20id%3D%22html_0d517451b31549caa532a954525a3c1e%22%20style%3D%22width%3A%20100.0%25%3B%20height%3A%20100.0%25%3B%22%3Eboa_viagem%3C/div%3E%60%29%5B0%5D%3B%0A%20%20%20%20%20%20%20%20%20%20%20%20popup_d42c0efee2844d029cbd3a4b32ca676e.setContent%28html_0d517451b31549caa532a954525a3c1e%29%3B%0A%20%20%20%20%20%20%20%20%0A%0A%20%20%20%20%20%20%20%20marker_8dfc3a3920ad4ac7ba64fa0f624ed2d3.bindPopup%28popup_d42c0efee2844d029cbd3a4b32ca676e%29%0A%20%20%20%20%20%20%20%20%3B%0A%0A%20%20%20%20%20%20%20%20%0A%20%20%20%20%0A%20%20%20%20%0A%20%20%20%20%20%20%20%20%20%20%20%20marker_8dfc3a3920ad4ac7ba64fa0f624ed2d3.bindTooltip%28%0A%20%20%20%20%20%20%20%20%20%20%20%20%20%20%20%20%60%3Cdiv%3E%0A%20%20%20%20%20%20%20%20%20%20%20%20%20%20%20%20%20%20%20%20%20Click%20aqui%21%0A%20%20%20%20%20%20%20%20%20%20%20%20%20%20%20%20%20%3C/div%3E%60%2C%0A%20%20%20%20%20%20%20%20%20%20%20%20%20%20%20%20%7B%22sticky%22%3A%20true%7D%0A%20%20%20%20%20%20%20%20%20%20%20%20%29%3B%0A%20%20%20%20%20%20%20%20%0A%20%20%20%20%0A%20%20%20%20%20%20%20%20%20%20%20%20var%20marker_1f9769641869463baffa102180d87af2%20%3D%20L.marker%28%0A%20%20%20%20%20%20%20%20%20%20%20%20%20%20%20%20%5B-3.84889764599607%2C%20-32.4388716116362%5D%2C%0A%20%20%20%20%20%20%20%20%20%20%20%20%20%20%20%20%7B%7D%0A%20%20%20%20%20%20%20%20%20%20%20%20%29.addTo%28map_a1f79c559c794d608a5d5fcfe0a0adba%29%3B%0A%20%20%20%20%20%20%20%20%0A%20%20%20%20%0A%20%20%20%20%20%20%20%20var%20popup_299e0d271505481d84993a21003861a1%20%3D%20L.popup%28%7B%22maxWidth%22%3A%20%22100%25%22%7D%29%3B%0A%0A%20%20%20%20%20%20%20%20%0A%20%20%20%20%20%20%20%20%20%20%20%20var%20html_15f545bd3b5243a491b301ce577ccbc5%20%3D%20%24%28%60%3Cdiv%20id%3D%22html_15f545bd3b5243a491b301ce577ccbc5%22%20style%3D%22width%3A%20100.0%25%3B%20height%3A%20100.0%25%3B%22%3Ecacimba_do_padre%3C/div%3E%60%29%5B0%5D%3B%0A%20%20%20%20%20%20%20%20%20%20%20%20popup_299e0d271505481d84993a21003861a1.setContent%28html_15f545bd3b5243a491b301ce577ccbc5%29%3B%0A%20%20%20%20%20%20%20%20%0A%0A%20%20%20%20%20%20%20%20marker_1f9769641869463baffa102180d87af2.bindPopup%28popup_299e0d271505481d84993a21003861a1%29%0A%20%20%20%20%20%20%20%20%3B%0A%0A%20%20%20%20%20%20%20%20%0A%20%20%20%20%0A%20%20%20%20%0A%20%20%20%20%20%20%20%20%20%20%20%20marker_1f9769641869463baffa102180d87af2.bindTooltip%28%0A%20%20%20%20%20%20%20%20%20%20%20%20%20%20%20%20%60%3Cdiv%3E%0A%20%20%20%20%20%20%20%20%20%20%20%20%20%20%20%20%20%20%20%20%20Click%20aqui%21%0A%20%20%20%20%20%20%20%20%20%20%20%20%20%20%20%20%20%3C/div%3E%60%2C%0A%20%20%20%20%20%20%20%20%20%20%20%20%20%20%20%20%7B%22sticky%22%3A%20true%7D%0A%20%20%20%20%20%20%20%20%20%20%20%20%29%3B%0A%20%20%20%20%20%20%20%20%0A%20%20%20%20%0A%20%20%20%20%20%20%20%20%20%20%20%20var%20marker_d21f1ee248194586a315d3d8bf51e466%20%3D%20L.marker%28%0A%20%20%20%20%20%20%20%20%20%20%20%20%20%20%20%20%5B-8.20522836450443%2C%20-34.9181368845543%5D%2C%0A%20%20%20%20%20%20%20%20%20%20%20%20%20%20%20%20%7B%7D%0A%20%20%20%20%20%20%20%20%20%20%20%20%29.addTo%28map_a1f79c559c794d608a5d5fcfe0a0adba%29%3B%0A%20%20%20%20%20%20%20%20%0A%20%20%20%20%0A%20%20%20%20%20%20%20%20var%20popup_a684480b6fa54538811aa56b07850dad%20%3D%20L.popup%28%7B%22maxWidth%22%3A%20%22100%25%22%7D%29%3B%0A%0A%20%20%20%20%20%20%20%20%0A%20%20%20%20%20%20%20%20%20%20%20%20var%20html_7643984727654683803c7dd5b60a88a5%20%3D%20%24%28%60%3Cdiv%20id%3D%22html_7643984727654683803c7dd5b60a88a5%22%20style%3D%22width%3A%20100.0%25%3B%20height%3A%20100.0%25%3B%22%3Ecandeias%3C/div%3E%60%29%5B0%5D%3B%0A%20%20%20%20%20%20%20%20%20%20%20%20popup_a684480b6fa54538811aa56b07850dad.setContent%28html_7643984727654683803c7dd5b60a88a5%29%3B%0A%20%20%20%20%20%20%20%20%0A%0A%20%20%20%20%20%20%20%20marker_d21f1ee248194586a315d3d8bf51e466.bindPopup%28popup_a684480b6fa54538811aa56b07850dad%29%0A%20%20%20%20%20%20%20%20%3B%0A%0A%20%20%20%20%20%20%20%20%0A%20%20%20%20%0A%20%20%20%20%0A%20%20%20%20%20%20%20%20%20%20%20%20marker_d21f1ee248194586a315d3d8bf51e466.bindTooltip%28%0A%20%20%20%20%20%20%20%20%20%20%20%20%20%20%20%20%60%3Cdiv%3E%0A%20%20%20%20%20%20%20%20%20%20%20%20%20%20%20%20%20%20%20%20%20Click%20aqui%21%0A%20%20%20%20%20%20%20%20%20%20%20%20%20%20%20%20%20%3C/div%3E%60%2C%0A%20%20%20%20%20%20%20%20%20%20%20%20%20%20%20%20%7B%22sticky%22%3A%20true%7D%0A%20%20%20%20%20%20%20%20%20%20%20%20%29%3B%0A%20%20%20%20%20%20%20%20%0A%20%20%20%20%0A%20%20%20%20%20%20%20%20%20%20%20%20var%20marker_957582e66f2145488a3238c0f64814fd%20%3D%20L.marker%28%0A%20%20%20%20%20%20%20%20%20%20%20%20%20%20%20%20%5B-8.3166203054719%2C%20-34.949800544453%5D%2C%0A%20%20%20%20%20%20%20%20%20%20%20%20%20%20%20%20%7B%7D%0A%20%20%20%20%20%20%20%20%20%20%20%20%29.addTo%28map_a1f79c559c794d608a5d5fcfe0a0adba%29%3B%0A%20%20%20%20%20%20%20%20%0A%20%20%20%20%0A%20%20%20%20%20%20%20%20var%20popup_26943e17963747b3b5329876f73ab117%20%3D%20L.popup%28%7B%22maxWidth%22%3A%20%22100%25%22%7D%29%3B%0A%0A%20%20%20%20%20%20%20%20%0A%20%20%20%20%20%20%20%20%20%20%20%20var%20html_163a4915eb0a4ed0916aea8d38785d08%20%3D%20%24%28%60%3Cdiv%20id%3D%22html_163a4915eb0a4ed0916aea8d38785d08%22%20style%3D%22width%3A%20100.0%25%3B%20height%3A%20100.0%25%3B%22%3Eenseada_dos_corais%3C/div%3E%60%29%5B0%5D%3B%0A%20%20%20%20%20%20%20%20%20%20%20%20popup_26943e17963747b3b5329876f73ab117.setContent%28html_163a4915eb0a4ed0916aea8d38785d08%29%3B%0A%20%20%20%20%20%20%20%20%0A%0A%20%20%20%20%20%20%20%20marker_957582e66f2145488a3238c0f64814fd.bindPopup%28popup_26943e17963747b3b5329876f73ab117%29%0A%20%20%20%20%20%20%20%20%3B%0A%0A%20%20%20%20%20%20%20%20%0A%20%20%20%20%0A%20%20%20%20%0A%20%20%20%20%20%20%20%20%20%20%20%20marker_957582e66f2145488a3238c0f64814fd.bindTooltip%28%0A%20%20%20%20%20%20%20%20%20%20%20%20%20%20%20%20%60%3Cdiv%3E%0A%20%20%20%20%20%20%20%20%20%20%20%20%20%20%20%20%20%20%20%20%20Click%20aqui%21%0A%20%20%20%20%20%20%20%20%20%20%20%20%20%20%20%20%20%3C/div%3E%60%2C%0A%20%20%20%20%20%20%20%20%20%20%20%20%20%20%20%20%7B%22sticky%22%3A%20true%7D%0A%20%20%20%20%20%20%20%20%20%20%20%20%29%3B%0A%20%20%20%20%20%20%20%20%0A%20%20%20%20%0A%20%20%20%20%20%20%20%20%20%20%20%20var%20marker_0abd05cef4fb4420aaf4407f59e15f1e%20%3D%20L.marker%28%0A%20%20%20%20%20%20%20%20%20%20%20%20%20%20%20%20%5B-8.06626842720967%2C%20-34.8884061375187%5D%2C%0A%20%20%20%20%20%20%20%20%20%20%20%20%20%20%20%20%7B%7D%0A%20%20%20%20%20%20%20%20%20%20%20%20%29.addTo%28map_a1f79c559c794d608a5d5fcfe0a0adba%29%3B%0A%20%20%20%20%20%20%20%20%0A%20%20%20%20%0A%20%20%20%20%20%20%20%20var%20popup_83ed2fd3da5d44f48a5dd0cc8165348f%20%3D%20L.popup%28%7B%22maxWidth%22%3A%20%22100%25%22%7D%29%3B%0A%0A%20%20%20%20%20%20%20%20%0A%20%20%20%20%20%20%20%20%20%20%20%20var%20html_b6ddfe7dc512444e88dfb2f4c34f07a3%20%3D%20%24%28%60%3Cdiv%20id%3D%22html_b6ddfe7dc512444e88dfb2f4c34f07a3%22%20style%3D%22width%3A%20100.0%25%3B%20height%3A%20100.0%25%3B%22%3Efernando_de_noronha%3C/div%3E%60%29%5B0%5D%3B%0A%20%20%20%20%20%20%20%20%20%20%20%20popup_83ed2fd3da5d44f48a5dd0cc8165348f.setContent%28html_b6ddfe7dc512444e88dfb2f4c34f07a3%29%3B%0A%20%20%20%20%20%20%20%20%0A%0A%20%20%20%20%20%20%20%20marker_0abd05cef4fb4420aaf4407f59e15f1e.bindPopup%28popup_83ed2fd3da5d44f48a5dd0cc8165348f%29%0A%20%20%20%20%20%20%20%20%3B%0A%0A%20%20%20%20%20%20%20%20%0A%20%20%20%20%0A%20%20%20%20%0A%20%20%20%20%20%20%20%20%20%20%20%20marker_0abd05cef4fb4420aaf4407f59e15f1e.bindTooltip%28%0A%20%20%20%20%20%20%20%20%20%20%20%20%20%20%20%20%60%3Cdiv%3E%0A%20%20%20%20%20%20%20%20%20%20%20%20%20%20%20%20%20%20%20%20%20Click%20aqui%21%0A%20%20%20%20%20%20%20%20%20%20%20%20%20%20%20%20%20%3C/div%3E%60%2C%0A%20%20%20%20%20%20%20%20%20%20%20%20%20%20%20%20%7B%22sticky%22%3A%20true%7D%0A%20%20%20%20%20%20%20%20%20%20%20%20%29%3B%0A%20%20%20%20%20%20%20%20%0A%20%20%20%20%0A%20%20%20%20%20%20%20%20%20%20%20%20var%20marker_bd8e06a5bc574f5a92db509cee7a276a%20%3D%20L.marker%28%0A%20%20%20%20%20%20%20%20%20%20%20%20%20%20%20%20%5B-7.7516044107398%2C%20-34.8252974167234%5D%2C%0A%20%20%20%20%20%20%20%20%20%20%20%20%20%20%20%20%7B%7D%0A%20%20%20%20%20%20%20%20%20%20%20%20%29.addTo%28map_a1f79c559c794d608a5d5fcfe0a0adba%29%3B%0A%20%20%20%20%20%20%20%20%0A%20%20%20%20%0A%20%20%20%20%20%20%20%20var%20popup_507fd2d751154f278bb233365db50910%20%3D%20L.popup%28%7B%22maxWidth%22%3A%20%22100%25%22%7D%29%3B%0A%0A%20%20%20%20%20%20%20%20%0A%20%20%20%20%20%20%20%20%20%20%20%20var%20html_66675161a8ed44e4bac4e2d492bd6d79%20%3D%20%24%28%60%3Cdiv%20id%3D%22html_66675161a8ed44e4bac4e2d492bd6d79%22%20style%3D%22width%3A%20100.0%25%3B%20height%3A%20100.0%25%3B%22%3Eitamarac%C3%A1%3C/div%3E%60%29%5B0%5D%3B%0A%20%20%20%20%20%20%20%20%20%20%20%20popup_507fd2d751154f278bb233365db50910.setContent%28html_66675161a8ed44e4bac4e2d492bd6d79%29%3B%0A%20%20%20%20%20%20%20%20%0A%0A%20%20%20%20%20%20%20%20marker_bd8e06a5bc574f5a92db509cee7a276a.bindPopup%28popup_507fd2d751154f278bb233365db50910%29%0A%20%20%20%20%20%20%20%20%3B%0A%0A%20%20%20%20%20%20%20%20%0A%20%20%20%20%0A%20%20%20%20%0A%20%20%20%20%20%20%20%20%20%20%20%20marker_bd8e06a5bc574f5a92db509cee7a276a.bindTooltip%28%0A%20%20%20%20%20%20%20%20%20%20%20%20%20%20%20%20%60%3Cdiv%3E%0A%20%20%20%20%20%20%20%20%20%20%20%20%20%20%20%20%20%20%20%20%20Click%20aqui%21%0A%20%20%20%20%20%20%20%20%20%20%20%20%20%20%20%20%20%3C/div%3E%60%2C%0A%20%20%20%20%20%20%20%20%20%20%20%20%20%20%20%20%7B%22sticky%22%3A%20true%7D%0A%20%20%20%20%20%20%20%20%20%20%20%20%29%3B%0A%20%20%20%20%20%20%20%20%0A%20%20%20%20%0A%20%20%20%20%20%20%20%20%20%20%20%20var%20marker_883bc44a24be4dc4bf7538af9ae54ac5%20%3D%20L.marker%28%0A%20%20%20%20%20%20%20%20%20%20%20%20%20%20%20%20%5B-8.26847781521217%2C%20-34.9465551054554%5D%2C%0A%20%20%20%20%20%20%20%20%20%20%20%20%20%20%20%20%7B%7D%0A%20%20%20%20%20%20%20%20%20%20%20%20%29.addTo%28map_a1f79c559c794d608a5d5fcfe0a0adba%29%3B%0A%20%20%20%20%20%20%20%20%0A%20%20%20%20%0A%20%20%20%20%20%20%20%20var%20popup_6b1dc22b6afa41bca8b1814c52148fba%20%3D%20L.popup%28%7B%22maxWidth%22%3A%20%22100%25%22%7D%29%3B%0A%0A%20%20%20%20%20%20%20%20%0A%20%20%20%20%20%20%20%20%20%20%20%20var%20html_88c65e6edd4145e1afe397384d2f2866%20%3D%20%24%28%60%3Cdiv%20id%3D%22html_88c65e6edd4145e1afe397384d2f2866%22%20style%3D%22width%3A%20100.0%25%3B%20height%3A%20100.0%25%3B%22%3Epaiva%3C/div%3E%60%29%5B0%5D%3B%0A%20%20%20%20%20%20%20%20%20%20%20%20popup_6b1dc22b6afa41bca8b1814c52148fba.setContent%28html_88c65e6edd4145e1afe397384d2f2866%29%3B%0A%20%20%20%20%20%20%20%20%0A%0A%20%20%20%20%20%20%20%20marker_883bc44a24be4dc4bf7538af9ae54ac5.bindPopup%28popup_6b1dc22b6afa41bca8b1814c52148fba%29%0A%20%20%20%20%20%20%20%20%3B%0A%0A%20%20%20%20%20%20%20%20%0A%20%20%20%20%0A%20%20%20%20%0A%20%20%20%20%20%20%20%20%20%20%20%20marker_883bc44a24be4dc4bf7538af9ae54ac5.bindTooltip%28%0A%20%20%20%20%20%20%20%20%20%20%20%20%20%20%20%20%60%3Cdiv%3E%0A%20%20%20%20%20%20%20%20%20%20%20%20%20%20%20%20%20%20%20%20%20Click%20aqui%21%0A%20%20%20%20%20%20%20%20%20%20%20%20%20%20%20%20%20%3C/div%3E%60%2C%0A%20%20%20%20%20%20%20%20%20%20%20%20%20%20%20%20%7B%22sticky%22%3A%20true%7D%0A%20%20%20%20%20%20%20%20%20%20%20%20%29%3B%0A%20%20%20%20%20%20%20%20%0A%20%20%20%20%0A%20%20%20%20%20%20%20%20%20%20%20%20var%20marker_661ca8f282674e75817e58c21271bd5c%20%3D%20L.marker%28%0A%20%20%20%20%20%20%20%20%20%20%20%20%20%20%20%20%5B-7.91357829122554%2C%20-34.8225515338408%5D%2C%0A%20%20%20%20%20%20%20%20%20%20%20%20%20%20%20%20%7B%7D%0A%20%20%20%20%20%20%20%20%20%20%20%20%29.addTo%28map_a1f79c559c794d608a5d5fcfe0a0adba%29%3B%0A%20%20%20%20%20%20%20%20%0A%20%20%20%20%0A%20%20%20%20%20%20%20%20var%20popup_eb6437169bbc4020b0940188b6f31498%20%3D%20L.popup%28%7B%22maxWidth%22%3A%20%22100%25%22%7D%29%3B%0A%0A%20%20%20%20%20%20%20%20%0A%20%20%20%20%20%20%20%20%20%20%20%20var%20html_ff8f4a6c15ad46109c0d410237639ae6%20%3D%20%24%28%60%3Cdiv%20id%3D%22html_ff8f4a6c15ad46109c0d410237639ae6%22%20style%3D%22width%3A%20100.0%25%3B%20height%3A%20100.0%25%3B%22%3Epau_amarelo_paulista%3C/div%3E%60%29%5B0%5D%3B%0A%20%20%20%20%20%20%20%20%20%20%20%20popup_eb6437169bbc4020b0940188b6f31498.setContent%28html_ff8f4a6c15ad46109c0d410237639ae6%29%3B%0A%20%20%20%20%20%20%20%20%0A%0A%20%20%20%20%20%20%20%20marker_661ca8f282674e75817e58c21271bd5c.bindPopup%28popup_eb6437169bbc4020b0940188b6f31498%29%0A%20%20%20%20%20%20%20%20%3B%0A%0A%20%20%20%20%20%20%20%20%0A%20%20%20%20%0A%20%20%20%20%0A%20%20%20%20%20%20%20%20%20%20%20%20marker_661ca8f282674e75817e58c21271bd5c.bindTooltip%28%0A%20%20%20%20%20%20%20%20%20%20%20%20%20%20%20%20%60%3Cdiv%3E%0A%20%20%20%20%20%20%20%20%20%20%20%20%20%20%20%20%20%20%20%20%20Click%20aqui%21%0A%20%20%20%20%20%20%20%20%20%20%20%20%20%20%20%20%20%3C/div%3E%60%2C%0A%20%20%20%20%20%20%20%20%20%20%20%20%20%20%20%20%7B%22sticky%22%3A%20true%7D%0A%20%20%20%20%20%20%20%20%20%20%20%20%29%3B%0A%20%20%20%20%20%20%20%20%0A%20%20%20%20%0A%20%20%20%20%20%20%20%20%20%20%20%20var%20marker_52f912bc38e54237a986f5eacdb5fd61%20%3D%20L.marker%28%0A%20%20%20%20%20%20%20%20%20%20%20%20%20%20%20%20%5B-8.16861462331677%2C%20-34.9142004999995%5D%2C%0A%20%20%20%20%20%20%20%20%20%20%20%20%20%20%20%20%7B%7D%0A%20%20%20%20%20%20%20%20%20%20%20%20%29.addTo%28map_a1f79c559c794d608a5d5fcfe0a0adba%29%3B%0A%20%20%20%20%20%20%20%20%0A%20%20%20%20%0A%20%20%20%20%20%20%20%20var%20popup_b8424d4200b54c72883e06f37cbb12e7%20%3D%20L.popup%28%7B%22maxWidth%22%3A%20%22100%25%22%7D%29%3B%0A%0A%20%20%20%20%20%20%20%20%0A%20%20%20%20%20%20%20%20%20%20%20%20var%20html_ee262fbc2d38494892e90f436f372b62%20%3D%20%24%28%60%3Cdiv%20id%3D%22html_ee262fbc2d38494892e90f436f372b62%22%20style%3D%22width%3A%20100.0%25%3B%20height%3A%20100.0%25%3B%22%3Epiedade%3C/div%3E%60%29%5B0%5D%3B%0A%20%20%20%20%20%20%20%20%20%20%20%20popup_b8424d4200b54c72883e06f37cbb12e7.setContent%28html_ee262fbc2d38494892e90f436f372b62%29%3B%0A%20%20%20%20%20%20%20%20%0A%0A%20%20%20%20%20%20%20%20marker_52f912bc38e54237a986f5eacdb5fd61.bindPopup%28popup_b8424d4200b54c72883e06f37cbb12e7%29%0A%20%20%20%20%20%20%20%20%3B%0A%0A%20%20%20%20%20%20%20%20%0A%20%20%20%20%0A%20%20%20%20%0A%20%20%20%20%20%20%20%20%20%20%20%20marker_52f912bc38e54237a986f5eacdb5fd61.bindTooltip%28%0A%20%20%20%20%20%20%20%20%20%20%20%20%20%20%20%20%60%3Cdiv%3E%0A%20%20%20%20%20%20%20%20%20%20%20%20%20%20%20%20%20%20%20%20%20Click%20aqui%21%0A%20%20%20%20%20%20%20%20%20%20%20%20%20%20%20%20%20%3C/div%3E%60%2C%0A%20%20%20%20%20%20%20%20%20%20%20%20%20%20%20%20%7B%22sticky%22%3A%20true%7D%0A%20%20%20%20%20%20%20%20%20%20%20%20%29%3B%0A%20%20%20%20%20%20%20%20%0A%20%20%20%20%0A%20%20%20%20%20%20%20%20%20%20%20%20var%20marker_5834771af8ef4ce38bee8a4775cb121f%20%3D%20L.marker%28%0A%20%20%20%20%20%20%20%20%20%20%20%20%20%20%20%20%5B-8.09567612926708%2C%20-34.8820605841214%5D%2C%0A%20%20%20%20%20%20%20%20%20%20%20%20%20%20%20%20%7B%7D%0A%20%20%20%20%20%20%20%20%20%20%20%20%29.addTo%28map_a1f79c559c794d608a5d5fcfe0a0adba%29%3B%0A%20%20%20%20%20%20%20%20%0A%20%20%20%20%0A%20%20%20%20%20%20%20%20var%20popup_e1df14960b804322983e2f1868f35b28%20%3D%20L.popup%28%7B%22maxWidth%22%3A%20%22100%25%22%7D%29%3B%0A%0A%20%20%20%20%20%20%20%20%0A%20%20%20%20%20%20%20%20%20%20%20%20var%20html_2b47888dedc147f5bf6895b2ee0e4d39%20%3D%20%24%28%60%3Cdiv%20id%3D%22html_2b47888dedc147f5bf6895b2ee0e4d39%22%20style%3D%22width%3A%20100.0%25%3B%20height%3A%20100.0%25%3B%22%3Epina%3C/div%3E%60%29%5B0%5D%3B%0A%20%20%20%20%20%20%20%20%20%20%20%20popup_e1df14960b804322983e2f1868f35b28.setContent%28html_2b47888dedc147f5bf6895b2ee0e4d39%29%3B%0A%20%20%20%20%20%20%20%20%0A%0A%20%20%20%20%20%20%20%20marker_5834771af8ef4ce38bee8a4775cb121f.bindPopup%28popup_e1df14960b804322983e2f1868f35b28%29%0A%20%20%20%20%20%20%20%20%3B%0A%0A%20%20%20%20%20%20%20%20%0A%20%20%20%20%0A%20%20%20%20%0A%20%20%20%20%20%20%20%20%20%20%20%20marker_5834771af8ef4ce38bee8a4775cb121f.bindTooltip%28%0A%20%20%20%20%20%20%20%20%20%20%20%20%20%20%20%20%60%3Cdiv%3E%0A%20%20%20%20%20%20%20%20%20%20%20%20%20%20%20%20%20%20%20%20%20Click%20aqui%21%0A%20%20%20%20%20%20%20%20%20%20%20%20%20%20%20%20%20%3C/div%3E%60%2C%0A%20%20%20%20%20%20%20%20%20%20%20%20%20%20%20%20%7B%22sticky%22%3A%20true%7D%0A%20%20%20%20%20%20%20%20%20%20%20%20%29%3B%0A%20%20%20%20%20%20%20%20%0A%20%20%20%20%0A%20%20%20%20%20%20%20%20%20%20%20%20var%20marker_39c97266cc684523b9dd65845f48b1c7%20%3D%20L.marker%28%0A%20%20%20%20%20%20%20%20%20%20%20%20%20%20%20%20%5B-8.02577808922562%2C%20-34.8574041507609%5D%2C%0A%20%20%20%20%20%20%20%20%20%20%20%20%20%20%20%20%7B%7D%0A%20%20%20%20%20%20%20%20%20%20%20%20%29.addTo%28map_a1f79c559c794d608a5d5fcfe0a0adba%29%3B%0A%20%20%20%20%20%20%20%20%0A%20%20%20%20%0A%20%20%20%20%20%20%20%20var%20popup_e145ecf41e81487eb2e26283b49a5b36%20%3D%20L.popup%28%7B%22maxWidth%22%3A%20%22100%25%22%7D%29%3B%0A%0A%20%20%20%20%20%20%20%20%0A%20%20%20%20%20%20%20%20%20%20%20%20var%20html_d142e8aa076845b18f0bda6bea0e5fbf%20%3D%20%24%28%60%3Cdiv%20id%3D%22html_d142e8aa076845b18f0bda6bea0e5fbf%22%20style%3D%22width%3A%20100.0%25%3B%20height%3A%20100.0%25%3B%22%3Epunta_del_chifre%3C/div%3E%60%29%5B0%5D%3B%0A%20%20%20%20%20%20%20%20%20%20%20%20popup_e145ecf41e81487eb2e26283b49a5b36.setContent%28html_d142e8aa076845b18f0bda6bea0e5fbf%29%3B%0A%20%20%20%20%20%20%20%20%0A%0A%20%20%20%20%20%20%20%20marker_39c97266cc684523b9dd65845f48b1c7.bindPopup%28popup_e145ecf41e81487eb2e26283b49a5b36%29%0A%20%20%20%20%20%20%20%20%3B%0A%0A%20%20%20%20%20%20%20%20%0A%20%20%20%20%0A%20%20%20%20%0A%20%20%20%20%20%20%20%20%20%20%20%20marker_39c97266cc684523b9dd65845f48b1c7.bindTooltip%28%0A%20%20%20%20%20%20%20%20%20%20%20%20%20%20%20%20%60%3Cdiv%3E%0A%20%20%20%20%20%20%20%20%20%20%20%20%20%20%20%20%20%20%20%20%20Click%20aqui%21%0A%20%20%20%20%20%20%20%20%20%20%20%20%20%20%20%20%20%3C/div%3E%60%2C%0A%20%20%20%20%20%20%20%20%20%20%20%20%20%20%20%20%7B%22sticky%22%3A%20true%7D%0A%20%20%20%20%20%20%20%20%20%20%20%20%29%3B%0A%20%20%20%20%20%20%20%20%0A%3C/script%3E onload=\"this.contentDocument.open();this.contentDocument.write(    decodeURIComponent(this.getAttribute('data-html')));this.contentDocument.close();\" allowfullscreen webkitallowfullscreen mozallowfullscreen></iframe></div></div>"
      ],
      "text/plain": [
       "<folium.folium.Map at 0x1203a02f700>"
      ]
     },
     "execution_count": 195,
     "metadata": {},
     "output_type": "execute_result"
    }
   ],
   "source": [
    "for (index, row) in df_coordenates.iterrows():\n",
    "    folium.Marker(location=[row.loc['latitude'], row.loc['longitude']],\n",
    "    popup=row.loc['name'],\n",
    "    tooltip='Click aqui!'\n",
    "    ).add_to(mapa)\n",
    "mapa"
   ]
  },
  {
   "cell_type": "markdown",
   "id": "d477121d",
   "metadata": {},
   "source": [
    "#### Após mapeamento dos dados volta-se o foco para o perfil da vítima e dos ataques nas seguintes premissas:\n",
    "##### -Ano;\n",
    "##### -Dia da Semana;\n",
    "##### -Atividade;\n",
    "##### -Fatalidade;\n",
    "##### -Sexo;    "
   ]
  },
  {
   "cell_type": "markdown",
   "id": "cf7a9473",
   "metadata": {},
   "source": [
    "## Análise - Ataques de tubarão vs Ano:"
   ]
  },
  {
   "cell_type": "markdown",
   "id": "9c799720",
   "metadata": {},
   "source": [
    "Em pesquisa realizada vemos diversos especialistas atribuindo a grande quantidade de ataques de tubarão nessa região à\n",
    "construção do famoso Porto de Suápe em 1983 que causou de a destrução de mangues e comprometeu o ecossistema local. \n",
    "\n",
    "### MPPE diz que supressão de mangue em Suape afetou fauna marinha\n",
    "http://g1.globo.com/pernambuco/noticia/2013/10/mppe-diz-que-supressao-de-mangue-em-suape-afetou-fauna-marinha.html\n",
    "\n",
    "### Por que ocorrem tantos ataques de tubarão em Recife?\n",
    "Condições naturais e modernização da região fizeram as feras se aproximarem dos banhistas \n",
    "\n",
    "Leia mais em: https://super.abril.com.br/mundo-estranho/por-que-ocorrem-tantos-ataques-de-tubarao-em-recife/\n",
    "https://super.abril.com.br/mundo-estranho/por-que-ocorrem-tantos-ataques-de-tubarao-em-recife/\n",
    "\n",
    "### Ataques de tubarão: 25 anos de medo nas praias em Recife\n",
    "Um quarto de século após início dos ataques de tubarão em Pernambuco, estado tem geração que não toma banho de mar, enquanto cientistas seguem tentando entender o fenômeno\n",
    "\n",
    "https://www.correiobraziliense.com.br/app/noticia/brasil/2018/06/04/interna-brasil,686033/ataques-de-tubarao-25-anos-de-medo-nas-praias-em-recife.shtml\n",
    "\n",
    "\n",
    "\n",
    "\n",
    "\n",
    "\n"
   ]
  },
  {
   "cell_type": "markdown",
   "id": "f35a38b2",
   "metadata": {},
   "source": [
    "### Com análise da base de dados pode-se observar uma elevada ocorrência de registros após a data de construção do Porto."
   ]
  },
  {
   "attachments": {
    "image.png": {
     "image/png": "[encoded data removed]"
    }
   },
   "cell_type": "markdown",
   "id": "57cbb82e",
   "metadata": {},
   "source": [
    "![image.png](attachment:image.png)"
   ]
  },
  {
   "cell_type": "markdown",
   "id": "687095db",
   "metadata": {},
   "source": [
    "Após análise dos ataques por ano, pôde-se extrair o dia da semana em que cada ataque aconteceu:"
   ]
  },
  {
   "attachments": {
    "image-2.png": {
     "image/png": "[encoded data removed]"
    }
   },
   "cell_type": "markdown",
   "id": "9d75d233",
   "metadata": {},
   "source": [
    "![image-2.png](attachment:image-2.png)"
   ]
  },
  {
   "attachments": {
    "image.png": {
     "image/png": "[encoded data removed]"
    }
   },
   "cell_type": "markdown",
   "id": "99bf5d04",
   "metadata": {},
   "source": [
    "![image.png](attachment:image.png)"
   ]
  },
  {
   "cell_type": "markdown",
   "id": "24de1cd0",
   "metadata": {},
   "source": [
    "### Com isso temos o gráfico de Ataques de Tubarão vs Dia da Semana:"
   ]
  },
  {
   "attachments": {
    "image.png": {
     "image/png": "[encoded data removed]"
    }
   },
   "cell_type": "markdown",
   "id": "07c140a0",
   "metadata": {},
   "source": [
    "![image.png](attachment:image.png)"
   ]
  },
  {
   "cell_type": "markdown",
   "id": "6c9efa8d",
   "metadata": {},
   "source": [
    "## Análise vítimas:\n",
    "\n",
    "   Com o tratamento e análise dos dados obtêm-se 67 mortes masculinas, 3 femininas e 7 casos de informações faltantes:"
   ]
  },
  {
   "attachments": {
    "image.png": {
     "image/png": "[encoded data removed]"
    }
   },
   "cell_type": "markdown",
   "id": "f7b3e58b",
   "metadata": {},
   "source": [
    "![image.png](attachment:image.png)"
   ]
  },
  {
   "cell_type": "markdown",
   "id": "81cf88a4",
   "metadata": {},
   "source": [
    "A grande maioria das 77 vítimas estava surfando quando o ataque ocorreu, 31 ocorrências.\n",
    "Logo após a atividade mais comum é nadando com 25 ocorrências.\n",
    "Others com 21, contabiliza atividades como Pescar, Banhar-se ou Mergulho."
   ]
  },
  {
   "attachments": {
    "image-2.png": {
     "image/png": "[encoded data removed]"
    }
   },
   "cell_type": "markdown",
   "id": "94c5723e",
   "metadata": {},
   "source": [
    "![image-2.png](attachment:image-2.png)"
   ]
  },
  {
   "cell_type": "markdown",
   "id": "f5b31975",
   "metadata": {},
   "source": [
    "### Cresce número de mulheres surfistas no Brasil\n",
    "\n",
    "https://esportes.estadao.com.br/noticias/geral,cresce-numero-de-mulheres-surfistas-no-brasil,1646102"
   ]
  },
  {
   "attachments": {
    "image.png": {
     "image/png": "[encoded data removed]"
    }
   },
   "cell_type": "markdown",
   "id": "06248e72",
   "metadata": {},
   "source": [
    "![image.png](attachment:image.png)"
   ]
  },
  {
   "cell_type": "markdown",
   "id": "25ee0013",
   "metadata": {},
   "source": [
    "Dos 77 ataques de tubarão ocorridos em Pernambuco, 55,8% dos ataques não foi fatal."
   ]
  },
  {
   "attachments": {
    "image.png": {
     "image/png": "[encoded data removed]"
    }
   },
   "cell_type": "markdown",
   "id": "ea681613",
   "metadata": {},
   "source": [
    "![image.png](attachment:image.png)"
   ]
  },
  {
   "cell_type": "markdown",
   "id": "0021260d",
   "metadata": {},
   "source": [
    "#### Próximos passos, sobre o que nao deu certo ou o que pode melhorar\n",
    "\n",
    "Otimizar código em funções específicas.\n",
    "\n",
    "Rever algumas fórmulas.\n",
    "\n",
    "Familiarizar-se com os diferentes types de códigos.\n",
    "\n",
    "Melhorar a edição do texto do mapa interativo e dos gráficos.\n",
    "\n",
    "Evitar perder dados.\n",
    "\n",
    "Trabalhar com a maior quantidade de dados reais possíveis."
   ]
  },
  {
   "cell_type": "code",
   "execution_count": 1,
   "id": "381fedd0",
   "metadata": {},
   "outputs": [],
   "source": [
    "#titulo da analise\n",
    "\n",
    "#objetivo**\n",
    "\n",
    "#<Escopo da analise, tipo de dados analisados (pernambuco, etc)\n",
    "\n",
    "#conclusão***\n",
    "\n",
    "#Próximos passos, sobre o que nao deu certo ou o que\n",
    "#poderia melhorar no modelo da analise, sobre as informações***\n",
    "\n",
    "#Contexto\n",
    "\n",
    "#Análise\n",
    "\n",
    "#Resultados***\n",
    "\n",
    "#Metodologia\n",
    "\n",
    "#Sugestão de fazer tudo isso no ReadMe. Resumão. \n",
    "#Slides explicando os pontos.\n",
    "#NÃO precisa ser tão complexo. "
   ]
  },
  {
   "cell_type": "markdown",
   "id": "34fb7294",
   "metadata": {},
   "source": [
    "## Importar Bibliotecas\n",
    "#### (Biblioteca \"folium\" para o mapa interativo, \"seaborn\" e \"matplot\" para os gráficos)"
   ]
  },
  {
   "cell_type": "code",
   "execution_count": 2,
   "id": "7ac0dead",
   "metadata": {},
   "outputs": [
    {
     "name": "stdout",
     "output_type": "stream",
     "text": [
      "Requirement already satisfied: folium in c:\\users\\erick\\anaconda3\\lib\\site-packages (0.12.1)\n",
      "Requirement already satisfied: requests in c:\\users\\erick\\anaconda3\\lib\\site-packages (from folium) (2.25.1)\n",
      "Requirement already satisfied: branca>=0.3.0 in c:\\users\\erick\\anaconda3\\lib\\site-packages (from folium) (0.4.2)\n",
      "Requirement already satisfied: numpy in c:\\users\\erick\\anaconda3\\lib\\site-packages (from folium) (1.21.1)\n",
      "Requirement already satisfied: jinja2>=2.9 in c:\\users\\erick\\anaconda3\\lib\\site-packages (from folium) (3.0.1)\n",
      "Requirement already satisfied: MarkupSafe>=2.0 in c:\\users\\erick\\anaconda3\\lib\\site-packages (from jinja2>=2.9->folium) (2.0.1)\n",
      "Requirement already satisfied: idna<3,>=2.5 in c:\\users\\erick\\anaconda3\\lib\\site-packages (from requests->folium) (2.10)\n",
      "Requirement already satisfied: chardet<5,>=3.0.2 in c:\\users\\erick\\anaconda3\\lib\\site-packages (from requests->folium) (4.0.0)\n",
      "Requirement already satisfied: urllib3<1.27,>=1.21.1 in c:\\users\\erick\\anaconda3\\lib\\site-packages (from requests->folium) (1.26.6)\n",
      "Requirement already satisfied: certifi>=2017.4.17 in c:\\users\\erick\\anaconda3\\lib\\site-packages (from requests->folium) (2021.5.30)\n"
     ]
    }
   ],
   "source": [
    "import pandas as pd\n",
    "\n",
    "import numpy as np\n",
    "\n",
    "from datetime import datetime\n",
    "\n",
    "import re\n",
    "\n",
    "!pip install folium\n",
    "import folium\n",
    "from folium import plugins\n",
    "\n",
    "import matplotlib.pyplot as plt \n",
    "import seaborn as sns\n",
    "\n",
    "\n",
    "import warnings\n",
    "warnings.filterwarnings(\"ignore\")\n",
    "\n",
    "pd.set_option('display.max_columns', None)"
   ]
  },
  {
   "cell_type": "code",
   "execution_count": 3,
   "id": "bf8e37cf",
   "metadata": {},
   "outputs": [
    {
     "name": "stdout",
     "output_type": "stream",
     "text": [
      " O volume na unidade C é OS\n",
      " O Número de Série do Volume é D822-8AF4\n",
      "\n",
      " Pasta de C:\\Users\\erick\\IronHack\\new_folder\\Shark Attack\n",
      "\n",
      "26/08/2021  22:47    <DIR>          .\n",
      "26/08/2021  22:47    <DIR>          ..\n",
      "21/08/2021  16:42    <DIR>          .ipynb_checkpoints\n",
      "17/08/2021  01:52    <DIR>          archive\n",
      "16/08/2021  23:29         3.131.085 attacks.csv\n",
      "21/08/2021  20:07            11.179 coordenates.xlsx\n",
      "21/08/2021  20:03            11.134 coordenates2.xlsx\n",
      "21/08/2021  20:04            11.131 coordenates3.xlsx\n",
      "21/08/2021  22:44            11.624 coordenates4.xlsx\n",
      "22/08/2021  18:49         8.718.336 GSAF5.xls\n",
      "26/08/2021  22:47            75.235 Shark Attack.ipynb\n",
      "               7 arquivo(s)     11.969.724 bytes\n",
      "               4 pasta(s)   219.203.239.936 bytes disponíveis\n"
     ]
    }
   ],
   "source": [
    "ls"
   ]
  },
  {
   "cell_type": "markdown",
   "id": "0faacc51",
   "metadata": {},
   "source": [
    "## Importar Arquivo .csv"
   ]
  },
  {
   "cell_type": "code",
   "execution_count": 4,
   "id": "c534a6b1",
   "metadata": {},
   "outputs": [],
   "source": [
    "df_csv = pd.read_csv('attacks.csv')"
   ]
  },
  {
   "cell_type": "code",
   "execution_count": 5,
   "id": "bdd716d5",
   "metadata": {},
   "outputs": [
    {
     "data": {
      "text/html": [
       "<div>\n",
       "<style scoped>\n",
       "    .dataframe tbody tr th:only-of-type {\n",
       "        vertical-align: middle;\n",
       "    }\n",
       "\n",
       "    .dataframe tbody tr th {\n",
       "        vertical-align: top;\n",
       "    }\n",
       "\n",
       "    .dataframe thead th {\n",
       "        text-align: right;\n",
       "    }\n",
       "</style>\n",
       "<table border=\"1\" class=\"dataframe\">\n",
       "  <thead>\n",
       "    <tr style=\"text-align: right;\">\n",
       "      <th></th>\n",
       "      <th>Case Number</th>\n",
       "      <th>Date</th>\n",
       "      <th>Year</th>\n",
       "      <th>Type</th>\n",
       "      <th>Country</th>\n",
       "      <th>Area</th>\n",
       "      <th>Location</th>\n",
       "      <th>Activity</th>\n",
       "      <th>Name</th>\n",
       "      <th>Sex</th>\n",
       "      <th>Age</th>\n",
       "      <th>Injury</th>\n",
       "      <th>Fatal (Y/N)</th>\n",
       "      <th>Time</th>\n",
       "      <th>Species</th>\n",
       "      <th>Investigator or Source</th>\n",
       "      <th>pdf</th>\n",
       "      <th>href formula</th>\n",
       "      <th>href</th>\n",
       "      <th>Case Number.1</th>\n",
       "      <th>Case Number.2</th>\n",
       "      <th>original order</th>\n",
       "      <th>Unnamed: 22</th>\n",
       "      <th>Unnamed: 23</th>\n",
       "    </tr>\n",
       "  </thead>\n",
       "  <tbody>\n",
       "    <tr>\n",
       "      <th>0</th>\n",
       "      <td>2018.06.25</td>\n",
       "      <td>25-Jun-2018</td>\n",
       "      <td>2018.0</td>\n",
       "      <td>Boating</td>\n",
       "      <td>USA</td>\n",
       "      <td>California</td>\n",
       "      <td>Oceanside, San Diego County</td>\n",
       "      <td>Paddling</td>\n",
       "      <td>Julie Wolfe</td>\n",
       "      <td>F</td>\n",
       "      <td>57</td>\n",
       "      <td>No injury to occupant, outrigger canoe and pad...</td>\n",
       "      <td>N</td>\n",
       "      <td>18h00</td>\n",
       "      <td>White shark</td>\n",
       "      <td>R. Collier, GSAF</td>\n",
       "      <td>2018.06.25-Wolfe.pdf</td>\n",
       "      <td>http://sharkattackfile.net/spreadsheets/pdf_di...</td>\n",
       "      <td>http://sharkattackfile.net/spreadsheets/pdf_di...</td>\n",
       "      <td>2018.06.25</td>\n",
       "      <td>2018.06.25</td>\n",
       "      <td>6303.0</td>\n",
       "      <td>NaN</td>\n",
       "      <td>NaN</td>\n",
       "    </tr>\n",
       "    <tr>\n",
       "      <th>1</th>\n",
       "      <td>2018.06.18</td>\n",
       "      <td>18-Jun-2018</td>\n",
       "      <td>2018.0</td>\n",
       "      <td>Unprovoked</td>\n",
       "      <td>USA</td>\n",
       "      <td>Georgia</td>\n",
       "      <td>St. Simon Island, Glynn County</td>\n",
       "      <td>Standing</td>\n",
       "      <td>Adyson�McNeely</td>\n",
       "      <td>F</td>\n",
       "      <td>11</td>\n",
       "      <td>Minor injury to left thigh</td>\n",
       "      <td>N</td>\n",
       "      <td>14h00  -15h00</td>\n",
       "      <td>NaN</td>\n",
       "      <td>K.McMurray, TrackingSharks.com</td>\n",
       "      <td>2018.06.18-McNeely.pdf</td>\n",
       "      <td>http://sharkattackfile.net/spreadsheets/pdf_di...</td>\n",
       "      <td>http://sharkattackfile.net/spreadsheets/pdf_di...</td>\n",
       "      <td>2018.06.18</td>\n",
       "      <td>2018.06.18</td>\n",
       "      <td>6302.0</td>\n",
       "      <td>NaN</td>\n",
       "      <td>NaN</td>\n",
       "    </tr>\n",
       "    <tr>\n",
       "      <th>2</th>\n",
       "      <td>2018.06.09</td>\n",
       "      <td>09-Jun-2018</td>\n",
       "      <td>2018.0</td>\n",
       "      <td>Invalid</td>\n",
       "      <td>USA</td>\n",
       "      <td>Hawaii</td>\n",
       "      <td>Habush, Oahu</td>\n",
       "      <td>Surfing</td>\n",
       "      <td>John Denges</td>\n",
       "      <td>M</td>\n",
       "      <td>48</td>\n",
       "      <td>Injury to left lower leg from surfboard skeg</td>\n",
       "      <td>N</td>\n",
       "      <td>07h45</td>\n",
       "      <td>NaN</td>\n",
       "      <td>K.McMurray, TrackingSharks.com</td>\n",
       "      <td>2018.06.09-Denges.pdf</td>\n",
       "      <td>http://sharkattackfile.net/spreadsheets/pdf_di...</td>\n",
       "      <td>http://sharkattackfile.net/spreadsheets/pdf_di...</td>\n",
       "      <td>2018.06.09</td>\n",
       "      <td>2018.06.09</td>\n",
       "      <td>6301.0</td>\n",
       "      <td>NaN</td>\n",
       "      <td>NaN</td>\n",
       "    </tr>\n",
       "    <tr>\n",
       "      <th>3</th>\n",
       "      <td>2018.06.08</td>\n",
       "      <td>08-Jun-2018</td>\n",
       "      <td>2018.0</td>\n",
       "      <td>Unprovoked</td>\n",
       "      <td>AUSTRALIA</td>\n",
       "      <td>New South Wales</td>\n",
       "      <td>Arrawarra Headland</td>\n",
       "      <td>Surfing</td>\n",
       "      <td>male</td>\n",
       "      <td>M</td>\n",
       "      <td>NaN</td>\n",
       "      <td>Minor injury to lower leg</td>\n",
       "      <td>N</td>\n",
       "      <td>NaN</td>\n",
       "      <td>2 m shark</td>\n",
       "      <td>B. Myatt, GSAF</td>\n",
       "      <td>2018.06.08-Arrawarra.pdf</td>\n",
       "      <td>http://sharkattackfile.net/spreadsheets/pdf_di...</td>\n",
       "      <td>http://sharkattackfile.net/spreadsheets/pdf_di...</td>\n",
       "      <td>2018.06.08</td>\n",
       "      <td>2018.06.08</td>\n",
       "      <td>6300.0</td>\n",
       "      <td>NaN</td>\n",
       "      <td>NaN</td>\n",
       "    </tr>\n",
       "    <tr>\n",
       "      <th>4</th>\n",
       "      <td>2018.06.04</td>\n",
       "      <td>04-Jun-2018</td>\n",
       "      <td>2018.0</td>\n",
       "      <td>Provoked</td>\n",
       "      <td>MEXICO</td>\n",
       "      <td>Colima</td>\n",
       "      <td>La Ticla</td>\n",
       "      <td>Free diving</td>\n",
       "      <td>Gustavo Ramos</td>\n",
       "      <td>M</td>\n",
       "      <td>NaN</td>\n",
       "      <td>Lacerations to leg &amp; hand shark PROVOKED INCIDENT</td>\n",
       "      <td>N</td>\n",
       "      <td>NaN</td>\n",
       "      <td>Tiger shark, 3m</td>\n",
       "      <td>A .Kipper</td>\n",
       "      <td>2018.06.04-Ramos.pdf</td>\n",
       "      <td>http://sharkattackfile.net/spreadsheets/pdf_di...</td>\n",
       "      <td>http://sharkattackfile.net/spreadsheets/pdf_di...</td>\n",
       "      <td>2018.06.04</td>\n",
       "      <td>2018.06.04</td>\n",
       "      <td>6299.0</td>\n",
       "      <td>NaN</td>\n",
       "      <td>NaN</td>\n",
       "    </tr>\n",
       "    <tr>\n",
       "      <th>...</th>\n",
       "      <td>...</td>\n",
       "      <td>...</td>\n",
       "      <td>...</td>\n",
       "      <td>...</td>\n",
       "      <td>...</td>\n",
       "      <td>...</td>\n",
       "      <td>...</td>\n",
       "      <td>...</td>\n",
       "      <td>...</td>\n",
       "      <td>...</td>\n",
       "      <td>...</td>\n",
       "      <td>...</td>\n",
       "      <td>...</td>\n",
       "      <td>...</td>\n",
       "      <td>...</td>\n",
       "      <td>...</td>\n",
       "      <td>...</td>\n",
       "      <td>...</td>\n",
       "      <td>...</td>\n",
       "      <td>...</td>\n",
       "      <td>...</td>\n",
       "      <td>...</td>\n",
       "      <td>...</td>\n",
       "      <td>...</td>\n",
       "    </tr>\n",
       "    <tr>\n",
       "      <th>25718</th>\n",
       "      <td>NaN</td>\n",
       "      <td>NaN</td>\n",
       "      <td>NaN</td>\n",
       "      <td>NaN</td>\n",
       "      <td>NaN</td>\n",
       "      <td>NaN</td>\n",
       "      <td>NaN</td>\n",
       "      <td>NaN</td>\n",
       "      <td>NaN</td>\n",
       "      <td>NaN</td>\n",
       "      <td>NaN</td>\n",
       "      <td>NaN</td>\n",
       "      <td>NaN</td>\n",
       "      <td>NaN</td>\n",
       "      <td>NaN</td>\n",
       "      <td>NaN</td>\n",
       "      <td>NaN</td>\n",
       "      <td>NaN</td>\n",
       "      <td>NaN</td>\n",
       "      <td>NaN</td>\n",
       "      <td>NaN</td>\n",
       "      <td>NaN</td>\n",
       "      <td>NaN</td>\n",
       "      <td>NaN</td>\n",
       "    </tr>\n",
       "    <tr>\n",
       "      <th>25719</th>\n",
       "      <td>NaN</td>\n",
       "      <td>NaN</td>\n",
       "      <td>NaN</td>\n",
       "      <td>NaN</td>\n",
       "      <td>NaN</td>\n",
       "      <td>NaN</td>\n",
       "      <td>NaN</td>\n",
       "      <td>NaN</td>\n",
       "      <td>NaN</td>\n",
       "      <td>NaN</td>\n",
       "      <td>NaN</td>\n",
       "      <td>NaN</td>\n",
       "      <td>NaN</td>\n",
       "      <td>NaN</td>\n",
       "      <td>NaN</td>\n",
       "      <td>NaN</td>\n",
       "      <td>NaN</td>\n",
       "      <td>NaN</td>\n",
       "      <td>NaN</td>\n",
       "      <td>NaN</td>\n",
       "      <td>NaN</td>\n",
       "      <td>NaN</td>\n",
       "      <td>NaN</td>\n",
       "      <td>NaN</td>\n",
       "    </tr>\n",
       "    <tr>\n",
       "      <th>25720</th>\n",
       "      <td>NaN</td>\n",
       "      <td>NaN</td>\n",
       "      <td>NaN</td>\n",
       "      <td>NaN</td>\n",
       "      <td>NaN</td>\n",
       "      <td>NaN</td>\n",
       "      <td>NaN</td>\n",
       "      <td>NaN</td>\n",
       "      <td>NaN</td>\n",
       "      <td>NaN</td>\n",
       "      <td>NaN</td>\n",
       "      <td>NaN</td>\n",
       "      <td>NaN</td>\n",
       "      <td>NaN</td>\n",
       "      <td>NaN</td>\n",
       "      <td>NaN</td>\n",
       "      <td>NaN</td>\n",
       "      <td>NaN</td>\n",
       "      <td>NaN</td>\n",
       "      <td>NaN</td>\n",
       "      <td>NaN</td>\n",
       "      <td>NaN</td>\n",
       "      <td>NaN</td>\n",
       "      <td>NaN</td>\n",
       "    </tr>\n",
       "    <tr>\n",
       "      <th>25721</th>\n",
       "      <td>NaN</td>\n",
       "      <td>NaN</td>\n",
       "      <td>NaN</td>\n",
       "      <td>NaN</td>\n",
       "      <td>NaN</td>\n",
       "      <td>NaN</td>\n",
       "      <td>NaN</td>\n",
       "      <td>NaN</td>\n",
       "      <td>NaN</td>\n",
       "      <td>NaN</td>\n",
       "      <td>NaN</td>\n",
       "      <td>NaN</td>\n",
       "      <td>NaN</td>\n",
       "      <td>NaN</td>\n",
       "      <td>NaN</td>\n",
       "      <td>NaN</td>\n",
       "      <td>NaN</td>\n",
       "      <td>NaN</td>\n",
       "      <td>NaN</td>\n",
       "      <td>NaN</td>\n",
       "      <td>NaN</td>\n",
       "      <td>NaN</td>\n",
       "      <td>NaN</td>\n",
       "      <td>NaN</td>\n",
       "    </tr>\n",
       "    <tr>\n",
       "      <th>25722</th>\n",
       "      <td>xx</td>\n",
       "      <td>NaN</td>\n",
       "      <td>NaN</td>\n",
       "      <td>NaN</td>\n",
       "      <td>NaN</td>\n",
       "      <td>NaN</td>\n",
       "      <td>NaN</td>\n",
       "      <td>NaN</td>\n",
       "      <td>NaN</td>\n",
       "      <td>NaN</td>\n",
       "      <td>NaN</td>\n",
       "      <td>NaN</td>\n",
       "      <td>NaN</td>\n",
       "      <td>NaN</td>\n",
       "      <td>NaN</td>\n",
       "      <td>NaN</td>\n",
       "      <td>NaN</td>\n",
       "      <td>NaN</td>\n",
       "      <td>NaN</td>\n",
       "      <td>NaN</td>\n",
       "      <td>NaN</td>\n",
       "      <td>NaN</td>\n",
       "      <td>NaN</td>\n",
       "      <td>NaN</td>\n",
       "    </tr>\n",
       "  </tbody>\n",
       "</table>\n",
       "<p>25723 rows × 24 columns</p>\n",
       "</div>"
      ],
      "text/plain": [
       "      Case Number         Date    Year        Type    Country  \\\n",
       "0      2018.06.25  25-Jun-2018  2018.0     Boating        USA   \n",
       "1      2018.06.18  18-Jun-2018  2018.0  Unprovoked        USA   \n",
       "2      2018.06.09  09-Jun-2018  2018.0     Invalid        USA   \n",
       "3      2018.06.08  08-Jun-2018  2018.0  Unprovoked  AUSTRALIA   \n",
       "4      2018.06.04  04-Jun-2018  2018.0    Provoked     MEXICO   \n",
       "...           ...          ...     ...         ...        ...   \n",
       "25718         NaN          NaN     NaN         NaN        NaN   \n",
       "25719         NaN          NaN     NaN         NaN        NaN   \n",
       "25720         NaN          NaN     NaN         NaN        NaN   \n",
       "25721         NaN          NaN     NaN         NaN        NaN   \n",
       "25722          xx          NaN     NaN         NaN        NaN   \n",
       "\n",
       "                  Area                        Location     Activity  \\\n",
       "0           California     Oceanside, San Diego County     Paddling   \n",
       "1              Georgia  St. Simon Island, Glynn County     Standing   \n",
       "2               Hawaii                    Habush, Oahu      Surfing   \n",
       "3      New South Wales              Arrawarra Headland      Surfing   \n",
       "4               Colima                        La Ticla  Free diving   \n",
       "...                ...                             ...          ...   \n",
       "25718              NaN                             NaN          NaN   \n",
       "25719              NaN                             NaN          NaN   \n",
       "25720              NaN                             NaN          NaN   \n",
       "25721              NaN                             NaN          NaN   \n",
       "25722              NaN                             NaN          NaN   \n",
       "\n",
       "                  Name Sex   Age  \\\n",
       "0          Julie Wolfe    F   57   \n",
       "1      Adyson�McNeely     F   11   \n",
       "2          John Denges    M   48   \n",
       "3                 male    M  NaN   \n",
       "4       Gustavo Ramos     M  NaN   \n",
       "...                ...  ...  ...   \n",
       "25718              NaN  NaN  NaN   \n",
       "25719              NaN  NaN  NaN   \n",
       "25720              NaN  NaN  NaN   \n",
       "25721              NaN  NaN  NaN   \n",
       "25722              NaN  NaN  NaN   \n",
       "\n",
       "                                                  Injury Fatal (Y/N)  \\\n",
       "0      No injury to occupant, outrigger canoe and pad...           N   \n",
       "1                             Minor injury to left thigh           N   \n",
       "2           Injury to left lower leg from surfboard skeg           N   \n",
       "3                              Minor injury to lower leg           N   \n",
       "4      Lacerations to leg & hand shark PROVOKED INCIDENT           N   \n",
       "...                                                  ...         ...   \n",
       "25718                                                NaN         NaN   \n",
       "25719                                                NaN         NaN   \n",
       "25720                                                NaN         NaN   \n",
       "25721                                                NaN         NaN   \n",
       "25722                                                NaN         NaN   \n",
       "\n",
       "                Time         Species           Investigator or Source  \\\n",
       "0              18h00      White shark                R. Collier, GSAF   \n",
       "1      14h00  -15h00              NaN  K.McMurray, TrackingSharks.com   \n",
       "2              07h45              NaN  K.McMurray, TrackingSharks.com   \n",
       "3                NaN        2 m shark                  B. Myatt, GSAF   \n",
       "4                NaN  Tiger shark, 3m                       A .Kipper   \n",
       "...              ...              ...                             ...   \n",
       "25718            NaN              NaN                             NaN   \n",
       "25719            NaN              NaN                             NaN   \n",
       "25720            NaN              NaN                             NaN   \n",
       "25721            NaN              NaN                             NaN   \n",
       "25722            NaN              NaN                             NaN   \n",
       "\n",
       "                            pdf  \\\n",
       "0          2018.06.25-Wolfe.pdf   \n",
       "1        2018.06.18-McNeely.pdf   \n",
       "2         2018.06.09-Denges.pdf   \n",
       "3      2018.06.08-Arrawarra.pdf   \n",
       "4          2018.06.04-Ramos.pdf   \n",
       "...                         ...   \n",
       "25718                       NaN   \n",
       "25719                       NaN   \n",
       "25720                       NaN   \n",
       "25721                       NaN   \n",
       "25722                       NaN   \n",
       "\n",
       "                                            href formula  \\\n",
       "0      http://sharkattackfile.net/spreadsheets/pdf_di...   \n",
       "1      http://sharkattackfile.net/spreadsheets/pdf_di...   \n",
       "2      http://sharkattackfile.net/spreadsheets/pdf_di...   \n",
       "3      http://sharkattackfile.net/spreadsheets/pdf_di...   \n",
       "4      http://sharkattackfile.net/spreadsheets/pdf_di...   \n",
       "...                                                  ...   \n",
       "25718                                                NaN   \n",
       "25719                                                NaN   \n",
       "25720                                                NaN   \n",
       "25721                                                NaN   \n",
       "25722                                                NaN   \n",
       "\n",
       "                                                    href Case Number.1  \\\n",
       "0      http://sharkattackfile.net/spreadsheets/pdf_di...    2018.06.25   \n",
       "1      http://sharkattackfile.net/spreadsheets/pdf_di...    2018.06.18   \n",
       "2      http://sharkattackfile.net/spreadsheets/pdf_di...    2018.06.09   \n",
       "3      http://sharkattackfile.net/spreadsheets/pdf_di...    2018.06.08   \n",
       "4      http://sharkattackfile.net/spreadsheets/pdf_di...    2018.06.04   \n",
       "...                                                  ...           ...   \n",
       "25718                                                NaN           NaN   \n",
       "25719                                                NaN           NaN   \n",
       "25720                                                NaN           NaN   \n",
       "25721                                                NaN           NaN   \n",
       "25722                                                NaN           NaN   \n",
       "\n",
       "      Case Number.2  original order Unnamed: 22 Unnamed: 23  \n",
       "0        2018.06.25          6303.0         NaN         NaN  \n",
       "1        2018.06.18          6302.0         NaN         NaN  \n",
       "2        2018.06.09          6301.0         NaN         NaN  \n",
       "3        2018.06.08          6300.0         NaN         NaN  \n",
       "4        2018.06.04          6299.0         NaN         NaN  \n",
       "...             ...             ...         ...         ...  \n",
       "25718           NaN             NaN         NaN         NaN  \n",
       "25719           NaN             NaN         NaN         NaN  \n",
       "25720           NaN             NaN         NaN         NaN  \n",
       "25721           NaN             NaN         NaN         NaN  \n",
       "25722           NaN             NaN         NaN         NaN  \n",
       "\n",
       "[25723 rows x 24 columns]"
      ]
     },
     "execution_count": 5,
     "metadata": {},
     "output_type": "execute_result"
    }
   ],
   "source": [
    "df_csv"
   ]
  },
  {
   "cell_type": "markdown",
   "id": "55d6c672",
   "metadata": {},
   "source": [
    "#### O arquivo .csv possui data base defasada até 2018."
   ]
  },
  {
   "cell_type": "markdown",
   "id": "d138a2f5",
   "metadata": {},
   "source": [
    "## Importar Arquivo .xls"
   ]
  },
  {
   "cell_type": "code",
   "execution_count": 6,
   "id": "6c88afff",
   "metadata": {},
   "outputs": [],
   "source": [
    "df_excel = pd.read_excel('GSAF5.xls')"
   ]
  },
  {
   "cell_type": "code",
   "execution_count": 7,
   "id": "6e878d57",
   "metadata": {},
   "outputs": [
    {
     "data": {
      "text/html": [
       "<div>\n",
       "<style scoped>\n",
       "    .dataframe tbody tr th:only-of-type {\n",
       "        vertical-align: middle;\n",
       "    }\n",
       "\n",
       "    .dataframe tbody tr th {\n",
       "        vertical-align: top;\n",
       "    }\n",
       "\n",
       "    .dataframe thead th {\n",
       "        text-align: right;\n",
       "    }\n",
       "</style>\n",
       "<table border=\"1\" class=\"dataframe\">\n",
       "  <thead>\n",
       "    <tr style=\"text-align: right;\">\n",
       "      <th></th>\n",
       "      <th>Case Number</th>\n",
       "      <th>Date</th>\n",
       "      <th>Year</th>\n",
       "      <th>Type</th>\n",
       "      <th>Country</th>\n",
       "      <th>Area</th>\n",
       "      <th>Location</th>\n",
       "      <th>Activity</th>\n",
       "      <th>Name</th>\n",
       "      <th>Sex</th>\n",
       "      <th>Age</th>\n",
       "      <th>Injury</th>\n",
       "      <th>Fatal (Y/N)</th>\n",
       "      <th>Time</th>\n",
       "      <th>Species</th>\n",
       "      <th>Investigator or Source</th>\n",
       "      <th>pdf</th>\n",
       "      <th>href formula</th>\n",
       "      <th>href</th>\n",
       "      <th>Case Number.1</th>\n",
       "      <th>Case Number.2</th>\n",
       "      <th>original order</th>\n",
       "      <th>Unnamed: 22</th>\n",
       "      <th>Unnamed: 23</th>\n",
       "    </tr>\n",
       "  </thead>\n",
       "  <tbody>\n",
       "    <tr>\n",
       "      <th>0</th>\n",
       "      <td>2021.07.27.b</td>\n",
       "      <td>27-Jul-2021</td>\n",
       "      <td>2021.0</td>\n",
       "      <td>Unprovoked</td>\n",
       "      <td>USA</td>\n",
       "      <td>Georgia</td>\n",
       "      <td>Tybee Island, Chatham County</td>\n",
       "      <td>NaN</td>\n",
       "      <td>Yamada Atsushi</td>\n",
       "      <td>M</td>\n",
       "      <td>50s</td>\n",
       "      <td>Lower left legf bitten</td>\n",
       "      <td>N</td>\n",
       "      <td>NaN</td>\n",
       "      <td>NaN</td>\n",
       "      <td>C. Creswell and J. Marchand, GSAF</td>\n",
       "      <td>2021.07.27.b-Atsushi.pdf</td>\n",
       "      <td>http://sharkattackfile.net/spreadsheets/pdf_di...</td>\n",
       "      <td>http://sharkattackfile.net/spreadsheets/pdf di...</td>\n",
       "      <td>2021.07.27.b</td>\n",
       "      <td>2021.07.27.b</td>\n",
       "      <td>6677.0</td>\n",
       "      <td>NaN</td>\n",
       "      <td>NaN</td>\n",
       "    </tr>\n",
       "    <tr>\n",
       "      <th>1</th>\n",
       "      <td>2021.07.27.a</td>\n",
       "      <td>27-Jul-2021</td>\n",
       "      <td>2021.0</td>\n",
       "      <td>NaN</td>\n",
       "      <td>AUSTRALIA</td>\n",
       "      <td>Western Australia</td>\n",
       "      <td>Varanus Island</td>\n",
       "      <td>Fishing</td>\n",
       "      <td>male</td>\n",
       "      <td>M</td>\n",
       "      <td>30s</td>\n",
       "      <td>Leg bitten</td>\n",
       "      <td>N</td>\n",
       "      <td>20h30</td>\n",
       "      <td>Sickelfin lemon shark, 3m</td>\n",
       "      <td>J. Marchand, GSAF</td>\n",
       "      <td>2021.07.27.a-Australia.pdf</td>\n",
       "      <td>http://sharkattackfile.net/spreadsheets/pdf_di...</td>\n",
       "      <td>http://sharkattackfile.net/spreadsheets/pdf_di...</td>\n",
       "      <td>2021.07.27.a</td>\n",
       "      <td>2021.07.27.a</td>\n",
       "      <td>6676.0</td>\n",
       "      <td>NaN</td>\n",
       "      <td>NaN</td>\n",
       "    </tr>\n",
       "    <tr>\n",
       "      <th>2</th>\n",
       "      <td>2021.07.26</td>\n",
       "      <td>26-Jul-2021</td>\n",
       "      <td>2021.0</td>\n",
       "      <td>Unprovoked</td>\n",
       "      <td>USA</td>\n",
       "      <td>New York</td>\n",
       "      <td>Jones Beach, Nassau County</td>\n",
       "      <td>Swimming</td>\n",
       "      <td>male</td>\n",
       "      <td>M</td>\n",
       "      <td>NaN</td>\n",
       "      <td>Minor injury to calf</td>\n",
       "      <td>N</td>\n",
       "      <td>11h00</td>\n",
       "      <td>A small shark</td>\n",
       "      <td>S. Curatolo-Wagemann, GSAF &amp; K. McMurray, Trac...</td>\n",
       "      <td>2021.07.26-JonesBeach, pdf</td>\n",
       "      <td>http://sharkattackfile.net/spreadsheets/pdf_di...</td>\n",
       "      <td>http://sharkattackfile.net/spreadsheets/pdf_di...</td>\n",
       "      <td>2021.07.26</td>\n",
       "      <td>2021.07.26</td>\n",
       "      <td>6675.0</td>\n",
       "      <td>NaN</td>\n",
       "      <td>NaN</td>\n",
       "    </tr>\n",
       "    <tr>\n",
       "      <th>3</th>\n",
       "      <td>2021.07.25</td>\n",
       "      <td>25-Jul-2021</td>\n",
       "      <td>2021.0</td>\n",
       "      <td>Unprovoked</td>\n",
       "      <td>BRAZIL</td>\n",
       "      <td>Pernambuco</td>\n",
       "      <td>Piedade</td>\n",
       "      <td>Squatting in the water</td>\n",
       "      <td>Everton dos Reis Guimarães</td>\n",
       "      <td>M</td>\n",
       "      <td>32</td>\n",
       "      <td>Lacerations to poster thigh and buttock</td>\n",
       "      <td>N</td>\n",
       "      <td>NaN</td>\n",
       "      <td>NaN</td>\n",
       "      <td>K. McMurray, TrackingSharks.com</td>\n",
       "      <td>2021.07.25-Brazil.pdf</td>\n",
       "      <td>http://sharkattackfile.net/spreadsheets/pdf_di...</td>\n",
       "      <td>http://sharkattackfile.net/spreadsheets/pdf_di...</td>\n",
       "      <td>2021.07.25</td>\n",
       "      <td>2021.07.25</td>\n",
       "      <td>6674.0</td>\n",
       "      <td>NaN</td>\n",
       "      <td>NaN</td>\n",
       "    </tr>\n",
       "    <tr>\n",
       "      <th>4</th>\n",
       "      <td>2021.07.23</td>\n",
       "      <td>23-Jul-2021</td>\n",
       "      <td>2021.0</td>\n",
       "      <td>Provoked</td>\n",
       "      <td>THAILAND</td>\n",
       "      <td>Chanthaburi Province</td>\n",
       "      <td>Kung Krabaenbay Royal Département Study Center</td>\n",
       "      <td>Moving captive shark</td>\n",
       "      <td>Boonterm Singhasura</td>\n",
       "      <td>M</td>\n",
       "      <td>55</td>\n",
       "      <td>Lacerations to lower right leg PROVOKED INCIDENT</td>\n",
       "      <td>N</td>\n",
       "      <td>NaN</td>\n",
       "      <td>Bull shark, +100kg</td>\n",
       "      <td>J. Marchand, GSAF</td>\n",
       "      <td>2021.07.23-Singhasura.pdf</td>\n",
       "      <td>http://sharkattackfile.net/spreadsheets/pdf_di...</td>\n",
       "      <td>http://sharkattackfile.net/spreadsheets/pdf_di...</td>\n",
       "      <td>2021.07.23</td>\n",
       "      <td>2021.07.23</td>\n",
       "      <td>6673.0</td>\n",
       "      <td>NaN</td>\n",
       "      <td>NaN</td>\n",
       "    </tr>\n",
       "    <tr>\n",
       "      <th>...</th>\n",
       "      <td>...</td>\n",
       "      <td>...</td>\n",
       "      <td>...</td>\n",
       "      <td>...</td>\n",
       "      <td>...</td>\n",
       "      <td>...</td>\n",
       "      <td>...</td>\n",
       "      <td>...</td>\n",
       "      <td>...</td>\n",
       "      <td>...</td>\n",
       "      <td>...</td>\n",
       "      <td>...</td>\n",
       "      <td>...</td>\n",
       "      <td>...</td>\n",
       "      <td>...</td>\n",
       "      <td>...</td>\n",
       "      <td>...</td>\n",
       "      <td>...</td>\n",
       "      <td>...</td>\n",
       "      <td>...</td>\n",
       "      <td>...</td>\n",
       "      <td>...</td>\n",
       "      <td>...</td>\n",
       "      <td>...</td>\n",
       "    </tr>\n",
       "    <tr>\n",
       "      <th>25812</th>\n",
       "      <td>NaN</td>\n",
       "      <td>NaN</td>\n",
       "      <td>NaN</td>\n",
       "      <td>NaN</td>\n",
       "      <td>NaN</td>\n",
       "      <td>NaN</td>\n",
       "      <td>NaN</td>\n",
       "      <td>NaN</td>\n",
       "      <td>NaN</td>\n",
       "      <td>NaN</td>\n",
       "      <td>NaN</td>\n",
       "      <td>NaN</td>\n",
       "      <td>NaN</td>\n",
       "      <td>NaN</td>\n",
       "      <td>NaN</td>\n",
       "      <td>NaN</td>\n",
       "      <td>NaN</td>\n",
       "      <td>NaN</td>\n",
       "      <td>NaN</td>\n",
       "      <td>NaN</td>\n",
       "      <td>NaN</td>\n",
       "      <td>NaN</td>\n",
       "      <td>NaN</td>\n",
       "      <td>NaN</td>\n",
       "    </tr>\n",
       "    <tr>\n",
       "      <th>25813</th>\n",
       "      <td>NaN</td>\n",
       "      <td>NaN</td>\n",
       "      <td>NaN</td>\n",
       "      <td>NaN</td>\n",
       "      <td>NaN</td>\n",
       "      <td>NaN</td>\n",
       "      <td>NaN</td>\n",
       "      <td>NaN</td>\n",
       "      <td>NaN</td>\n",
       "      <td>NaN</td>\n",
       "      <td>NaN</td>\n",
       "      <td>NaN</td>\n",
       "      <td>NaN</td>\n",
       "      <td>NaN</td>\n",
       "      <td>NaN</td>\n",
       "      <td>NaN</td>\n",
       "      <td>NaN</td>\n",
       "      <td>NaN</td>\n",
       "      <td>NaN</td>\n",
       "      <td>NaN</td>\n",
       "      <td>NaN</td>\n",
       "      <td>NaN</td>\n",
       "      <td>NaN</td>\n",
       "      <td>NaN</td>\n",
       "    </tr>\n",
       "    <tr>\n",
       "      <th>25814</th>\n",
       "      <td>NaN</td>\n",
       "      <td>NaN</td>\n",
       "      <td>NaN</td>\n",
       "      <td>NaN</td>\n",
       "      <td>NaN</td>\n",
       "      <td>NaN</td>\n",
       "      <td>NaN</td>\n",
       "      <td>NaN</td>\n",
       "      <td>NaN</td>\n",
       "      <td>NaN</td>\n",
       "      <td>NaN</td>\n",
       "      <td>NaN</td>\n",
       "      <td>NaN</td>\n",
       "      <td>NaN</td>\n",
       "      <td>NaN</td>\n",
       "      <td>NaN</td>\n",
       "      <td>NaN</td>\n",
       "      <td>NaN</td>\n",
       "      <td>NaN</td>\n",
       "      <td>NaN</td>\n",
       "      <td>NaN</td>\n",
       "      <td>NaN</td>\n",
       "      <td>NaN</td>\n",
       "      <td>NaN</td>\n",
       "    </tr>\n",
       "    <tr>\n",
       "      <th>25815</th>\n",
       "      <td>NaN</td>\n",
       "      <td>NaN</td>\n",
       "      <td>NaN</td>\n",
       "      <td>NaN</td>\n",
       "      <td>NaN</td>\n",
       "      <td>NaN</td>\n",
       "      <td>NaN</td>\n",
       "      <td>NaN</td>\n",
       "      <td>NaN</td>\n",
       "      <td>NaN</td>\n",
       "      <td>NaN</td>\n",
       "      <td>NaN</td>\n",
       "      <td>NaN</td>\n",
       "      <td>NaN</td>\n",
       "      <td>NaN</td>\n",
       "      <td>NaN</td>\n",
       "      <td>NaN</td>\n",
       "      <td>NaN</td>\n",
       "      <td>NaN</td>\n",
       "      <td>NaN</td>\n",
       "      <td>NaN</td>\n",
       "      <td>NaN</td>\n",
       "      <td>NaN</td>\n",
       "      <td>NaN</td>\n",
       "    </tr>\n",
       "    <tr>\n",
       "      <th>25816</th>\n",
       "      <td>xx</td>\n",
       "      <td>NaN</td>\n",
       "      <td>NaN</td>\n",
       "      <td>NaN</td>\n",
       "      <td>NaN</td>\n",
       "      <td>NaN</td>\n",
       "      <td>NaN</td>\n",
       "      <td>NaN</td>\n",
       "      <td>NaN</td>\n",
       "      <td>NaN</td>\n",
       "      <td>NaN</td>\n",
       "      <td>NaN</td>\n",
       "      <td>NaN</td>\n",
       "      <td>NaN</td>\n",
       "      <td>NaN</td>\n",
       "      <td>NaN</td>\n",
       "      <td>NaN</td>\n",
       "      <td>NaN</td>\n",
       "      <td>NaN</td>\n",
       "      <td>NaN</td>\n",
       "      <td>NaN</td>\n",
       "      <td>NaN</td>\n",
       "      <td>NaN</td>\n",
       "      <td>NaN</td>\n",
       "    </tr>\n",
       "  </tbody>\n",
       "</table>\n",
       "<p>25817 rows × 24 columns</p>\n",
       "</div>"
      ],
      "text/plain": [
       "        Case Number         Date    Year        Type    Country  \\\n",
       "0      2021.07.27.b  27-Jul-2021  2021.0  Unprovoked        USA   \n",
       "1      2021.07.27.a  27-Jul-2021  2021.0         NaN  AUSTRALIA   \n",
       "2        2021.07.26  26-Jul-2021  2021.0  Unprovoked        USA   \n",
       "3        2021.07.25  25-Jul-2021  2021.0  Unprovoked     BRAZIL   \n",
       "4        2021.07.23  23-Jul-2021  2021.0    Provoked   THAILAND   \n",
       "...             ...          ...     ...         ...        ...   \n",
       "25812           NaN          NaN     NaN         NaN        NaN   \n",
       "25813           NaN          NaN     NaN         NaN        NaN   \n",
       "25814           NaN          NaN     NaN         NaN        NaN   \n",
       "25815           NaN          NaN     NaN         NaN        NaN   \n",
       "25816            xx          NaN     NaN         NaN        NaN   \n",
       "\n",
       "                       Area                                         Location  \\\n",
       "0                   Georgia                     Tybee Island, Chatham County   \n",
       "1         Western Australia                                   Varanus Island   \n",
       "2                  New York                       Jones Beach, Nassau County   \n",
       "3                Pernambuco                                          Piedade   \n",
       "4      Chanthaburi Province  Kung Krabaenbay Royal Département Study Center    \n",
       "...                     ...                                              ...   \n",
       "25812                   NaN                                              NaN   \n",
       "25813                   NaN                                              NaN   \n",
       "25814                   NaN                                              NaN   \n",
       "25815                   NaN                                              NaN   \n",
       "25816                   NaN                                              NaN   \n",
       "\n",
       "                     Activity                         Name Sex   Age  \\\n",
       "0                         NaN              Yamada Atsushi     M  50s   \n",
       "1                     Fishing                         male    M  30s   \n",
       "2                    Swimming                         male    M  NaN   \n",
       "3      Squatting in the water  Everton dos Reis Guimarães     M   32   \n",
       "4        Moving captive shark          Boonterm Singhasura    M   55   \n",
       "...                       ...                          ...  ...  ...   \n",
       "25812                     NaN                          NaN  NaN  NaN   \n",
       "25813                     NaN                          NaN  NaN  NaN   \n",
       "25814                     NaN                          NaN  NaN  NaN   \n",
       "25815                     NaN                          NaN  NaN  NaN   \n",
       "25816                     NaN                          NaN  NaN  NaN   \n",
       "\n",
       "                                                 Injury Fatal (Y/N)   Time  \\\n",
       "0                                Lower left legf bitten           N    NaN   \n",
       "1                                            Leg bitten           N  20h30   \n",
       "2                                 Minor injury to calf            N  11h00   \n",
       "3               Lacerations to poster thigh and buttock           N    NaN   \n",
       "4      Lacerations to lower right leg PROVOKED INCIDENT           N    NaN   \n",
       "...                                                 ...         ...    ...   \n",
       "25812                                               NaN         NaN    NaN   \n",
       "25813                                               NaN         NaN    NaN   \n",
       "25814                                               NaN         NaN    NaN   \n",
       "25815                                               NaN         NaN    NaN   \n",
       "25816                                               NaN         NaN    NaN   \n",
       "\n",
       "                        Species   \\\n",
       "0                            NaN   \n",
       "1      Sickelfin lemon shark, 3m   \n",
       "2                  A small shark   \n",
       "3                            NaN   \n",
       "4             Bull shark, +100kg   \n",
       "...                          ...   \n",
       "25812                        NaN   \n",
       "25813                        NaN   \n",
       "25814                        NaN   \n",
       "25815                        NaN   \n",
       "25816                        NaN   \n",
       "\n",
       "                                  Investigator or Source  \\\n",
       "0                      C. Creswell and J. Marchand, GSAF   \n",
       "1                                      J. Marchand, GSAF   \n",
       "2      S. Curatolo-Wagemann, GSAF & K. McMurray, Trac...   \n",
       "3                        K. McMurray, TrackingSharks.com   \n",
       "4                                      J. Marchand, GSAF   \n",
       "...                                                  ...   \n",
       "25812                                                NaN   \n",
       "25813                                                NaN   \n",
       "25814                                                NaN   \n",
       "25815                                                NaN   \n",
       "25816                                                NaN   \n",
       "\n",
       "                              pdf  \\\n",
       "0        2021.07.27.b-Atsushi.pdf   \n",
       "1      2021.07.27.a-Australia.pdf   \n",
       "2      2021.07.26-JonesBeach, pdf   \n",
       "3           2021.07.25-Brazil.pdf   \n",
       "4       2021.07.23-Singhasura.pdf   \n",
       "...                           ...   \n",
       "25812                         NaN   \n",
       "25813                         NaN   \n",
       "25814                         NaN   \n",
       "25815                         NaN   \n",
       "25816                         NaN   \n",
       "\n",
       "                                            href formula  \\\n",
       "0      http://sharkattackfile.net/spreadsheets/pdf_di...   \n",
       "1      http://sharkattackfile.net/spreadsheets/pdf_di...   \n",
       "2      http://sharkattackfile.net/spreadsheets/pdf_di...   \n",
       "3      http://sharkattackfile.net/spreadsheets/pdf_di...   \n",
       "4      http://sharkattackfile.net/spreadsheets/pdf_di...   \n",
       "...                                                  ...   \n",
       "25812                                                NaN   \n",
       "25813                                                NaN   \n",
       "25814                                                NaN   \n",
       "25815                                                NaN   \n",
       "25816                                                NaN   \n",
       "\n",
       "                                                    href Case Number.1  \\\n",
       "0      http://sharkattackfile.net/spreadsheets/pdf di...  2021.07.27.b   \n",
       "1      http://sharkattackfile.net/spreadsheets/pdf_di...  2021.07.27.a   \n",
       "2      http://sharkattackfile.net/spreadsheets/pdf_di...    2021.07.26   \n",
       "3      http://sharkattackfile.net/spreadsheets/pdf_di...    2021.07.25   \n",
       "4      http://sharkattackfile.net/spreadsheets/pdf_di...    2021.07.23   \n",
       "...                                                  ...           ...   \n",
       "25812                                                NaN           NaN   \n",
       "25813                                                NaN           NaN   \n",
       "25814                                                NaN           NaN   \n",
       "25815                                                NaN           NaN   \n",
       "25816                                                NaN           NaN   \n",
       "\n",
       "      Case Number.2  original order Unnamed: 22 Unnamed: 23  \n",
       "0      2021.07.27.b          6677.0         NaN         NaN  \n",
       "1      2021.07.27.a          6676.0         NaN         NaN  \n",
       "2        2021.07.26          6675.0         NaN         NaN  \n",
       "3        2021.07.25          6674.0         NaN         NaN  \n",
       "4        2021.07.23          6673.0         NaN         NaN  \n",
       "...             ...             ...         ...         ...  \n",
       "25812           NaN             NaN         NaN         NaN  \n",
       "25813           NaN             NaN         NaN         NaN  \n",
       "25814           NaN             NaN         NaN         NaN  \n",
       "25815           NaN             NaN         NaN         NaN  \n",
       "25816           NaN             NaN         NaN         NaN  \n",
       "\n",
       "[25817 rows x 24 columns]"
      ]
     },
     "execution_count": 7,
     "metadata": {},
     "output_type": "execute_result"
    }
   ],
   "source": [
    "df_excel"
   ]
  },
  {
   "cell_type": "markdown",
   "id": "37da049a",
   "metadata": {},
   "source": [
    "##### Quantidade e nome de colunas igual a da base .csv (mesma base, porém com dados até Julho/21)."
   ]
  },
  {
   "cell_type": "markdown",
   "id": "9945edc0",
   "metadata": {},
   "source": [
    "### Análise dos colunas e \"Dtypes\""
   ]
  },
  {
   "cell_type": "code",
   "execution_count": 8,
   "id": "65008ddd",
   "metadata": {},
   "outputs": [
    {
     "name": "stdout",
     "output_type": "stream",
     "text": [
      "<class 'pandas.core.frame.DataFrame'>\n",
      "RangeIndex: 25817 entries, 0 to 25816\n",
      "Data columns (total 24 columns):\n",
      " #   Column                  Non-Null Count  Dtype  \n",
      "---  ------                  --------------  -----  \n",
      " 0   Case Number             8795 non-null   object \n",
      " 1   Date                    6675 non-null   object \n",
      " 2   Year                    6674 non-null   float64\n",
      " 3   Type                    6662 non-null   object \n",
      " 4   Country                 6626 non-null   object \n",
      " 5   Area                    6205 non-null   object \n",
      " 6   Location                6123 non-null   object \n",
      " 7   Activity                6111 non-null   object \n",
      " 8   Name                    6461 non-null   object \n",
      " 9   Sex                     6102 non-null   object \n",
      " 10  Age                     3751 non-null   object \n",
      " 11  Injury                  6644 non-null   object \n",
      " 12  Fatal (Y/N)             6124 non-null   object \n",
      " 13  Time                    3228 non-null   object \n",
      " 14  Species                 3673 non-null   object \n",
      " 15  Investigator or Source  6658 non-null   object \n",
      " 16  pdf                     6675 non-null   object \n",
      " 17  href formula            6672 non-null   object \n",
      " 18  href                    6674 non-null   object \n",
      " 19  Case Number.1           6675 non-null   object \n",
      " 20  Case Number.2           6675 non-null   object \n",
      " 21  original order          6676 non-null   float64\n",
      " 22  Unnamed: 22             1 non-null      object \n",
      " 23  Unnamed: 23             2 non-null      object \n",
      "dtypes: float64(2), object(22)\n",
      "memory usage: 4.7+ MB\n"
     ]
    }
   ],
   "source": [
    "df_excel.info()"
   ]
  },
  {
   "cell_type": "code",
   "execution_count": 9,
   "id": "e857d640",
   "metadata": {},
   "outputs": [
    {
     "data": {
      "text/plain": [
       "Index(['Case Number', 'Date', 'Year', 'Type', 'Country', 'Area', 'Location',\n",
       "       'Activity', 'Name', 'Sex ', 'Age', 'Injury', 'Fatal (Y/N)', 'Time',\n",
       "       'Species ', 'Investigator or Source', 'pdf', 'href formula', 'href',\n",
       "       'Case Number.1', 'Case Number.2', 'original order', 'Unnamed: 22',\n",
       "       'Unnamed: 23'],\n",
       "      dtype='object')"
      ]
     },
     "execution_count": 9,
     "metadata": {},
     "output_type": "execute_result"
    }
   ],
   "source": [
    "df_excel.columns"
   ]
  },
  {
   "cell_type": "markdown",
   "id": "3fba3bb1",
   "metadata": {},
   "source": [
    "#### Padronização dos nomes das colunas"
   ]
  },
  {
   "cell_type": "code",
   "execution_count": 10,
   "id": "eddba36d",
   "metadata": {},
   "outputs": [],
   "source": [
    "df_excel.columns= [column.lower().replace(\" \", '_').replace('/', '_') for column in df_excel.columns]"
   ]
  },
  {
   "cell_type": "code",
   "execution_count": 11,
   "id": "42276039",
   "metadata": {},
   "outputs": [
    {
     "data": {
      "text/plain": [
       "Index(['case_number', 'date', 'year', 'type', 'country', 'area', 'location',\n",
       "       'activity', 'name', 'sex_', 'age', 'injury', 'fatal_(y_n)', 'time',\n",
       "       'species_', 'investigator_or_source', 'pdf', 'href_formula', 'href',\n",
       "       'case_number.1', 'case_number.2', 'original_order', 'unnamed:_22',\n",
       "       'unnamed:_23'],\n",
       "      dtype='object')"
      ]
     },
     "execution_count": 11,
     "metadata": {},
     "output_type": "execute_result"
    }
   ],
   "source": [
    "df_excel.columns"
   ]
  },
  {
   "cell_type": "markdown",
   "id": "69df6a8a",
   "metadata": {},
   "source": [
    "#### Exclusão de colunas desnecessárias"
   ]
  },
  {
   "cell_type": "code",
   "execution_count": 12,
   "id": "83f1daee",
   "metadata": {},
   "outputs": [],
   "source": [
    "df_excel = df_excel.drop('unnamed:_22', axis=1)"
   ]
  },
  {
   "cell_type": "code",
   "execution_count": 13,
   "id": "dcadc2c1",
   "metadata": {},
   "outputs": [],
   "source": [
    "df_excel = df_excel.drop('unnamed:_23', axis=1)"
   ]
  },
  {
   "cell_type": "markdown",
   "id": "baca0136",
   "metadata": {},
   "source": [
    "### Tratamento coluna \"country\""
   ]
  },
  {
   "cell_type": "markdown",
   "id": "5f94c5f2",
   "metadata": {},
   "source": [
    "#### Análise Geral"
   ]
  },
  {
   "cell_type": "code",
   "execution_count": 14,
   "id": "30265ec2",
   "metadata": {},
   "outputs": [
    {
     "data": {
      "text/plain": [
       "0          <class 'str'>\n",
       "1          <class 'str'>\n",
       "2          <class 'str'>\n",
       "3          <class 'str'>\n",
       "4          <class 'str'>\n",
       "              ...       \n",
       "25812    <class 'float'>\n",
       "25813    <class 'float'>\n",
       "25814    <class 'float'>\n",
       "25815    <class 'float'>\n",
       "25816    <class 'float'>\n",
       "Name: country, Length: 25817, dtype: object"
      ]
     },
     "execution_count": 14,
     "metadata": {},
     "output_type": "execute_result"
    }
   ],
   "source": [
    "df_excel.country.map(type)"
   ]
  },
  {
   "cell_type": "code",
   "execution_count": 15,
   "id": "73a4f392",
   "metadata": {},
   "outputs": [
    {
     "data": {
      "text/plain": [
       "pandas.core.frame.DataFrame"
      ]
     },
     "execution_count": 15,
     "metadata": {},
     "output_type": "execute_result"
    }
   ],
   "source": [
    "type(df_excel)"
   ]
  },
  {
   "cell_type": "code",
   "execution_count": 16,
   "id": "108e9f87",
   "metadata": {},
   "outputs": [],
   "source": [
    "df_country = df_excel.country"
   ]
  },
  {
   "cell_type": "code",
   "execution_count": 17,
   "id": "3d93f191",
   "metadata": {},
   "outputs": [
    {
     "data": {
      "text/plain": [
       "0              USA\n",
       "1        AUSTRALIA\n",
       "2              USA\n",
       "3           BRAZIL\n",
       "4         THAILAND\n",
       "           ...    \n",
       "25812          NaN\n",
       "25813          NaN\n",
       "25814          NaN\n",
       "25815          NaN\n",
       "25816          NaN\n",
       "Name: country, Length: 25817, dtype: object"
      ]
     },
     "execution_count": 17,
     "metadata": {},
     "output_type": "execute_result"
    }
   ],
   "source": [
    "df_country"
   ]
  },
  {
   "cell_type": "code",
   "execution_count": 18,
   "id": "01247911",
   "metadata": {},
   "outputs": [
    {
     "data": {
      "text/plain": [
       "pandas.core.series.Series"
      ]
     },
     "execution_count": 18,
     "metadata": {},
     "output_type": "execute_result"
    }
   ],
   "source": [
    "type(df_country)"
   ]
  },
  {
   "cell_type": "markdown",
   "id": "f7017959",
   "metadata": {},
   "source": [
    "#### Visão dos 25 primeiros países com mais registros"
   ]
  },
  {
   "cell_type": "code",
   "execution_count": 19,
   "id": "23705dcd",
   "metadata": {},
   "outputs": [
    {
     "data": {
      "text/plain": [
       "USA                 2413\n",
       "AUSTRALIA           1426\n",
       "SOUTH AFRICA         589\n",
       "NEW ZEALAND          139\n",
       "PAPUA NEW GUINEA     135\n",
       "BAHAMAS              126\n",
       "BRAZIL               117\n",
       "MEXICO                95\n",
       "ITALY                 72\n",
       "FIJI                  65\n",
       "NEW CALEDONIA         62\n",
       "PHILIPPINES           61\n",
       "REUNION               60\n",
       "MOZAMBIQUE            46\n",
       "CUBA                  46\n",
       "SPAIN                 45\n",
       "EGYPT                 43\n",
       "INDIA                 40\n",
       "CROATIA               35\n",
       "JAPAN                 35\n",
       "FRENCH POLYNESIA      33\n",
       "PANAMA                32\n",
       "SOLOMON ISLANDS       30\n",
       "JAMAICA               29\n",
       "IRAN                  29\n",
       "Name: country, dtype: int64"
      ]
     },
     "execution_count": 19,
     "metadata": {},
     "output_type": "execute_result"
    }
   ],
   "source": [
    "df_country.value_counts().head(25)"
   ]
  },
  {
   "cell_type": "markdown",
   "id": "b62b25a3",
   "metadata": {},
   "source": [
    "#### Visão dos 25 últimos países com mais registros"
   ]
  },
  {
   "cell_type": "code",
   "execution_count": 20,
   "id": "3bd5e44b",
   "metadata": {},
   "outputs": [
    {
     "data": {
      "text/plain": [
       "GULF OF ADEN                    1\n",
       " PHILIPPINES                    1\n",
       "BRITISH WEST INDIES             1\n",
       "ARUBA                           1\n",
       "NORTHERN MARIANA ISLANDS        1\n",
       "KUWAIT                          1\n",
       "NICARAGUA                       1\n",
       "ANDAMAN ISLANDS                 1\n",
       "NORTH SEA                       1\n",
       "Between PORTUGAL & INDIA        1\n",
       "KOREA                           1\n",
       "ROATAN                          1\n",
       "ARGENTINA                       1\n",
       "RED SEA                         1\n",
       "GREENLAND                       1\n",
       "CURACAO                         1\n",
       "NORTH ATLANTIC OCEAN            1\n",
       "ADMIRALTY ISLANDS               1\n",
       "EQUATORIAL GUINEA / CAMEROON    1\n",
       "GABON                           1\n",
       "TASMAN SEA                      1\n",
       "ST. MAARTIN                     1\n",
       "COOK ISLANDS                    1\n",
       "BAY OF BENGAL                   1\n",
       "MID-PACIFC OCEAN                1\n",
       "Name: country, dtype: int64"
      ]
     },
     "execution_count": 20,
     "metadata": {},
     "output_type": "execute_result"
    }
   ],
   "source": [
    "df_country.value_counts().tail(25)"
   ]
  },
  {
   "cell_type": "markdown",
   "id": "d432f20d",
   "metadata": {},
   "source": [
    "#### Tratamento da coluna"
   ]
  },
  {
   "cell_type": "code",
   "execution_count": 21,
   "id": "51c4a0cd",
   "metadata": {},
   "outputs": [
    {
     "data": {
      "text/plain": [
       "25817"
      ]
     },
     "execution_count": 21,
     "metadata": {},
     "output_type": "execute_result"
    }
   ],
   "source": [
    "df_country.size"
   ]
  },
  {
   "cell_type": "code",
   "execution_count": 22,
   "id": "88bb1e94",
   "metadata": {},
   "outputs": [
    {
     "data": {
      "text/plain": [
       "5005           PHILIPPINES\n",
       "2393                 TONGA\n",
       "2036                 TONGA\n",
       "2037                 TONGA\n",
       "4152     ADMIRALTY ISLANDS\n",
       "               ...        \n",
       "25812                  NaN\n",
       "25813                  NaN\n",
       "25814                  NaN\n",
       "25815                  NaN\n",
       "25816                  NaN\n",
       "Name: country, Length: 25817, dtype: object"
      ]
     },
     "execution_count": 22,
     "metadata": {},
     "output_type": "execute_result"
    }
   ],
   "source": [
    "df_country.sort_values(ascending=True)"
   ]
  },
  {
   "cell_type": "markdown",
   "id": "8a8c86ab",
   "metadata": {},
   "source": [
    "#### Conferência de valores nulos"
   ]
  },
  {
   "cell_type": "code",
   "execution_count": 23,
   "id": "d39023d1",
   "metadata": {},
   "outputs": [
    {
     "data": {
      "text/plain": [
       "True     19191\n",
       "False     6626\n",
       "Name: country, dtype: int64"
      ]
     },
     "execution_count": 23,
     "metadata": {},
     "output_type": "execute_result"
    }
   ],
   "source": [
    "df_country.isnull().value_counts()"
   ]
  },
  {
   "cell_type": "code",
   "execution_count": 24,
   "id": "14ae4aaf",
   "metadata": {},
   "outputs": [],
   "source": [
    "df_country = df_excel['country'].str.strip()"
   ]
  },
  {
   "cell_type": "code",
   "execution_count": 25,
   "id": "3c4ef837",
   "metadata": {},
   "outputs": [
    {
     "data": {
      "text/plain": [
       "pandas.core.series.Series"
      ]
     },
     "execution_count": 25,
     "metadata": {},
     "output_type": "execute_result"
    }
   ],
   "source": [
    "type(df_country)"
   ]
  },
  {
   "cell_type": "markdown",
   "id": "dbe3d1b1",
   "metadata": {},
   "source": [
    "#### Visão sem nomes duplicados"
   ]
  },
  {
   "cell_type": "code",
   "execution_count": 26,
   "id": "76c0110d",
   "metadata": {},
   "outputs": [
    {
     "data": {
      "text/plain": [
       "4152             ADMIRALTY ISLANDS\n",
       "6420                        AFRICA\n",
       "6429                       ALGERIA\n",
       "4497                AMERICAN SAMOA\n",
       "4506    ANDAMAN / NICOBAR ISLANDAS\n",
       "6330               ANDAMAN ISLANDS\n",
       "2871                        ANGOLA\n",
       "6493                       ANTIGUA\n",
       "4718                     ARGENTINA\n",
       "682                          ARUBA\n",
       "6665                         ASIA?\n",
       "6045                ATLANTIC OCEAN\n",
       "4870                     AUSTRALIA\n",
       "4431                        AZORES\n",
       "6590                       BAHAMAS\n",
       "6589                       BAHREIN\n",
       "3600                    BANGLADESH\n",
       "5998                      BARBADOS\n",
       "5078                 BAY OF BENGAL\n",
       "6650                        BELIZE\n",
       "4356                       BERMUDA\n",
       "2775                        BRAZIL\n",
       "3726                 BRITISH ISLES\n",
       "6066            BRITISH NEW GUINEA\n",
       "1658        BRITISH VIRGIN ISLANDS\n",
       "4156           BRITISH WEST INDIES\n",
       "6031                         BURMA\n",
       "6541      Between PORTUGAL & INDIA\n",
       "4743                        CANADA\n",
       "646                     CAPE VERDE\n",
       "5011                 CARIBBEAN SEA\n",
       "663                 CAYMAN ISLANDS\n",
       "5044               CENTRAL PACIFIC\n",
       "6075                        CEYLON\n",
       "6675            CEYLON (SRI LANKA)\n",
       "1172                         CHILE\n",
       "5178                         CHINA\n",
       "341                       COLOMBIA\n",
       "3957                      COLUMBIA\n",
       "478                        COMOROS\n",
       "6356                  COOK ISLANDS\n",
       "411                     COSTA RICA\n",
       "5967                         CRETE\n",
       "3927                       CROATIA\n",
       "5875                          CUBA\n",
       "5174                       CURACAO\n",
       "5913                        CYPRUS\n",
       "6430               Coast of AFRICA\n",
       "1012                  DIEGO GARCIA\n",
       "6576                      DJIBOUTI\n",
       "Name: country, dtype: object"
      ]
     },
     "execution_count": 26,
     "metadata": {},
     "output_type": "execute_result"
    }
   ],
   "source": [
    "df_country.sort_values(ascending=True).drop_duplicates().head(50)"
   ]
  },
  {
   "cell_type": "markdown",
   "id": "eeea8ad1",
   "metadata": {},
   "source": [
    "### Decide-se focar apenas nos registros \"BRAZIL\""
   ]
  },
  {
   "cell_type": "code",
   "execution_count": 27,
   "id": "3140ce2f",
   "metadata": {},
   "outputs": [],
   "source": [
    "df_brazil = df_excel[df_excel.country=='BRAZIL']"
   ]
  },
  {
   "cell_type": "markdown",
   "id": "59437306",
   "metadata": {},
   "source": [
    "#### Visão geral"
   ]
  },
  {
   "cell_type": "code",
   "execution_count": 28,
   "id": "473fc4d1",
   "metadata": {
    "scrolled": true
   },
   "outputs": [
    {
     "data": {
      "text/html": [
       "<div>\n",
       "<style scoped>\n",
       "    .dataframe tbody tr th:only-of-type {\n",
       "        vertical-align: middle;\n",
       "    }\n",
       "\n",
       "    .dataframe tbody tr th {\n",
       "        vertical-align: top;\n",
       "    }\n",
       "\n",
       "    .dataframe thead th {\n",
       "        text-align: right;\n",
       "    }\n",
       "</style>\n",
       "<table border=\"1\" class=\"dataframe\">\n",
       "  <thead>\n",
       "    <tr style=\"text-align: right;\">\n",
       "      <th></th>\n",
       "      <th>case_number</th>\n",
       "      <th>date</th>\n",
       "      <th>year</th>\n",
       "      <th>type</th>\n",
       "      <th>country</th>\n",
       "      <th>area</th>\n",
       "      <th>location</th>\n",
       "      <th>activity</th>\n",
       "      <th>name</th>\n",
       "      <th>sex_</th>\n",
       "      <th>age</th>\n",
       "      <th>injury</th>\n",
       "      <th>fatal_(y_n)</th>\n",
       "      <th>time</th>\n",
       "      <th>species_</th>\n",
       "      <th>investigator_or_source</th>\n",
       "      <th>pdf</th>\n",
       "      <th>href_formula</th>\n",
       "      <th>href</th>\n",
       "      <th>case_number.1</th>\n",
       "      <th>case_number.2</th>\n",
       "      <th>original_order</th>\n",
       "    </tr>\n",
       "  </thead>\n",
       "  <tbody>\n",
       "    <tr>\n",
       "      <th>3</th>\n",
       "      <td>2021.07.25</td>\n",
       "      <td>25-Jul-2021</td>\n",
       "      <td>2021.0</td>\n",
       "      <td>Unprovoked</td>\n",
       "      <td>BRAZIL</td>\n",
       "      <td>Pernambuco</td>\n",
       "      <td>Piedade</td>\n",
       "      <td>Squatting in the water</td>\n",
       "      <td>Everton dos Reis Guimarães</td>\n",
       "      <td>M</td>\n",
       "      <td>32</td>\n",
       "      <td>Lacerations to poster thigh and buttock</td>\n",
       "      <td>N</td>\n",
       "      <td>NaN</td>\n",
       "      <td>NaN</td>\n",
       "      <td>K. McMurray, TrackingSharks.com</td>\n",
       "      <td>2021.07.25-Brazil.pdf</td>\n",
       "      <td>http://sharkattackfile.net/spreadsheets/pdf_di...</td>\n",
       "      <td>http://sharkattackfile.net/spreadsheets/pdf_di...</td>\n",
       "      <td>2021.07.25</td>\n",
       "      <td>2021.07.25</td>\n",
       "      <td>6674.0</td>\n",
       "    </tr>\n",
       "    <tr>\n",
       "      <th>13</th>\n",
       "      <td>2021.07.10</td>\n",
       "      <td>10-Jul-2021</td>\n",
       "      <td>2021.0</td>\n",
       "      <td>Unprovoked</td>\n",
       "      <td>BRAZIL</td>\n",
       "      <td>Pernambuco</td>\n",
       "      <td>Piedade</td>\n",
       "      <td>Wading</td>\n",
       "      <td>Marcelo Rocha Santos</td>\n",
       "      <td>M</td>\n",
       "      <td>51</td>\n",
       "      <td>FATAL</td>\n",
       "      <td>Y</td>\n",
       "      <td>13h50</td>\n",
       "      <td>NaN</td>\n",
       "      <td>K. McMurray, TrackingSharks.com</td>\n",
       "      <td>2021.07.10-Santos.pdf</td>\n",
       "      <td>http://sharkattackfile.net/spreadsheets/pdf_di...</td>\n",
       "      <td>http://sharkattackfile.net/spreadsheets/pdf_di...</td>\n",
       "      <td>2021.07.10</td>\n",
       "      <td>2021.07.10</td>\n",
       "      <td>6664.0</td>\n",
       "    </tr>\n",
       "    <tr>\n",
       "      <th>65</th>\n",
       "      <td>NaN</td>\n",
       "      <td>13-Jan-2021</td>\n",
       "      <td>2021.0</td>\n",
       "      <td>Unprovoked</td>\n",
       "      <td>BRAZIL</td>\n",
       "      <td>Pernambuco</td>\n",
       "      <td>Cacimba do Padre Beach</td>\n",
       "      <td>Surfing</td>\n",
       "      <td>Sergo Noronha</td>\n",
       "      <td>M</td>\n",
       "      <td>52</td>\n",
       "      <td>Puncture wounds to right hand</td>\n",
       "      <td>N</td>\n",
       "      <td>NaN</td>\n",
       "      <td>NaN</td>\n",
       "      <td>K. McMurray, TrackingSharks.com</td>\n",
       "      <td>2021.01.13.b-Noronha.pdf</td>\n",
       "      <td>http://sharkattackfile.net/spreadsheets/pdf_di...</td>\n",
       "      <td>http://sharkattackfile.net/spreadsheets/pdf_di...</td>\n",
       "      <td>2021.01.13.b</td>\n",
       "      <td>2021.01.13.b</td>\n",
       "      <td>6612.0</td>\n",
       "    </tr>\n",
       "    <tr>\n",
       "      <th>256</th>\n",
       "      <td>2019.05.04</td>\n",
       "      <td>04-May-2019</td>\n",
       "      <td>2019.0</td>\n",
       "      <td>Provoked</td>\n",
       "      <td>BRAZIL</td>\n",
       "      <td>Fernando de Noronha</td>\n",
       "      <td>Praia de Porto</td>\n",
       "      <td>Fishing</td>\n",
       "      <td>male</td>\n",
       "      <td>M</td>\n",
       "      <td>12</td>\n",
       "      <td>Cut to toe from hooked shark PROVOKED INCIDENT</td>\n",
       "      <td>N</td>\n",
       "      <td>NaN</td>\n",
       "      <td>Lemon shark pup</td>\n",
       "      <td>K. McMurray, TrackingSharks.com</td>\n",
       "      <td>2019.05.04-Brazil.pdf</td>\n",
       "      <td>http://sharkattackfile.net/spreadsheets/pdf_di...</td>\n",
       "      <td>http://sharkattackfile.net/spreadsheets/pdf_di...</td>\n",
       "      <td>2019.05.04</td>\n",
       "      <td>2019.05.04</td>\n",
       "      <td>6421.0</td>\n",
       "    </tr>\n",
       "    <tr>\n",
       "      <th>274</th>\n",
       "      <td>2019.02.14</td>\n",
       "      <td>14-Feb-2019</td>\n",
       "      <td>2019.0</td>\n",
       "      <td>Unprovoked</td>\n",
       "      <td>BRAZIL</td>\n",
       "      <td>Fernando de Noronha</td>\n",
       "      <td>Cacimba do Padre</td>\n",
       "      <td>Surfing</td>\n",
       "      <td>Carlos Vinícius de Oliveira</td>\n",
       "      <td>M</td>\n",
       "      <td>31</td>\n",
       "      <td>Minor injury to face</td>\n",
       "      <td>N</td>\n",
       "      <td>17h30</td>\n",
       "      <td>Lemon shark</td>\n",
       "      <td>K. McMurray, TrackingSharks.com</td>\n",
       "      <td>2019.02.14-Oliveira.pdf</td>\n",
       "      <td>http://sharkattackfile.net/spreadsheets/pdf_di...</td>\n",
       "      <td>http://sharkattackfile.net/spreadsheets/pdf_di...</td>\n",
       "      <td>2019.02.14</td>\n",
       "      <td>2019.02.14</td>\n",
       "      <td>6403.0</td>\n",
       "    </tr>\n",
       "    <tr>\n",
       "      <th>...</th>\n",
       "      <td>...</td>\n",
       "      <td>...</td>\n",
       "      <td>...</td>\n",
       "      <td>...</td>\n",
       "      <td>...</td>\n",
       "      <td>...</td>\n",
       "      <td>...</td>\n",
       "      <td>...</td>\n",
       "      <td>...</td>\n",
       "      <td>...</td>\n",
       "      <td>...</td>\n",
       "      <td>...</td>\n",
       "      <td>...</td>\n",
       "      <td>...</td>\n",
       "      <td>...</td>\n",
       "      <td>...</td>\n",
       "      <td>...</td>\n",
       "      <td>...</td>\n",
       "      <td>...</td>\n",
       "      <td>...</td>\n",
       "      <td>...</td>\n",
       "      <td>...</td>\n",
       "    </tr>\n",
       "    <tr>\n",
       "      <th>5491</th>\n",
       "      <td>1927.10.25</td>\n",
       "      <td>25-Oct-1927</td>\n",
       "      <td>1927.0</td>\n",
       "      <td>Sea Disaster</td>\n",
       "      <td>BRAZIL</td>\n",
       "      <td>Porto Seguro</td>\n",
       "      <td>90 miles off Albrohos Island</td>\n",
       "      <td>Italian liner Principessa Mafalda sank</td>\n",
       "      <td>NaN</td>\n",
       "      <td>NaN</td>\n",
       "      <td>NaN</td>\n",
       "      <td>Of 1256 on board, 295 perished, some were take...</td>\n",
       "      <td>Y</td>\n",
       "      <td>12h00</td>\n",
       "      <td>NaN</td>\n",
       "      <td>L. Schultz &amp; M. Malin, p.557; SAF Case #833</td>\n",
       "      <td>1927.10.25-Mafalda.pdf</td>\n",
       "      <td>http://sharkattackfile.net/spreadsheets/pdf_di...</td>\n",
       "      <td>http://sharkattackfile.net/spreadsheets/pdf_di...</td>\n",
       "      <td>1927.10.25</td>\n",
       "      <td>1927.10.25</td>\n",
       "      <td>1186.0</td>\n",
       "    </tr>\n",
       "    <tr>\n",
       "      <th>6116</th>\n",
       "      <td>1887.01.20</td>\n",
       "      <td>20-Jan-1887</td>\n",
       "      <td>1887.0</td>\n",
       "      <td>Sea Disaster</td>\n",
       "      <td>BRAZIL</td>\n",
       "      <td>Alagoas</td>\n",
       "      <td>Maceió</td>\n",
       "      <td>The passenger ship Kapuna was run down the ore...</td>\n",
       "      <td>Whittle</td>\n",
       "      <td>M</td>\n",
       "      <td>NaN</td>\n",
       "      <td>FATAL</td>\n",
       "      <td>Y</td>\n",
       "      <td>03h00</td>\n",
       "      <td>NaN</td>\n",
       "      <td>Brisbane Courier, 4/14/1887</td>\n",
       "      <td>1887.01.20-Whittle.pdf</td>\n",
       "      <td>http://sharkattackfile.net/spreadsheets/pdf_di...</td>\n",
       "      <td>http://sharkattackfile.net/spreadsheets/pdf_di...</td>\n",
       "      <td>1887.01.20</td>\n",
       "      <td>1887.01.20</td>\n",
       "      <td>561.0</td>\n",
       "    </tr>\n",
       "    <tr>\n",
       "      <th>6148</th>\n",
       "      <td>1884.04.38.R</td>\n",
       "      <td>Reported 28-Apr-1884</td>\n",
       "      <td>1884.0</td>\n",
       "      <td>Unprovoked</td>\n",
       "      <td>BRAZIL</td>\n",
       "      <td>NaN</td>\n",
       "      <td>Bahia</td>\n",
       "      <td>Fell overboard from the steamship Chala</td>\n",
       "      <td>male</td>\n",
       "      <td>M</td>\n",
       "      <td>NaN</td>\n",
       "      <td>FATAL</td>\n",
       "      <td>Y</td>\n",
       "      <td>NaN</td>\n",
       "      <td>NaN</td>\n",
       "      <td>Pittsburgh Post Gazette, 4/28/1884</td>\n",
       "      <td>1884.04.28.R-ChalaCook.pdf</td>\n",
       "      <td>http://sharkattackfile.net/spreadsheets/pdf_di...</td>\n",
       "      <td>http://sharkattackfile.net/spreadsheets/pdf_di...</td>\n",
       "      <td>1884.04.28.R</td>\n",
       "      <td>1884.04.38.R</td>\n",
       "      <td>529.0</td>\n",
       "    </tr>\n",
       "    <tr>\n",
       "      <th>6219</th>\n",
       "      <td>1878.02.02</td>\n",
       "      <td>02-Feb-1878</td>\n",
       "      <td>1878.0</td>\n",
       "      <td>Sea Disaster</td>\n",
       "      <td>BRAZIL</td>\n",
       "      <td>NaN</td>\n",
       "      <td>NaN</td>\n",
       "      <td>Washed off raft</td>\n",
       "      <td>escaped convict</td>\n",
       "      <td>M</td>\n",
       "      <td>NaN</td>\n",
       "      <td>FATAL</td>\n",
       "      <td>Y</td>\n",
       "      <td>NaN</td>\n",
       "      <td>NaN</td>\n",
       "      <td>St Louis Post Dispatch, 5/22/1878</td>\n",
       "      <td>1878.02.02-Brazil.pdf</td>\n",
       "      <td>http://sharkattackfile.net/spreadsheets/pdf_di...</td>\n",
       "      <td>http://sharkattackfile.net/spreadsheets/pdf_di...</td>\n",
       "      <td>1878.02.02</td>\n",
       "      <td>1878.02.02</td>\n",
       "      <td>458.0</td>\n",
       "    </tr>\n",
       "    <tr>\n",
       "      <th>6472</th>\n",
       "      <td>1826.12.00</td>\n",
       "      <td>Dec-1826</td>\n",
       "      <td>1826.0</td>\n",
       "      <td>Unprovoked</td>\n",
       "      <td>BRAZIL</td>\n",
       "      <td>Paraiba</td>\n",
       "      <td>Paraiba</td>\n",
       "      <td>NaN</td>\n",
       "      <td>a seaman from the ship Beverly</td>\n",
       "      <td>M</td>\n",
       "      <td>NaN</td>\n",
       "      <td>Leg severed</td>\n",
       "      <td>N</td>\n",
       "      <td>NaN</td>\n",
       "      <td>NaN</td>\n",
       "      <td>Book of the Ocean</td>\n",
       "      <td>1826.12.00-seaman-Beverly.pdf</td>\n",
       "      <td>http://sharkattackfile.net/spreadsheets/pdf_di...</td>\n",
       "      <td>http://sharkattackfile.net/spreadsheets/pdf_di...</td>\n",
       "      <td>1826.12.00</td>\n",
       "      <td>1826.12.00</td>\n",
       "      <td>205.0</td>\n",
       "    </tr>\n",
       "  </tbody>\n",
       "</table>\n",
       "<p>117 rows × 22 columns</p>\n",
       "</div>"
      ],
      "text/plain": [
       "       case_number                  date    year          type country  \\\n",
       "3       2021.07.25           25-Jul-2021  2021.0    Unprovoked  BRAZIL   \n",
       "13      2021.07.10           10-Jul-2021  2021.0    Unprovoked  BRAZIL   \n",
       "65             NaN           13-Jan-2021  2021.0    Unprovoked  BRAZIL   \n",
       "256     2019.05.04           04-May-2019  2019.0      Provoked  BRAZIL   \n",
       "274     2019.02.14           14-Feb-2019  2019.0    Unprovoked  BRAZIL   \n",
       "...            ...                   ...     ...           ...     ...   \n",
       "5491    1927.10.25           25-Oct-1927  1927.0  Sea Disaster  BRAZIL   \n",
       "6116    1887.01.20           20-Jan-1887  1887.0  Sea Disaster  BRAZIL   \n",
       "6148  1884.04.38.R  Reported 28-Apr-1884  1884.0    Unprovoked  BRAZIL   \n",
       "6219    1878.02.02           02-Feb-1878  1878.0  Sea Disaster  BRAZIL   \n",
       "6472    1826.12.00              Dec-1826  1826.0    Unprovoked  BRAZIL   \n",
       "\n",
       "                     area                      location  \\\n",
       "3              Pernambuco                       Piedade   \n",
       "13             Pernambuco                       Piedade   \n",
       "65             Pernambuco        Cacimba do Padre Beach   \n",
       "256   Fernando de Noronha                Praia de Porto   \n",
       "274   Fernando de Noronha              Cacimba do Padre   \n",
       "...                   ...                           ...   \n",
       "5491         Porto Seguro  90 miles off Albrohos Island   \n",
       "6116              Alagoas                        Maceió   \n",
       "6148                  NaN                         Bahia   \n",
       "6219                  NaN                           NaN   \n",
       "6472              Paraiba                       Paraiba   \n",
       "\n",
       "                                               activity  \\\n",
       "3                                Squatting in the water   \n",
       "13                                               Wading   \n",
       "65                                              Surfing   \n",
       "256                                             Fishing   \n",
       "274                                             Surfing   \n",
       "...                                                 ...   \n",
       "5491             Italian liner Principessa Mafalda sank   \n",
       "6116  The passenger ship Kapuna was run down the ore...   \n",
       "6148            Fell overboard from the steamship Chala   \n",
       "6219                                    Washed off raft   \n",
       "6472                                                NaN   \n",
       "\n",
       "                                name sex_  age  \\\n",
       "3        Everton dos Reis Guimarães     M   32   \n",
       "13              Marcelo Rocha Santos    M   51   \n",
       "65                     Sergo Noronha    M   52   \n",
       "256                             male    M   12   \n",
       "274      Carlos Vinícius de Oliveira    M   31   \n",
       "...                              ...  ...  ...   \n",
       "5491                             NaN  NaN  NaN   \n",
       "6116                         Whittle    M  NaN   \n",
       "6148                            male    M  NaN   \n",
       "6219                 escaped convict    M  NaN   \n",
       "6472  a seaman from the ship Beverly    M  NaN   \n",
       "\n",
       "                                                 injury fatal_(y_n)   time  \\\n",
       "3               Lacerations to poster thigh and buttock           N    NaN   \n",
       "13                                                FATAL           Y  13h50   \n",
       "65                        Puncture wounds to right hand           N    NaN   \n",
       "256      Cut to toe from hooked shark PROVOKED INCIDENT           N    NaN   \n",
       "274                                Minor injury to face           N  17h30   \n",
       "...                                                 ...         ...    ...   \n",
       "5491  Of 1256 on board, 295 perished, some were take...           Y  12h00   \n",
       "6116                                              FATAL           Y  03h00   \n",
       "6148                                              FATAL           Y    NaN   \n",
       "6219                                              FATAL           Y    NaN   \n",
       "6472                                        Leg severed           N    NaN   \n",
       "\n",
       "             species_                       investigator_or_source  \\\n",
       "3                 NaN              K. McMurray, TrackingSharks.com   \n",
       "13                NaN              K. McMurray, TrackingSharks.com   \n",
       "65                NaN              K. McMurray, TrackingSharks.com   \n",
       "256   Lemon shark pup              K. McMurray, TrackingSharks.com   \n",
       "274       Lemon shark              K. McMurray, TrackingSharks.com   \n",
       "...               ...                                          ...   \n",
       "5491              NaN  L. Schultz & M. Malin, p.557; SAF Case #833   \n",
       "6116              NaN                  Brisbane Courier, 4/14/1887   \n",
       "6148              NaN           Pittsburgh Post Gazette, 4/28/1884   \n",
       "6219              NaN            St Louis Post Dispatch, 5/22/1878   \n",
       "6472              NaN                            Book of the Ocean   \n",
       "\n",
       "                                pdf  \\\n",
       "3             2021.07.25-Brazil.pdf   \n",
       "13            2021.07.10-Santos.pdf   \n",
       "65         2021.01.13.b-Noronha.pdf   \n",
       "256           2019.05.04-Brazil.pdf   \n",
       "274         2019.02.14-Oliveira.pdf   \n",
       "...                             ...   \n",
       "5491         1927.10.25-Mafalda.pdf   \n",
       "6116         1887.01.20-Whittle.pdf   \n",
       "6148     1884.04.28.R-ChalaCook.pdf   \n",
       "6219          1878.02.02-Brazil.pdf   \n",
       "6472  1826.12.00-seaman-Beverly.pdf   \n",
       "\n",
       "                                           href_formula  \\\n",
       "3     http://sharkattackfile.net/spreadsheets/pdf_di...   \n",
       "13    http://sharkattackfile.net/spreadsheets/pdf_di...   \n",
       "65    http://sharkattackfile.net/spreadsheets/pdf_di...   \n",
       "256   http://sharkattackfile.net/spreadsheets/pdf_di...   \n",
       "274   http://sharkattackfile.net/spreadsheets/pdf_di...   \n",
       "...                                                 ...   \n",
       "5491  http://sharkattackfile.net/spreadsheets/pdf_di...   \n",
       "6116  http://sharkattackfile.net/spreadsheets/pdf_di...   \n",
       "6148  http://sharkattackfile.net/spreadsheets/pdf_di...   \n",
       "6219  http://sharkattackfile.net/spreadsheets/pdf_di...   \n",
       "6472  http://sharkattackfile.net/spreadsheets/pdf_di...   \n",
       "\n",
       "                                                   href case_number.1  \\\n",
       "3     http://sharkattackfile.net/spreadsheets/pdf_di...    2021.07.25   \n",
       "13    http://sharkattackfile.net/spreadsheets/pdf_di...    2021.07.10   \n",
       "65    http://sharkattackfile.net/spreadsheets/pdf_di...  2021.01.13.b   \n",
       "256   http://sharkattackfile.net/spreadsheets/pdf_di...    2019.05.04   \n",
       "274   http://sharkattackfile.net/spreadsheets/pdf_di...    2019.02.14   \n",
       "...                                                 ...           ...   \n",
       "5491  http://sharkattackfile.net/spreadsheets/pdf_di...    1927.10.25   \n",
       "6116  http://sharkattackfile.net/spreadsheets/pdf_di...    1887.01.20   \n",
       "6148  http://sharkattackfile.net/spreadsheets/pdf_di...  1884.04.28.R   \n",
       "6219  http://sharkattackfile.net/spreadsheets/pdf_di...    1878.02.02   \n",
       "6472  http://sharkattackfile.net/spreadsheets/pdf_di...    1826.12.00   \n",
       "\n",
       "     case_number.2  original_order  \n",
       "3       2021.07.25          6674.0  \n",
       "13      2021.07.10          6664.0  \n",
       "65    2021.01.13.b          6612.0  \n",
       "256     2019.05.04          6421.0  \n",
       "274     2019.02.14          6403.0  \n",
       "...            ...             ...  \n",
       "5491    1927.10.25          1186.0  \n",
       "6116    1887.01.20           561.0  \n",
       "6148  1884.04.38.R           529.0  \n",
       "6219    1878.02.02           458.0  \n",
       "6472    1826.12.00           205.0  \n",
       "\n",
       "[117 rows x 22 columns]"
      ]
     },
     "execution_count": 28,
     "metadata": {},
     "output_type": "execute_result"
    }
   ],
   "source": [
    "df_brazil"
   ]
  },
  {
   "cell_type": "markdown",
   "id": "dd7b5268",
   "metadata": {},
   "source": [
    "### Com a visão abaixo, decide-se focar apenas em Pernambuco"
   ]
  },
  {
   "cell_type": "code",
   "execution_count": 29,
   "id": "a6c5113f",
   "metadata": {},
   "outputs": [
    {
     "data": {
      "text/plain": [
       "Pernambuco              77\n",
       "Rio de Janeiro          11\n",
       "Maranhão                 5\n",
       "Bahia                    3\n",
       "Fernando de Noronha      3\n",
       "Alagoas                  2\n",
       "Rio Grande de Norte      2\n",
       "Porto Seguro             1\n",
       "Balneário Camboriú       1\n",
       "Rio Grande Do Sul        1\n",
       "Santa Catarina State     1\n",
       "Boi Island, Victoria     1\n",
       "Paraiba                  1\n",
       "Name: area, dtype: int64"
      ]
     },
     "execution_count": 29,
     "metadata": {},
     "output_type": "execute_result"
    }
   ],
   "source": [
    "df_brazil.area.value_counts()"
   ]
  },
  {
   "cell_type": "markdown",
   "id": "74e9b5df",
   "metadata": {},
   "source": [
    "### Análise focada em \"Pernambuco\""
   ]
  },
  {
   "cell_type": "code",
   "execution_count": 30,
   "id": "6e4f2a76",
   "metadata": {},
   "outputs": [],
   "source": [
    "df_pernambuco = df_excel[df_excel.area=='Pernambuco']"
   ]
  },
  {
   "cell_type": "markdown",
   "id": "aeb953af",
   "metadata": {},
   "source": [
    "#### Visão geral"
   ]
  },
  {
   "cell_type": "code",
   "execution_count": 31,
   "id": "91e34980",
   "metadata": {},
   "outputs": [
    {
     "data": {
      "text/html": [
       "<div>\n",
       "<style scoped>\n",
       "    .dataframe tbody tr th:only-of-type {\n",
       "        vertical-align: middle;\n",
       "    }\n",
       "\n",
       "    .dataframe tbody tr th {\n",
       "        vertical-align: top;\n",
       "    }\n",
       "\n",
       "    .dataframe thead th {\n",
       "        text-align: right;\n",
       "    }\n",
       "</style>\n",
       "<table border=\"1\" class=\"dataframe\">\n",
       "  <thead>\n",
       "    <tr style=\"text-align: right;\">\n",
       "      <th></th>\n",
       "      <th>case_number</th>\n",
       "      <th>date</th>\n",
       "      <th>year</th>\n",
       "      <th>type</th>\n",
       "      <th>country</th>\n",
       "      <th>area</th>\n",
       "      <th>location</th>\n",
       "      <th>activity</th>\n",
       "      <th>name</th>\n",
       "      <th>sex_</th>\n",
       "      <th>age</th>\n",
       "      <th>injury</th>\n",
       "      <th>fatal_(y_n)</th>\n",
       "      <th>time</th>\n",
       "      <th>species_</th>\n",
       "      <th>investigator_or_source</th>\n",
       "      <th>pdf</th>\n",
       "      <th>href_formula</th>\n",
       "      <th>href</th>\n",
       "      <th>case_number.1</th>\n",
       "      <th>case_number.2</th>\n",
       "      <th>original_order</th>\n",
       "    </tr>\n",
       "  </thead>\n",
       "  <tbody>\n",
       "    <tr>\n",
       "      <th>3</th>\n",
       "      <td>2021.07.25</td>\n",
       "      <td>25-Jul-2021</td>\n",
       "      <td>2021.0</td>\n",
       "      <td>Unprovoked</td>\n",
       "      <td>BRAZIL</td>\n",
       "      <td>Pernambuco</td>\n",
       "      <td>Piedade</td>\n",
       "      <td>Squatting in the water</td>\n",
       "      <td>Everton dos Reis Guimarães</td>\n",
       "      <td>M</td>\n",
       "      <td>32</td>\n",
       "      <td>Lacerations to poster thigh and buttock</td>\n",
       "      <td>N</td>\n",
       "      <td>NaN</td>\n",
       "      <td>NaN</td>\n",
       "      <td>K. McMurray, TrackingSharks.com</td>\n",
       "      <td>2021.07.25-Brazil.pdf</td>\n",
       "      <td>http://sharkattackfile.net/spreadsheets/pdf_di...</td>\n",
       "      <td>http://sharkattackfile.net/spreadsheets/pdf_di...</td>\n",
       "      <td>2021.07.25</td>\n",
       "      <td>2021.07.25</td>\n",
       "      <td>6674.0</td>\n",
       "    </tr>\n",
       "    <tr>\n",
       "      <th>13</th>\n",
       "      <td>2021.07.10</td>\n",
       "      <td>10-Jul-2021</td>\n",
       "      <td>2021.0</td>\n",
       "      <td>Unprovoked</td>\n",
       "      <td>BRAZIL</td>\n",
       "      <td>Pernambuco</td>\n",
       "      <td>Piedade</td>\n",
       "      <td>Wading</td>\n",
       "      <td>Marcelo Rocha Santos</td>\n",
       "      <td>M</td>\n",
       "      <td>51</td>\n",
       "      <td>FATAL</td>\n",
       "      <td>Y</td>\n",
       "      <td>13h50</td>\n",
       "      <td>NaN</td>\n",
       "      <td>K. McMurray, TrackingSharks.com</td>\n",
       "      <td>2021.07.10-Santos.pdf</td>\n",
       "      <td>http://sharkattackfile.net/spreadsheets/pdf_di...</td>\n",
       "      <td>http://sharkattackfile.net/spreadsheets/pdf_di...</td>\n",
       "      <td>2021.07.10</td>\n",
       "      <td>2021.07.10</td>\n",
       "      <td>6664.0</td>\n",
       "    </tr>\n",
       "    <tr>\n",
       "      <th>65</th>\n",
       "      <td>NaN</td>\n",
       "      <td>13-Jan-2021</td>\n",
       "      <td>2021.0</td>\n",
       "      <td>Unprovoked</td>\n",
       "      <td>BRAZIL</td>\n",
       "      <td>Pernambuco</td>\n",
       "      <td>Cacimba do Padre Beach</td>\n",
       "      <td>Surfing</td>\n",
       "      <td>Sergo Noronha</td>\n",
       "      <td>M</td>\n",
       "      <td>52</td>\n",
       "      <td>Puncture wounds to right hand</td>\n",
       "      <td>N</td>\n",
       "      <td>NaN</td>\n",
       "      <td>NaN</td>\n",
       "      <td>K. McMurray, TrackingSharks.com</td>\n",
       "      <td>2021.01.13.b-Noronha.pdf</td>\n",
       "      <td>http://sharkattackfile.net/spreadsheets/pdf_di...</td>\n",
       "      <td>http://sharkattackfile.net/spreadsheets/pdf_di...</td>\n",
       "      <td>2021.01.13.b</td>\n",
       "      <td>2021.01.13.b</td>\n",
       "      <td>6612.0</td>\n",
       "    </tr>\n",
       "    <tr>\n",
       "      <th>357</th>\n",
       "      <td>2018.06.03.a</td>\n",
       "      <td>03-Jun-2018</td>\n",
       "      <td>2018.0</td>\n",
       "      <td>Unprovoked</td>\n",
       "      <td>BRAZIL</td>\n",
       "      <td>Pernambuco</td>\n",
       "      <td>Piedade Beach, Recife</td>\n",
       "      <td>Swimming</td>\n",
       "      <td>Jose Ernesto da Silva</td>\n",
       "      <td>M</td>\n",
       "      <td>18</td>\n",
       "      <td>FATAL</td>\n",
       "      <td>Y</td>\n",
       "      <td>Late afternoon</td>\n",
       "      <td>Tiger shark</td>\n",
       "      <td>Diario de Pernambuco, 6/4/2018</td>\n",
       "      <td>2018.06.03.a-daSilva.pdf</td>\n",
       "      <td>http://sharkattackfile.net/spreadsheets/pdf_di...</td>\n",
       "      <td>http://sharkattackfile.net/spreadsheets/pdf_di...</td>\n",
       "      <td>2018.06.03.a</td>\n",
       "      <td>2018.06.03.a</td>\n",
       "      <td>6320.0</td>\n",
       "    </tr>\n",
       "    <tr>\n",
       "      <th>380</th>\n",
       "      <td>2018.04.15.c</td>\n",
       "      <td>15-Apr-2018</td>\n",
       "      <td>2018.0</td>\n",
       "      <td>Unprovoked</td>\n",
       "      <td>BRAZIL</td>\n",
       "      <td>Pernambuco</td>\n",
       "      <td>Piedade</td>\n",
       "      <td>Swimming</td>\n",
       "      <td>Pablo de Melo</td>\n",
       "      <td>M</td>\n",
       "      <td>34</td>\n",
       "      <td>Multiple severe injuries to arms and leg, leg ...</td>\n",
       "      <td>NaN</td>\n",
       "      <td>NaN</td>\n",
       "      <td>NaN</td>\n",
       "      <td>Globo, 4/16/2018</td>\n",
       "      <td>2018.04.15.c-deMelo.pdf</td>\n",
       "      <td>http://sharkattackfile.net/spreadsheets/pdf_di...</td>\n",
       "      <td>http://sharkattackfile.net/spreadsheets/pdf_di...</td>\n",
       "      <td>2018.04.15.c</td>\n",
       "      <td>2018.04.15.c</td>\n",
       "      <td>6297.0</td>\n",
       "    </tr>\n",
       "    <tr>\n",
       "      <th>...</th>\n",
       "      <td>...</td>\n",
       "      <td>...</td>\n",
       "      <td>...</td>\n",
       "      <td>...</td>\n",
       "      <td>...</td>\n",
       "      <td>...</td>\n",
       "      <td>...</td>\n",
       "      <td>...</td>\n",
       "      <td>...</td>\n",
       "      <td>...</td>\n",
       "      <td>...</td>\n",
       "      <td>...</td>\n",
       "      <td>...</td>\n",
       "      <td>...</td>\n",
       "      <td>...</td>\n",
       "      <td>...</td>\n",
       "      <td>...</td>\n",
       "      <td>...</td>\n",
       "      <td>...</td>\n",
       "      <td>...</td>\n",
       "      <td>...</td>\n",
       "      <td>...</td>\n",
       "    </tr>\n",
       "    <tr>\n",
       "      <th>2893</th>\n",
       "      <td>1992.09.10</td>\n",
       "      <td>10-Sep-1992</td>\n",
       "      <td>1992.0</td>\n",
       "      <td>Unprovoked</td>\n",
       "      <td>BRAZIL</td>\n",
       "      <td>Pernambuco</td>\n",
       "      <td>Boa Viagem, Recife</td>\n",
       "      <td>Swimming</td>\n",
       "      <td>Enoque Pereira dos Santos</td>\n",
       "      <td>M</td>\n",
       "      <td>NaN</td>\n",
       "      <td>FATAL</td>\n",
       "      <td>Y</td>\n",
       "      <td>NaN</td>\n",
       "      <td>NaN</td>\n",
       "      <td>D. Duarte</td>\n",
       "      <td>1992.09.10-BoaViagem.pdf</td>\n",
       "      <td>http://sharkattackfile.net/spreadsheets/pdf_di...</td>\n",
       "      <td>http://sharkattackfile.net/spreadsheets/pdf_di...</td>\n",
       "      <td>1992.09.10</td>\n",
       "      <td>1992.09.10</td>\n",
       "      <td>3784.0</td>\n",
       "    </tr>\n",
       "    <tr>\n",
       "      <th>2905</th>\n",
       "      <td>1992.06.28.b</td>\n",
       "      <td>28-Jun-1992</td>\n",
       "      <td>1992.0</td>\n",
       "      <td>Unprovoked</td>\n",
       "      <td>BRAZIL</td>\n",
       "      <td>Pernambuco</td>\n",
       "      <td>Piedade</td>\n",
       "      <td>Swimming</td>\n",
       "      <td>Ubiratan Martins Gomes</td>\n",
       "      <td>M</td>\n",
       "      <td>NaN</td>\n",
       "      <td>FATAL</td>\n",
       "      <td>Y</td>\n",
       "      <td>NaN</td>\n",
       "      <td>NaN</td>\n",
       "      <td>D .Duarte</td>\n",
       "      <td>1992.06.28.b-Piedade-Brazil.pdf</td>\n",
       "      <td>http://sharkattackfile.net/spreadsheets/pdf_di...</td>\n",
       "      <td>http://sharkattackfile.net/spreadsheets/pdf_di...</td>\n",
       "      <td>1992.06.28.b</td>\n",
       "      <td>1992.06.28.b</td>\n",
       "      <td>3772.0</td>\n",
       "    </tr>\n",
       "    <tr>\n",
       "      <th>2960</th>\n",
       "      <td>1991.04.24</td>\n",
       "      <td>24-Apr-1991</td>\n",
       "      <td>1991.0</td>\n",
       "      <td>Provoked</td>\n",
       "      <td>BRAZIL</td>\n",
       "      <td>Pernambuco</td>\n",
       "      <td>Praia de Pau Amarelo, Recife</td>\n",
       "      <td>Fishing</td>\n",
       "      <td>L.F.</td>\n",
       "      <td>NaN</td>\n",
       "      <td>NaN</td>\n",
       "      <td>2 fingers severed by netted shark PROVOKED INC...</td>\n",
       "      <td>N</td>\n",
       "      <td>Afternoon</td>\n",
       "      <td>170-kg, 2.8 m shark</td>\n",
       "      <td>M. Szpilman</td>\n",
       "      <td>1991.04.24-PauAmarelo.pdf</td>\n",
       "      <td>http://sharkattackfile.net/spreadsheets/pdf_di...</td>\n",
       "      <td>http://sharkattackfile.net/spreadsheets/pdf_di...</td>\n",
       "      <td>1991.04.24</td>\n",
       "      <td>1991.04.24</td>\n",
       "      <td>3717.0</td>\n",
       "    </tr>\n",
       "    <tr>\n",
       "      <th>3415</th>\n",
       "      <td>1980.11.11.</td>\n",
       "      <td>11-Nov-1980</td>\n",
       "      <td>1980.0</td>\n",
       "      <td>Unprovoked</td>\n",
       "      <td>BRAZIL</td>\n",
       "      <td>Pernambuco</td>\n",
       "      <td>Piedade</td>\n",
       "      <td>Swimming</td>\n",
       "      <td>Ibson Gomes  Vieira</td>\n",
       "      <td>M</td>\n",
       "      <td>16</td>\n",
       "      <td>FATAL</td>\n",
       "      <td>Y</td>\n",
       "      <td>NaN</td>\n",
       "      <td>NaN</td>\n",
       "      <td>JC Online, 6/25/2012</td>\n",
       "      <td>1980.11.11-Vieira.pdf</td>\n",
       "      <td>http://sharkattackfile.net/spreadsheets/pdf_di...</td>\n",
       "      <td>http://sharkattackfile.net/spreadsheets/pdf_di...</td>\n",
       "      <td>1980.11.11.</td>\n",
       "      <td>1980.11.11.</td>\n",
       "      <td>3262.0</td>\n",
       "    </tr>\n",
       "    <tr>\n",
       "      <th>4938</th>\n",
       "      <td>1947.10.10</td>\n",
       "      <td>10-Oct-1947</td>\n",
       "      <td>1947.0</td>\n",
       "      <td>Unprovoked</td>\n",
       "      <td>BRAZIL</td>\n",
       "      <td>Pernambuco</td>\n",
       "      <td>Piedade</td>\n",
       "      <td>Swimming</td>\n",
       "      <td>Father Serafin de Oliveira</td>\n",
       "      <td>M</td>\n",
       "      <td>25</td>\n",
       "      <td>FATAL</td>\n",
       "      <td>Y</td>\n",
       "      <td>NaN</td>\n",
       "      <td>NaN</td>\n",
       "      <td>JC Online, 6/25/2012</td>\n",
       "      <td>1947.10.10-Serafim.pdf</td>\n",
       "      <td>http://sharkattackfile.net/spreadsheets/pdf_di...</td>\n",
       "      <td>http://sharkattackfile.net/spreadsheets/pdf_di...</td>\n",
       "      <td>1947.10.10</td>\n",
       "      <td>1947.10.10</td>\n",
       "      <td>1739.0</td>\n",
       "    </tr>\n",
       "  </tbody>\n",
       "</table>\n",
       "<p>77 rows × 22 columns</p>\n",
       "</div>"
      ],
      "text/plain": [
       "       case_number         date    year        type country        area  \\\n",
       "3       2021.07.25  25-Jul-2021  2021.0  Unprovoked  BRAZIL  Pernambuco   \n",
       "13      2021.07.10  10-Jul-2021  2021.0  Unprovoked  BRAZIL  Pernambuco   \n",
       "65             NaN  13-Jan-2021  2021.0  Unprovoked  BRAZIL  Pernambuco   \n",
       "357   2018.06.03.a  03-Jun-2018  2018.0  Unprovoked  BRAZIL  Pernambuco   \n",
       "380   2018.04.15.c  15-Apr-2018  2018.0  Unprovoked  BRAZIL  Pernambuco   \n",
       "...            ...          ...     ...         ...     ...         ...   \n",
       "2893    1992.09.10  10-Sep-1992  1992.0  Unprovoked  BRAZIL  Pernambuco   \n",
       "2905  1992.06.28.b  28-Jun-1992  1992.0  Unprovoked  BRAZIL  Pernambuco   \n",
       "2960    1991.04.24  24-Apr-1991  1991.0    Provoked  BRAZIL  Pernambuco   \n",
       "3415   1980.11.11.  11-Nov-1980  1980.0  Unprovoked  BRAZIL  Pernambuco   \n",
       "4938    1947.10.10  10-Oct-1947  1947.0  Unprovoked  BRAZIL  Pernambuco   \n",
       "\n",
       "                          location                activity  \\\n",
       "3                          Piedade  Squatting in the water   \n",
       "13                         Piedade                  Wading   \n",
       "65          Cacimba do Padre Beach                 Surfing   \n",
       "357          Piedade Beach, Recife                Swimming   \n",
       "380                        Piedade                Swimming   \n",
       "...                            ...                     ...   \n",
       "2893            Boa Viagem, Recife                Swimming   \n",
       "2905                       Piedade                Swimming   \n",
       "2960  Praia de Pau Amarelo, Recife                 Fishing   \n",
       "3415                       Piedade                Swimming   \n",
       "4938                       Piedade               Swimming    \n",
       "\n",
       "                             name sex_  age  \\\n",
       "3     Everton dos Reis Guimarães     M   32   \n",
       "13           Marcelo Rocha Santos    M   51   \n",
       "65                  Sergo Noronha    M   52   \n",
       "357        Jose Ernesto da Silva     M   18   \n",
       "380                 Pablo de Melo    M   34   \n",
       "...                           ...  ...  ...   \n",
       "2893    Enoque Pereira dos Santos    M  NaN   \n",
       "2905       Ubiratan Martins Gomes    M  NaN   \n",
       "2960                         L.F.  NaN  NaN   \n",
       "3415         Ibson Gomes  Vieira     M   16   \n",
       "4938   Father Serafin de Oliveira    M   25   \n",
       "\n",
       "                                                 injury fatal_(y_n)  \\\n",
       "3               Lacerations to poster thigh and buttock           N   \n",
       "13                                                FATAL           Y   \n",
       "65                        Puncture wounds to right hand           N   \n",
       "357                                               FATAL           Y   \n",
       "380   Multiple severe injuries to arms and leg, leg ...         NaN   \n",
       "...                                                 ...         ...   \n",
       "2893                                              FATAL           Y   \n",
       "2905                                              FATAL           Y   \n",
       "2960  2 fingers severed by netted shark PROVOKED INC...           N   \n",
       "3415                                              FATAL           Y   \n",
       "4938                                              FATAL           Y   \n",
       "\n",
       "                time             species_           investigator_or_source  \\\n",
       "3                NaN                  NaN  K. McMurray, TrackingSharks.com   \n",
       "13             13h50                  NaN  K. McMurray, TrackingSharks.com   \n",
       "65               NaN                  NaN  K. McMurray, TrackingSharks.com   \n",
       "357   Late afternoon          Tiger shark   Diario de Pernambuco, 6/4/2018   \n",
       "380              NaN                  NaN                 Globo, 4/16/2018   \n",
       "...              ...                  ...                              ...   \n",
       "2893             NaN                  NaN                        D. Duarte   \n",
       "2905             NaN                  NaN                        D .Duarte   \n",
       "2960       Afternoon  170-kg, 2.8 m shark                      M. Szpilman   \n",
       "3415             NaN                  NaN             JC Online, 6/25/2012   \n",
       "4938             NaN                  NaN             JC Online, 6/25/2012   \n",
       "\n",
       "                                  pdf  \\\n",
       "3               2021.07.25-Brazil.pdf   \n",
       "13              2021.07.10-Santos.pdf   \n",
       "65           2021.01.13.b-Noronha.pdf   \n",
       "357          2018.06.03.a-daSilva.pdf   \n",
       "380           2018.04.15.c-deMelo.pdf   \n",
       "...                               ...   \n",
       "2893         1992.09.10-BoaViagem.pdf   \n",
       "2905  1992.06.28.b-Piedade-Brazil.pdf   \n",
       "2960        1991.04.24-PauAmarelo.pdf   \n",
       "3415            1980.11.11-Vieira.pdf   \n",
       "4938           1947.10.10-Serafim.pdf   \n",
       "\n",
       "                                           href_formula  \\\n",
       "3     http://sharkattackfile.net/spreadsheets/pdf_di...   \n",
       "13    http://sharkattackfile.net/spreadsheets/pdf_di...   \n",
       "65    http://sharkattackfile.net/spreadsheets/pdf_di...   \n",
       "357   http://sharkattackfile.net/spreadsheets/pdf_di...   \n",
       "380   http://sharkattackfile.net/spreadsheets/pdf_di...   \n",
       "...                                                 ...   \n",
       "2893  http://sharkattackfile.net/spreadsheets/pdf_di...   \n",
       "2905  http://sharkattackfile.net/spreadsheets/pdf_di...   \n",
       "2960  http://sharkattackfile.net/spreadsheets/pdf_di...   \n",
       "3415  http://sharkattackfile.net/spreadsheets/pdf_di...   \n",
       "4938  http://sharkattackfile.net/spreadsheets/pdf_di...   \n",
       "\n",
       "                                                   href case_number.1  \\\n",
       "3     http://sharkattackfile.net/spreadsheets/pdf_di...    2021.07.25   \n",
       "13    http://sharkattackfile.net/spreadsheets/pdf_di...    2021.07.10   \n",
       "65    http://sharkattackfile.net/spreadsheets/pdf_di...  2021.01.13.b   \n",
       "357   http://sharkattackfile.net/spreadsheets/pdf_di...  2018.06.03.a   \n",
       "380   http://sharkattackfile.net/spreadsheets/pdf_di...  2018.04.15.c   \n",
       "...                                                 ...           ...   \n",
       "2893  http://sharkattackfile.net/spreadsheets/pdf_di...    1992.09.10   \n",
       "2905  http://sharkattackfile.net/spreadsheets/pdf_di...  1992.06.28.b   \n",
       "2960  http://sharkattackfile.net/spreadsheets/pdf_di...    1991.04.24   \n",
       "3415  http://sharkattackfile.net/spreadsheets/pdf_di...   1980.11.11.   \n",
       "4938  http://sharkattackfile.net/spreadsheets/pdf_di...    1947.10.10   \n",
       "\n",
       "     case_number.2  original_order  \n",
       "3       2021.07.25          6674.0  \n",
       "13      2021.07.10          6664.0  \n",
       "65    2021.01.13.b          6612.0  \n",
       "357   2018.06.03.a          6320.0  \n",
       "380   2018.04.15.c          6297.0  \n",
       "...            ...             ...  \n",
       "2893    1992.09.10          3784.0  \n",
       "2905  1992.06.28.b          3772.0  \n",
       "2960    1991.04.24          3717.0  \n",
       "3415   1980.11.11.          3262.0  \n",
       "4938    1947.10.10          1739.0  \n",
       "\n",
       "[77 rows x 22 columns]"
      ]
     },
     "execution_count": 31,
     "metadata": {},
     "output_type": "execute_result"
    }
   ],
   "source": [
    "df_pernambuco"
   ]
  },
  {
   "cell_type": "code",
   "execution_count": 32,
   "id": "47e5b45c",
   "metadata": {},
   "outputs": [
    {
     "data": {
      "text/plain": [
       "77"
      ]
     },
     "execution_count": 32,
     "metadata": {},
     "output_type": "execute_result"
    }
   ],
   "source": [
    "len(df_pernambuco)"
   ]
  },
  {
   "cell_type": "markdown",
   "id": "e32e4099",
   "metadata": {},
   "source": [
    "#### Visão de todas as colunas"
   ]
  },
  {
   "cell_type": "code",
   "execution_count": 33,
   "id": "808baf2e",
   "metadata": {},
   "outputs": [
    {
     "data": {
      "text/plain": [
       "Index(['case_number', 'date', 'year', 'type', 'country', 'area', 'location',\n",
       "       'activity', 'name', 'sex_', 'age', 'injury', 'fatal_(y_n)', 'time',\n",
       "       'species_', 'investigator_or_source', 'pdf', 'href_formula', 'href',\n",
       "       'case_number.1', 'case_number.2', 'original_order'],\n",
       "      dtype='object')"
      ]
     },
     "execution_count": 33,
     "metadata": {},
     "output_type": "execute_result"
    }
   ],
   "source": [
    "df_pernambuco.columns"
   ]
  },
  {
   "cell_type": "markdown",
   "id": "f55d776d",
   "metadata": {},
   "source": [
    "#### Análise dos valores \"nulos\" "
   ]
  },
  {
   "cell_type": "code",
   "execution_count": 34,
   "id": "85c08bb9",
   "metadata": {},
   "outputs": [
    {
     "data": {
      "text/plain": [
       "False    1.0\n",
       "Name: area, dtype: float64"
      ]
     },
     "execution_count": 34,
     "metadata": {},
     "output_type": "execute_result"
    }
   ],
   "source": [
    "df_pernambuco.area.isnull().value_counts(normalize=True)"
   ]
  },
  {
   "cell_type": "code",
   "execution_count": 35,
   "id": "642be17b",
   "metadata": {},
   "outputs": [
    {
     "data": {
      "text/plain": [
       "False    1.0\n",
       "Name: country, dtype: float64"
      ]
     },
     "execution_count": 35,
     "metadata": {},
     "output_type": "execute_result"
    }
   ],
   "source": [
    "df_brazil.country.isnull().value_counts(normalize=True)"
   ]
  },
  {
   "cell_type": "code",
   "execution_count": 36,
   "id": "a19cb086",
   "metadata": {},
   "outputs": [
    {
     "data": {
      "text/plain": [
       "case_number                1\n",
       "date                       0\n",
       "year                       0\n",
       "type                       0\n",
       "country                    0\n",
       "area                       8\n",
       "location                   5\n",
       "activity                   9\n",
       "name                       5\n",
       "sex_                      14\n",
       "age                       48\n",
       "injury                     2\n",
       "fatal_(y_n)                8\n",
       "time                      72\n",
       "species_                  77\n",
       "investigator_or_source     0\n",
       "pdf                        0\n",
       "href_formula               0\n",
       "href                       0\n",
       "case_number.1              0\n",
       "case_number.2              0\n",
       "original_order             0\n",
       "dtype: int64"
      ]
     },
     "execution_count": 36,
     "metadata": {},
     "output_type": "execute_result"
    }
   ],
   "source": [
    "df_brazil.isnull().sum()"
   ]
  },
  {
   "cell_type": "markdown",
   "id": "aa8115ec",
   "metadata": {},
   "source": [
    "### Análise da coluna \"year\" \n",
    "##### A análise permanece com o filtro da coluna \"location\" em \"Pernambuco\""
   ]
  },
  {
   "cell_type": "code",
   "execution_count": 37,
   "id": "59061bbd",
   "metadata": {},
   "outputs": [
    {
     "data": {
      "text/plain": [
       "pandas.core.series.Series"
      ]
     },
     "execution_count": 37,
     "metadata": {},
     "output_type": "execute_result"
    }
   ],
   "source": [
    "type(df_pernambuco.year)"
   ]
  },
  {
   "cell_type": "code",
   "execution_count": 38,
   "id": "bc5d7388",
   "metadata": {},
   "outputs": [
    {
     "data": {
      "text/plain": [
       "3       2021.0\n",
       "13      2021.0\n",
       "65      2021.0\n",
       "357     2018.0\n",
       "380     2018.0\n",
       "         ...  \n",
       "2893    1992.0\n",
       "2905    1992.0\n",
       "2960    1991.0\n",
       "3415    1980.0\n",
       "4938    1947.0\n",
       "Name: year, Length: 77, dtype: float64"
      ]
     },
     "execution_count": 38,
     "metadata": {},
     "output_type": "execute_result"
    }
   ],
   "source": [
    "df_pernambuco.year"
   ]
  },
  {
   "cell_type": "markdown",
   "id": "c65833f3",
   "metadata": {},
   "source": [
    "#### Remoção \".0\""
   ]
  },
  {
   "cell_type": "code",
   "execution_count": 39,
   "id": "0930cb7b",
   "metadata": {},
   "outputs": [
    {
     "data": {
      "text/plain": [
       "3       2021\n",
       "13      2021\n",
       "65      2021\n",
       "357     2018\n",
       "380     2018\n",
       "        ... \n",
       "2893    1992\n",
       "2905    1992\n",
       "2960    1991\n",
       "3415    1980\n",
       "4938    1947\n",
       "Name: year, Length: 77, dtype: int64"
      ]
     },
     "execution_count": 39,
     "metadata": {},
     "output_type": "execute_result"
    }
   ],
   "source": [
    "df_pernambuco.year.astype('int64')"
   ]
  },
  {
   "cell_type": "markdown",
   "id": "ffa84b78",
   "metadata": {},
   "source": [
    "#### Estabelendo mudanças no DataFrame"
   ]
  },
  {
   "cell_type": "code",
   "execution_count": 40,
   "id": "38f6a65d",
   "metadata": {},
   "outputs": [
    {
     "data": {
      "text/plain": [
       "3       2021\n",
       "13      2021\n",
       "65      2021\n",
       "357     2018\n",
       "380     2018\n",
       "        ... \n",
       "2893    1992\n",
       "2905    1992\n",
       "2960    1991\n",
       "3415    1980\n",
       "4938    1947\n",
       "Name: year, Length: 77, dtype: int64"
      ]
     },
     "execution_count": 40,
     "metadata": {},
     "output_type": "execute_result"
    }
   ],
   "source": [
    "df_pernambuco.year.astype('int64')"
   ]
  },
  {
   "cell_type": "code",
   "execution_count": 41,
   "id": "ed887464",
   "metadata": {},
   "outputs": [],
   "source": [
    "df_pernambuco['year'] = df_pernambuco['year'].astype(np.int64)"
   ]
  },
  {
   "cell_type": "code",
   "execution_count": 42,
   "id": "6ee42056",
   "metadata": {},
   "outputs": [
    {
     "data": {
      "text/plain": [
       "3       2021\n",
       "13      2021\n",
       "65      2021\n",
       "357     2018\n",
       "380     2018\n",
       "        ... \n",
       "2893    1992\n",
       "2905    1992\n",
       "2960    1991\n",
       "3415    1980\n",
       "4938    1947\n",
       "Name: year, Length: 77, dtype: int64"
      ]
     },
     "execution_count": 42,
     "metadata": {},
     "output_type": "execute_result"
    }
   ],
   "source": [
    "df_pernambuco['year']"
   ]
  },
  {
   "cell_type": "markdown",
   "id": "e3cab561",
   "metadata": {},
   "source": [
    "#### Conferência das mudanças na coluna \"year\""
   ]
  },
  {
   "cell_type": "code",
   "execution_count": 43,
   "id": "0fb05822",
   "metadata": {},
   "outputs": [
    {
     "data": {
      "text/html": [
       "<div>\n",
       "<style scoped>\n",
       "    .dataframe tbody tr th:only-of-type {\n",
       "        vertical-align: middle;\n",
       "    }\n",
       "\n",
       "    .dataframe tbody tr th {\n",
       "        vertical-align: top;\n",
       "    }\n",
       "\n",
       "    .dataframe thead th {\n",
       "        text-align: right;\n",
       "    }\n",
       "</style>\n",
       "<table border=\"1\" class=\"dataframe\">\n",
       "  <thead>\n",
       "    <tr style=\"text-align: right;\">\n",
       "      <th></th>\n",
       "      <th>case_number</th>\n",
       "      <th>date</th>\n",
       "      <th>year</th>\n",
       "      <th>type</th>\n",
       "      <th>country</th>\n",
       "      <th>area</th>\n",
       "      <th>location</th>\n",
       "      <th>activity</th>\n",
       "      <th>name</th>\n",
       "      <th>sex_</th>\n",
       "      <th>age</th>\n",
       "      <th>injury</th>\n",
       "      <th>fatal_(y_n)</th>\n",
       "      <th>time</th>\n",
       "      <th>species_</th>\n",
       "      <th>investigator_or_source</th>\n",
       "      <th>pdf</th>\n",
       "      <th>href_formula</th>\n",
       "      <th>href</th>\n",
       "      <th>case_number.1</th>\n",
       "      <th>case_number.2</th>\n",
       "      <th>original_order</th>\n",
       "    </tr>\n",
       "  </thead>\n",
       "  <tbody>\n",
       "    <tr>\n",
       "      <th>3</th>\n",
       "      <td>2021.07.25</td>\n",
       "      <td>25-Jul-2021</td>\n",
       "      <td>2021</td>\n",
       "      <td>Unprovoked</td>\n",
       "      <td>BRAZIL</td>\n",
       "      <td>Pernambuco</td>\n",
       "      <td>Piedade</td>\n",
       "      <td>Squatting in the water</td>\n",
       "      <td>Everton dos Reis Guimarães</td>\n",
       "      <td>M</td>\n",
       "      <td>32</td>\n",
       "      <td>Lacerations to poster thigh and buttock</td>\n",
       "      <td>N</td>\n",
       "      <td>NaN</td>\n",
       "      <td>NaN</td>\n",
       "      <td>K. McMurray, TrackingSharks.com</td>\n",
       "      <td>2021.07.25-Brazil.pdf</td>\n",
       "      <td>http://sharkattackfile.net/spreadsheets/pdf_di...</td>\n",
       "      <td>http://sharkattackfile.net/spreadsheets/pdf_di...</td>\n",
       "      <td>2021.07.25</td>\n",
       "      <td>2021.07.25</td>\n",
       "      <td>6674.0</td>\n",
       "    </tr>\n",
       "    <tr>\n",
       "      <th>13</th>\n",
       "      <td>2021.07.10</td>\n",
       "      <td>10-Jul-2021</td>\n",
       "      <td>2021</td>\n",
       "      <td>Unprovoked</td>\n",
       "      <td>BRAZIL</td>\n",
       "      <td>Pernambuco</td>\n",
       "      <td>Piedade</td>\n",
       "      <td>Wading</td>\n",
       "      <td>Marcelo Rocha Santos</td>\n",
       "      <td>M</td>\n",
       "      <td>51</td>\n",
       "      <td>FATAL</td>\n",
       "      <td>Y</td>\n",
       "      <td>13h50</td>\n",
       "      <td>NaN</td>\n",
       "      <td>K. McMurray, TrackingSharks.com</td>\n",
       "      <td>2021.07.10-Santos.pdf</td>\n",
       "      <td>http://sharkattackfile.net/spreadsheets/pdf_di...</td>\n",
       "      <td>http://sharkattackfile.net/spreadsheets/pdf_di...</td>\n",
       "      <td>2021.07.10</td>\n",
       "      <td>2021.07.10</td>\n",
       "      <td>6664.0</td>\n",
       "    </tr>\n",
       "    <tr>\n",
       "      <th>65</th>\n",
       "      <td>NaN</td>\n",
       "      <td>13-Jan-2021</td>\n",
       "      <td>2021</td>\n",
       "      <td>Unprovoked</td>\n",
       "      <td>BRAZIL</td>\n",
       "      <td>Pernambuco</td>\n",
       "      <td>Cacimba do Padre Beach</td>\n",
       "      <td>Surfing</td>\n",
       "      <td>Sergo Noronha</td>\n",
       "      <td>M</td>\n",
       "      <td>52</td>\n",
       "      <td>Puncture wounds to right hand</td>\n",
       "      <td>N</td>\n",
       "      <td>NaN</td>\n",
       "      <td>NaN</td>\n",
       "      <td>K. McMurray, TrackingSharks.com</td>\n",
       "      <td>2021.01.13.b-Noronha.pdf</td>\n",
       "      <td>http://sharkattackfile.net/spreadsheets/pdf_di...</td>\n",
       "      <td>http://sharkattackfile.net/spreadsheets/pdf_di...</td>\n",
       "      <td>2021.01.13.b</td>\n",
       "      <td>2021.01.13.b</td>\n",
       "      <td>6612.0</td>\n",
       "    </tr>\n",
       "    <tr>\n",
       "      <th>357</th>\n",
       "      <td>2018.06.03.a</td>\n",
       "      <td>03-Jun-2018</td>\n",
       "      <td>2018</td>\n",
       "      <td>Unprovoked</td>\n",
       "      <td>BRAZIL</td>\n",
       "      <td>Pernambuco</td>\n",
       "      <td>Piedade Beach, Recife</td>\n",
       "      <td>Swimming</td>\n",
       "      <td>Jose Ernesto da Silva</td>\n",
       "      <td>M</td>\n",
       "      <td>18</td>\n",
       "      <td>FATAL</td>\n",
       "      <td>Y</td>\n",
       "      <td>Late afternoon</td>\n",
       "      <td>Tiger shark</td>\n",
       "      <td>Diario de Pernambuco, 6/4/2018</td>\n",
       "      <td>2018.06.03.a-daSilva.pdf</td>\n",
       "      <td>http://sharkattackfile.net/spreadsheets/pdf_di...</td>\n",
       "      <td>http://sharkattackfile.net/spreadsheets/pdf_di...</td>\n",
       "      <td>2018.06.03.a</td>\n",
       "      <td>2018.06.03.a</td>\n",
       "      <td>6320.0</td>\n",
       "    </tr>\n",
       "    <tr>\n",
       "      <th>380</th>\n",
       "      <td>2018.04.15.c</td>\n",
       "      <td>15-Apr-2018</td>\n",
       "      <td>2018</td>\n",
       "      <td>Unprovoked</td>\n",
       "      <td>BRAZIL</td>\n",
       "      <td>Pernambuco</td>\n",
       "      <td>Piedade</td>\n",
       "      <td>Swimming</td>\n",
       "      <td>Pablo de Melo</td>\n",
       "      <td>M</td>\n",
       "      <td>34</td>\n",
       "      <td>Multiple severe injuries to arms and leg, leg ...</td>\n",
       "      <td>NaN</td>\n",
       "      <td>NaN</td>\n",
       "      <td>NaN</td>\n",
       "      <td>Globo, 4/16/2018</td>\n",
       "      <td>2018.04.15.c-deMelo.pdf</td>\n",
       "      <td>http://sharkattackfile.net/spreadsheets/pdf_di...</td>\n",
       "      <td>http://sharkattackfile.net/spreadsheets/pdf_di...</td>\n",
       "      <td>2018.04.15.c</td>\n",
       "      <td>2018.04.15.c</td>\n",
       "      <td>6297.0</td>\n",
       "    </tr>\n",
       "    <tr>\n",
       "      <th>...</th>\n",
       "      <td>...</td>\n",
       "      <td>...</td>\n",
       "      <td>...</td>\n",
       "      <td>...</td>\n",
       "      <td>...</td>\n",
       "      <td>...</td>\n",
       "      <td>...</td>\n",
       "      <td>...</td>\n",
       "      <td>...</td>\n",
       "      <td>...</td>\n",
       "      <td>...</td>\n",
       "      <td>...</td>\n",
       "      <td>...</td>\n",
       "      <td>...</td>\n",
       "      <td>...</td>\n",
       "      <td>...</td>\n",
       "      <td>...</td>\n",
       "      <td>...</td>\n",
       "      <td>...</td>\n",
       "      <td>...</td>\n",
       "      <td>...</td>\n",
       "      <td>...</td>\n",
       "    </tr>\n",
       "    <tr>\n",
       "      <th>2893</th>\n",
       "      <td>1992.09.10</td>\n",
       "      <td>10-Sep-1992</td>\n",
       "      <td>1992</td>\n",
       "      <td>Unprovoked</td>\n",
       "      <td>BRAZIL</td>\n",
       "      <td>Pernambuco</td>\n",
       "      <td>Boa Viagem, Recife</td>\n",
       "      <td>Swimming</td>\n",
       "      <td>Enoque Pereira dos Santos</td>\n",
       "      <td>M</td>\n",
       "      <td>NaN</td>\n",
       "      <td>FATAL</td>\n",
       "      <td>Y</td>\n",
       "      <td>NaN</td>\n",
       "      <td>NaN</td>\n",
       "      <td>D. Duarte</td>\n",
       "      <td>1992.09.10-BoaViagem.pdf</td>\n",
       "      <td>http://sharkattackfile.net/spreadsheets/pdf_di...</td>\n",
       "      <td>http://sharkattackfile.net/spreadsheets/pdf_di...</td>\n",
       "      <td>1992.09.10</td>\n",
       "      <td>1992.09.10</td>\n",
       "      <td>3784.0</td>\n",
       "    </tr>\n",
       "    <tr>\n",
       "      <th>2905</th>\n",
       "      <td>1992.06.28.b</td>\n",
       "      <td>28-Jun-1992</td>\n",
       "      <td>1992</td>\n",
       "      <td>Unprovoked</td>\n",
       "      <td>BRAZIL</td>\n",
       "      <td>Pernambuco</td>\n",
       "      <td>Piedade</td>\n",
       "      <td>Swimming</td>\n",
       "      <td>Ubiratan Martins Gomes</td>\n",
       "      <td>M</td>\n",
       "      <td>NaN</td>\n",
       "      <td>FATAL</td>\n",
       "      <td>Y</td>\n",
       "      <td>NaN</td>\n",
       "      <td>NaN</td>\n",
       "      <td>D .Duarte</td>\n",
       "      <td>1992.06.28.b-Piedade-Brazil.pdf</td>\n",
       "      <td>http://sharkattackfile.net/spreadsheets/pdf_di...</td>\n",
       "      <td>http://sharkattackfile.net/spreadsheets/pdf_di...</td>\n",
       "      <td>1992.06.28.b</td>\n",
       "      <td>1992.06.28.b</td>\n",
       "      <td>3772.0</td>\n",
       "    </tr>\n",
       "    <tr>\n",
       "      <th>2960</th>\n",
       "      <td>1991.04.24</td>\n",
       "      <td>24-Apr-1991</td>\n",
       "      <td>1991</td>\n",
       "      <td>Provoked</td>\n",
       "      <td>BRAZIL</td>\n",
       "      <td>Pernambuco</td>\n",
       "      <td>Praia de Pau Amarelo, Recife</td>\n",
       "      <td>Fishing</td>\n",
       "      <td>L.F.</td>\n",
       "      <td>NaN</td>\n",
       "      <td>NaN</td>\n",
       "      <td>2 fingers severed by netted shark PROVOKED INC...</td>\n",
       "      <td>N</td>\n",
       "      <td>Afternoon</td>\n",
       "      <td>170-kg, 2.8 m shark</td>\n",
       "      <td>M. Szpilman</td>\n",
       "      <td>1991.04.24-PauAmarelo.pdf</td>\n",
       "      <td>http://sharkattackfile.net/spreadsheets/pdf_di...</td>\n",
       "      <td>http://sharkattackfile.net/spreadsheets/pdf_di...</td>\n",
       "      <td>1991.04.24</td>\n",
       "      <td>1991.04.24</td>\n",
       "      <td>3717.0</td>\n",
       "    </tr>\n",
       "    <tr>\n",
       "      <th>3415</th>\n",
       "      <td>1980.11.11.</td>\n",
       "      <td>11-Nov-1980</td>\n",
       "      <td>1980</td>\n",
       "      <td>Unprovoked</td>\n",
       "      <td>BRAZIL</td>\n",
       "      <td>Pernambuco</td>\n",
       "      <td>Piedade</td>\n",
       "      <td>Swimming</td>\n",
       "      <td>Ibson Gomes  Vieira</td>\n",
       "      <td>M</td>\n",
       "      <td>16</td>\n",
       "      <td>FATAL</td>\n",
       "      <td>Y</td>\n",
       "      <td>NaN</td>\n",
       "      <td>NaN</td>\n",
       "      <td>JC Online, 6/25/2012</td>\n",
       "      <td>1980.11.11-Vieira.pdf</td>\n",
       "      <td>http://sharkattackfile.net/spreadsheets/pdf_di...</td>\n",
       "      <td>http://sharkattackfile.net/spreadsheets/pdf_di...</td>\n",
       "      <td>1980.11.11.</td>\n",
       "      <td>1980.11.11.</td>\n",
       "      <td>3262.0</td>\n",
       "    </tr>\n",
       "    <tr>\n",
       "      <th>4938</th>\n",
       "      <td>1947.10.10</td>\n",
       "      <td>10-Oct-1947</td>\n",
       "      <td>1947</td>\n",
       "      <td>Unprovoked</td>\n",
       "      <td>BRAZIL</td>\n",
       "      <td>Pernambuco</td>\n",
       "      <td>Piedade</td>\n",
       "      <td>Swimming</td>\n",
       "      <td>Father Serafin de Oliveira</td>\n",
       "      <td>M</td>\n",
       "      <td>25</td>\n",
       "      <td>FATAL</td>\n",
       "      <td>Y</td>\n",
       "      <td>NaN</td>\n",
       "      <td>NaN</td>\n",
       "      <td>JC Online, 6/25/2012</td>\n",
       "      <td>1947.10.10-Serafim.pdf</td>\n",
       "      <td>http://sharkattackfile.net/spreadsheets/pdf_di...</td>\n",
       "      <td>http://sharkattackfile.net/spreadsheets/pdf_di...</td>\n",
       "      <td>1947.10.10</td>\n",
       "      <td>1947.10.10</td>\n",
       "      <td>1739.0</td>\n",
       "    </tr>\n",
       "  </tbody>\n",
       "</table>\n",
       "<p>77 rows × 22 columns</p>\n",
       "</div>"
      ],
      "text/plain": [
       "       case_number         date  year        type country        area  \\\n",
       "3       2021.07.25  25-Jul-2021  2021  Unprovoked  BRAZIL  Pernambuco   \n",
       "13      2021.07.10  10-Jul-2021  2021  Unprovoked  BRAZIL  Pernambuco   \n",
       "65             NaN  13-Jan-2021  2021  Unprovoked  BRAZIL  Pernambuco   \n",
       "357   2018.06.03.a  03-Jun-2018  2018  Unprovoked  BRAZIL  Pernambuco   \n",
       "380   2018.04.15.c  15-Apr-2018  2018  Unprovoked  BRAZIL  Pernambuco   \n",
       "...            ...          ...   ...         ...     ...         ...   \n",
       "2893    1992.09.10  10-Sep-1992  1992  Unprovoked  BRAZIL  Pernambuco   \n",
       "2905  1992.06.28.b  28-Jun-1992  1992  Unprovoked  BRAZIL  Pernambuco   \n",
       "2960    1991.04.24  24-Apr-1991  1991    Provoked  BRAZIL  Pernambuco   \n",
       "3415   1980.11.11.  11-Nov-1980  1980  Unprovoked  BRAZIL  Pernambuco   \n",
       "4938    1947.10.10  10-Oct-1947  1947  Unprovoked  BRAZIL  Pernambuco   \n",
       "\n",
       "                          location                activity  \\\n",
       "3                          Piedade  Squatting in the water   \n",
       "13                         Piedade                  Wading   \n",
       "65          Cacimba do Padre Beach                 Surfing   \n",
       "357          Piedade Beach, Recife                Swimming   \n",
       "380                        Piedade                Swimming   \n",
       "...                            ...                     ...   \n",
       "2893            Boa Viagem, Recife                Swimming   \n",
       "2905                       Piedade                Swimming   \n",
       "2960  Praia de Pau Amarelo, Recife                 Fishing   \n",
       "3415                       Piedade                Swimming   \n",
       "4938                       Piedade               Swimming    \n",
       "\n",
       "                             name sex_  age  \\\n",
       "3     Everton dos Reis Guimarães     M   32   \n",
       "13           Marcelo Rocha Santos    M   51   \n",
       "65                  Sergo Noronha    M   52   \n",
       "357        Jose Ernesto da Silva     M   18   \n",
       "380                 Pablo de Melo    M   34   \n",
       "...                           ...  ...  ...   \n",
       "2893    Enoque Pereira dos Santos    M  NaN   \n",
       "2905       Ubiratan Martins Gomes    M  NaN   \n",
       "2960                         L.F.  NaN  NaN   \n",
       "3415         Ibson Gomes  Vieira     M   16   \n",
       "4938   Father Serafin de Oliveira    M   25   \n",
       "\n",
       "                                                 injury fatal_(y_n)  \\\n",
       "3               Lacerations to poster thigh and buttock           N   \n",
       "13                                                FATAL           Y   \n",
       "65                        Puncture wounds to right hand           N   \n",
       "357                                               FATAL           Y   \n",
       "380   Multiple severe injuries to arms and leg, leg ...         NaN   \n",
       "...                                                 ...         ...   \n",
       "2893                                              FATAL           Y   \n",
       "2905                                              FATAL           Y   \n",
       "2960  2 fingers severed by netted shark PROVOKED INC...           N   \n",
       "3415                                              FATAL           Y   \n",
       "4938                                              FATAL           Y   \n",
       "\n",
       "                time             species_           investigator_or_source  \\\n",
       "3                NaN                  NaN  K. McMurray, TrackingSharks.com   \n",
       "13             13h50                  NaN  K. McMurray, TrackingSharks.com   \n",
       "65               NaN                  NaN  K. McMurray, TrackingSharks.com   \n",
       "357   Late afternoon          Tiger shark   Diario de Pernambuco, 6/4/2018   \n",
       "380              NaN                  NaN                 Globo, 4/16/2018   \n",
       "...              ...                  ...                              ...   \n",
       "2893             NaN                  NaN                        D. Duarte   \n",
       "2905             NaN                  NaN                        D .Duarte   \n",
       "2960       Afternoon  170-kg, 2.8 m shark                      M. Szpilman   \n",
       "3415             NaN                  NaN             JC Online, 6/25/2012   \n",
       "4938             NaN                  NaN             JC Online, 6/25/2012   \n",
       "\n",
       "                                  pdf  \\\n",
       "3               2021.07.25-Brazil.pdf   \n",
       "13              2021.07.10-Santos.pdf   \n",
       "65           2021.01.13.b-Noronha.pdf   \n",
       "357          2018.06.03.a-daSilva.pdf   \n",
       "380           2018.04.15.c-deMelo.pdf   \n",
       "...                               ...   \n",
       "2893         1992.09.10-BoaViagem.pdf   \n",
       "2905  1992.06.28.b-Piedade-Brazil.pdf   \n",
       "2960        1991.04.24-PauAmarelo.pdf   \n",
       "3415            1980.11.11-Vieira.pdf   \n",
       "4938           1947.10.10-Serafim.pdf   \n",
       "\n",
       "                                           href_formula  \\\n",
       "3     http://sharkattackfile.net/spreadsheets/pdf_di...   \n",
       "13    http://sharkattackfile.net/spreadsheets/pdf_di...   \n",
       "65    http://sharkattackfile.net/spreadsheets/pdf_di...   \n",
       "357   http://sharkattackfile.net/spreadsheets/pdf_di...   \n",
       "380   http://sharkattackfile.net/spreadsheets/pdf_di...   \n",
       "...                                                 ...   \n",
       "2893  http://sharkattackfile.net/spreadsheets/pdf_di...   \n",
       "2905  http://sharkattackfile.net/spreadsheets/pdf_di...   \n",
       "2960  http://sharkattackfile.net/spreadsheets/pdf_di...   \n",
       "3415  http://sharkattackfile.net/spreadsheets/pdf_di...   \n",
       "4938  http://sharkattackfile.net/spreadsheets/pdf_di...   \n",
       "\n",
       "                                                   href case_number.1  \\\n",
       "3     http://sharkattackfile.net/spreadsheets/pdf_di...    2021.07.25   \n",
       "13    http://sharkattackfile.net/spreadsheets/pdf_di...    2021.07.10   \n",
       "65    http://sharkattackfile.net/spreadsheets/pdf_di...  2021.01.13.b   \n",
       "357   http://sharkattackfile.net/spreadsheets/pdf_di...  2018.06.03.a   \n",
       "380   http://sharkattackfile.net/spreadsheets/pdf_di...  2018.04.15.c   \n",
       "...                                                 ...           ...   \n",
       "2893  http://sharkattackfile.net/spreadsheets/pdf_di...    1992.09.10   \n",
       "2905  http://sharkattackfile.net/spreadsheets/pdf_di...  1992.06.28.b   \n",
       "2960  http://sharkattackfile.net/spreadsheets/pdf_di...    1991.04.24   \n",
       "3415  http://sharkattackfile.net/spreadsheets/pdf_di...   1980.11.11.   \n",
       "4938  http://sharkattackfile.net/spreadsheets/pdf_di...    1947.10.10   \n",
       "\n",
       "     case_number.2  original_order  \n",
       "3       2021.07.25          6674.0  \n",
       "13      2021.07.10          6664.0  \n",
       "65    2021.01.13.b          6612.0  \n",
       "357   2018.06.03.a          6320.0  \n",
       "380   2018.04.15.c          6297.0  \n",
       "...            ...             ...  \n",
       "2893    1992.09.10          3784.0  \n",
       "2905  1992.06.28.b          3772.0  \n",
       "2960    1991.04.24          3717.0  \n",
       "3415   1980.11.11.          3262.0  \n",
       "4938    1947.10.10          1739.0  \n",
       "\n",
       "[77 rows x 22 columns]"
      ]
     },
     "execution_count": 43,
     "metadata": {},
     "output_type": "execute_result"
    }
   ],
   "source": [
    "df_pernambuco"
   ]
  },
  {
   "cell_type": "markdown",
   "id": "92864b6d",
   "metadata": {},
   "source": [
    "### Análise coluna \"date\"\n",
    "##### A análise permanece com o filtro da coluna \"location\" em \"Pernambuco\""
   ]
  },
  {
   "cell_type": "markdown",
   "id": "6a5f3ac1",
   "metadata": {},
   "source": [
    "#### Análise de \"nulos\""
   ]
  },
  {
   "cell_type": "code",
   "execution_count": 44,
   "id": "e89db562",
   "metadata": {},
   "outputs": [
    {
     "data": {
      "text/plain": [
       "False    1.0\n",
       "Name: date, dtype: float64"
      ]
     },
     "execution_count": 44,
     "metadata": {},
     "output_type": "execute_result"
    }
   ],
   "source": [
    "df_brazil.date.isnull().value_counts(normalize=True)"
   ]
  },
  {
   "cell_type": "markdown",
   "id": "ac0fc061",
   "metadata": {},
   "source": [
    "#### Substituição nas datas  de letras por números "
   ]
  },
  {
   "cell_type": "code",
   "execution_count": 45,
   "id": "506169aa",
   "metadata": {},
   "outputs": [
    {
     "data": {
      "text/plain": [
       "3         2021.07.25\n",
       "13        2021.07.10\n",
       "65               NaN\n",
       "256       2019.05.04\n",
       "274       2019.02.14\n",
       "            ...     \n",
       "5491      1927.10.25\n",
       "6116      1887.01.20\n",
       "6148    1884.04.38.R\n",
       "6219      1878.02.02\n",
       "6472      1826.12.00\n",
       "Name: case_number, Length: 117, dtype: object"
      ]
     },
     "execution_count": 45,
     "metadata": {},
     "output_type": "execute_result"
    }
   ],
   "source": [
    "df_brazil.case_number"
   ]
  },
  {
   "cell_type": "markdown",
   "id": "573d0dfc",
   "metadata": {},
   "source": [
    "#### Visão geral"
   ]
  },
  {
   "cell_type": "code",
   "execution_count": 46,
   "id": "9c89cb91",
   "metadata": {},
   "outputs": [
    {
     "data": {
      "text/plain": [
       "3       25-Jul-2021\n",
       "13      10-Jul-2021\n",
       "65      13-Jan-2021\n",
       "357     03-Jun-2018\n",
       "380     15-Apr-2018\n",
       "           ...     \n",
       "2893    10-Sep-1992\n",
       "2905    28-Jun-1992\n",
       "2960    24-Apr-1991\n",
       "3415    11-Nov-1980\n",
       "4938    10-Oct-1947\n",
       "Name: date, Length: 77, dtype: object"
      ]
     },
     "execution_count": 46,
     "metadata": {},
     "output_type": "execute_result"
    }
   ],
   "source": [
    "df_pernambuco.date"
   ]
  },
  {
   "cell_type": "markdown",
   "id": "0d356830",
   "metadata": {},
   "source": [
    "#### Atribuição de mudanças em df_pernambuco"
   ]
  },
  {
   "cell_type": "code",
   "execution_count": 47,
   "id": "21d14700",
   "metadata": {},
   "outputs": [],
   "source": [
    "df_pernambuco['date'] = pd.to_datetime(df_pernambuco.date)"
   ]
  },
  {
   "cell_type": "code",
   "execution_count": 48,
   "id": "0d46f43c",
   "metadata": {},
   "outputs": [
    {
     "data": {
      "text/html": [
       "<div>\n",
       "<style scoped>\n",
       "    .dataframe tbody tr th:only-of-type {\n",
       "        vertical-align: middle;\n",
       "    }\n",
       "\n",
       "    .dataframe tbody tr th {\n",
       "        vertical-align: top;\n",
       "    }\n",
       "\n",
       "    .dataframe thead th {\n",
       "        text-align: right;\n",
       "    }\n",
       "</style>\n",
       "<table border=\"1\" class=\"dataframe\">\n",
       "  <thead>\n",
       "    <tr style=\"text-align: right;\">\n",
       "      <th></th>\n",
       "      <th>case_number</th>\n",
       "      <th>date</th>\n",
       "      <th>year</th>\n",
       "      <th>type</th>\n",
       "      <th>country</th>\n",
       "      <th>area</th>\n",
       "      <th>location</th>\n",
       "      <th>activity</th>\n",
       "      <th>name</th>\n",
       "      <th>sex_</th>\n",
       "      <th>age</th>\n",
       "      <th>injury</th>\n",
       "      <th>fatal_(y_n)</th>\n",
       "      <th>time</th>\n",
       "      <th>species_</th>\n",
       "      <th>investigator_or_source</th>\n",
       "      <th>pdf</th>\n",
       "      <th>href_formula</th>\n",
       "      <th>href</th>\n",
       "      <th>case_number.1</th>\n",
       "      <th>case_number.2</th>\n",
       "      <th>original_order</th>\n",
       "    </tr>\n",
       "  </thead>\n",
       "  <tbody>\n",
       "    <tr>\n",
       "      <th>3</th>\n",
       "      <td>2021.07.25</td>\n",
       "      <td>2021-07-25</td>\n",
       "      <td>2021</td>\n",
       "      <td>Unprovoked</td>\n",
       "      <td>BRAZIL</td>\n",
       "      <td>Pernambuco</td>\n",
       "      <td>Piedade</td>\n",
       "      <td>Squatting in the water</td>\n",
       "      <td>Everton dos Reis Guimarães</td>\n",
       "      <td>M</td>\n",
       "      <td>32</td>\n",
       "      <td>Lacerations to poster thigh and buttock</td>\n",
       "      <td>N</td>\n",
       "      <td>NaN</td>\n",
       "      <td>NaN</td>\n",
       "      <td>K. McMurray, TrackingSharks.com</td>\n",
       "      <td>2021.07.25-Brazil.pdf</td>\n",
       "      <td>http://sharkattackfile.net/spreadsheets/pdf_di...</td>\n",
       "      <td>http://sharkattackfile.net/spreadsheets/pdf_di...</td>\n",
       "      <td>2021.07.25</td>\n",
       "      <td>2021.07.25</td>\n",
       "      <td>6674.0</td>\n",
       "    </tr>\n",
       "    <tr>\n",
       "      <th>13</th>\n",
       "      <td>2021.07.10</td>\n",
       "      <td>2021-07-10</td>\n",
       "      <td>2021</td>\n",
       "      <td>Unprovoked</td>\n",
       "      <td>BRAZIL</td>\n",
       "      <td>Pernambuco</td>\n",
       "      <td>Piedade</td>\n",
       "      <td>Wading</td>\n",
       "      <td>Marcelo Rocha Santos</td>\n",
       "      <td>M</td>\n",
       "      <td>51</td>\n",
       "      <td>FATAL</td>\n",
       "      <td>Y</td>\n",
       "      <td>13h50</td>\n",
       "      <td>NaN</td>\n",
       "      <td>K. McMurray, TrackingSharks.com</td>\n",
       "      <td>2021.07.10-Santos.pdf</td>\n",
       "      <td>http://sharkattackfile.net/spreadsheets/pdf_di...</td>\n",
       "      <td>http://sharkattackfile.net/spreadsheets/pdf_di...</td>\n",
       "      <td>2021.07.10</td>\n",
       "      <td>2021.07.10</td>\n",
       "      <td>6664.0</td>\n",
       "    </tr>\n",
       "    <tr>\n",
       "      <th>65</th>\n",
       "      <td>NaN</td>\n",
       "      <td>2021-01-13</td>\n",
       "      <td>2021</td>\n",
       "      <td>Unprovoked</td>\n",
       "      <td>BRAZIL</td>\n",
       "      <td>Pernambuco</td>\n",
       "      <td>Cacimba do Padre Beach</td>\n",
       "      <td>Surfing</td>\n",
       "      <td>Sergo Noronha</td>\n",
       "      <td>M</td>\n",
       "      <td>52</td>\n",
       "      <td>Puncture wounds to right hand</td>\n",
       "      <td>N</td>\n",
       "      <td>NaN</td>\n",
       "      <td>NaN</td>\n",
       "      <td>K. McMurray, TrackingSharks.com</td>\n",
       "      <td>2021.01.13.b-Noronha.pdf</td>\n",
       "      <td>http://sharkattackfile.net/spreadsheets/pdf_di...</td>\n",
       "      <td>http://sharkattackfile.net/spreadsheets/pdf_di...</td>\n",
       "      <td>2021.01.13.b</td>\n",
       "      <td>2021.01.13.b</td>\n",
       "      <td>6612.0</td>\n",
       "    </tr>\n",
       "    <tr>\n",
       "      <th>357</th>\n",
       "      <td>2018.06.03.a</td>\n",
       "      <td>2018-06-03</td>\n",
       "      <td>2018</td>\n",
       "      <td>Unprovoked</td>\n",
       "      <td>BRAZIL</td>\n",
       "      <td>Pernambuco</td>\n",
       "      <td>Piedade Beach, Recife</td>\n",
       "      <td>Swimming</td>\n",
       "      <td>Jose Ernesto da Silva</td>\n",
       "      <td>M</td>\n",
       "      <td>18</td>\n",
       "      <td>FATAL</td>\n",
       "      <td>Y</td>\n",
       "      <td>Late afternoon</td>\n",
       "      <td>Tiger shark</td>\n",
       "      <td>Diario de Pernambuco, 6/4/2018</td>\n",
       "      <td>2018.06.03.a-daSilva.pdf</td>\n",
       "      <td>http://sharkattackfile.net/spreadsheets/pdf_di...</td>\n",
       "      <td>http://sharkattackfile.net/spreadsheets/pdf_di...</td>\n",
       "      <td>2018.06.03.a</td>\n",
       "      <td>2018.06.03.a</td>\n",
       "      <td>6320.0</td>\n",
       "    </tr>\n",
       "    <tr>\n",
       "      <th>380</th>\n",
       "      <td>2018.04.15.c</td>\n",
       "      <td>2018-04-15</td>\n",
       "      <td>2018</td>\n",
       "      <td>Unprovoked</td>\n",
       "      <td>BRAZIL</td>\n",
       "      <td>Pernambuco</td>\n",
       "      <td>Piedade</td>\n",
       "      <td>Swimming</td>\n",
       "      <td>Pablo de Melo</td>\n",
       "      <td>M</td>\n",
       "      <td>34</td>\n",
       "      <td>Multiple severe injuries to arms and leg, leg ...</td>\n",
       "      <td>NaN</td>\n",
       "      <td>NaN</td>\n",
       "      <td>NaN</td>\n",
       "      <td>Globo, 4/16/2018</td>\n",
       "      <td>2018.04.15.c-deMelo.pdf</td>\n",
       "      <td>http://sharkattackfile.net/spreadsheets/pdf_di...</td>\n",
       "      <td>http://sharkattackfile.net/spreadsheets/pdf_di...</td>\n",
       "      <td>2018.04.15.c</td>\n",
       "      <td>2018.04.15.c</td>\n",
       "      <td>6297.0</td>\n",
       "    </tr>\n",
       "    <tr>\n",
       "      <th>...</th>\n",
       "      <td>...</td>\n",
       "      <td>...</td>\n",
       "      <td>...</td>\n",
       "      <td>...</td>\n",
       "      <td>...</td>\n",
       "      <td>...</td>\n",
       "      <td>...</td>\n",
       "      <td>...</td>\n",
       "      <td>...</td>\n",
       "      <td>...</td>\n",
       "      <td>...</td>\n",
       "      <td>...</td>\n",
       "      <td>...</td>\n",
       "      <td>...</td>\n",
       "      <td>...</td>\n",
       "      <td>...</td>\n",
       "      <td>...</td>\n",
       "      <td>...</td>\n",
       "      <td>...</td>\n",
       "      <td>...</td>\n",
       "      <td>...</td>\n",
       "      <td>...</td>\n",
       "    </tr>\n",
       "    <tr>\n",
       "      <th>2893</th>\n",
       "      <td>1992.09.10</td>\n",
       "      <td>1992-09-10</td>\n",
       "      <td>1992</td>\n",
       "      <td>Unprovoked</td>\n",
       "      <td>BRAZIL</td>\n",
       "      <td>Pernambuco</td>\n",
       "      <td>Boa Viagem, Recife</td>\n",
       "      <td>Swimming</td>\n",
       "      <td>Enoque Pereira dos Santos</td>\n",
       "      <td>M</td>\n",
       "      <td>NaN</td>\n",
       "      <td>FATAL</td>\n",
       "      <td>Y</td>\n",
       "      <td>NaN</td>\n",
       "      <td>NaN</td>\n",
       "      <td>D. Duarte</td>\n",
       "      <td>1992.09.10-BoaViagem.pdf</td>\n",
       "      <td>http://sharkattackfile.net/spreadsheets/pdf_di...</td>\n",
       "      <td>http://sharkattackfile.net/spreadsheets/pdf_di...</td>\n",
       "      <td>1992.09.10</td>\n",
       "      <td>1992.09.10</td>\n",
       "      <td>3784.0</td>\n",
       "    </tr>\n",
       "    <tr>\n",
       "      <th>2905</th>\n",
       "      <td>1992.06.28.b</td>\n",
       "      <td>1992-06-28</td>\n",
       "      <td>1992</td>\n",
       "      <td>Unprovoked</td>\n",
       "      <td>BRAZIL</td>\n",
       "      <td>Pernambuco</td>\n",
       "      <td>Piedade</td>\n",
       "      <td>Swimming</td>\n",
       "      <td>Ubiratan Martins Gomes</td>\n",
       "      <td>M</td>\n",
       "      <td>NaN</td>\n",
       "      <td>FATAL</td>\n",
       "      <td>Y</td>\n",
       "      <td>NaN</td>\n",
       "      <td>NaN</td>\n",
       "      <td>D .Duarte</td>\n",
       "      <td>1992.06.28.b-Piedade-Brazil.pdf</td>\n",
       "      <td>http://sharkattackfile.net/spreadsheets/pdf_di...</td>\n",
       "      <td>http://sharkattackfile.net/spreadsheets/pdf_di...</td>\n",
       "      <td>1992.06.28.b</td>\n",
       "      <td>1992.06.28.b</td>\n",
       "      <td>3772.0</td>\n",
       "    </tr>\n",
       "    <tr>\n",
       "      <th>2960</th>\n",
       "      <td>1991.04.24</td>\n",
       "      <td>1991-04-24</td>\n",
       "      <td>1991</td>\n",
       "      <td>Provoked</td>\n",
       "      <td>BRAZIL</td>\n",
       "      <td>Pernambuco</td>\n",
       "      <td>Praia de Pau Amarelo, Recife</td>\n",
       "      <td>Fishing</td>\n",
       "      <td>L.F.</td>\n",
       "      <td>NaN</td>\n",
       "      <td>NaN</td>\n",
       "      <td>2 fingers severed by netted shark PROVOKED INC...</td>\n",
       "      <td>N</td>\n",
       "      <td>Afternoon</td>\n",
       "      <td>170-kg, 2.8 m shark</td>\n",
       "      <td>M. Szpilman</td>\n",
       "      <td>1991.04.24-PauAmarelo.pdf</td>\n",
       "      <td>http://sharkattackfile.net/spreadsheets/pdf_di...</td>\n",
       "      <td>http://sharkattackfile.net/spreadsheets/pdf_di...</td>\n",
       "      <td>1991.04.24</td>\n",
       "      <td>1991.04.24</td>\n",
       "      <td>3717.0</td>\n",
       "    </tr>\n",
       "    <tr>\n",
       "      <th>3415</th>\n",
       "      <td>1980.11.11.</td>\n",
       "      <td>1980-11-11</td>\n",
       "      <td>1980</td>\n",
       "      <td>Unprovoked</td>\n",
       "      <td>BRAZIL</td>\n",
       "      <td>Pernambuco</td>\n",
       "      <td>Piedade</td>\n",
       "      <td>Swimming</td>\n",
       "      <td>Ibson Gomes  Vieira</td>\n",
       "      <td>M</td>\n",
       "      <td>16</td>\n",
       "      <td>FATAL</td>\n",
       "      <td>Y</td>\n",
       "      <td>NaN</td>\n",
       "      <td>NaN</td>\n",
       "      <td>JC Online, 6/25/2012</td>\n",
       "      <td>1980.11.11-Vieira.pdf</td>\n",
       "      <td>http://sharkattackfile.net/spreadsheets/pdf_di...</td>\n",
       "      <td>http://sharkattackfile.net/spreadsheets/pdf_di...</td>\n",
       "      <td>1980.11.11.</td>\n",
       "      <td>1980.11.11.</td>\n",
       "      <td>3262.0</td>\n",
       "    </tr>\n",
       "    <tr>\n",
       "      <th>4938</th>\n",
       "      <td>1947.10.10</td>\n",
       "      <td>1947-10-10</td>\n",
       "      <td>1947</td>\n",
       "      <td>Unprovoked</td>\n",
       "      <td>BRAZIL</td>\n",
       "      <td>Pernambuco</td>\n",
       "      <td>Piedade</td>\n",
       "      <td>Swimming</td>\n",
       "      <td>Father Serafin de Oliveira</td>\n",
       "      <td>M</td>\n",
       "      <td>25</td>\n",
       "      <td>FATAL</td>\n",
       "      <td>Y</td>\n",
       "      <td>NaN</td>\n",
       "      <td>NaN</td>\n",
       "      <td>JC Online, 6/25/2012</td>\n",
       "      <td>1947.10.10-Serafim.pdf</td>\n",
       "      <td>http://sharkattackfile.net/spreadsheets/pdf_di...</td>\n",
       "      <td>http://sharkattackfile.net/spreadsheets/pdf_di...</td>\n",
       "      <td>1947.10.10</td>\n",
       "      <td>1947.10.10</td>\n",
       "      <td>1739.0</td>\n",
       "    </tr>\n",
       "  </tbody>\n",
       "</table>\n",
       "<p>77 rows × 22 columns</p>\n",
       "</div>"
      ],
      "text/plain": [
       "       case_number       date  year        type country        area  \\\n",
       "3       2021.07.25 2021-07-25  2021  Unprovoked  BRAZIL  Pernambuco   \n",
       "13      2021.07.10 2021-07-10  2021  Unprovoked  BRAZIL  Pernambuco   \n",
       "65             NaN 2021-01-13  2021  Unprovoked  BRAZIL  Pernambuco   \n",
       "357   2018.06.03.a 2018-06-03  2018  Unprovoked  BRAZIL  Pernambuco   \n",
       "380   2018.04.15.c 2018-04-15  2018  Unprovoked  BRAZIL  Pernambuco   \n",
       "...            ...        ...   ...         ...     ...         ...   \n",
       "2893    1992.09.10 1992-09-10  1992  Unprovoked  BRAZIL  Pernambuco   \n",
       "2905  1992.06.28.b 1992-06-28  1992  Unprovoked  BRAZIL  Pernambuco   \n",
       "2960    1991.04.24 1991-04-24  1991    Provoked  BRAZIL  Pernambuco   \n",
       "3415   1980.11.11. 1980-11-11  1980  Unprovoked  BRAZIL  Pernambuco   \n",
       "4938    1947.10.10 1947-10-10  1947  Unprovoked  BRAZIL  Pernambuco   \n",
       "\n",
       "                          location                activity  \\\n",
       "3                          Piedade  Squatting in the water   \n",
       "13                         Piedade                  Wading   \n",
       "65          Cacimba do Padre Beach                 Surfing   \n",
       "357          Piedade Beach, Recife                Swimming   \n",
       "380                        Piedade                Swimming   \n",
       "...                            ...                     ...   \n",
       "2893            Boa Viagem, Recife                Swimming   \n",
       "2905                       Piedade                Swimming   \n",
       "2960  Praia de Pau Amarelo, Recife                 Fishing   \n",
       "3415                       Piedade                Swimming   \n",
       "4938                       Piedade               Swimming    \n",
       "\n",
       "                             name sex_  age  \\\n",
       "3     Everton dos Reis Guimarães     M   32   \n",
       "13           Marcelo Rocha Santos    M   51   \n",
       "65                  Sergo Noronha    M   52   \n",
       "357        Jose Ernesto da Silva     M   18   \n",
       "380                 Pablo de Melo    M   34   \n",
       "...                           ...  ...  ...   \n",
       "2893    Enoque Pereira dos Santos    M  NaN   \n",
       "2905       Ubiratan Martins Gomes    M  NaN   \n",
       "2960                         L.F.  NaN  NaN   \n",
       "3415         Ibson Gomes  Vieira     M   16   \n",
       "4938   Father Serafin de Oliveira    M   25   \n",
       "\n",
       "                                                 injury fatal_(y_n)  \\\n",
       "3               Lacerations to poster thigh and buttock           N   \n",
       "13                                                FATAL           Y   \n",
       "65                        Puncture wounds to right hand           N   \n",
       "357                                               FATAL           Y   \n",
       "380   Multiple severe injuries to arms and leg, leg ...         NaN   \n",
       "...                                                 ...         ...   \n",
       "2893                                              FATAL           Y   \n",
       "2905                                              FATAL           Y   \n",
       "2960  2 fingers severed by netted shark PROVOKED INC...           N   \n",
       "3415                                              FATAL           Y   \n",
       "4938                                              FATAL           Y   \n",
       "\n",
       "                time             species_           investigator_or_source  \\\n",
       "3                NaN                  NaN  K. McMurray, TrackingSharks.com   \n",
       "13             13h50                  NaN  K. McMurray, TrackingSharks.com   \n",
       "65               NaN                  NaN  K. McMurray, TrackingSharks.com   \n",
       "357   Late afternoon          Tiger shark   Diario de Pernambuco, 6/4/2018   \n",
       "380              NaN                  NaN                 Globo, 4/16/2018   \n",
       "...              ...                  ...                              ...   \n",
       "2893             NaN                  NaN                        D. Duarte   \n",
       "2905             NaN                  NaN                        D .Duarte   \n",
       "2960       Afternoon  170-kg, 2.8 m shark                      M. Szpilman   \n",
       "3415             NaN                  NaN             JC Online, 6/25/2012   \n",
       "4938             NaN                  NaN             JC Online, 6/25/2012   \n",
       "\n",
       "                                  pdf  \\\n",
       "3               2021.07.25-Brazil.pdf   \n",
       "13              2021.07.10-Santos.pdf   \n",
       "65           2021.01.13.b-Noronha.pdf   \n",
       "357          2018.06.03.a-daSilva.pdf   \n",
       "380           2018.04.15.c-deMelo.pdf   \n",
       "...                               ...   \n",
       "2893         1992.09.10-BoaViagem.pdf   \n",
       "2905  1992.06.28.b-Piedade-Brazil.pdf   \n",
       "2960        1991.04.24-PauAmarelo.pdf   \n",
       "3415            1980.11.11-Vieira.pdf   \n",
       "4938           1947.10.10-Serafim.pdf   \n",
       "\n",
       "                                           href_formula  \\\n",
       "3     http://sharkattackfile.net/spreadsheets/pdf_di...   \n",
       "13    http://sharkattackfile.net/spreadsheets/pdf_di...   \n",
       "65    http://sharkattackfile.net/spreadsheets/pdf_di...   \n",
       "357   http://sharkattackfile.net/spreadsheets/pdf_di...   \n",
       "380   http://sharkattackfile.net/spreadsheets/pdf_di...   \n",
       "...                                                 ...   \n",
       "2893  http://sharkattackfile.net/spreadsheets/pdf_di...   \n",
       "2905  http://sharkattackfile.net/spreadsheets/pdf_di...   \n",
       "2960  http://sharkattackfile.net/spreadsheets/pdf_di...   \n",
       "3415  http://sharkattackfile.net/spreadsheets/pdf_di...   \n",
       "4938  http://sharkattackfile.net/spreadsheets/pdf_di...   \n",
       "\n",
       "                                                   href case_number.1  \\\n",
       "3     http://sharkattackfile.net/spreadsheets/pdf_di...    2021.07.25   \n",
       "13    http://sharkattackfile.net/spreadsheets/pdf_di...    2021.07.10   \n",
       "65    http://sharkattackfile.net/spreadsheets/pdf_di...  2021.01.13.b   \n",
       "357   http://sharkattackfile.net/spreadsheets/pdf_di...  2018.06.03.a   \n",
       "380   http://sharkattackfile.net/spreadsheets/pdf_di...  2018.04.15.c   \n",
       "...                                                 ...           ...   \n",
       "2893  http://sharkattackfile.net/spreadsheets/pdf_di...    1992.09.10   \n",
       "2905  http://sharkattackfile.net/spreadsheets/pdf_di...  1992.06.28.b   \n",
       "2960  http://sharkattackfile.net/spreadsheets/pdf_di...    1991.04.24   \n",
       "3415  http://sharkattackfile.net/spreadsheets/pdf_di...   1980.11.11.   \n",
       "4938  http://sharkattackfile.net/spreadsheets/pdf_di...    1947.10.10   \n",
       "\n",
       "     case_number.2  original_order  \n",
       "3       2021.07.25          6674.0  \n",
       "13      2021.07.10          6664.0  \n",
       "65    2021.01.13.b          6612.0  \n",
       "357   2018.06.03.a          6320.0  \n",
       "380   2018.04.15.c          6297.0  \n",
       "...            ...             ...  \n",
       "2893    1992.09.10          3784.0  \n",
       "2905  1992.06.28.b          3772.0  \n",
       "2960    1991.04.24          3717.0  \n",
       "3415   1980.11.11.          3262.0  \n",
       "4938    1947.10.10          1739.0  \n",
       "\n",
       "[77 rows x 22 columns]"
      ]
     },
     "execution_count": 48,
     "metadata": {},
     "output_type": "execute_result"
    }
   ],
   "source": [
    "df_pernambuco"
   ]
  },
  {
   "cell_type": "markdown",
   "id": "3e7d6849",
   "metadata": {},
   "source": [
    "### Inclusão da coluna \"day_of_week\"\n",
    "##### A coluna contém o dia da semana em que ocorreu o ataque de tubarão"
   ]
  },
  {
   "cell_type": "code",
   "execution_count": 49,
   "id": "e8c0504e",
   "metadata": {},
   "outputs": [],
   "source": [
    "df_pernambuco['day_of_week'] = df_pernambuco['date'].dt.day_name()"
   ]
  },
  {
   "cell_type": "code",
   "execution_count": 50,
   "id": "63a7052e",
   "metadata": {},
   "outputs": [
    {
     "data": {
      "text/html": [
       "<div>\n",
       "<style scoped>\n",
       "    .dataframe tbody tr th:only-of-type {\n",
       "        vertical-align: middle;\n",
       "    }\n",
       "\n",
       "    .dataframe tbody tr th {\n",
       "        vertical-align: top;\n",
       "    }\n",
       "\n",
       "    .dataframe thead th {\n",
       "        text-align: right;\n",
       "    }\n",
       "</style>\n",
       "<table border=\"1\" class=\"dataframe\">\n",
       "  <thead>\n",
       "    <tr style=\"text-align: right;\">\n",
       "      <th></th>\n",
       "      <th>case_number</th>\n",
       "      <th>date</th>\n",
       "      <th>year</th>\n",
       "      <th>type</th>\n",
       "      <th>country</th>\n",
       "      <th>area</th>\n",
       "      <th>location</th>\n",
       "      <th>activity</th>\n",
       "      <th>name</th>\n",
       "      <th>sex_</th>\n",
       "      <th>age</th>\n",
       "      <th>injury</th>\n",
       "      <th>fatal_(y_n)</th>\n",
       "      <th>time</th>\n",
       "      <th>species_</th>\n",
       "      <th>investigator_or_source</th>\n",
       "      <th>pdf</th>\n",
       "      <th>href_formula</th>\n",
       "      <th>href</th>\n",
       "      <th>case_number.1</th>\n",
       "      <th>case_number.2</th>\n",
       "      <th>original_order</th>\n",
       "      <th>day_of_week</th>\n",
       "    </tr>\n",
       "  </thead>\n",
       "  <tbody>\n",
       "    <tr>\n",
       "      <th>3</th>\n",
       "      <td>2021.07.25</td>\n",
       "      <td>2021-07-25</td>\n",
       "      <td>2021</td>\n",
       "      <td>Unprovoked</td>\n",
       "      <td>BRAZIL</td>\n",
       "      <td>Pernambuco</td>\n",
       "      <td>Piedade</td>\n",
       "      <td>Squatting in the water</td>\n",
       "      <td>Everton dos Reis Guimarães</td>\n",
       "      <td>M</td>\n",
       "      <td>32</td>\n",
       "      <td>Lacerations to poster thigh and buttock</td>\n",
       "      <td>N</td>\n",
       "      <td>NaN</td>\n",
       "      <td>NaN</td>\n",
       "      <td>K. McMurray, TrackingSharks.com</td>\n",
       "      <td>2021.07.25-Brazil.pdf</td>\n",
       "      <td>http://sharkattackfile.net/spreadsheets/pdf_di...</td>\n",
       "      <td>http://sharkattackfile.net/spreadsheets/pdf_di...</td>\n",
       "      <td>2021.07.25</td>\n",
       "      <td>2021.07.25</td>\n",
       "      <td>6674.0</td>\n",
       "      <td>Sunday</td>\n",
       "    </tr>\n",
       "    <tr>\n",
       "      <th>13</th>\n",
       "      <td>2021.07.10</td>\n",
       "      <td>2021-07-10</td>\n",
       "      <td>2021</td>\n",
       "      <td>Unprovoked</td>\n",
       "      <td>BRAZIL</td>\n",
       "      <td>Pernambuco</td>\n",
       "      <td>Piedade</td>\n",
       "      <td>Wading</td>\n",
       "      <td>Marcelo Rocha Santos</td>\n",
       "      <td>M</td>\n",
       "      <td>51</td>\n",
       "      <td>FATAL</td>\n",
       "      <td>Y</td>\n",
       "      <td>13h50</td>\n",
       "      <td>NaN</td>\n",
       "      <td>K. McMurray, TrackingSharks.com</td>\n",
       "      <td>2021.07.10-Santos.pdf</td>\n",
       "      <td>http://sharkattackfile.net/spreadsheets/pdf_di...</td>\n",
       "      <td>http://sharkattackfile.net/spreadsheets/pdf_di...</td>\n",
       "      <td>2021.07.10</td>\n",
       "      <td>2021.07.10</td>\n",
       "      <td>6664.0</td>\n",
       "      <td>Saturday</td>\n",
       "    </tr>\n",
       "    <tr>\n",
       "      <th>65</th>\n",
       "      <td>NaN</td>\n",
       "      <td>2021-01-13</td>\n",
       "      <td>2021</td>\n",
       "      <td>Unprovoked</td>\n",
       "      <td>BRAZIL</td>\n",
       "      <td>Pernambuco</td>\n",
       "      <td>Cacimba do Padre Beach</td>\n",
       "      <td>Surfing</td>\n",
       "      <td>Sergo Noronha</td>\n",
       "      <td>M</td>\n",
       "      <td>52</td>\n",
       "      <td>Puncture wounds to right hand</td>\n",
       "      <td>N</td>\n",
       "      <td>NaN</td>\n",
       "      <td>NaN</td>\n",
       "      <td>K. McMurray, TrackingSharks.com</td>\n",
       "      <td>2021.01.13.b-Noronha.pdf</td>\n",
       "      <td>http://sharkattackfile.net/spreadsheets/pdf_di...</td>\n",
       "      <td>http://sharkattackfile.net/spreadsheets/pdf_di...</td>\n",
       "      <td>2021.01.13.b</td>\n",
       "      <td>2021.01.13.b</td>\n",
       "      <td>6612.0</td>\n",
       "      <td>Wednesday</td>\n",
       "    </tr>\n",
       "    <tr>\n",
       "      <th>357</th>\n",
       "      <td>2018.06.03.a</td>\n",
       "      <td>2018-06-03</td>\n",
       "      <td>2018</td>\n",
       "      <td>Unprovoked</td>\n",
       "      <td>BRAZIL</td>\n",
       "      <td>Pernambuco</td>\n",
       "      <td>Piedade Beach, Recife</td>\n",
       "      <td>Swimming</td>\n",
       "      <td>Jose Ernesto da Silva</td>\n",
       "      <td>M</td>\n",
       "      <td>18</td>\n",
       "      <td>FATAL</td>\n",
       "      <td>Y</td>\n",
       "      <td>Late afternoon</td>\n",
       "      <td>Tiger shark</td>\n",
       "      <td>Diario de Pernambuco, 6/4/2018</td>\n",
       "      <td>2018.06.03.a-daSilva.pdf</td>\n",
       "      <td>http://sharkattackfile.net/spreadsheets/pdf_di...</td>\n",
       "      <td>http://sharkattackfile.net/spreadsheets/pdf_di...</td>\n",
       "      <td>2018.06.03.a</td>\n",
       "      <td>2018.06.03.a</td>\n",
       "      <td>6320.0</td>\n",
       "      <td>Sunday</td>\n",
       "    </tr>\n",
       "    <tr>\n",
       "      <th>380</th>\n",
       "      <td>2018.04.15.c</td>\n",
       "      <td>2018-04-15</td>\n",
       "      <td>2018</td>\n",
       "      <td>Unprovoked</td>\n",
       "      <td>BRAZIL</td>\n",
       "      <td>Pernambuco</td>\n",
       "      <td>Piedade</td>\n",
       "      <td>Swimming</td>\n",
       "      <td>Pablo de Melo</td>\n",
       "      <td>M</td>\n",
       "      <td>34</td>\n",
       "      <td>Multiple severe injuries to arms and leg, leg ...</td>\n",
       "      <td>NaN</td>\n",
       "      <td>NaN</td>\n",
       "      <td>NaN</td>\n",
       "      <td>Globo, 4/16/2018</td>\n",
       "      <td>2018.04.15.c-deMelo.pdf</td>\n",
       "      <td>http://sharkattackfile.net/spreadsheets/pdf_di...</td>\n",
       "      <td>http://sharkattackfile.net/spreadsheets/pdf_di...</td>\n",
       "      <td>2018.04.15.c</td>\n",
       "      <td>2018.04.15.c</td>\n",
       "      <td>6297.0</td>\n",
       "      <td>Sunday</td>\n",
       "    </tr>\n",
       "    <tr>\n",
       "      <th>...</th>\n",
       "      <td>...</td>\n",
       "      <td>...</td>\n",
       "      <td>...</td>\n",
       "      <td>...</td>\n",
       "      <td>...</td>\n",
       "      <td>...</td>\n",
       "      <td>...</td>\n",
       "      <td>...</td>\n",
       "      <td>...</td>\n",
       "      <td>...</td>\n",
       "      <td>...</td>\n",
       "      <td>...</td>\n",
       "      <td>...</td>\n",
       "      <td>...</td>\n",
       "      <td>...</td>\n",
       "      <td>...</td>\n",
       "      <td>...</td>\n",
       "      <td>...</td>\n",
       "      <td>...</td>\n",
       "      <td>...</td>\n",
       "      <td>...</td>\n",
       "      <td>...</td>\n",
       "      <td>...</td>\n",
       "    </tr>\n",
       "    <tr>\n",
       "      <th>2893</th>\n",
       "      <td>1992.09.10</td>\n",
       "      <td>1992-09-10</td>\n",
       "      <td>1992</td>\n",
       "      <td>Unprovoked</td>\n",
       "      <td>BRAZIL</td>\n",
       "      <td>Pernambuco</td>\n",
       "      <td>Boa Viagem, Recife</td>\n",
       "      <td>Swimming</td>\n",
       "      <td>Enoque Pereira dos Santos</td>\n",
       "      <td>M</td>\n",
       "      <td>NaN</td>\n",
       "      <td>FATAL</td>\n",
       "      <td>Y</td>\n",
       "      <td>NaN</td>\n",
       "      <td>NaN</td>\n",
       "      <td>D. Duarte</td>\n",
       "      <td>1992.09.10-BoaViagem.pdf</td>\n",
       "      <td>http://sharkattackfile.net/spreadsheets/pdf_di...</td>\n",
       "      <td>http://sharkattackfile.net/spreadsheets/pdf_di...</td>\n",
       "      <td>1992.09.10</td>\n",
       "      <td>1992.09.10</td>\n",
       "      <td>3784.0</td>\n",
       "      <td>Thursday</td>\n",
       "    </tr>\n",
       "    <tr>\n",
       "      <th>2905</th>\n",
       "      <td>1992.06.28.b</td>\n",
       "      <td>1992-06-28</td>\n",
       "      <td>1992</td>\n",
       "      <td>Unprovoked</td>\n",
       "      <td>BRAZIL</td>\n",
       "      <td>Pernambuco</td>\n",
       "      <td>Piedade</td>\n",
       "      <td>Swimming</td>\n",
       "      <td>Ubiratan Martins Gomes</td>\n",
       "      <td>M</td>\n",
       "      <td>NaN</td>\n",
       "      <td>FATAL</td>\n",
       "      <td>Y</td>\n",
       "      <td>NaN</td>\n",
       "      <td>NaN</td>\n",
       "      <td>D .Duarte</td>\n",
       "      <td>1992.06.28.b-Piedade-Brazil.pdf</td>\n",
       "      <td>http://sharkattackfile.net/spreadsheets/pdf_di...</td>\n",
       "      <td>http://sharkattackfile.net/spreadsheets/pdf_di...</td>\n",
       "      <td>1992.06.28.b</td>\n",
       "      <td>1992.06.28.b</td>\n",
       "      <td>3772.0</td>\n",
       "      <td>Sunday</td>\n",
       "    </tr>\n",
       "    <tr>\n",
       "      <th>2960</th>\n",
       "      <td>1991.04.24</td>\n",
       "      <td>1991-04-24</td>\n",
       "      <td>1991</td>\n",
       "      <td>Provoked</td>\n",
       "      <td>BRAZIL</td>\n",
       "      <td>Pernambuco</td>\n",
       "      <td>Praia de Pau Amarelo, Recife</td>\n",
       "      <td>Fishing</td>\n",
       "      <td>L.F.</td>\n",
       "      <td>NaN</td>\n",
       "      <td>NaN</td>\n",
       "      <td>2 fingers severed by netted shark PROVOKED INC...</td>\n",
       "      <td>N</td>\n",
       "      <td>Afternoon</td>\n",
       "      <td>170-kg, 2.8 m shark</td>\n",
       "      <td>M. Szpilman</td>\n",
       "      <td>1991.04.24-PauAmarelo.pdf</td>\n",
       "      <td>http://sharkattackfile.net/spreadsheets/pdf_di...</td>\n",
       "      <td>http://sharkattackfile.net/spreadsheets/pdf_di...</td>\n",
       "      <td>1991.04.24</td>\n",
       "      <td>1991.04.24</td>\n",
       "      <td>3717.0</td>\n",
       "      <td>Wednesday</td>\n",
       "    </tr>\n",
       "    <tr>\n",
       "      <th>3415</th>\n",
       "      <td>1980.11.11.</td>\n",
       "      <td>1980-11-11</td>\n",
       "      <td>1980</td>\n",
       "      <td>Unprovoked</td>\n",
       "      <td>BRAZIL</td>\n",
       "      <td>Pernambuco</td>\n",
       "      <td>Piedade</td>\n",
       "      <td>Swimming</td>\n",
       "      <td>Ibson Gomes  Vieira</td>\n",
       "      <td>M</td>\n",
       "      <td>16</td>\n",
       "      <td>FATAL</td>\n",
       "      <td>Y</td>\n",
       "      <td>NaN</td>\n",
       "      <td>NaN</td>\n",
       "      <td>JC Online, 6/25/2012</td>\n",
       "      <td>1980.11.11-Vieira.pdf</td>\n",
       "      <td>http://sharkattackfile.net/spreadsheets/pdf_di...</td>\n",
       "      <td>http://sharkattackfile.net/spreadsheets/pdf_di...</td>\n",
       "      <td>1980.11.11.</td>\n",
       "      <td>1980.11.11.</td>\n",
       "      <td>3262.0</td>\n",
       "      <td>Tuesday</td>\n",
       "    </tr>\n",
       "    <tr>\n",
       "      <th>4938</th>\n",
       "      <td>1947.10.10</td>\n",
       "      <td>1947-10-10</td>\n",
       "      <td>1947</td>\n",
       "      <td>Unprovoked</td>\n",
       "      <td>BRAZIL</td>\n",
       "      <td>Pernambuco</td>\n",
       "      <td>Piedade</td>\n",
       "      <td>Swimming</td>\n",
       "      <td>Father Serafin de Oliveira</td>\n",
       "      <td>M</td>\n",
       "      <td>25</td>\n",
       "      <td>FATAL</td>\n",
       "      <td>Y</td>\n",
       "      <td>NaN</td>\n",
       "      <td>NaN</td>\n",
       "      <td>JC Online, 6/25/2012</td>\n",
       "      <td>1947.10.10-Serafim.pdf</td>\n",
       "      <td>http://sharkattackfile.net/spreadsheets/pdf_di...</td>\n",
       "      <td>http://sharkattackfile.net/spreadsheets/pdf_di...</td>\n",
       "      <td>1947.10.10</td>\n",
       "      <td>1947.10.10</td>\n",
       "      <td>1739.0</td>\n",
       "      <td>Friday</td>\n",
       "    </tr>\n",
       "  </tbody>\n",
       "</table>\n",
       "<p>77 rows × 23 columns</p>\n",
       "</div>"
      ],
      "text/plain": [
       "       case_number       date  year        type country        area  \\\n",
       "3       2021.07.25 2021-07-25  2021  Unprovoked  BRAZIL  Pernambuco   \n",
       "13      2021.07.10 2021-07-10  2021  Unprovoked  BRAZIL  Pernambuco   \n",
       "65             NaN 2021-01-13  2021  Unprovoked  BRAZIL  Pernambuco   \n",
       "357   2018.06.03.a 2018-06-03  2018  Unprovoked  BRAZIL  Pernambuco   \n",
       "380   2018.04.15.c 2018-04-15  2018  Unprovoked  BRAZIL  Pernambuco   \n",
       "...            ...        ...   ...         ...     ...         ...   \n",
       "2893    1992.09.10 1992-09-10  1992  Unprovoked  BRAZIL  Pernambuco   \n",
       "2905  1992.06.28.b 1992-06-28  1992  Unprovoked  BRAZIL  Pernambuco   \n",
       "2960    1991.04.24 1991-04-24  1991    Provoked  BRAZIL  Pernambuco   \n",
       "3415   1980.11.11. 1980-11-11  1980  Unprovoked  BRAZIL  Pernambuco   \n",
       "4938    1947.10.10 1947-10-10  1947  Unprovoked  BRAZIL  Pernambuco   \n",
       "\n",
       "                          location                activity  \\\n",
       "3                          Piedade  Squatting in the water   \n",
       "13                         Piedade                  Wading   \n",
       "65          Cacimba do Padre Beach                 Surfing   \n",
       "357          Piedade Beach, Recife                Swimming   \n",
       "380                        Piedade                Swimming   \n",
       "...                            ...                     ...   \n",
       "2893            Boa Viagem, Recife                Swimming   \n",
       "2905                       Piedade                Swimming   \n",
       "2960  Praia de Pau Amarelo, Recife                 Fishing   \n",
       "3415                       Piedade                Swimming   \n",
       "4938                       Piedade               Swimming    \n",
       "\n",
       "                             name sex_  age  \\\n",
       "3     Everton dos Reis Guimarães     M   32   \n",
       "13           Marcelo Rocha Santos    M   51   \n",
       "65                  Sergo Noronha    M   52   \n",
       "357        Jose Ernesto da Silva     M   18   \n",
       "380                 Pablo de Melo    M   34   \n",
       "...                           ...  ...  ...   \n",
       "2893    Enoque Pereira dos Santos    M  NaN   \n",
       "2905       Ubiratan Martins Gomes    M  NaN   \n",
       "2960                         L.F.  NaN  NaN   \n",
       "3415         Ibson Gomes  Vieira     M   16   \n",
       "4938   Father Serafin de Oliveira    M   25   \n",
       "\n",
       "                                                 injury fatal_(y_n)  \\\n",
       "3               Lacerations to poster thigh and buttock           N   \n",
       "13                                                FATAL           Y   \n",
       "65                        Puncture wounds to right hand           N   \n",
       "357                                               FATAL           Y   \n",
       "380   Multiple severe injuries to arms and leg, leg ...         NaN   \n",
       "...                                                 ...         ...   \n",
       "2893                                              FATAL           Y   \n",
       "2905                                              FATAL           Y   \n",
       "2960  2 fingers severed by netted shark PROVOKED INC...           N   \n",
       "3415                                              FATAL           Y   \n",
       "4938                                              FATAL           Y   \n",
       "\n",
       "                time             species_           investigator_or_source  \\\n",
       "3                NaN                  NaN  K. McMurray, TrackingSharks.com   \n",
       "13             13h50                  NaN  K. McMurray, TrackingSharks.com   \n",
       "65               NaN                  NaN  K. McMurray, TrackingSharks.com   \n",
       "357   Late afternoon          Tiger shark   Diario de Pernambuco, 6/4/2018   \n",
       "380              NaN                  NaN                 Globo, 4/16/2018   \n",
       "...              ...                  ...                              ...   \n",
       "2893             NaN                  NaN                        D. Duarte   \n",
       "2905             NaN                  NaN                        D .Duarte   \n",
       "2960       Afternoon  170-kg, 2.8 m shark                      M. Szpilman   \n",
       "3415             NaN                  NaN             JC Online, 6/25/2012   \n",
       "4938             NaN                  NaN             JC Online, 6/25/2012   \n",
       "\n",
       "                                  pdf  \\\n",
       "3               2021.07.25-Brazil.pdf   \n",
       "13              2021.07.10-Santos.pdf   \n",
       "65           2021.01.13.b-Noronha.pdf   \n",
       "357          2018.06.03.a-daSilva.pdf   \n",
       "380           2018.04.15.c-deMelo.pdf   \n",
       "...                               ...   \n",
       "2893         1992.09.10-BoaViagem.pdf   \n",
       "2905  1992.06.28.b-Piedade-Brazil.pdf   \n",
       "2960        1991.04.24-PauAmarelo.pdf   \n",
       "3415            1980.11.11-Vieira.pdf   \n",
       "4938           1947.10.10-Serafim.pdf   \n",
       "\n",
       "                                           href_formula  \\\n",
       "3     http://sharkattackfile.net/spreadsheets/pdf_di...   \n",
       "13    http://sharkattackfile.net/spreadsheets/pdf_di...   \n",
       "65    http://sharkattackfile.net/spreadsheets/pdf_di...   \n",
       "357   http://sharkattackfile.net/spreadsheets/pdf_di...   \n",
       "380   http://sharkattackfile.net/spreadsheets/pdf_di...   \n",
       "...                                                 ...   \n",
       "2893  http://sharkattackfile.net/spreadsheets/pdf_di...   \n",
       "2905  http://sharkattackfile.net/spreadsheets/pdf_di...   \n",
       "2960  http://sharkattackfile.net/spreadsheets/pdf_di...   \n",
       "3415  http://sharkattackfile.net/spreadsheets/pdf_di...   \n",
       "4938  http://sharkattackfile.net/spreadsheets/pdf_di...   \n",
       "\n",
       "                                                   href case_number.1  \\\n",
       "3     http://sharkattackfile.net/spreadsheets/pdf_di...    2021.07.25   \n",
       "13    http://sharkattackfile.net/spreadsheets/pdf_di...    2021.07.10   \n",
       "65    http://sharkattackfile.net/spreadsheets/pdf_di...  2021.01.13.b   \n",
       "357   http://sharkattackfile.net/spreadsheets/pdf_di...  2018.06.03.a   \n",
       "380   http://sharkattackfile.net/spreadsheets/pdf_di...  2018.04.15.c   \n",
       "...                                                 ...           ...   \n",
       "2893  http://sharkattackfile.net/spreadsheets/pdf_di...    1992.09.10   \n",
       "2905  http://sharkattackfile.net/spreadsheets/pdf_di...  1992.06.28.b   \n",
       "2960  http://sharkattackfile.net/spreadsheets/pdf_di...    1991.04.24   \n",
       "3415  http://sharkattackfile.net/spreadsheets/pdf_di...   1980.11.11.   \n",
       "4938  http://sharkattackfile.net/spreadsheets/pdf_di...    1947.10.10   \n",
       "\n",
       "     case_number.2  original_order day_of_week  \n",
       "3       2021.07.25          6674.0      Sunday  \n",
       "13      2021.07.10          6664.0    Saturday  \n",
       "65    2021.01.13.b          6612.0   Wednesday  \n",
       "357   2018.06.03.a          6320.0      Sunday  \n",
       "380   2018.04.15.c          6297.0      Sunday  \n",
       "...            ...             ...         ...  \n",
       "2893    1992.09.10          3784.0    Thursday  \n",
       "2905  1992.06.28.b          3772.0      Sunday  \n",
       "2960    1991.04.24          3717.0   Wednesday  \n",
       "3415   1980.11.11.          3262.0     Tuesday  \n",
       "4938    1947.10.10          1739.0      Friday  \n",
       "\n",
       "[77 rows x 23 columns]"
      ]
     },
     "execution_count": 50,
     "metadata": {},
     "output_type": "execute_result"
    }
   ],
   "source": [
    "df_pernambuco"
   ]
  },
  {
   "cell_type": "markdown",
   "id": "44647b53",
   "metadata": {},
   "source": [
    "### Conferência da coluna \"day_of_week\" em comparação com a coluna \"date\""
   ]
  },
  {
   "cell_type": "code",
   "execution_count": 51,
   "id": "015dd712",
   "metadata": {},
   "outputs": [
    {
     "data": {
      "text/html": [
       "<div>\n",
       "<style scoped>\n",
       "    .dataframe tbody tr th:only-of-type {\n",
       "        vertical-align: middle;\n",
       "    }\n",
       "\n",
       "    .dataframe tbody tr th {\n",
       "        vertical-align: top;\n",
       "    }\n",
       "\n",
       "    .dataframe thead th {\n",
       "        text-align: right;\n",
       "    }\n",
       "</style>\n",
       "<table border=\"1\" class=\"dataframe\">\n",
       "  <thead>\n",
       "    <tr style=\"text-align: right;\">\n",
       "      <th></th>\n",
       "      <th>date</th>\n",
       "      <th>day_of_week</th>\n",
       "    </tr>\n",
       "  </thead>\n",
       "  <tbody>\n",
       "    <tr>\n",
       "      <th>3</th>\n",
       "      <td>2021-07-25</td>\n",
       "      <td>Sunday</td>\n",
       "    </tr>\n",
       "    <tr>\n",
       "      <th>13</th>\n",
       "      <td>2021-07-10</td>\n",
       "      <td>Saturday</td>\n",
       "    </tr>\n",
       "    <tr>\n",
       "      <th>65</th>\n",
       "      <td>2021-01-13</td>\n",
       "      <td>Wednesday</td>\n",
       "    </tr>\n",
       "    <tr>\n",
       "      <th>357</th>\n",
       "      <td>2018-06-03</td>\n",
       "      <td>Sunday</td>\n",
       "    </tr>\n",
       "    <tr>\n",
       "      <th>380</th>\n",
       "      <td>2018-04-15</td>\n",
       "      <td>Sunday</td>\n",
       "    </tr>\n",
       "    <tr>\n",
       "      <th>...</th>\n",
       "      <td>...</td>\n",
       "      <td>...</td>\n",
       "    </tr>\n",
       "    <tr>\n",
       "      <th>2893</th>\n",
       "      <td>1992-09-10</td>\n",
       "      <td>Thursday</td>\n",
       "    </tr>\n",
       "    <tr>\n",
       "      <th>2905</th>\n",
       "      <td>1992-06-28</td>\n",
       "      <td>Sunday</td>\n",
       "    </tr>\n",
       "    <tr>\n",
       "      <th>2960</th>\n",
       "      <td>1991-04-24</td>\n",
       "      <td>Wednesday</td>\n",
       "    </tr>\n",
       "    <tr>\n",
       "      <th>3415</th>\n",
       "      <td>1980-11-11</td>\n",
       "      <td>Tuesday</td>\n",
       "    </tr>\n",
       "    <tr>\n",
       "      <th>4938</th>\n",
       "      <td>1947-10-10</td>\n",
       "      <td>Friday</td>\n",
       "    </tr>\n",
       "  </tbody>\n",
       "</table>\n",
       "<p>77 rows × 2 columns</p>\n",
       "</div>"
      ],
      "text/plain": [
       "           date day_of_week\n",
       "3    2021-07-25      Sunday\n",
       "13   2021-07-10    Saturday\n",
       "65   2021-01-13   Wednesday\n",
       "357  2018-06-03      Sunday\n",
       "380  2018-04-15      Sunday\n",
       "...         ...         ...\n",
       "2893 1992-09-10    Thursday\n",
       "2905 1992-06-28      Sunday\n",
       "2960 1991-04-24   Wednesday\n",
       "3415 1980-11-11     Tuesday\n",
       "4938 1947-10-10      Friday\n",
       "\n",
       "[77 rows x 2 columns]"
      ]
     },
     "execution_count": 51,
     "metadata": {},
     "output_type": "execute_result"
    }
   ],
   "source": [
    "df_pernambuco[['date', 'day_of_week']]"
   ]
  },
  {
   "cell_type": "markdown",
   "id": "e89f6d8f",
   "metadata": {},
   "source": [
    "### Análise para padronização da coluna \"location\""
   ]
  },
  {
   "cell_type": "code",
   "execution_count": 52,
   "id": "d24062e9",
   "metadata": {},
   "outputs": [
    {
     "data": {
      "text/plain": [
       "Boa Viagem, Recife                                          14\n",
       "Piedade                                                     13\n",
       "Boa Viagem Beach, Recife                                     9\n",
       "Paiva                                                        4\n",
       "Piedade Beach, Recife                                        4\n",
       "Piedade, Recife                                              4\n",
       "Candeias                                                     2\n",
       "Piedade Beach                                                2\n",
       "Barra de Jangada                                             2\n",
       "Praia do Pina                                                2\n",
       "Punta Del Chifre Beach, Olinda                               2\n",
       "Pina, Recife                                                 2\n",
       "Pina                                                         1\n",
       "Piedade Beach, Jaboatão dos Guararapes City                  1\n",
       "Pau Amarelo Beach, Paulista District (17 km from Recife)     1\n",
       "Piedade                                                      1\n",
       "Coral Cove Beach                                             1\n",
       "Cacimba do Padre Beach                                       1\n",
       "Body recovered at Goiana                                     1\n",
       "Fernando de Noronha Marine Park                              1\n",
       "Praia del Chifre, Olinda                                     1\n",
       "Praia de Pau Amarelo, Recife                                 1\n",
       "Piedade Beach, Jaboatão dos Guararapes City, Recife          1\n",
       " Boa Viagem Beach, Recife                                    1\n",
       "Fernano de Noronha                                           1\n",
       "Punta Del Chifre, Olinda                                     1\n",
       "Itamaracá                                                    1\n",
       "Coral Cove, Cabo de Santo Agostinho                          1\n",
       "Name: location, dtype: int64"
      ]
     },
     "execution_count": 52,
     "metadata": {},
     "output_type": "execute_result"
    }
   ],
   "source": [
    "df_pernambuco.location.value_counts()"
   ]
  },
  {
   "cell_type": "markdown",
   "id": "e4217732",
   "metadata": {},
   "source": [
    "#### Conferência de valor nulo"
   ]
  },
  {
   "cell_type": "code",
   "execution_count": 53,
   "id": "ef5773d9",
   "metadata": {},
   "outputs": [
    {
     "data": {
      "text/plain": [
       "False    76\n",
       "True      1\n",
       "Name: location, dtype: int64"
      ]
     },
     "execution_count": 53,
     "metadata": {},
     "output_type": "execute_result"
    }
   ],
   "source": [
    "df_pernambuco.location.isnull().value_counts()"
   ]
  },
  {
   "cell_type": "code",
   "execution_count": 54,
   "id": "5596091f",
   "metadata": {},
   "outputs": [
    {
     "data": {
      "text/plain": [
       "3                                   Piedade\n",
       "13                                  Piedade\n",
       "65                   Cacimba do Padre Beach\n",
       "357                   Piedade Beach, Recife\n",
       "380                                 Piedade\n",
       "533         Fernando de Noronha Marine Park\n",
       "537                      Boa Viagem, Recife\n",
       "681                      Fernano de Noronha\n",
       "795                Praia del Chifre, Olinda\n",
       "1008               Boa Viagem Beach, Recife\n",
       "1030                       Coral Cove Beach\n",
       "1108    Coral Cove, Cabo de Santo Agostinho\n",
       "1202         Punta Del Chifre Beach, Olinda\n",
       "1247                          Praia do Pina\n",
       "1260                          Praia do Pina\n",
       "1447                        Piedade, Recife\n",
       "1449                        Piedade, Recife\n",
       "1606               Punta Del Chifre, Olinda\n",
       "1610                        Piedade, Recife\n",
       "1664                              Itamaracá\n",
       "1799                                   Pina\n",
       "1818               Body recovered at Goiana\n",
       "1829         Punta Del Chifre Beach, Olinda\n",
       "1838               Boa Viagem Beach, Recife\n",
       "1849                                Piedade\n",
       "1998                           Pina, Recife\n",
       "2001               Boa Viagem Beach, Recife\n",
       "2025                          Piedade Beach\n",
       "2030                  Piedade Beach, Recife\n",
       "2033                               Piedade \n",
       "Name: location, dtype: object"
      ]
     },
     "execution_count": 54,
     "metadata": {},
     "output_type": "execute_result"
    }
   ],
   "source": [
    "df_pernambuco.location.head(30)"
   ]
  },
  {
   "cell_type": "markdown",
   "id": "ab2d67dc",
   "metadata": {},
   "source": [
    "### Padronização de termos para coluna \"location\"\n",
    "##### (Esta estapa possui otimização do código a ser feita)"
   ]
  },
  {
   "cell_type": "code",
   "execution_count": 55,
   "id": "ef0ba0c4",
   "metadata": {},
   "outputs": [],
   "source": [
    "df_location = df_pernambuco['location'].str.lower().replace('Beach', '')"
   ]
  },
  {
   "cell_type": "code",
   "execution_count": 56,
   "id": "b7c9c0c3",
   "metadata": {},
   "outputs": [],
   "source": [
    "df_location = df_location.str.replace('olinda', '')"
   ]
  },
  {
   "cell_type": "code",
   "execution_count": 57,
   "id": "ae53817b",
   "metadata": {},
   "outputs": [],
   "source": [
    "df_location = df_location.str.replace('city', '')"
   ]
  },
  {
   "cell_type": "code",
   "execution_count": 58,
   "id": "786e2890",
   "metadata": {},
   "outputs": [],
   "source": [
    "df_location = df_location.str.replace('recife', '')"
   ]
  },
  {
   "cell_type": "code",
   "execution_count": 59,
   "id": "bdc7cbce",
   "metadata": {},
   "outputs": [],
   "source": [
    "df_location = df_location.str.replace('praia', '')"
   ]
  },
  {
   "cell_type": "code",
   "execution_count": 60,
   "id": "1d630e02",
   "metadata": {},
   "outputs": [],
   "source": [
    "df_location = df_location.str.replace('beach', '')"
   ]
  },
  {
   "cell_type": "code",
   "execution_count": 61,
   "id": "0ee239ba",
   "metadata": {},
   "outputs": [],
   "source": [
    "df_location = df_location.str.replace(',', '')"
   ]
  },
  {
   "cell_type": "code",
   "execution_count": 62,
   "id": "63e91dc5",
   "metadata": {},
   "outputs": [],
   "source": [
    "df_location = df_location.str.replace(' ', '_')"
   ]
  },
  {
   "cell_type": "code",
   "execution_count": 63,
   "id": "273faf27",
   "metadata": {},
   "outputs": [],
   "source": [
    "df_location = df_location.str.replace('__','_')"
   ]
  },
  {
   "cell_type": "code",
   "execution_count": 64,
   "id": "482dea4e",
   "metadata": {},
   "outputs": [],
   "source": [
    "df_location = df_location.str.replace('_de_pau_amarelo_','pau_amarelo_paulista')"
   ]
  },
  {
   "cell_type": "code",
   "execution_count": 65,
   "id": "28e3601d",
   "metadata": {},
   "outputs": [],
   "source": [
    "df_location = df_location.str.replace('(','')"
   ]
  },
  {
   "cell_type": "code",
   "execution_count": 66,
   "id": "3a38aba3",
   "metadata": {},
   "outputs": [],
   "source": [
    "df_location = df_location.str.replace(')','')"
   ]
  },
  {
   "cell_type": "code",
   "execution_count": 67,
   "id": "77a72329",
   "metadata": {},
   "outputs": [],
   "source": [
    "df_location = df_location.str.replace('_district_17_km_from_','')"
   ]
  },
  {
   "cell_type": "code",
   "execution_count": 68,
   "id": "429ef96e",
   "metadata": {},
   "outputs": [],
   "source": [
    "df_location = df_location.str.replace('piedade_','piedade')"
   ]
  },
  {
   "cell_type": "code",
   "execution_count": 69,
   "id": "e4479088",
   "metadata": {},
   "outputs": [],
   "source": [
    "df_location = df_location.str.replace('fernando_de_noronha_marine_park','fernando_de_noronha')"
   ]
  },
  {
   "cell_type": "code",
   "execution_count": 70,
   "id": "6fd7b4e1",
   "metadata": {},
   "outputs": [],
   "source": [
    "df_location = df_location.str.replace('fernano_de_noronha','fernando_de_noronha')"
   ]
  },
  {
   "cell_type": "code",
   "execution_count": 71,
   "id": "4a389c20",
   "metadata": {},
   "outputs": [],
   "source": [
    "df_location = df_location.str.replace('_boa_viagem_','boa_viagem')"
   ]
  },
  {
   "cell_type": "code",
   "execution_count": 72,
   "id": "b8ddef83",
   "metadata": {},
   "outputs": [],
   "source": [
    "df_location = df_location.str.replace('_boa_viagem','boa_viagem')"
   ]
  },
  {
   "cell_type": "code",
   "execution_count": 73,
   "id": "715f46d3",
   "metadata": {},
   "outputs": [],
   "source": [
    "df_location = df_location.str.replace('boa_viagem_','boa_viagem')"
   ]
  },
  {
   "cell_type": "code",
   "execution_count": 74,
   "id": "9bd87521",
   "metadata": {},
   "outputs": [],
   "source": [
    "df_location = df_location.str.replace('_del_chifre_','punta_del_chifre')"
   ]
  },
  {
   "cell_type": "code",
   "execution_count": 75,
   "id": "5b67a6bc",
   "metadata": {},
   "outputs": [],
   "source": [
    "df_location = df_location.str.replace('del_chifre_','punta_del_chifre')"
   ]
  },
  {
   "cell_type": "code",
   "execution_count": 76,
   "id": "5f78dd0a",
   "metadata": {},
   "outputs": [],
   "source": [
    "df_location = df_location.str.replace('puntadel_chifre_','punta_del_chifre')"
   ]
  },
  {
   "cell_type": "code",
   "execution_count": 77,
   "id": "10ace754",
   "metadata": {},
   "outputs": [],
   "source": [
    "df_location = df_location.str.replace('_do_pina','pina')"
   ]
  },
  {
   "cell_type": "code",
   "execution_count": 78,
   "id": "f8c5a218",
   "metadata": {},
   "outputs": [],
   "source": [
    "df_location = df_location.str.replace('pina_','pina')"
   ]
  },
  {
   "cell_type": "code",
   "execution_count": 79,
   "id": "58c0a8ab",
   "metadata": {},
   "outputs": [],
   "source": [
    "df_location = df_location.str.replace('coral_cove_','coral_cove')"
   ]
  },
  {
   "cell_type": "code",
   "execution_count": 80,
   "id": "5c8a4a9d",
   "metadata": {},
   "outputs": [],
   "source": [
    "df_location = df_location.str.replace('coral_cove','enseada_dos_corais')"
   ]
  },
  {
   "cell_type": "code",
   "execution_count": 81,
   "id": "381d5fd7",
   "metadata": {},
   "outputs": [],
   "source": [
    "df_location = df_location.str.replace('cacimba_do_padre_','cacimba_do_padre')"
   ]
  },
  {
   "cell_type": "code",
   "execution_count": 82,
   "id": "f533a053",
   "metadata": {},
   "outputs": [],
   "source": [
    "df_location = df_location.str.replace('body_recovered_at_goiana', 'Unknown')"
   ]
  },
  {
   "cell_type": "code",
   "execution_count": 83,
   "id": "9cea3ba3",
   "metadata": {},
   "outputs": [],
   "source": [
    "df_location = df_location.str.replace('enseada_dos_coraiscabo_de_santo_agostinho','enseada_dos_corais')"
   ]
  },
  {
   "cell_type": "code",
   "execution_count": 84,
   "id": "bc0c4e8d",
   "metadata": {},
   "outputs": [],
   "source": [
    "df_location = df_location.str.replace('puntapunta_del_chifre','punta_del_chifre')"
   ]
  },
  {
   "cell_type": "code",
   "execution_count": 85,
   "id": "c30ca9f9",
   "metadata": {},
   "outputs": [],
   "source": [
    "df_location = df_location.str.replace('piedadejaboatão_dos_guararapes_','piedade')"
   ]
  },
  {
   "cell_type": "markdown",
   "id": "9435f1b6",
   "metadata": {},
   "source": [
    "#### Visão sem nomes duplicados"
   ]
  },
  {
   "cell_type": "code",
   "execution_count": 86,
   "id": "3fa51226",
   "metadata": {},
   "outputs": [
    {
     "data": {
      "text/plain": [
       "1818                 Unknown\n",
       "2631        barra_de_jangada\n",
       "2581              boa_viagem\n",
       "65          cacimba_do_padre\n",
       "2729                candeias\n",
       "1030      enseada_dos_corais\n",
       "533      fernando_de_noronha\n",
       "1664               itamaracá\n",
       "2770                   paiva\n",
       "2138    pau_amarelo_paulista\n",
       "3                    piedade\n",
       "1998                    pina\n",
       "1202        punta_del_chifre\n",
       "2637                     NaN\n",
       "Name: location, dtype: object"
      ]
     },
     "execution_count": 86,
     "metadata": {},
     "output_type": "execute_result"
    }
   ],
   "source": [
    "df_location.sort_values(ascending=True).drop_duplicates()"
   ]
  },
  {
   "cell_type": "markdown",
   "id": "f374a267",
   "metadata": {},
   "source": [
    "#### Preenchimento de valor nulo com nome \"Unknown\""
   ]
  },
  {
   "cell_type": "code",
   "execution_count": 87,
   "id": "df4c99c5",
   "metadata": {},
   "outputs": [
    {
     "data": {
      "text/plain": [
       "3                    piedade\n",
       "65          cacimba_do_padre\n",
       "533      fernando_de_noronha\n",
       "537               boa_viagem\n",
       "795         punta_del_chifre\n",
       "1030      enseada_dos_corais\n",
       "1247                    pina\n",
       "1664               itamaracá\n",
       "1818                 Unknown\n",
       "2138    pau_amarelo_paulista\n",
       "2245                candeias\n",
       "2604                   paiva\n",
       "2631        barra_de_jangada\n",
       "Name: location, dtype: object"
      ]
     },
     "execution_count": 87,
     "metadata": {},
     "output_type": "execute_result"
    }
   ],
   "source": [
    "df_location.fillna('Unknown').drop_duplicates()"
   ]
  },
  {
   "cell_type": "code",
   "execution_count": 88,
   "id": "c177069d",
   "metadata": {},
   "outputs": [],
   "source": [
    "df_location.fillna('Unknown', inplace=True)"
   ]
  },
  {
   "cell_type": "markdown",
   "id": "55323888",
   "metadata": {},
   "source": [
    "#### Continua-se com a mesma quantidade de itens do início. Não houve perda de dados."
   ]
  },
  {
   "cell_type": "code",
   "execution_count": 89,
   "id": "446e2ece",
   "metadata": {},
   "outputs": [
    {
     "data": {
      "text/plain": [
       "3                    piedade\n",
       "13                   piedade\n",
       "65          cacimba_do_padre\n",
       "357                  piedade\n",
       "380                  piedade\n",
       "                ...         \n",
       "2893              boa_viagem\n",
       "2905                 piedade\n",
       "2960    pau_amarelo_paulista\n",
       "3415                 piedade\n",
       "4938                 piedade\n",
       "Name: location, Length: 77, dtype: object"
      ]
     },
     "execution_count": 89,
     "metadata": {},
     "output_type": "execute_result"
    }
   ],
   "source": [
    "df_location"
   ]
  },
  {
   "cell_type": "code",
   "execution_count": 90,
   "id": "a48b8437",
   "metadata": {},
   "outputs": [],
   "source": [
    "df_pernambuco = df_pernambuco.assign(loc_check=df_location)"
   ]
  },
  {
   "cell_type": "code",
   "execution_count": 91,
   "id": "d6af760a",
   "metadata": {},
   "outputs": [
    {
     "data": {
      "text/html": [
       "<div>\n",
       "<style scoped>\n",
       "    .dataframe tbody tr th:only-of-type {\n",
       "        vertical-align: middle;\n",
       "    }\n",
       "\n",
       "    .dataframe tbody tr th {\n",
       "        vertical-align: top;\n",
       "    }\n",
       "\n",
       "    .dataframe thead th {\n",
       "        text-align: right;\n",
       "    }\n",
       "</style>\n",
       "<table border=\"1\" class=\"dataframe\">\n",
       "  <thead>\n",
       "    <tr style=\"text-align: right;\">\n",
       "      <th></th>\n",
       "      <th>case_number</th>\n",
       "      <th>date</th>\n",
       "      <th>year</th>\n",
       "      <th>type</th>\n",
       "      <th>country</th>\n",
       "      <th>area</th>\n",
       "      <th>location</th>\n",
       "      <th>activity</th>\n",
       "      <th>name</th>\n",
       "      <th>sex_</th>\n",
       "      <th>age</th>\n",
       "      <th>injury</th>\n",
       "      <th>fatal_(y_n)</th>\n",
       "      <th>time</th>\n",
       "      <th>species_</th>\n",
       "      <th>investigator_or_source</th>\n",
       "      <th>pdf</th>\n",
       "      <th>href_formula</th>\n",
       "      <th>href</th>\n",
       "      <th>case_number.1</th>\n",
       "      <th>case_number.2</th>\n",
       "      <th>original_order</th>\n",
       "      <th>day_of_week</th>\n",
       "      <th>loc_check</th>\n",
       "    </tr>\n",
       "  </thead>\n",
       "  <tbody>\n",
       "    <tr>\n",
       "      <th>3</th>\n",
       "      <td>2021.07.25</td>\n",
       "      <td>2021-07-25</td>\n",
       "      <td>2021</td>\n",
       "      <td>Unprovoked</td>\n",
       "      <td>BRAZIL</td>\n",
       "      <td>Pernambuco</td>\n",
       "      <td>Piedade</td>\n",
       "      <td>Squatting in the water</td>\n",
       "      <td>Everton dos Reis Guimarães</td>\n",
       "      <td>M</td>\n",
       "      <td>32</td>\n",
       "      <td>Lacerations to poster thigh and buttock</td>\n",
       "      <td>N</td>\n",
       "      <td>NaN</td>\n",
       "      <td>NaN</td>\n",
       "      <td>K. McMurray, TrackingSharks.com</td>\n",
       "      <td>2021.07.25-Brazil.pdf</td>\n",
       "      <td>http://sharkattackfile.net/spreadsheets/pdf_di...</td>\n",
       "      <td>http://sharkattackfile.net/spreadsheets/pdf_di...</td>\n",
       "      <td>2021.07.25</td>\n",
       "      <td>2021.07.25</td>\n",
       "      <td>6674.0</td>\n",
       "      <td>Sunday</td>\n",
       "      <td>piedade</td>\n",
       "    </tr>\n",
       "    <tr>\n",
       "      <th>13</th>\n",
       "      <td>2021.07.10</td>\n",
       "      <td>2021-07-10</td>\n",
       "      <td>2021</td>\n",
       "      <td>Unprovoked</td>\n",
       "      <td>BRAZIL</td>\n",
       "      <td>Pernambuco</td>\n",
       "      <td>Piedade</td>\n",
       "      <td>Wading</td>\n",
       "      <td>Marcelo Rocha Santos</td>\n",
       "      <td>M</td>\n",
       "      <td>51</td>\n",
       "      <td>FATAL</td>\n",
       "      <td>Y</td>\n",
       "      <td>13h50</td>\n",
       "      <td>NaN</td>\n",
       "      <td>K. McMurray, TrackingSharks.com</td>\n",
       "      <td>2021.07.10-Santos.pdf</td>\n",
       "      <td>http://sharkattackfile.net/spreadsheets/pdf_di...</td>\n",
       "      <td>http://sharkattackfile.net/spreadsheets/pdf_di...</td>\n",
       "      <td>2021.07.10</td>\n",
       "      <td>2021.07.10</td>\n",
       "      <td>6664.0</td>\n",
       "      <td>Saturday</td>\n",
       "      <td>piedade</td>\n",
       "    </tr>\n",
       "    <tr>\n",
       "      <th>65</th>\n",
       "      <td>NaN</td>\n",
       "      <td>2021-01-13</td>\n",
       "      <td>2021</td>\n",
       "      <td>Unprovoked</td>\n",
       "      <td>BRAZIL</td>\n",
       "      <td>Pernambuco</td>\n",
       "      <td>Cacimba do Padre Beach</td>\n",
       "      <td>Surfing</td>\n",
       "      <td>Sergo Noronha</td>\n",
       "      <td>M</td>\n",
       "      <td>52</td>\n",
       "      <td>Puncture wounds to right hand</td>\n",
       "      <td>N</td>\n",
       "      <td>NaN</td>\n",
       "      <td>NaN</td>\n",
       "      <td>K. McMurray, TrackingSharks.com</td>\n",
       "      <td>2021.01.13.b-Noronha.pdf</td>\n",
       "      <td>http://sharkattackfile.net/spreadsheets/pdf_di...</td>\n",
       "      <td>http://sharkattackfile.net/spreadsheets/pdf_di...</td>\n",
       "      <td>2021.01.13.b</td>\n",
       "      <td>2021.01.13.b</td>\n",
       "      <td>6612.0</td>\n",
       "      <td>Wednesday</td>\n",
       "      <td>cacimba_do_padre</td>\n",
       "    </tr>\n",
       "    <tr>\n",
       "      <th>357</th>\n",
       "      <td>2018.06.03.a</td>\n",
       "      <td>2018-06-03</td>\n",
       "      <td>2018</td>\n",
       "      <td>Unprovoked</td>\n",
       "      <td>BRAZIL</td>\n",
       "      <td>Pernambuco</td>\n",
       "      <td>Piedade Beach, Recife</td>\n",
       "      <td>Swimming</td>\n",
       "      <td>Jose Ernesto da Silva</td>\n",
       "      <td>M</td>\n",
       "      <td>18</td>\n",
       "      <td>FATAL</td>\n",
       "      <td>Y</td>\n",
       "      <td>Late afternoon</td>\n",
       "      <td>Tiger shark</td>\n",
       "      <td>Diario de Pernambuco, 6/4/2018</td>\n",
       "      <td>2018.06.03.a-daSilva.pdf</td>\n",
       "      <td>http://sharkattackfile.net/spreadsheets/pdf_di...</td>\n",
       "      <td>http://sharkattackfile.net/spreadsheets/pdf_di...</td>\n",
       "      <td>2018.06.03.a</td>\n",
       "      <td>2018.06.03.a</td>\n",
       "      <td>6320.0</td>\n",
       "      <td>Sunday</td>\n",
       "      <td>piedade</td>\n",
       "    </tr>\n",
       "    <tr>\n",
       "      <th>380</th>\n",
       "      <td>2018.04.15.c</td>\n",
       "      <td>2018-04-15</td>\n",
       "      <td>2018</td>\n",
       "      <td>Unprovoked</td>\n",
       "      <td>BRAZIL</td>\n",
       "      <td>Pernambuco</td>\n",
       "      <td>Piedade</td>\n",
       "      <td>Swimming</td>\n",
       "      <td>Pablo de Melo</td>\n",
       "      <td>M</td>\n",
       "      <td>34</td>\n",
       "      <td>Multiple severe injuries to arms and leg, leg ...</td>\n",
       "      <td>NaN</td>\n",
       "      <td>NaN</td>\n",
       "      <td>NaN</td>\n",
       "      <td>Globo, 4/16/2018</td>\n",
       "      <td>2018.04.15.c-deMelo.pdf</td>\n",
       "      <td>http://sharkattackfile.net/spreadsheets/pdf_di...</td>\n",
       "      <td>http://sharkattackfile.net/spreadsheets/pdf_di...</td>\n",
       "      <td>2018.04.15.c</td>\n",
       "      <td>2018.04.15.c</td>\n",
       "      <td>6297.0</td>\n",
       "      <td>Sunday</td>\n",
       "      <td>piedade</td>\n",
       "    </tr>\n",
       "    <tr>\n",
       "      <th>...</th>\n",
       "      <td>...</td>\n",
       "      <td>...</td>\n",
       "      <td>...</td>\n",
       "      <td>...</td>\n",
       "      <td>...</td>\n",
       "      <td>...</td>\n",
       "      <td>...</td>\n",
       "      <td>...</td>\n",
       "      <td>...</td>\n",
       "      <td>...</td>\n",
       "      <td>...</td>\n",
       "      <td>...</td>\n",
       "      <td>...</td>\n",
       "      <td>...</td>\n",
       "      <td>...</td>\n",
       "      <td>...</td>\n",
       "      <td>...</td>\n",
       "      <td>...</td>\n",
       "      <td>...</td>\n",
       "      <td>...</td>\n",
       "      <td>...</td>\n",
       "      <td>...</td>\n",
       "      <td>...</td>\n",
       "      <td>...</td>\n",
       "    </tr>\n",
       "    <tr>\n",
       "      <th>2893</th>\n",
       "      <td>1992.09.10</td>\n",
       "      <td>1992-09-10</td>\n",
       "      <td>1992</td>\n",
       "      <td>Unprovoked</td>\n",
       "      <td>BRAZIL</td>\n",
       "      <td>Pernambuco</td>\n",
       "      <td>Boa Viagem, Recife</td>\n",
       "      <td>Swimming</td>\n",
       "      <td>Enoque Pereira dos Santos</td>\n",
       "      <td>M</td>\n",
       "      <td>NaN</td>\n",
       "      <td>FATAL</td>\n",
       "      <td>Y</td>\n",
       "      <td>NaN</td>\n",
       "      <td>NaN</td>\n",
       "      <td>D. Duarte</td>\n",
       "      <td>1992.09.10-BoaViagem.pdf</td>\n",
       "      <td>http://sharkattackfile.net/spreadsheets/pdf_di...</td>\n",
       "      <td>http://sharkattackfile.net/spreadsheets/pdf_di...</td>\n",
       "      <td>1992.09.10</td>\n",
       "      <td>1992.09.10</td>\n",
       "      <td>3784.0</td>\n",
       "      <td>Thursday</td>\n",
       "      <td>boa_viagem</td>\n",
       "    </tr>\n",
       "    <tr>\n",
       "      <th>2905</th>\n",
       "      <td>1992.06.28.b</td>\n",
       "      <td>1992-06-28</td>\n",
       "      <td>1992</td>\n",
       "      <td>Unprovoked</td>\n",
       "      <td>BRAZIL</td>\n",
       "      <td>Pernambuco</td>\n",
       "      <td>Piedade</td>\n",
       "      <td>Swimming</td>\n",
       "      <td>Ubiratan Martins Gomes</td>\n",
       "      <td>M</td>\n",
       "      <td>NaN</td>\n",
       "      <td>FATAL</td>\n",
       "      <td>Y</td>\n",
       "      <td>NaN</td>\n",
       "      <td>NaN</td>\n",
       "      <td>D .Duarte</td>\n",
       "      <td>1992.06.28.b-Piedade-Brazil.pdf</td>\n",
       "      <td>http://sharkattackfile.net/spreadsheets/pdf_di...</td>\n",
       "      <td>http://sharkattackfile.net/spreadsheets/pdf_di...</td>\n",
       "      <td>1992.06.28.b</td>\n",
       "      <td>1992.06.28.b</td>\n",
       "      <td>3772.0</td>\n",
       "      <td>Sunday</td>\n",
       "      <td>piedade</td>\n",
       "    </tr>\n",
       "    <tr>\n",
       "      <th>2960</th>\n",
       "      <td>1991.04.24</td>\n",
       "      <td>1991-04-24</td>\n",
       "      <td>1991</td>\n",
       "      <td>Provoked</td>\n",
       "      <td>BRAZIL</td>\n",
       "      <td>Pernambuco</td>\n",
       "      <td>Praia de Pau Amarelo, Recife</td>\n",
       "      <td>Fishing</td>\n",
       "      <td>L.F.</td>\n",
       "      <td>NaN</td>\n",
       "      <td>NaN</td>\n",
       "      <td>2 fingers severed by netted shark PROVOKED INC...</td>\n",
       "      <td>N</td>\n",
       "      <td>Afternoon</td>\n",
       "      <td>170-kg, 2.8 m shark</td>\n",
       "      <td>M. Szpilman</td>\n",
       "      <td>1991.04.24-PauAmarelo.pdf</td>\n",
       "      <td>http://sharkattackfile.net/spreadsheets/pdf_di...</td>\n",
       "      <td>http://sharkattackfile.net/spreadsheets/pdf_di...</td>\n",
       "      <td>1991.04.24</td>\n",
       "      <td>1991.04.24</td>\n",
       "      <td>3717.0</td>\n",
       "      <td>Wednesday</td>\n",
       "      <td>pau_amarelo_paulista</td>\n",
       "    </tr>\n",
       "    <tr>\n",
       "      <th>3415</th>\n",
       "      <td>1980.11.11.</td>\n",
       "      <td>1980-11-11</td>\n",
       "      <td>1980</td>\n",
       "      <td>Unprovoked</td>\n",
       "      <td>BRAZIL</td>\n",
       "      <td>Pernambuco</td>\n",
       "      <td>Piedade</td>\n",
       "      <td>Swimming</td>\n",
       "      <td>Ibson Gomes  Vieira</td>\n",
       "      <td>M</td>\n",
       "      <td>16</td>\n",
       "      <td>FATAL</td>\n",
       "      <td>Y</td>\n",
       "      <td>NaN</td>\n",
       "      <td>NaN</td>\n",
       "      <td>JC Online, 6/25/2012</td>\n",
       "      <td>1980.11.11-Vieira.pdf</td>\n",
       "      <td>http://sharkattackfile.net/spreadsheets/pdf_di...</td>\n",
       "      <td>http://sharkattackfile.net/spreadsheets/pdf_di...</td>\n",
       "      <td>1980.11.11.</td>\n",
       "      <td>1980.11.11.</td>\n",
       "      <td>3262.0</td>\n",
       "      <td>Tuesday</td>\n",
       "      <td>piedade</td>\n",
       "    </tr>\n",
       "    <tr>\n",
       "      <th>4938</th>\n",
       "      <td>1947.10.10</td>\n",
       "      <td>1947-10-10</td>\n",
       "      <td>1947</td>\n",
       "      <td>Unprovoked</td>\n",
       "      <td>BRAZIL</td>\n",
       "      <td>Pernambuco</td>\n",
       "      <td>Piedade</td>\n",
       "      <td>Swimming</td>\n",
       "      <td>Father Serafin de Oliveira</td>\n",
       "      <td>M</td>\n",
       "      <td>25</td>\n",
       "      <td>FATAL</td>\n",
       "      <td>Y</td>\n",
       "      <td>NaN</td>\n",
       "      <td>NaN</td>\n",
       "      <td>JC Online, 6/25/2012</td>\n",
       "      <td>1947.10.10-Serafim.pdf</td>\n",
       "      <td>http://sharkattackfile.net/spreadsheets/pdf_di...</td>\n",
       "      <td>http://sharkattackfile.net/spreadsheets/pdf_di...</td>\n",
       "      <td>1947.10.10</td>\n",
       "      <td>1947.10.10</td>\n",
       "      <td>1739.0</td>\n",
       "      <td>Friday</td>\n",
       "      <td>piedade</td>\n",
       "    </tr>\n",
       "  </tbody>\n",
       "</table>\n",
       "<p>77 rows × 24 columns</p>\n",
       "</div>"
      ],
      "text/plain": [
       "       case_number       date  year        type country        area  \\\n",
       "3       2021.07.25 2021-07-25  2021  Unprovoked  BRAZIL  Pernambuco   \n",
       "13      2021.07.10 2021-07-10  2021  Unprovoked  BRAZIL  Pernambuco   \n",
       "65             NaN 2021-01-13  2021  Unprovoked  BRAZIL  Pernambuco   \n",
       "357   2018.06.03.a 2018-06-03  2018  Unprovoked  BRAZIL  Pernambuco   \n",
       "380   2018.04.15.c 2018-04-15  2018  Unprovoked  BRAZIL  Pernambuco   \n",
       "...            ...        ...   ...         ...     ...         ...   \n",
       "2893    1992.09.10 1992-09-10  1992  Unprovoked  BRAZIL  Pernambuco   \n",
       "2905  1992.06.28.b 1992-06-28  1992  Unprovoked  BRAZIL  Pernambuco   \n",
       "2960    1991.04.24 1991-04-24  1991    Provoked  BRAZIL  Pernambuco   \n",
       "3415   1980.11.11. 1980-11-11  1980  Unprovoked  BRAZIL  Pernambuco   \n",
       "4938    1947.10.10 1947-10-10  1947  Unprovoked  BRAZIL  Pernambuco   \n",
       "\n",
       "                          location                activity  \\\n",
       "3                          Piedade  Squatting in the water   \n",
       "13                         Piedade                  Wading   \n",
       "65          Cacimba do Padre Beach                 Surfing   \n",
       "357          Piedade Beach, Recife                Swimming   \n",
       "380                        Piedade                Swimming   \n",
       "...                            ...                     ...   \n",
       "2893            Boa Viagem, Recife                Swimming   \n",
       "2905                       Piedade                Swimming   \n",
       "2960  Praia de Pau Amarelo, Recife                 Fishing   \n",
       "3415                       Piedade                Swimming   \n",
       "4938                       Piedade               Swimming    \n",
       "\n",
       "                             name sex_  age  \\\n",
       "3     Everton dos Reis Guimarães     M   32   \n",
       "13           Marcelo Rocha Santos    M   51   \n",
       "65                  Sergo Noronha    M   52   \n",
       "357        Jose Ernesto da Silva     M   18   \n",
       "380                 Pablo de Melo    M   34   \n",
       "...                           ...  ...  ...   \n",
       "2893    Enoque Pereira dos Santos    M  NaN   \n",
       "2905       Ubiratan Martins Gomes    M  NaN   \n",
       "2960                         L.F.  NaN  NaN   \n",
       "3415         Ibson Gomes  Vieira     M   16   \n",
       "4938   Father Serafin de Oliveira    M   25   \n",
       "\n",
       "                                                 injury fatal_(y_n)  \\\n",
       "3               Lacerations to poster thigh and buttock           N   \n",
       "13                                                FATAL           Y   \n",
       "65                        Puncture wounds to right hand           N   \n",
       "357                                               FATAL           Y   \n",
       "380   Multiple severe injuries to arms and leg, leg ...         NaN   \n",
       "...                                                 ...         ...   \n",
       "2893                                              FATAL           Y   \n",
       "2905                                              FATAL           Y   \n",
       "2960  2 fingers severed by netted shark PROVOKED INC...           N   \n",
       "3415                                              FATAL           Y   \n",
       "4938                                              FATAL           Y   \n",
       "\n",
       "                time             species_           investigator_or_source  \\\n",
       "3                NaN                  NaN  K. McMurray, TrackingSharks.com   \n",
       "13             13h50                  NaN  K. McMurray, TrackingSharks.com   \n",
       "65               NaN                  NaN  K. McMurray, TrackingSharks.com   \n",
       "357   Late afternoon          Tiger shark   Diario de Pernambuco, 6/4/2018   \n",
       "380              NaN                  NaN                 Globo, 4/16/2018   \n",
       "...              ...                  ...                              ...   \n",
       "2893             NaN                  NaN                        D. Duarte   \n",
       "2905             NaN                  NaN                        D .Duarte   \n",
       "2960       Afternoon  170-kg, 2.8 m shark                      M. Szpilman   \n",
       "3415             NaN                  NaN             JC Online, 6/25/2012   \n",
       "4938             NaN                  NaN             JC Online, 6/25/2012   \n",
       "\n",
       "                                  pdf  \\\n",
       "3               2021.07.25-Brazil.pdf   \n",
       "13              2021.07.10-Santos.pdf   \n",
       "65           2021.01.13.b-Noronha.pdf   \n",
       "357          2018.06.03.a-daSilva.pdf   \n",
       "380           2018.04.15.c-deMelo.pdf   \n",
       "...                               ...   \n",
       "2893         1992.09.10-BoaViagem.pdf   \n",
       "2905  1992.06.28.b-Piedade-Brazil.pdf   \n",
       "2960        1991.04.24-PauAmarelo.pdf   \n",
       "3415            1980.11.11-Vieira.pdf   \n",
       "4938           1947.10.10-Serafim.pdf   \n",
       "\n",
       "                                           href_formula  \\\n",
       "3     http://sharkattackfile.net/spreadsheets/pdf_di...   \n",
       "13    http://sharkattackfile.net/spreadsheets/pdf_di...   \n",
       "65    http://sharkattackfile.net/spreadsheets/pdf_di...   \n",
       "357   http://sharkattackfile.net/spreadsheets/pdf_di...   \n",
       "380   http://sharkattackfile.net/spreadsheets/pdf_di...   \n",
       "...                                                 ...   \n",
       "2893  http://sharkattackfile.net/spreadsheets/pdf_di...   \n",
       "2905  http://sharkattackfile.net/spreadsheets/pdf_di...   \n",
       "2960  http://sharkattackfile.net/spreadsheets/pdf_di...   \n",
       "3415  http://sharkattackfile.net/spreadsheets/pdf_di...   \n",
       "4938  http://sharkattackfile.net/spreadsheets/pdf_di...   \n",
       "\n",
       "                                                   href case_number.1  \\\n",
       "3     http://sharkattackfile.net/spreadsheets/pdf_di...    2021.07.25   \n",
       "13    http://sharkattackfile.net/spreadsheets/pdf_di...    2021.07.10   \n",
       "65    http://sharkattackfile.net/spreadsheets/pdf_di...  2021.01.13.b   \n",
       "357   http://sharkattackfile.net/spreadsheets/pdf_di...  2018.06.03.a   \n",
       "380   http://sharkattackfile.net/spreadsheets/pdf_di...  2018.04.15.c   \n",
       "...                                                 ...           ...   \n",
       "2893  http://sharkattackfile.net/spreadsheets/pdf_di...    1992.09.10   \n",
       "2905  http://sharkattackfile.net/spreadsheets/pdf_di...  1992.06.28.b   \n",
       "2960  http://sharkattackfile.net/spreadsheets/pdf_di...    1991.04.24   \n",
       "3415  http://sharkattackfile.net/spreadsheets/pdf_di...   1980.11.11.   \n",
       "4938  http://sharkattackfile.net/spreadsheets/pdf_di...    1947.10.10   \n",
       "\n",
       "     case_number.2  original_order day_of_week             loc_check  \n",
       "3       2021.07.25          6674.0      Sunday               piedade  \n",
       "13      2021.07.10          6664.0    Saturday               piedade  \n",
       "65    2021.01.13.b          6612.0   Wednesday      cacimba_do_padre  \n",
       "357   2018.06.03.a          6320.0      Sunday               piedade  \n",
       "380   2018.04.15.c          6297.0      Sunday               piedade  \n",
       "...            ...             ...         ...                   ...  \n",
       "2893    1992.09.10          3784.0    Thursday            boa_viagem  \n",
       "2905  1992.06.28.b          3772.0      Sunday               piedade  \n",
       "2960    1991.04.24          3717.0   Wednesday  pau_amarelo_paulista  \n",
       "3415   1980.11.11.          3262.0     Tuesday               piedade  \n",
       "4938    1947.10.10          1739.0      Friday               piedade  \n",
       "\n",
       "[77 rows x 24 columns]"
      ]
     },
     "execution_count": 91,
     "metadata": {},
     "output_type": "execute_result"
    }
   ],
   "source": [
    "df_pernambuco"
   ]
  },
  {
   "cell_type": "markdown",
   "id": "47629fe6",
   "metadata": {},
   "source": [
    "### Análise coluna \"case_number\"\n",
    "##### A coluna não foi utiluizada na análise final"
   ]
  },
  {
   "cell_type": "code",
   "execution_count": 92,
   "id": "aa5b151a",
   "metadata": {},
   "outputs": [
    {
     "data": {
      "text/plain": [
       "3         2021.07.25\n",
       "13        2021.07.10\n",
       "65               NaN\n",
       "357     2018.06.03.a\n",
       "380     2018.04.15.c\n",
       "            ...     \n",
       "2893      1992.09.10\n",
       "2905    1992.06.28.b\n",
       "2960      1991.04.24\n",
       "3415     1980.11.11.\n",
       "4938      1947.10.10\n",
       "Name: case_number, Length: 77, dtype: object"
      ]
     },
     "execution_count": 92,
     "metadata": {},
     "output_type": "execute_result"
    }
   ],
   "source": [
    "df_pernambuco.case_number.astype('float64', errors='ignore')"
   ]
  },
  {
   "cell_type": "code",
   "execution_count": 93,
   "id": "9e6f9766",
   "metadata": {},
   "outputs": [
    {
     "data": {
      "text/plain": [
       "False    0.987013\n",
       "True     0.012987\n",
       "Name: case_number, dtype: float64"
      ]
     },
     "execution_count": 93,
     "metadata": {},
     "output_type": "execute_result"
    }
   ],
   "source": [
    "df_pernambuco.case_number.isnull().value_counts(normalize=True)"
   ]
  },
  {
   "cell_type": "code",
   "execution_count": 94,
   "id": "27118907",
   "metadata": {},
   "outputs": [
    {
     "data": {
      "text/plain": [
       "3         2021.07.25\n",
       "13        2021.07.10\n",
       "65               NaN\n",
       "357     2018.06.03.a\n",
       "380     2018.04.15.c\n",
       "            ...     \n",
       "2893      1992.09.10\n",
       "2905    1992.06.28.b\n",
       "2960      1991.04.24\n",
       "3415     1980.11.11.\n",
       "4938      1947.10.10\n",
       "Name: case_number, Length: 77, dtype: object"
      ]
     },
     "execution_count": 94,
     "metadata": {},
     "output_type": "execute_result"
    }
   ],
   "source": [
    "df_pernambuco.case_number.astype('float64', errors='ignore')"
   ]
  },
  {
   "cell_type": "markdown",
   "id": "35f56df3",
   "metadata": {},
   "source": [
    "### Nova conferência de valores nulos\n",
    "##### (Colunas analisadas: date, species_, age, sex_)"
   ]
  },
  {
   "cell_type": "code",
   "execution_count": 95,
   "id": "b8888d2f",
   "metadata": {},
   "outputs": [
    {
     "data": {
      "text/plain": [
       "False    1.0\n",
       "Name: date, dtype: float64"
      ]
     },
     "execution_count": 95,
     "metadata": {},
     "output_type": "execute_result"
    }
   ],
   "source": [
    "df_pernambuco.date.isnull().value_counts(normalize=True)"
   ]
  },
  {
   "cell_type": "code",
   "execution_count": 96,
   "id": "7b6260c4",
   "metadata": {},
   "outputs": [
    {
     "data": {
      "text/plain": [
       "True     0.701299\n",
       "False    0.298701\n",
       "Name: species_, dtype: float64"
      ]
     },
     "execution_count": 96,
     "metadata": {},
     "output_type": "execute_result"
    }
   ],
   "source": [
    "df_pernambuco.species_.isnull().value_counts(normalize=True)"
   ]
  },
  {
   "cell_type": "markdown",
   "id": "b0503d23",
   "metadata": {},
   "source": [
    "#### Descarta-se \"age\" pela quantidade de valores nulos"
   ]
  },
  {
   "cell_type": "code",
   "execution_count": 97,
   "id": "498fd62e",
   "metadata": {},
   "outputs": [
    {
     "data": {
      "text/plain": [
       "False    0.636364\n",
       "True     0.363636\n",
       "Name: age, dtype: float64"
      ]
     },
     "execution_count": 97,
     "metadata": {},
     "output_type": "execute_result"
    }
   ],
   "source": [
    "df_pernambuco.age.isnull().value_counts(normalize=True)"
   ]
  },
  {
   "cell_type": "markdown",
   "id": "8398fe74",
   "metadata": {},
   "source": [
    "#### Decide-se usar coluna \"sex\" por ter quantidade satisfatória de dados"
   ]
  },
  {
   "cell_type": "code",
   "execution_count": 98,
   "id": "447d5f53",
   "metadata": {},
   "outputs": [
    {
     "data": {
      "text/plain": [
       "False    0.909091\n",
       "True     0.090909\n",
       "Name: sex_, dtype: float64"
      ]
     },
     "execution_count": 98,
     "metadata": {},
     "output_type": "execute_result"
    }
   ],
   "source": [
    "df_pernambuco.sex_.isnull().value_counts(normalize=True)"
   ]
  },
  {
   "cell_type": "code",
   "execution_count": 99,
   "id": "114dcfbd",
   "metadata": {},
   "outputs": [
    {
     "data": {
      "text/plain": [
       "3         M\n",
       "533       F\n",
       "1998    NaN\n",
       "Name: sex_, dtype: object"
      ]
     },
     "execution_count": 99,
     "metadata": {},
     "output_type": "execute_result"
    }
   ],
   "source": [
    "df_pernambuco.sex_.drop_duplicates()"
   ]
  },
  {
   "cell_type": "code",
   "execution_count": 208,
   "id": "4fda039f",
   "metadata": {},
   "outputs": [
    {
     "data": {
      "text/plain": [
       "M    67\n",
       "F     3\n",
       "Name: sex_, dtype: int64"
      ]
     },
     "execution_count": 208,
     "metadata": {},
     "output_type": "execute_result"
    }
   ],
   "source": [
    "df_pernambuco.sex_.value_counts()"
   ]
  },
  {
   "cell_type": "code",
   "execution_count": 213,
   "id": "d599a39a",
   "metadata": {},
   "outputs": [
    {
     "data": {
      "text/plain": [
       "3         M\n",
       "13        M\n",
       "65        M\n",
       "357       M\n",
       "380       M\n",
       "       ... \n",
       "2893      M\n",
       "2905      M\n",
       "2960    NaN\n",
       "3415      M\n",
       "4938      M\n",
       "Name: sex_, Length: 77, dtype: object"
      ]
     },
     "execution_count": 213,
     "metadata": {},
     "output_type": "execute_result"
    }
   ],
   "source": [
    "df_pernambuco.sex_"
   ]
  },
  {
   "cell_type": "markdown",
   "id": "81ae07a0",
   "metadata": {},
   "source": [
    "### Eliminar colunas desnecessárias de \"df_pernambuco\""
   ]
  },
  {
   "cell_type": "code",
   "execution_count": 100,
   "id": "66c3a67f",
   "metadata": {},
   "outputs": [],
   "source": [
    "df_pernambuco = df_pernambuco.drop('original_order', axis=1)"
   ]
  },
  {
   "cell_type": "code",
   "execution_count": 101,
   "id": "52bdf81c",
   "metadata": {},
   "outputs": [],
   "source": [
    "df_pernambuco = df_pernambuco.drop('case_number.2', axis=1)"
   ]
  },
  {
   "cell_type": "code",
   "execution_count": 102,
   "id": "1b78ff58",
   "metadata": {},
   "outputs": [],
   "source": [
    "df_pernambuco = df_pernambuco.drop('case_number.1', axis=1)"
   ]
  },
  {
   "cell_type": "code",
   "execution_count": 103,
   "id": "01438b6b",
   "metadata": {},
   "outputs": [],
   "source": [
    "df_pernambuco = df_pernambuco.drop('href', axis=1)"
   ]
  },
  {
   "cell_type": "code",
   "execution_count": 104,
   "id": "c827e2ab",
   "metadata": {},
   "outputs": [],
   "source": [
    "df_pernambuco = df_pernambuco.drop('href_formula', axis=1)"
   ]
  },
  {
   "cell_type": "code",
   "execution_count": 105,
   "id": "35b260ff",
   "metadata": {},
   "outputs": [],
   "source": [
    "df_pernambuco = df_pernambuco.drop('pdf', axis=1)"
   ]
  },
  {
   "cell_type": "code",
   "execution_count": 106,
   "id": "4c7e1849",
   "metadata": {},
   "outputs": [],
   "source": [
    "df_pernambuco = df_pernambuco.drop('investigator_or_source', axis=1)"
   ]
  },
  {
   "cell_type": "code",
   "execution_count": 107,
   "id": "7d424c44",
   "metadata": {},
   "outputs": [],
   "source": [
    "df_pernambuco = df_pernambuco.drop('time', axis=1)"
   ]
  },
  {
   "cell_type": "code",
   "execution_count": 108,
   "id": "387a21da",
   "metadata": {},
   "outputs": [],
   "source": [
    "df_pernambuco = df_pernambuco.drop('case_number', axis=1)"
   ]
  },
  {
   "cell_type": "code",
   "execution_count": 109,
   "id": "a47e62fe",
   "metadata": {},
   "outputs": [],
   "source": [
    "df_pernambuco = df_pernambuco.drop('name', axis=1)"
   ]
  },
  {
   "cell_type": "markdown",
   "id": "b704fda7",
   "metadata": {},
   "source": [
    "### Visão geral de df_pernambuco\n",
    "#### (df_pernambuco é base mãe. Em paralelo trata-se o DataFrame \"df_location\" com localizações padronizadas)"
   ]
  },
  {
   "cell_type": "code",
   "execution_count": 110,
   "id": "cf997634",
   "metadata": {},
   "outputs": [
    {
     "data": {
      "text/html": [
       "<div>\n",
       "<style scoped>\n",
       "    .dataframe tbody tr th:only-of-type {\n",
       "        vertical-align: middle;\n",
       "    }\n",
       "\n",
       "    .dataframe tbody tr th {\n",
       "        vertical-align: top;\n",
       "    }\n",
       "\n",
       "    .dataframe thead th {\n",
       "        text-align: right;\n",
       "    }\n",
       "</style>\n",
       "<table border=\"1\" class=\"dataframe\">\n",
       "  <thead>\n",
       "    <tr style=\"text-align: right;\">\n",
       "      <th></th>\n",
       "      <th>date</th>\n",
       "      <th>year</th>\n",
       "      <th>type</th>\n",
       "      <th>country</th>\n",
       "      <th>area</th>\n",
       "      <th>location</th>\n",
       "      <th>activity</th>\n",
       "      <th>sex_</th>\n",
       "      <th>age</th>\n",
       "      <th>injury</th>\n",
       "      <th>fatal_(y_n)</th>\n",
       "      <th>species_</th>\n",
       "      <th>day_of_week</th>\n",
       "      <th>loc_check</th>\n",
       "    </tr>\n",
       "  </thead>\n",
       "  <tbody>\n",
       "    <tr>\n",
       "      <th>3</th>\n",
       "      <td>2021-07-25</td>\n",
       "      <td>2021</td>\n",
       "      <td>Unprovoked</td>\n",
       "      <td>BRAZIL</td>\n",
       "      <td>Pernambuco</td>\n",
       "      <td>Piedade</td>\n",
       "      <td>Squatting in the water</td>\n",
       "      <td>M</td>\n",
       "      <td>32</td>\n",
       "      <td>Lacerations to poster thigh and buttock</td>\n",
       "      <td>N</td>\n",
       "      <td>NaN</td>\n",
       "      <td>Sunday</td>\n",
       "      <td>piedade</td>\n",
       "    </tr>\n",
       "    <tr>\n",
       "      <th>13</th>\n",
       "      <td>2021-07-10</td>\n",
       "      <td>2021</td>\n",
       "      <td>Unprovoked</td>\n",
       "      <td>BRAZIL</td>\n",
       "      <td>Pernambuco</td>\n",
       "      <td>Piedade</td>\n",
       "      <td>Wading</td>\n",
       "      <td>M</td>\n",
       "      <td>51</td>\n",
       "      <td>FATAL</td>\n",
       "      <td>Y</td>\n",
       "      <td>NaN</td>\n",
       "      <td>Saturday</td>\n",
       "      <td>piedade</td>\n",
       "    </tr>\n",
       "    <tr>\n",
       "      <th>65</th>\n",
       "      <td>2021-01-13</td>\n",
       "      <td>2021</td>\n",
       "      <td>Unprovoked</td>\n",
       "      <td>BRAZIL</td>\n",
       "      <td>Pernambuco</td>\n",
       "      <td>Cacimba do Padre Beach</td>\n",
       "      <td>Surfing</td>\n",
       "      <td>M</td>\n",
       "      <td>52</td>\n",
       "      <td>Puncture wounds to right hand</td>\n",
       "      <td>N</td>\n",
       "      <td>NaN</td>\n",
       "      <td>Wednesday</td>\n",
       "      <td>cacimba_do_padre</td>\n",
       "    </tr>\n",
       "    <tr>\n",
       "      <th>357</th>\n",
       "      <td>2018-06-03</td>\n",
       "      <td>2018</td>\n",
       "      <td>Unprovoked</td>\n",
       "      <td>BRAZIL</td>\n",
       "      <td>Pernambuco</td>\n",
       "      <td>Piedade Beach, Recife</td>\n",
       "      <td>Swimming</td>\n",
       "      <td>M</td>\n",
       "      <td>18</td>\n",
       "      <td>FATAL</td>\n",
       "      <td>Y</td>\n",
       "      <td>Tiger shark</td>\n",
       "      <td>Sunday</td>\n",
       "      <td>piedade</td>\n",
       "    </tr>\n",
       "    <tr>\n",
       "      <th>380</th>\n",
       "      <td>2018-04-15</td>\n",
       "      <td>2018</td>\n",
       "      <td>Unprovoked</td>\n",
       "      <td>BRAZIL</td>\n",
       "      <td>Pernambuco</td>\n",
       "      <td>Piedade</td>\n",
       "      <td>Swimming</td>\n",
       "      <td>M</td>\n",
       "      <td>34</td>\n",
       "      <td>Multiple severe injuries to arms and leg, leg ...</td>\n",
       "      <td>NaN</td>\n",
       "      <td>NaN</td>\n",
       "      <td>Sunday</td>\n",
       "      <td>piedade</td>\n",
       "    </tr>\n",
       "    <tr>\n",
       "      <th>...</th>\n",
       "      <td>...</td>\n",
       "      <td>...</td>\n",
       "      <td>...</td>\n",
       "      <td>...</td>\n",
       "      <td>...</td>\n",
       "      <td>...</td>\n",
       "      <td>...</td>\n",
       "      <td>...</td>\n",
       "      <td>...</td>\n",
       "      <td>...</td>\n",
       "      <td>...</td>\n",
       "      <td>...</td>\n",
       "      <td>...</td>\n",
       "      <td>...</td>\n",
       "    </tr>\n",
       "    <tr>\n",
       "      <th>2893</th>\n",
       "      <td>1992-09-10</td>\n",
       "      <td>1992</td>\n",
       "      <td>Unprovoked</td>\n",
       "      <td>BRAZIL</td>\n",
       "      <td>Pernambuco</td>\n",
       "      <td>Boa Viagem, Recife</td>\n",
       "      <td>Swimming</td>\n",
       "      <td>M</td>\n",
       "      <td>NaN</td>\n",
       "      <td>FATAL</td>\n",
       "      <td>Y</td>\n",
       "      <td>NaN</td>\n",
       "      <td>Thursday</td>\n",
       "      <td>boa_viagem</td>\n",
       "    </tr>\n",
       "    <tr>\n",
       "      <th>2905</th>\n",
       "      <td>1992-06-28</td>\n",
       "      <td>1992</td>\n",
       "      <td>Unprovoked</td>\n",
       "      <td>BRAZIL</td>\n",
       "      <td>Pernambuco</td>\n",
       "      <td>Piedade</td>\n",
       "      <td>Swimming</td>\n",
       "      <td>M</td>\n",
       "      <td>NaN</td>\n",
       "      <td>FATAL</td>\n",
       "      <td>Y</td>\n",
       "      <td>NaN</td>\n",
       "      <td>Sunday</td>\n",
       "      <td>piedade</td>\n",
       "    </tr>\n",
       "    <tr>\n",
       "      <th>2960</th>\n",
       "      <td>1991-04-24</td>\n",
       "      <td>1991</td>\n",
       "      <td>Provoked</td>\n",
       "      <td>BRAZIL</td>\n",
       "      <td>Pernambuco</td>\n",
       "      <td>Praia de Pau Amarelo, Recife</td>\n",
       "      <td>Fishing</td>\n",
       "      <td>NaN</td>\n",
       "      <td>NaN</td>\n",
       "      <td>2 fingers severed by netted shark PROVOKED INC...</td>\n",
       "      <td>N</td>\n",
       "      <td>170-kg, 2.8 m shark</td>\n",
       "      <td>Wednesday</td>\n",
       "      <td>pau_amarelo_paulista</td>\n",
       "    </tr>\n",
       "    <tr>\n",
       "      <th>3415</th>\n",
       "      <td>1980-11-11</td>\n",
       "      <td>1980</td>\n",
       "      <td>Unprovoked</td>\n",
       "      <td>BRAZIL</td>\n",
       "      <td>Pernambuco</td>\n",
       "      <td>Piedade</td>\n",
       "      <td>Swimming</td>\n",
       "      <td>M</td>\n",
       "      <td>16</td>\n",
       "      <td>FATAL</td>\n",
       "      <td>Y</td>\n",
       "      <td>NaN</td>\n",
       "      <td>Tuesday</td>\n",
       "      <td>piedade</td>\n",
       "    </tr>\n",
       "    <tr>\n",
       "      <th>4938</th>\n",
       "      <td>1947-10-10</td>\n",
       "      <td>1947</td>\n",
       "      <td>Unprovoked</td>\n",
       "      <td>BRAZIL</td>\n",
       "      <td>Pernambuco</td>\n",
       "      <td>Piedade</td>\n",
       "      <td>Swimming</td>\n",
       "      <td>M</td>\n",
       "      <td>25</td>\n",
       "      <td>FATAL</td>\n",
       "      <td>Y</td>\n",
       "      <td>NaN</td>\n",
       "      <td>Friday</td>\n",
       "      <td>piedade</td>\n",
       "    </tr>\n",
       "  </tbody>\n",
       "</table>\n",
       "<p>77 rows × 14 columns</p>\n",
       "</div>"
      ],
      "text/plain": [
       "           date  year        type country        area  \\\n",
       "3    2021-07-25  2021  Unprovoked  BRAZIL  Pernambuco   \n",
       "13   2021-07-10  2021  Unprovoked  BRAZIL  Pernambuco   \n",
       "65   2021-01-13  2021  Unprovoked  BRAZIL  Pernambuco   \n",
       "357  2018-06-03  2018  Unprovoked  BRAZIL  Pernambuco   \n",
       "380  2018-04-15  2018  Unprovoked  BRAZIL  Pernambuco   \n",
       "...         ...   ...         ...     ...         ...   \n",
       "2893 1992-09-10  1992  Unprovoked  BRAZIL  Pernambuco   \n",
       "2905 1992-06-28  1992  Unprovoked  BRAZIL  Pernambuco   \n",
       "2960 1991-04-24  1991    Provoked  BRAZIL  Pernambuco   \n",
       "3415 1980-11-11  1980  Unprovoked  BRAZIL  Pernambuco   \n",
       "4938 1947-10-10  1947  Unprovoked  BRAZIL  Pernambuco   \n",
       "\n",
       "                          location                activity sex_  age  \\\n",
       "3                          Piedade  Squatting in the water    M   32   \n",
       "13                         Piedade                  Wading    M   51   \n",
       "65          Cacimba do Padre Beach                 Surfing    M   52   \n",
       "357          Piedade Beach, Recife                Swimming    M   18   \n",
       "380                        Piedade                Swimming    M   34   \n",
       "...                            ...                     ...  ...  ...   \n",
       "2893            Boa Viagem, Recife                Swimming    M  NaN   \n",
       "2905                       Piedade                Swimming    M  NaN   \n",
       "2960  Praia de Pau Amarelo, Recife                 Fishing  NaN  NaN   \n",
       "3415                       Piedade                Swimming    M   16   \n",
       "4938                       Piedade               Swimming     M   25   \n",
       "\n",
       "                                                 injury fatal_(y_n)  \\\n",
       "3               Lacerations to poster thigh and buttock           N   \n",
       "13                                                FATAL           Y   \n",
       "65                        Puncture wounds to right hand           N   \n",
       "357                                               FATAL           Y   \n",
       "380   Multiple severe injuries to arms and leg, leg ...         NaN   \n",
       "...                                                 ...         ...   \n",
       "2893                                              FATAL           Y   \n",
       "2905                                              FATAL           Y   \n",
       "2960  2 fingers severed by netted shark PROVOKED INC...           N   \n",
       "3415                                              FATAL           Y   \n",
       "4938                                              FATAL           Y   \n",
       "\n",
       "                 species_ day_of_week             loc_check  \n",
       "3                     NaN      Sunday               piedade  \n",
       "13                    NaN    Saturday               piedade  \n",
       "65                    NaN   Wednesday      cacimba_do_padre  \n",
       "357           Tiger shark      Sunday               piedade  \n",
       "380                   NaN      Sunday               piedade  \n",
       "...                   ...         ...                   ...  \n",
       "2893                  NaN    Thursday            boa_viagem  \n",
       "2905                  NaN      Sunday               piedade  \n",
       "2960  170-kg, 2.8 m shark   Wednesday  pau_amarelo_paulista  \n",
       "3415                  NaN     Tuesday               piedade  \n",
       "4938                  NaN      Friday               piedade  \n",
       "\n",
       "[77 rows x 14 columns]"
      ]
     },
     "execution_count": 110,
     "metadata": {},
     "output_type": "execute_result"
    }
   ],
   "source": [
    "df_pernambuco"
   ]
  },
  {
   "cell_type": "markdown",
   "id": "601aa2bc",
   "metadata": {},
   "source": [
    "### Teste folium.Map"
   ]
  },
  {
   "cell_type": "code",
   "execution_count": 111,
   "id": "eddc8637",
   "metadata": {},
   "outputs": [
    {
     "data": {
      "text/html": [
       "<div style=\"width:100%;\"><div style=\"position:relative;width:100%;height:0;padding-bottom:60%;\"><span style=\"color:#565656\">Make this Notebook Trusted to load map: File -> Trust Notebook</span><iframe src=\"about:blank\" style=\"position:absolute;width:100%;height:100%;left:0;top:0;border:none !important;\" data-html=%3C%21DOCTYPE%20html%3E%0A%3Chead%3E%20%20%20%20%0A%20%20%20%20%3Cmeta%20http-equiv%3D%22content-type%22%20content%3D%22text/html%3B%20charset%3DUTF-8%22%20/%3E%0A%20%20%20%20%0A%20%20%20%20%20%20%20%20%3Cscript%3E%0A%20%20%20%20%20%20%20%20%20%20%20%20L_NO_TOUCH%20%3D%20false%3B%0A%20%20%20%20%20%20%20%20%20%20%20%20L_DISABLE_3D%20%3D%20false%3B%0A%20%20%20%20%20%20%20%20%3C/script%3E%0A%20%20%20%20%0A%20%20%20%20%3Cstyle%3Ehtml%2C%20body%20%7Bwidth%3A%20100%25%3Bheight%3A%20100%25%3Bmargin%3A%200%3Bpadding%3A%200%3B%7D%3C/style%3E%0A%20%20%20%20%3Cstyle%3E%23map%20%7Bposition%3Aabsolute%3Btop%3A0%3Bbottom%3A0%3Bright%3A0%3Bleft%3A0%3B%7D%3C/style%3E%0A%20%20%20%20%3Cscript%20src%3D%22https%3A//cdn.jsdelivr.net/npm/leaflet%401.6.0/dist/leaflet.js%22%3E%3C/script%3E%0A%20%20%20%20%3Cscript%20src%3D%22https%3A//code.jquery.com/jquery-1.12.4.min.js%22%3E%3C/script%3E%0A%20%20%20%20%3Cscript%20src%3D%22https%3A//maxcdn.bootstrapcdn.com/bootstrap/3.2.0/js/bootstrap.min.js%22%3E%3C/script%3E%0A%20%20%20%20%3Cscript%20src%3D%22https%3A//cdnjs.cloudflare.com/ajax/libs/Leaflet.awesome-markers/2.0.2/leaflet.awesome-markers.js%22%3E%3C/script%3E%0A%20%20%20%20%3Clink%20rel%3D%22stylesheet%22%20href%3D%22https%3A//cdn.jsdelivr.net/npm/leaflet%401.6.0/dist/leaflet.css%22/%3E%0A%20%20%20%20%3Clink%20rel%3D%22stylesheet%22%20href%3D%22https%3A//maxcdn.bootstrapcdn.com/bootstrap/3.2.0/css/bootstrap.min.css%22/%3E%0A%20%20%20%20%3Clink%20rel%3D%22stylesheet%22%20href%3D%22https%3A//maxcdn.bootstrapcdn.com/bootstrap/3.2.0/css/bootstrap-theme.min.css%22/%3E%0A%20%20%20%20%3Clink%20rel%3D%22stylesheet%22%20href%3D%22https%3A//maxcdn.bootstrapcdn.com/font-awesome/4.6.3/css/font-awesome.min.css%22/%3E%0A%20%20%20%20%3Clink%20rel%3D%22stylesheet%22%20href%3D%22https%3A//cdnjs.cloudflare.com/ajax/libs/Leaflet.awesome-markers/2.0.2/leaflet.awesome-markers.css%22/%3E%0A%20%20%20%20%3Clink%20rel%3D%22stylesheet%22%20href%3D%22https%3A//cdn.jsdelivr.net/gh/python-visualization/folium/folium/templates/leaflet.awesome.rotate.min.css%22/%3E%0A%20%20%20%20%0A%20%20%20%20%20%20%20%20%20%20%20%20%3Cmeta%20name%3D%22viewport%22%20content%3D%22width%3Ddevice-width%2C%0A%20%20%20%20%20%20%20%20%20%20%20%20%20%20%20%20initial-scale%3D1.0%2C%20maximum-scale%3D1.0%2C%20user-scalable%3Dno%22%20/%3E%0A%20%20%20%20%20%20%20%20%20%20%20%20%3Cstyle%3E%0A%20%20%20%20%20%20%20%20%20%20%20%20%20%20%20%20%23map_5354b455d604421f85430e38294e740b%20%7B%0A%20%20%20%20%20%20%20%20%20%20%20%20%20%20%20%20%20%20%20%20position%3A%20relative%3B%0A%20%20%20%20%20%20%20%20%20%20%20%20%20%20%20%20%20%20%20%20width%3A%20100.0%25%3B%0A%20%20%20%20%20%20%20%20%20%20%20%20%20%20%20%20%20%20%20%20height%3A%20100.0%25%3B%0A%20%20%20%20%20%20%20%20%20%20%20%20%20%20%20%20%20%20%20%20left%3A%200.0%25%3B%0A%20%20%20%20%20%20%20%20%20%20%20%20%20%20%20%20%20%20%20%20top%3A%200.0%25%3B%0A%20%20%20%20%20%20%20%20%20%20%20%20%20%20%20%20%7D%0A%20%20%20%20%20%20%20%20%20%20%20%20%3C/style%3E%0A%20%20%20%20%20%20%20%20%0A%3C/head%3E%0A%3Cbody%3E%20%20%20%20%0A%20%20%20%20%0A%20%20%20%20%20%20%20%20%20%20%20%20%3Cdiv%20class%3D%22folium-map%22%20id%3D%22map_5354b455d604421f85430e38294e740b%22%20%3E%3C/div%3E%0A%20%20%20%20%20%20%20%20%0A%3C/body%3E%0A%3Cscript%3E%20%20%20%20%0A%20%20%20%20%0A%20%20%20%20%20%20%20%20%20%20%20%20var%20map_5354b455d604421f85430e38294e740b%20%3D%20L.map%28%0A%20%20%20%20%20%20%20%20%20%20%20%20%20%20%20%20%22map_5354b455d604421f85430e38294e740b%22%2C%0A%20%20%20%20%20%20%20%20%20%20%20%20%20%20%20%20%7B%0A%20%20%20%20%20%20%20%20%20%20%20%20%20%20%20%20%20%20%20%20center%3A%20%5B-8.027223049248697%2C%20-34.869305493039306%5D%2C%0A%20%20%20%20%20%20%20%20%20%20%20%20%20%20%20%20%20%20%20%20crs%3A%20L.CRS.EPSG3857%2C%0A%20%20%20%20%20%20%20%20%20%20%20%20%20%20%20%20%20%20%20%20zoom%3A%2010%2C%0A%20%20%20%20%20%20%20%20%20%20%20%20%20%20%20%20%20%20%20%20zoomControl%3A%20true%2C%0A%20%20%20%20%20%20%20%20%20%20%20%20%20%20%20%20%20%20%20%20preferCanvas%3A%20false%2C%0A%20%20%20%20%20%20%20%20%20%20%20%20%20%20%20%20%7D%0A%20%20%20%20%20%20%20%20%20%20%20%20%29%3B%0A%0A%20%20%20%20%20%20%20%20%20%20%20%20%0A%0A%20%20%20%20%20%20%20%20%0A%20%20%20%20%0A%20%20%20%20%20%20%20%20%20%20%20%20var%20tile_layer_e5176d5ddb5c44c58668d3cc371bc00d%20%3D%20L.tileLayer%28%0A%20%20%20%20%20%20%20%20%20%20%20%20%20%20%20%20%22https%3A//%7Bs%7D.tile.openstreetmap.org/%7Bz%7D/%7Bx%7D/%7By%7D.png%22%2C%0A%20%20%20%20%20%20%20%20%20%20%20%20%20%20%20%20%7B%22attribution%22%3A%20%22Data%20by%20%5Cu0026copy%3B%20%5Cu003ca%20href%3D%5C%22http%3A//openstreetmap.org%5C%22%5Cu003eOpenStreetMap%5Cu003c/a%5Cu003e%2C%20under%20%5Cu003ca%20href%3D%5C%22http%3A//www.openstreetmap.org/copyright%5C%22%5Cu003eODbL%5Cu003c/a%5Cu003e.%22%2C%20%22detectRetina%22%3A%20false%2C%20%22maxNativeZoom%22%3A%2018%2C%20%22maxZoom%22%3A%2018%2C%20%22minZoom%22%3A%200%2C%20%22noWrap%22%3A%20false%2C%20%22opacity%22%3A%201%2C%20%22subdomains%22%3A%20%22abc%22%2C%20%22tms%22%3A%20false%7D%0A%20%20%20%20%20%20%20%20%20%20%20%20%29.addTo%28map_5354b455d604421f85430e38294e740b%29%3B%0A%20%20%20%20%20%20%20%20%0A%3C/script%3E onload=\"this.contentDocument.open();this.contentDocument.write(    decodeURIComponent(this.getAttribute('data-html')));this.contentDocument.close();\" allowfullscreen webkitallowfullscreen mozallowfullscreen></iframe></div></div>"
      ],
      "text/plain": [
       "<folium.folium.Map at 0x12039ba9610>"
      ]
     },
     "execution_count": 111,
     "metadata": {},
     "output_type": "execute_result"
    }
   ],
   "source": [
    "mapa = folium.Map(location=[-8.027223049248697,-34.869305493039306])\n",
    "mapa"
   ]
  },
  {
   "cell_type": "code",
   "execution_count": 112,
   "id": "23a00d0f",
   "metadata": {},
   "outputs": [],
   "source": [
    "mapa = folium.Map(\n",
    "    location=[-8.027223049248697,-34.869305493039306],\n",
    "    tiles='Stamen Terrain',\n",
    "    zoom_start=10\n",
    ")"
   ]
  },
  {
   "cell_type": "markdown",
   "id": "6a1839c2",
   "metadata": {},
   "source": [
    "### Teste para coordenadas de Recife no folium.Map"
   ]
  },
  {
   "cell_type": "code",
   "execution_count": 113,
   "id": "bea9a535",
   "metadata": {},
   "outputs": [
    {
     "data": {
      "text/html": [
       "<div style=\"width:100%;\"><div style=\"position:relative;width:100%;height:0;padding-bottom:60%;\"><span style=\"color:#565656\">Make this Notebook Trusted to load map: File -> Trust Notebook</span><iframe src=\"about:blank\" style=\"position:absolute;width:100%;height:100%;left:0;top:0;border:none !important;\" data-html=%3C%21DOCTYPE%20html%3E%0A%3Chead%3E%20%20%20%20%0A%20%20%20%20%3Cmeta%20http-equiv%3D%22content-type%22%20content%3D%22text/html%3B%20charset%3DUTF-8%22%20/%3E%0A%20%20%20%20%0A%20%20%20%20%20%20%20%20%3Cscript%3E%0A%20%20%20%20%20%20%20%20%20%20%20%20L_NO_TOUCH%20%3D%20false%3B%0A%20%20%20%20%20%20%20%20%20%20%20%20L_DISABLE_3D%20%3D%20false%3B%0A%20%20%20%20%20%20%20%20%3C/script%3E%0A%20%20%20%20%0A%20%20%20%20%3Cstyle%3Ehtml%2C%20body%20%7Bwidth%3A%20100%25%3Bheight%3A%20100%25%3Bmargin%3A%200%3Bpadding%3A%200%3B%7D%3C/style%3E%0A%20%20%20%20%3Cstyle%3E%23map%20%7Bposition%3Aabsolute%3Btop%3A0%3Bbottom%3A0%3Bright%3A0%3Bleft%3A0%3B%7D%3C/style%3E%0A%20%20%20%20%3Cscript%20src%3D%22https%3A//cdn.jsdelivr.net/npm/leaflet%401.6.0/dist/leaflet.js%22%3E%3C/script%3E%0A%20%20%20%20%3Cscript%20src%3D%22https%3A//code.jquery.com/jquery-1.12.4.min.js%22%3E%3C/script%3E%0A%20%20%20%20%3Cscript%20src%3D%22https%3A//maxcdn.bootstrapcdn.com/bootstrap/3.2.0/js/bootstrap.min.js%22%3E%3C/script%3E%0A%20%20%20%20%3Cscript%20src%3D%22https%3A//cdnjs.cloudflare.com/ajax/libs/Leaflet.awesome-markers/2.0.2/leaflet.awesome-markers.js%22%3E%3C/script%3E%0A%20%20%20%20%3Clink%20rel%3D%22stylesheet%22%20href%3D%22https%3A//cdn.jsdelivr.net/npm/leaflet%401.6.0/dist/leaflet.css%22/%3E%0A%20%20%20%20%3Clink%20rel%3D%22stylesheet%22%20href%3D%22https%3A//maxcdn.bootstrapcdn.com/bootstrap/3.2.0/css/bootstrap.min.css%22/%3E%0A%20%20%20%20%3Clink%20rel%3D%22stylesheet%22%20href%3D%22https%3A//maxcdn.bootstrapcdn.com/bootstrap/3.2.0/css/bootstrap-theme.min.css%22/%3E%0A%20%20%20%20%3Clink%20rel%3D%22stylesheet%22%20href%3D%22https%3A//maxcdn.bootstrapcdn.com/font-awesome/4.6.3/css/font-awesome.min.css%22/%3E%0A%20%20%20%20%3Clink%20rel%3D%22stylesheet%22%20href%3D%22https%3A//cdnjs.cloudflare.com/ajax/libs/Leaflet.awesome-markers/2.0.2/leaflet.awesome-markers.css%22/%3E%0A%20%20%20%20%3Clink%20rel%3D%22stylesheet%22%20href%3D%22https%3A//cdn.jsdelivr.net/gh/python-visualization/folium/folium/templates/leaflet.awesome.rotate.min.css%22/%3E%0A%20%20%20%20%0A%20%20%20%20%20%20%20%20%20%20%20%20%3Cmeta%20name%3D%22viewport%22%20content%3D%22width%3Ddevice-width%2C%0A%20%20%20%20%20%20%20%20%20%20%20%20%20%20%20%20initial-scale%3D1.0%2C%20maximum-scale%3D1.0%2C%20user-scalable%3Dno%22%20/%3E%0A%20%20%20%20%20%20%20%20%20%20%20%20%3Cstyle%3E%0A%20%20%20%20%20%20%20%20%20%20%20%20%20%20%20%20%23map_3fe0a27b18a1493e9a7775d259ae9925%20%7B%0A%20%20%20%20%20%20%20%20%20%20%20%20%20%20%20%20%20%20%20%20position%3A%20relative%3B%0A%20%20%20%20%20%20%20%20%20%20%20%20%20%20%20%20%20%20%20%20width%3A%20100.0%25%3B%0A%20%20%20%20%20%20%20%20%20%20%20%20%20%20%20%20%20%20%20%20height%3A%20100.0%25%3B%0A%20%20%20%20%20%20%20%20%20%20%20%20%20%20%20%20%20%20%20%20left%3A%200.0%25%3B%0A%20%20%20%20%20%20%20%20%20%20%20%20%20%20%20%20%20%20%20%20top%3A%200.0%25%3B%0A%20%20%20%20%20%20%20%20%20%20%20%20%20%20%20%20%7D%0A%20%20%20%20%20%20%20%20%20%20%20%20%3C/style%3E%0A%20%20%20%20%20%20%20%20%0A%3C/head%3E%0A%3Cbody%3E%20%20%20%20%0A%20%20%20%20%0A%20%20%20%20%20%20%20%20%20%20%20%20%3Cdiv%20class%3D%22folium-map%22%20id%3D%22map_3fe0a27b18a1493e9a7775d259ae9925%22%20%3E%3C/div%3E%0A%20%20%20%20%20%20%20%20%0A%3C/body%3E%0A%3Cscript%3E%20%20%20%20%0A%20%20%20%20%0A%20%20%20%20%20%20%20%20%20%20%20%20var%20map_3fe0a27b18a1493e9a7775d259ae9925%20%3D%20L.map%28%0A%20%20%20%20%20%20%20%20%20%20%20%20%20%20%20%20%22map_3fe0a27b18a1493e9a7775d259ae9925%22%2C%0A%20%20%20%20%20%20%20%20%20%20%20%20%20%20%20%20%7B%0A%20%20%20%20%20%20%20%20%20%20%20%20%20%20%20%20%20%20%20%20center%3A%20%5B-8.027223049248697%2C%20-34.869305493039306%5D%2C%0A%20%20%20%20%20%20%20%20%20%20%20%20%20%20%20%20%20%20%20%20crs%3A%20L.CRS.EPSG3857%2C%0A%20%20%20%20%20%20%20%20%20%20%20%20%20%20%20%20%20%20%20%20zoom%3A%2010%2C%0A%20%20%20%20%20%20%20%20%20%20%20%20%20%20%20%20%20%20%20%20zoomControl%3A%20true%2C%0A%20%20%20%20%20%20%20%20%20%20%20%20%20%20%20%20%20%20%20%20preferCanvas%3A%20false%2C%0A%20%20%20%20%20%20%20%20%20%20%20%20%20%20%20%20%7D%0A%20%20%20%20%20%20%20%20%20%20%20%20%29%3B%0A%0A%20%20%20%20%20%20%20%20%20%20%20%20%0A%0A%20%20%20%20%20%20%20%20%0A%20%20%20%20%0A%20%20%20%20%20%20%20%20%20%20%20%20var%20tile_layer_5ef0cb2c4fc347f1a81bd38b8f54c261%20%3D%20L.tileLayer%28%0A%20%20%20%20%20%20%20%20%20%20%20%20%20%20%20%20%22https%3A//stamen-tiles-%7Bs%7D.a.ssl.fastly.net/terrain/%7Bz%7D/%7Bx%7D/%7By%7D.jpg%22%2C%0A%20%20%20%20%20%20%20%20%20%20%20%20%20%20%20%20%7B%22attribution%22%3A%20%22Map%20tiles%20by%20%5Cu003ca%20href%3D%5C%22http%3A//stamen.com%5C%22%5Cu003eStamen%20Design%5Cu003c/a%5Cu003e%2C%20under%20%5Cu003ca%20href%3D%5C%22http%3A//creativecommons.org/licenses/by/3.0%5C%22%5Cu003eCC%20BY%203.0%5Cu003c/a%5Cu003e.%20Data%20by%20%5Cu0026copy%3B%20%5Cu003ca%20href%3D%5C%22http%3A//openstreetmap.org%5C%22%5Cu003eOpenStreetMap%5Cu003c/a%5Cu003e%2C%20under%20%5Cu003ca%20href%3D%5C%22http%3A//creativecommons.org/licenses/by-sa/3.0%5C%22%5Cu003eCC%20BY%20SA%5Cu003c/a%5Cu003e.%22%2C%20%22detectRetina%22%3A%20false%2C%20%22maxNativeZoom%22%3A%2018%2C%20%22maxZoom%22%3A%2018%2C%20%22minZoom%22%3A%200%2C%20%22noWrap%22%3A%20false%2C%20%22opacity%22%3A%201%2C%20%22subdomains%22%3A%20%22abc%22%2C%20%22tms%22%3A%20false%7D%0A%20%20%20%20%20%20%20%20%20%20%20%20%29.addTo%28map_3fe0a27b18a1493e9a7775d259ae9925%29%3B%0A%20%20%20%20%20%20%20%20%0A%20%20%20%20%0A%20%20%20%20%20%20%20%20%20%20%20%20var%20marker_29ed7073c2fc4e45959630774fa54b79%20%3D%20L.marker%28%0A%20%20%20%20%20%20%20%20%20%20%20%20%20%20%20%20%5B-8.027223049248697%2C%20-34.869305493039306%5D%2C%0A%20%20%20%20%20%20%20%20%20%20%20%20%20%20%20%20%7B%7D%0A%20%20%20%20%20%20%20%20%20%20%20%20%29.addTo%28map_3fe0a27b18a1493e9a7775d259ae9925%29%3B%0A%20%20%20%20%20%20%20%20%0A%20%20%20%20%0A%20%20%20%20%20%20%20%20var%20popup_1467423157ed4d76a6589a699065d8fd%20%3D%20L.popup%28%7B%22maxWidth%22%3A%20%22100%25%22%7D%29%3B%0A%0A%20%20%20%20%20%20%20%20%0A%20%20%20%20%20%20%20%20%20%20%20%20var%20html_63660ca92022433fb424d5c57aa0fe3c%20%3D%20%24%28%60%3Cdiv%20id%3D%22html_63660ca92022433fb424d5c57aa0fe3c%22%20style%3D%22width%3A%20100.0%25%3B%20height%3A%20100.0%25%3B%22%3E%3Ci%3Eexemplo%3C/i%3E%3C/div%3E%60%29%5B0%5D%3B%0A%20%20%20%20%20%20%20%20%20%20%20%20popup_1467423157ed4d76a6589a699065d8fd.setContent%28html_63660ca92022433fb424d5c57aa0fe3c%29%3B%0A%20%20%20%20%20%20%20%20%0A%0A%20%20%20%20%20%20%20%20marker_29ed7073c2fc4e45959630774fa54b79.bindPopup%28popup_1467423157ed4d76a6589a699065d8fd%29%0A%20%20%20%20%20%20%20%20%3B%0A%0A%20%20%20%20%20%20%20%20%0A%20%20%20%20%0A%20%20%20%20%0A%20%20%20%20%20%20%20%20%20%20%20%20marker_29ed7073c2fc4e45959630774fa54b79.bindTooltip%28%0A%20%20%20%20%20%20%20%20%20%20%20%20%20%20%20%20%60%3Cdiv%3E%0A%20%20%20%20%20%20%20%20%20%20%20%20%20%20%20%20%20%20%20%20%20Click%20aqui%21%0A%20%20%20%20%20%20%20%20%20%20%20%20%20%20%20%20%20%3C/div%3E%60%2C%0A%20%20%20%20%20%20%20%20%20%20%20%20%20%20%20%20%7B%22sticky%22%3A%20true%7D%0A%20%20%20%20%20%20%20%20%20%20%20%20%29%3B%0A%20%20%20%20%20%20%20%20%0A%3C/script%3E onload=\"this.contentDocument.open();this.contentDocument.write(    decodeURIComponent(this.getAttribute('data-html')));this.contentDocument.close();\" allowfullscreen webkitallowfullscreen mozallowfullscreen></iframe></div></div>"
      ],
      "text/plain": [
       "<folium.folium.Map at 0x12039bb1790>"
      ]
     },
     "execution_count": 113,
     "metadata": {},
     "output_type": "execute_result"
    }
   ],
   "source": [
    "folium.Marker(\n",
    "    [-8.027223049248697,-34.869305493039306],\n",
    "    popup='<i>exemplo</i>', \n",
    "    tooltip='Click aqui!'\n",
    "    ).add_to(mapa)\n",
    "\n",
    "mapa"
   ]
  },
  {
   "cell_type": "markdown",
   "id": "d7cadf17",
   "metadata": {},
   "source": [
    "### Atribuição das localizações padronizadas ao nome \"name\""
   ]
  },
  {
   "cell_type": "code",
   "execution_count": 114,
   "id": "355e321a",
   "metadata": {},
   "outputs": [],
   "source": [
    "names = df_location.sort_values(ascending=True).drop_duplicates()"
   ]
  },
  {
   "cell_type": "code",
   "execution_count": 115,
   "id": "eb64f0fd",
   "metadata": {},
   "outputs": [
    {
     "data": {
      "text/plain": [
       "1818                 Unknown\n",
       "2631        barra_de_jangada\n",
       "2601              boa_viagem\n",
       "65          cacimba_do_padre\n",
       "2729                candeias\n",
       "1030      enseada_dos_corais\n",
       "681      fernando_de_noronha\n",
       "1664               itamaracá\n",
       "2604                   paiva\n",
       "2960    pau_amarelo_paulista\n",
       "3                    piedade\n",
       "1247                    pina\n",
       "1202        punta_del_chifre\n",
       "Name: location, dtype: object"
      ]
     },
     "execution_count": 115,
     "metadata": {},
     "output_type": "execute_result"
    }
   ],
   "source": [
    "names"
   ]
  },
  {
   "cell_type": "code",
   "execution_count": 116,
   "id": "d793209a",
   "metadata": {},
   "outputs": [
    {
     "name": "stdout",
     "output_type": "stream",
     "text": [
      " O volume na unidade C é OS\n",
      " O Número de Série do Volume é D822-8AF4\n",
      "\n",
      " Pasta de C:\\Users\\erick\\IronHack\\new_folder\\Shark Attack\n",
      "\n",
      "26/08/2021  22:47    <DIR>          .\n",
      "26/08/2021  22:47    <DIR>          ..\n",
      "21/08/2021  16:42    <DIR>          .ipynb_checkpoints\n",
      "17/08/2021  01:52    <DIR>          archive\n",
      "16/08/2021  23:29         3.131.085 attacks.csv\n",
      "21/08/2021  20:07            11.179 coordenates.xlsx\n",
      "21/08/2021  20:03            11.134 coordenates2.xlsx\n",
      "21/08/2021  20:04            11.131 coordenates3.xlsx\n",
      "21/08/2021  22:44            11.624 coordenates4.xlsx\n",
      "22/08/2021  18:49         8.718.336 GSAF5.xls\n",
      "26/08/2021  22:47            75.235 Shark Attack.ipynb\n",
      "               7 arquivo(s)     11.969.724 bytes\n",
      "               4 pasta(s)   219.203.223.552 bytes disponíveis\n"
     ]
    }
   ],
   "source": [
    "ls"
   ]
  },
  {
   "cell_type": "markdown",
   "id": "8efd9cef",
   "metadata": {},
   "source": [
    "### Importação do arquivo .xlsx com coordenadas para localizações de \"df_location\""
   ]
  },
  {
   "cell_type": "code",
   "execution_count": 117,
   "id": "7ba3f375",
   "metadata": {},
   "outputs": [],
   "source": [
    "df_coordenates = pd.read_excel('coordenates4.xlsx')\n"
   ]
  },
  {
   "cell_type": "code",
   "execution_count": 118,
   "id": "02e99773",
   "metadata": {},
   "outputs": [],
   "source": [
    "df_coordenates = df_coordenates"
   ]
  },
  {
   "cell_type": "markdown",
   "id": "05775b4e",
   "metadata": {},
   "source": [
    "#### Visão geral"
   ]
  },
  {
   "cell_type": "code",
   "execution_count": 119,
   "id": "49a40eed",
   "metadata": {},
   "outputs": [
    {
     "data": {
      "text/html": [
       "<div>\n",
       "<style scoped>\n",
       "    .dataframe tbody tr th:only-of-type {\n",
       "        vertical-align: middle;\n",
       "    }\n",
       "\n",
       "    .dataframe tbody tr th {\n",
       "        vertical-align: top;\n",
       "    }\n",
       "\n",
       "    .dataframe thead th {\n",
       "        text-align: right;\n",
       "    }\n",
       "</style>\n",
       "<table border=\"1\" class=\"dataframe\">\n",
       "  <thead>\n",
       "    <tr style=\"text-align: right;\">\n",
       "      <th></th>\n",
       "      <th>name</th>\n",
       "      <th>latitude</th>\n",
       "      <th>longitude</th>\n",
       "      <th>Unnamed: 3</th>\n",
       "    </tr>\n",
       "  </thead>\n",
       "  <tbody>\n",
       "    <tr>\n",
       "      <th>0</th>\n",
       "      <td>barra_de_jangada</td>\n",
       "      <td>-8.229063</td>\n",
       "      <td>-34.942106</td>\n",
       "      <td>NaN</td>\n",
       "    </tr>\n",
       "    <tr>\n",
       "      <th>1</th>\n",
       "      <td>boa_viagem</td>\n",
       "      <td>-8.108573</td>\n",
       "      <td>-34.889246</td>\n",
       "      <td>NaN</td>\n",
       "    </tr>\n",
       "    <tr>\n",
       "      <th>2</th>\n",
       "      <td>cacimba_do_padre</td>\n",
       "      <td>-3.848898</td>\n",
       "      <td>-32.438872</td>\n",
       "      <td>NaN</td>\n",
       "    </tr>\n",
       "    <tr>\n",
       "      <th>3</th>\n",
       "      <td>candeias</td>\n",
       "      <td>-8.205228</td>\n",
       "      <td>-34.918137</td>\n",
       "      <td>NaN</td>\n",
       "    </tr>\n",
       "    <tr>\n",
       "      <th>4</th>\n",
       "      <td>enseada_dos_corais</td>\n",
       "      <td>-8.316620</td>\n",
       "      <td>-34.949801</td>\n",
       "      <td>NaN</td>\n",
       "    </tr>\n",
       "    <tr>\n",
       "      <th>5</th>\n",
       "      <td>fernando_de_noronha</td>\n",
       "      <td>-8.066268</td>\n",
       "      <td>-34.888406</td>\n",
       "      <td>NaN</td>\n",
       "    </tr>\n",
       "    <tr>\n",
       "      <th>6</th>\n",
       "      <td>itamaracá</td>\n",
       "      <td>-7.751604</td>\n",
       "      <td>-34.825297</td>\n",
       "      <td>NaN</td>\n",
       "    </tr>\n",
       "    <tr>\n",
       "      <th>7</th>\n",
       "      <td>paiva</td>\n",
       "      <td>-8.268478</td>\n",
       "      <td>-34.946555</td>\n",
       "      <td>NaN</td>\n",
       "    </tr>\n",
       "    <tr>\n",
       "      <th>8</th>\n",
       "      <td>pau_amarelo_paulista</td>\n",
       "      <td>-7.913578</td>\n",
       "      <td>-34.822552</td>\n",
       "      <td>NaN</td>\n",
       "    </tr>\n",
       "    <tr>\n",
       "      <th>9</th>\n",
       "      <td>piedade</td>\n",
       "      <td>-8.168615</td>\n",
       "      <td>-34.914200</td>\n",
       "      <td>NaN</td>\n",
       "    </tr>\n",
       "    <tr>\n",
       "      <th>10</th>\n",
       "      <td>pina</td>\n",
       "      <td>-8.095676</td>\n",
       "      <td>-34.882061</td>\n",
       "      <td>NaN</td>\n",
       "    </tr>\n",
       "    <tr>\n",
       "      <th>11</th>\n",
       "      <td>punta_del_chifre</td>\n",
       "      <td>-8.025778</td>\n",
       "      <td>-34.857404</td>\n",
       "      <td>NaN</td>\n",
       "    </tr>\n",
       "  </tbody>\n",
       "</table>\n",
       "</div>"
      ],
      "text/plain": [
       "                    name  latitude  longitude  Unnamed: 3\n",
       "0       barra_de_jangada -8.229063 -34.942106         NaN\n",
       "1             boa_viagem -8.108573 -34.889246         NaN\n",
       "2       cacimba_do_padre -3.848898 -32.438872         NaN\n",
       "3               candeias -8.205228 -34.918137         NaN\n",
       "4     enseada_dos_corais -8.316620 -34.949801         NaN\n",
       "5    fernando_de_noronha -8.066268 -34.888406         NaN\n",
       "6              itamaracá -7.751604 -34.825297         NaN\n",
       "7                  paiva -8.268478 -34.946555         NaN\n",
       "8   pau_amarelo_paulista -7.913578 -34.822552         NaN\n",
       "9                piedade -8.168615 -34.914200         NaN\n",
       "10                  pina -8.095676 -34.882061         NaN\n",
       "11      punta_del_chifre -8.025778 -34.857404         NaN"
      ]
     },
     "execution_count": 119,
     "metadata": {},
     "output_type": "execute_result"
    }
   ],
   "source": [
    "df_coordenates"
   ]
  },
  {
   "cell_type": "code",
   "execution_count": 120,
   "id": "2643626e",
   "metadata": {},
   "outputs": [
    {
     "data": {
      "text/plain": [
       "'barra_de_jangada'"
      ]
     },
     "execution_count": 120,
     "metadata": {},
     "output_type": "execute_result"
    }
   ],
   "source": [
    "df_coordenates.name[0]"
   ]
  },
  {
   "cell_type": "markdown",
   "id": "6bdde200",
   "metadata": {},
   "source": [
    "#### Dicionário de coordenadas para localizações de \"df_location\"\n",
    "###### O dicionário não foi utilizado"
   ]
  },
  {
   "cell_type": "code",
   "execution_count": 121,
   "id": "3ec63c8e",
   "metadata": {},
   "outputs": [],
   "source": [
    "#nao usado\n",
    "\n",
    "coordenadas = {\n",
    "    'barra_de_jangada': [-8.229063257411369, -34.9421057603418],\n",
    "    'boa_viagem': [-8.10857303981487, -34.88924632115035],\n",
    "    'cacimba_do_padre': [-3.8488976459960793, -32.4388716116362],\n",
    "    'candeias': [-8.205228364504439, -34.91813688455433],\n",
    "    'enseada_dos_corais': [-8.316620305471908, -34.94980054445308],\n",
    "    'fernando_de_noronha': [-8.066268427209671, -34.88840613751879],\n",
    "    'itamaracá': [-7.751604410739803, -34.825297416723444],\n",
    "    'paiva': [-8.268477815212172, -34.94655510545547],\n",
    "    'pau_amarelo_paulista': [-7.913578291225547, -34.82255153384083],\n",
    "    'piedade': [-8.168614623316778, -34.914200499999545],\n",
    "    'pina': [-8.095676129267087, -34.882060584121476],\n",
    "    'punta_del_chifre': [-8.025778089225621, -34.85740415076099],\n",
    "    }"
   ]
  },
  {
   "cell_type": "code",
   "execution_count": 122,
   "id": "1c19aee7",
   "metadata": {},
   "outputs": [],
   "source": [
    "mapa = folium.Map( location=[-8.027223049248697,-34.869305493039306], zoom_start=11 )"
   ]
  },
  {
   "cell_type": "markdown",
   "id": "cbfcc02c",
   "metadata": {},
   "source": [
    "#### Inclusão de Pop-up com as coordenadas de \"df_coordenates\" no mapa interativo folium.Map"
   ]
  },
  {
   "cell_type": "code",
   "execution_count": 123,
   "id": "26461a0b",
   "metadata": {},
   "outputs": [
    {
     "data": {
      "text/html": [
       "<div style=\"width:100%;\"><div style=\"position:relative;width:100%;height:0;padding-bottom:60%;\"><span style=\"color:#565656\">Make this Notebook Trusted to load map: File -> Trust Notebook</span><iframe src=\"about:blank\" style=\"position:absolute;width:100%;height:100%;left:0;top:0;border:none !important;\" data-html=%3C%21DOCTYPE%20html%3E%0A%3Chead%3E%20%20%20%20%0A%20%20%20%20%3Cmeta%20http-equiv%3D%22content-type%22%20content%3D%22text/html%3B%20charset%3DUTF-8%22%20/%3E%0A%20%20%20%20%0A%20%20%20%20%20%20%20%20%3Cscript%3E%0A%20%20%20%20%20%20%20%20%20%20%20%20L_NO_TOUCH%20%3D%20false%3B%0A%20%20%20%20%20%20%20%20%20%20%20%20L_DISABLE_3D%20%3D%20false%3B%0A%20%20%20%20%20%20%20%20%3C/script%3E%0A%20%20%20%20%0A%20%20%20%20%3Cstyle%3Ehtml%2C%20body%20%7Bwidth%3A%20100%25%3Bheight%3A%20100%25%3Bmargin%3A%200%3Bpadding%3A%200%3B%7D%3C/style%3E%0A%20%20%20%20%3Cstyle%3E%23map%20%7Bposition%3Aabsolute%3Btop%3A0%3Bbottom%3A0%3Bright%3A0%3Bleft%3A0%3B%7D%3C/style%3E%0A%20%20%20%20%3Cscript%20src%3D%22https%3A//cdn.jsdelivr.net/npm/leaflet%401.6.0/dist/leaflet.js%22%3E%3C/script%3E%0A%20%20%20%20%3Cscript%20src%3D%22https%3A//code.jquery.com/jquery-1.12.4.min.js%22%3E%3C/script%3E%0A%20%20%20%20%3Cscript%20src%3D%22https%3A//maxcdn.bootstrapcdn.com/bootstrap/3.2.0/js/bootstrap.min.js%22%3E%3C/script%3E%0A%20%20%20%20%3Cscript%20src%3D%22https%3A//cdnjs.cloudflare.com/ajax/libs/Leaflet.awesome-markers/2.0.2/leaflet.awesome-markers.js%22%3E%3C/script%3E%0A%20%20%20%20%3Clink%20rel%3D%22stylesheet%22%20href%3D%22https%3A//cdn.jsdelivr.net/npm/leaflet%401.6.0/dist/leaflet.css%22/%3E%0A%20%20%20%20%3Clink%20rel%3D%22stylesheet%22%20href%3D%22https%3A//maxcdn.bootstrapcdn.com/bootstrap/3.2.0/css/bootstrap.min.css%22/%3E%0A%20%20%20%20%3Clink%20rel%3D%22stylesheet%22%20href%3D%22https%3A//maxcdn.bootstrapcdn.com/bootstrap/3.2.0/css/bootstrap-theme.min.css%22/%3E%0A%20%20%20%20%3Clink%20rel%3D%22stylesheet%22%20href%3D%22https%3A//maxcdn.bootstrapcdn.com/font-awesome/4.6.3/css/font-awesome.min.css%22/%3E%0A%20%20%20%20%3Clink%20rel%3D%22stylesheet%22%20href%3D%22https%3A//cdnjs.cloudflare.com/ajax/libs/Leaflet.awesome-markers/2.0.2/leaflet.awesome-markers.css%22/%3E%0A%20%20%20%20%3Clink%20rel%3D%22stylesheet%22%20href%3D%22https%3A//cdn.jsdelivr.net/gh/python-visualization/folium/folium/templates/leaflet.awesome.rotate.min.css%22/%3E%0A%20%20%20%20%0A%20%20%20%20%20%20%20%20%20%20%20%20%3Cmeta%20name%3D%22viewport%22%20content%3D%22width%3Ddevice-width%2C%0A%20%20%20%20%20%20%20%20%20%20%20%20%20%20%20%20initial-scale%3D1.0%2C%20maximum-scale%3D1.0%2C%20user-scalable%3Dno%22%20/%3E%0A%20%20%20%20%20%20%20%20%20%20%20%20%3Cstyle%3E%0A%20%20%20%20%20%20%20%20%20%20%20%20%20%20%20%20%23map_a1f79c559c794d608a5d5fcfe0a0adba%20%7B%0A%20%20%20%20%20%20%20%20%20%20%20%20%20%20%20%20%20%20%20%20position%3A%20relative%3B%0A%20%20%20%20%20%20%20%20%20%20%20%20%20%20%20%20%20%20%20%20width%3A%20100.0%25%3B%0A%20%20%20%20%20%20%20%20%20%20%20%20%20%20%20%20%20%20%20%20height%3A%20100.0%25%3B%0A%20%20%20%20%20%20%20%20%20%20%20%20%20%20%20%20%20%20%20%20left%3A%200.0%25%3B%0A%20%20%20%20%20%20%20%20%20%20%20%20%20%20%20%20%20%20%20%20top%3A%200.0%25%3B%0A%20%20%20%20%20%20%20%20%20%20%20%20%20%20%20%20%7D%0A%20%20%20%20%20%20%20%20%20%20%20%20%3C/style%3E%0A%20%20%20%20%20%20%20%20%0A%3C/head%3E%0A%3Cbody%3E%20%20%20%20%0A%20%20%20%20%0A%20%20%20%20%20%20%20%20%20%20%20%20%3Cdiv%20class%3D%22folium-map%22%20id%3D%22map_a1f79c559c794d608a5d5fcfe0a0adba%22%20%3E%3C/div%3E%0A%20%20%20%20%20%20%20%20%0A%3C/body%3E%0A%3Cscript%3E%20%20%20%20%0A%20%20%20%20%0A%20%20%20%20%20%20%20%20%20%20%20%20var%20map_a1f79c559c794d608a5d5fcfe0a0adba%20%3D%20L.map%28%0A%20%20%20%20%20%20%20%20%20%20%20%20%20%20%20%20%22map_a1f79c559c794d608a5d5fcfe0a0adba%22%2C%0A%20%20%20%20%20%20%20%20%20%20%20%20%20%20%20%20%7B%0A%20%20%20%20%20%20%20%20%20%20%20%20%20%20%20%20%20%20%20%20center%3A%20%5B-8.027223049248697%2C%20-34.869305493039306%5D%2C%0A%20%20%20%20%20%20%20%20%20%20%20%20%20%20%20%20%20%20%20%20crs%3A%20L.CRS.EPSG3857%2C%0A%20%20%20%20%20%20%20%20%20%20%20%20%20%20%20%20%20%20%20%20zoom%3A%2011%2C%0A%20%20%20%20%20%20%20%20%20%20%20%20%20%20%20%20%20%20%20%20zoomControl%3A%20true%2C%0A%20%20%20%20%20%20%20%20%20%20%20%20%20%20%20%20%20%20%20%20preferCanvas%3A%20false%2C%0A%20%20%20%20%20%20%20%20%20%20%20%20%20%20%20%20%7D%0A%20%20%20%20%20%20%20%20%20%20%20%20%29%3B%0A%0A%20%20%20%20%20%20%20%20%20%20%20%20%0A%0A%20%20%20%20%20%20%20%20%0A%20%20%20%20%0A%20%20%20%20%20%20%20%20%20%20%20%20var%20tile_layer_40b83b09c0a4482bb39bd93e4d50335d%20%3D%20L.tileLayer%28%0A%20%20%20%20%20%20%20%20%20%20%20%20%20%20%20%20%22https%3A//%7Bs%7D.tile.openstreetmap.org/%7Bz%7D/%7Bx%7D/%7By%7D.png%22%2C%0A%20%20%20%20%20%20%20%20%20%20%20%20%20%20%20%20%7B%22attribution%22%3A%20%22Data%20by%20%5Cu0026copy%3B%20%5Cu003ca%20href%3D%5C%22http%3A//openstreetmap.org%5C%22%5Cu003eOpenStreetMap%5Cu003c/a%5Cu003e%2C%20under%20%5Cu003ca%20href%3D%5C%22http%3A//www.openstreetmap.org/copyright%5C%22%5Cu003eODbL%5Cu003c/a%5Cu003e.%22%2C%20%22detectRetina%22%3A%20false%2C%20%22maxNativeZoom%22%3A%2018%2C%20%22maxZoom%22%3A%2018%2C%20%22minZoom%22%3A%200%2C%20%22noWrap%22%3A%20false%2C%20%22opacity%22%3A%201%2C%20%22subdomains%22%3A%20%22abc%22%2C%20%22tms%22%3A%20false%7D%0A%20%20%20%20%20%20%20%20%20%20%20%20%29.addTo%28map_a1f79c559c794d608a5d5fcfe0a0adba%29%3B%0A%20%20%20%20%20%20%20%20%0A%20%20%20%20%0A%20%20%20%20%20%20%20%20%20%20%20%20var%20marker_14eed287fe60406c878b33a3e9178043%20%3D%20L.marker%28%0A%20%20%20%20%20%20%20%20%20%20%20%20%20%20%20%20%5B-8.22906325741136%2C%20-34.9421057603418%5D%2C%0A%20%20%20%20%20%20%20%20%20%20%20%20%20%20%20%20%7B%7D%0A%20%20%20%20%20%20%20%20%20%20%20%20%29.addTo%28map_a1f79c559c794d608a5d5fcfe0a0adba%29%3B%0A%20%20%20%20%20%20%20%20%0A%20%20%20%20%0A%20%20%20%20%20%20%20%20var%20popup_6bab69db97dd45bba2c103a144ecbd4c%20%3D%20L.popup%28%7B%22maxWidth%22%3A%20%22100%25%22%7D%29%3B%0A%0A%20%20%20%20%20%20%20%20%0A%20%20%20%20%20%20%20%20%20%20%20%20var%20html_cc480dde00884aab9ff73d1d099bd320%20%3D%20%24%28%60%3Cdiv%20id%3D%22html_cc480dde00884aab9ff73d1d099bd320%22%20style%3D%22width%3A%20100.0%25%3B%20height%3A%20100.0%25%3B%22%3Ebarra_de_jangada%3C/div%3E%60%29%5B0%5D%3B%0A%20%20%20%20%20%20%20%20%20%20%20%20popup_6bab69db97dd45bba2c103a144ecbd4c.setContent%28html_cc480dde00884aab9ff73d1d099bd320%29%3B%0A%20%20%20%20%20%20%20%20%0A%0A%20%20%20%20%20%20%20%20marker_14eed287fe60406c878b33a3e9178043.bindPopup%28popup_6bab69db97dd45bba2c103a144ecbd4c%29%0A%20%20%20%20%20%20%20%20%3B%0A%0A%20%20%20%20%20%20%20%20%0A%20%20%20%20%0A%20%20%20%20%0A%20%20%20%20%20%20%20%20%20%20%20%20marker_14eed287fe60406c878b33a3e9178043.bindTooltip%28%0A%20%20%20%20%20%20%20%20%20%20%20%20%20%20%20%20%60%3Cdiv%3E%0A%20%20%20%20%20%20%20%20%20%20%20%20%20%20%20%20%20%20%20%20%20Click%20aqui%21%0A%20%20%20%20%20%20%20%20%20%20%20%20%20%20%20%20%20%3C/div%3E%60%2C%0A%20%20%20%20%20%20%20%20%20%20%20%20%20%20%20%20%7B%22sticky%22%3A%20true%7D%0A%20%20%20%20%20%20%20%20%20%20%20%20%29%3B%0A%20%20%20%20%20%20%20%20%0A%20%20%20%20%0A%20%20%20%20%20%20%20%20%20%20%20%20var%20marker_50c7ea7c4a164ede9489eeb83897eb1f%20%3D%20L.marker%28%0A%20%20%20%20%20%20%20%20%20%20%20%20%20%20%20%20%5B-8.10857303981487%2C%20-34.8892463211503%5D%2C%0A%20%20%20%20%20%20%20%20%20%20%20%20%20%20%20%20%7B%7D%0A%20%20%20%20%20%20%20%20%20%20%20%20%29.addTo%28map_a1f79c559c794d608a5d5fcfe0a0adba%29%3B%0A%20%20%20%20%20%20%20%20%0A%20%20%20%20%0A%20%20%20%20%20%20%20%20var%20popup_b2ab16d33b5a42a58260491fce221cf3%20%3D%20L.popup%28%7B%22maxWidth%22%3A%20%22100%25%22%7D%29%3B%0A%0A%20%20%20%20%20%20%20%20%0A%20%20%20%20%20%20%20%20%20%20%20%20var%20html_e8d494875ec74e7581e3d7cc9fb487a4%20%3D%20%24%28%60%3Cdiv%20id%3D%22html_e8d494875ec74e7581e3d7cc9fb487a4%22%20style%3D%22width%3A%20100.0%25%3B%20height%3A%20100.0%25%3B%22%3Eboa_viagem%3C/div%3E%60%29%5B0%5D%3B%0A%20%20%20%20%20%20%20%20%20%20%20%20popup_b2ab16d33b5a42a58260491fce221cf3.setContent%28html_e8d494875ec74e7581e3d7cc9fb487a4%29%3B%0A%20%20%20%20%20%20%20%20%0A%0A%20%20%20%20%20%20%20%20marker_50c7ea7c4a164ede9489eeb83897eb1f.bindPopup%28popup_b2ab16d33b5a42a58260491fce221cf3%29%0A%20%20%20%20%20%20%20%20%3B%0A%0A%20%20%20%20%20%20%20%20%0A%20%20%20%20%0A%20%20%20%20%0A%20%20%20%20%20%20%20%20%20%20%20%20marker_50c7ea7c4a164ede9489eeb83897eb1f.bindTooltip%28%0A%20%20%20%20%20%20%20%20%20%20%20%20%20%20%20%20%60%3Cdiv%3E%0A%20%20%20%20%20%20%20%20%20%20%20%20%20%20%20%20%20%20%20%20%20Click%20aqui%21%0A%20%20%20%20%20%20%20%20%20%20%20%20%20%20%20%20%20%3C/div%3E%60%2C%0A%20%20%20%20%20%20%20%20%20%20%20%20%20%20%20%20%7B%22sticky%22%3A%20true%7D%0A%20%20%20%20%20%20%20%20%20%20%20%20%29%3B%0A%20%20%20%20%20%20%20%20%0A%20%20%20%20%0A%20%20%20%20%20%20%20%20%20%20%20%20var%20marker_566705302e4e4cbfa245e0f3c0050954%20%3D%20L.marker%28%0A%20%20%20%20%20%20%20%20%20%20%20%20%20%20%20%20%5B-3.84889764599607%2C%20-32.4388716116362%5D%2C%0A%20%20%20%20%20%20%20%20%20%20%20%20%20%20%20%20%7B%7D%0A%20%20%20%20%20%20%20%20%20%20%20%20%29.addTo%28map_a1f79c559c794d608a5d5fcfe0a0adba%29%3B%0A%20%20%20%20%20%20%20%20%0A%20%20%20%20%0A%20%20%20%20%20%20%20%20var%20popup_afc5dc2d8f584956abf0fd8a4b0c5bed%20%3D%20L.popup%28%7B%22maxWidth%22%3A%20%22100%25%22%7D%29%3B%0A%0A%20%20%20%20%20%20%20%20%0A%20%20%20%20%20%20%20%20%20%20%20%20var%20html_060fb6983f1c482f98bc0ecb363844f2%20%3D%20%24%28%60%3Cdiv%20id%3D%22html_060fb6983f1c482f98bc0ecb363844f2%22%20style%3D%22width%3A%20100.0%25%3B%20height%3A%20100.0%25%3B%22%3Ecacimba_do_padre%3C/div%3E%60%29%5B0%5D%3B%0A%20%20%20%20%20%20%20%20%20%20%20%20popup_afc5dc2d8f584956abf0fd8a4b0c5bed.setContent%28html_060fb6983f1c482f98bc0ecb363844f2%29%3B%0A%20%20%20%20%20%20%20%20%0A%0A%20%20%20%20%20%20%20%20marker_566705302e4e4cbfa245e0f3c0050954.bindPopup%28popup_afc5dc2d8f584956abf0fd8a4b0c5bed%29%0A%20%20%20%20%20%20%20%20%3B%0A%0A%20%20%20%20%20%20%20%20%0A%20%20%20%20%0A%20%20%20%20%0A%20%20%20%20%20%20%20%20%20%20%20%20marker_566705302e4e4cbfa245e0f3c0050954.bindTooltip%28%0A%20%20%20%20%20%20%20%20%20%20%20%20%20%20%20%20%60%3Cdiv%3E%0A%20%20%20%20%20%20%20%20%20%20%20%20%20%20%20%20%20%20%20%20%20Click%20aqui%21%0A%20%20%20%20%20%20%20%20%20%20%20%20%20%20%20%20%20%3C/div%3E%60%2C%0A%20%20%20%20%20%20%20%20%20%20%20%20%20%20%20%20%7B%22sticky%22%3A%20true%7D%0A%20%20%20%20%20%20%20%20%20%20%20%20%29%3B%0A%20%20%20%20%20%20%20%20%0A%20%20%20%20%0A%20%20%20%20%20%20%20%20%20%20%20%20var%20marker_aaaae97233c140ff8f22c8dda2b0164c%20%3D%20L.marker%28%0A%20%20%20%20%20%20%20%20%20%20%20%20%20%20%20%20%5B-8.20522836450443%2C%20-34.9181368845543%5D%2C%0A%20%20%20%20%20%20%20%20%20%20%20%20%20%20%20%20%7B%7D%0A%20%20%20%20%20%20%20%20%20%20%20%20%29.addTo%28map_a1f79c559c794d608a5d5fcfe0a0adba%29%3B%0A%20%20%20%20%20%20%20%20%0A%20%20%20%20%0A%20%20%20%20%20%20%20%20var%20popup_81782723aae64600b915b948b5ca0e9d%20%3D%20L.popup%28%7B%22maxWidth%22%3A%20%22100%25%22%7D%29%3B%0A%0A%20%20%20%20%20%20%20%20%0A%20%20%20%20%20%20%20%20%20%20%20%20var%20html_255e37dec6fe4e22bb40df65a0685e4d%20%3D%20%24%28%60%3Cdiv%20id%3D%22html_255e37dec6fe4e22bb40df65a0685e4d%22%20style%3D%22width%3A%20100.0%25%3B%20height%3A%20100.0%25%3B%22%3Ecandeias%3C/div%3E%60%29%5B0%5D%3B%0A%20%20%20%20%20%20%20%20%20%20%20%20popup_81782723aae64600b915b948b5ca0e9d.setContent%28html_255e37dec6fe4e22bb40df65a0685e4d%29%3B%0A%20%20%20%20%20%20%20%20%0A%0A%20%20%20%20%20%20%20%20marker_aaaae97233c140ff8f22c8dda2b0164c.bindPopup%28popup_81782723aae64600b915b948b5ca0e9d%29%0A%20%20%20%20%20%20%20%20%3B%0A%0A%20%20%20%20%20%20%20%20%0A%20%20%20%20%0A%20%20%20%20%0A%20%20%20%20%20%20%20%20%20%20%20%20marker_aaaae97233c140ff8f22c8dda2b0164c.bindTooltip%28%0A%20%20%20%20%20%20%20%20%20%20%20%20%20%20%20%20%60%3Cdiv%3E%0A%20%20%20%20%20%20%20%20%20%20%20%20%20%20%20%20%20%20%20%20%20Click%20aqui%21%0A%20%20%20%20%20%20%20%20%20%20%20%20%20%20%20%20%20%3C/div%3E%60%2C%0A%20%20%20%20%20%20%20%20%20%20%20%20%20%20%20%20%7B%22sticky%22%3A%20true%7D%0A%20%20%20%20%20%20%20%20%20%20%20%20%29%3B%0A%20%20%20%20%20%20%20%20%0A%20%20%20%20%0A%20%20%20%20%20%20%20%20%20%20%20%20var%20marker_fd5270f533034f7bbd1edc5663e53f9d%20%3D%20L.marker%28%0A%20%20%20%20%20%20%20%20%20%20%20%20%20%20%20%20%5B-8.3166203054719%2C%20-34.949800544453%5D%2C%0A%20%20%20%20%20%20%20%20%20%20%20%20%20%20%20%20%7B%7D%0A%20%20%20%20%20%20%20%20%20%20%20%20%29.addTo%28map_a1f79c559c794d608a5d5fcfe0a0adba%29%3B%0A%20%20%20%20%20%20%20%20%0A%20%20%20%20%0A%20%20%20%20%20%20%20%20var%20popup_af0ddf36563349a3968e161cd12d04ee%20%3D%20L.popup%28%7B%22maxWidth%22%3A%20%22100%25%22%7D%29%3B%0A%0A%20%20%20%20%20%20%20%20%0A%20%20%20%20%20%20%20%20%20%20%20%20var%20html_1e09bf8b8e51497a86eea4b84d677c59%20%3D%20%24%28%60%3Cdiv%20id%3D%22html_1e09bf8b8e51497a86eea4b84d677c59%22%20style%3D%22width%3A%20100.0%25%3B%20height%3A%20100.0%25%3B%22%3Eenseada_dos_corais%3C/div%3E%60%29%5B0%5D%3B%0A%20%20%20%20%20%20%20%20%20%20%20%20popup_af0ddf36563349a3968e161cd12d04ee.setContent%28html_1e09bf8b8e51497a86eea4b84d677c59%29%3B%0A%20%20%20%20%20%20%20%20%0A%0A%20%20%20%20%20%20%20%20marker_fd5270f533034f7bbd1edc5663e53f9d.bindPopup%28popup_af0ddf36563349a3968e161cd12d04ee%29%0A%20%20%20%20%20%20%20%20%3B%0A%0A%20%20%20%20%20%20%20%20%0A%20%20%20%20%0A%20%20%20%20%0A%20%20%20%20%20%20%20%20%20%20%20%20marker_fd5270f533034f7bbd1edc5663e53f9d.bindTooltip%28%0A%20%20%20%20%20%20%20%20%20%20%20%20%20%20%20%20%60%3Cdiv%3E%0A%20%20%20%20%20%20%20%20%20%20%20%20%20%20%20%20%20%20%20%20%20Click%20aqui%21%0A%20%20%20%20%20%20%20%20%20%20%20%20%20%20%20%20%20%3C/div%3E%60%2C%0A%20%20%20%20%20%20%20%20%20%20%20%20%20%20%20%20%7B%22sticky%22%3A%20true%7D%0A%20%20%20%20%20%20%20%20%20%20%20%20%29%3B%0A%20%20%20%20%20%20%20%20%0A%20%20%20%20%0A%20%20%20%20%20%20%20%20%20%20%20%20var%20marker_9a2a871d76654cdc825f2703af3d0795%20%3D%20L.marker%28%0A%20%20%20%20%20%20%20%20%20%20%20%20%20%20%20%20%5B-8.06626842720967%2C%20-34.8884061375187%5D%2C%0A%20%20%20%20%20%20%20%20%20%20%20%20%20%20%20%20%7B%7D%0A%20%20%20%20%20%20%20%20%20%20%20%20%29.addTo%28map_a1f79c559c794d608a5d5fcfe0a0adba%29%3B%0A%20%20%20%20%20%20%20%20%0A%20%20%20%20%0A%20%20%20%20%20%20%20%20var%20popup_8b807f2d72cf40a386197597ce91e37d%20%3D%20L.popup%28%7B%22maxWidth%22%3A%20%22100%25%22%7D%29%3B%0A%0A%20%20%20%20%20%20%20%20%0A%20%20%20%20%20%20%20%20%20%20%20%20var%20html_7090dd6c316c4005a6e386c43f56a158%20%3D%20%24%28%60%3Cdiv%20id%3D%22html_7090dd6c316c4005a6e386c43f56a158%22%20style%3D%22width%3A%20100.0%25%3B%20height%3A%20100.0%25%3B%22%3Efernando_de_noronha%3C/div%3E%60%29%5B0%5D%3B%0A%20%20%20%20%20%20%20%20%20%20%20%20popup_8b807f2d72cf40a386197597ce91e37d.setContent%28html_7090dd6c316c4005a6e386c43f56a158%29%3B%0A%20%20%20%20%20%20%20%20%0A%0A%20%20%20%20%20%20%20%20marker_9a2a871d76654cdc825f2703af3d0795.bindPopup%28popup_8b807f2d72cf40a386197597ce91e37d%29%0A%20%20%20%20%20%20%20%20%3B%0A%0A%20%20%20%20%20%20%20%20%0A%20%20%20%20%0A%20%20%20%20%0A%20%20%20%20%20%20%20%20%20%20%20%20marker_9a2a871d76654cdc825f2703af3d0795.bindTooltip%28%0A%20%20%20%20%20%20%20%20%20%20%20%20%20%20%20%20%60%3Cdiv%3E%0A%20%20%20%20%20%20%20%20%20%20%20%20%20%20%20%20%20%20%20%20%20Click%20aqui%21%0A%20%20%20%20%20%20%20%20%20%20%20%20%20%20%20%20%20%3C/div%3E%60%2C%0A%20%20%20%20%20%20%20%20%20%20%20%20%20%20%20%20%7B%22sticky%22%3A%20true%7D%0A%20%20%20%20%20%20%20%20%20%20%20%20%29%3B%0A%20%20%20%20%20%20%20%20%0A%20%20%20%20%0A%20%20%20%20%20%20%20%20%20%20%20%20var%20marker_af371e129c824a61949a4948b5d56ec3%20%3D%20L.marker%28%0A%20%20%20%20%20%20%20%20%20%20%20%20%20%20%20%20%5B-7.7516044107398%2C%20-34.8252974167234%5D%2C%0A%20%20%20%20%20%20%20%20%20%20%20%20%20%20%20%20%7B%7D%0A%20%20%20%20%20%20%20%20%20%20%20%20%29.addTo%28map_a1f79c559c794d608a5d5fcfe0a0adba%29%3B%0A%20%20%20%20%20%20%20%20%0A%20%20%20%20%0A%20%20%20%20%20%20%20%20var%20popup_c11459b069874c56b445ee37103620cf%20%3D%20L.popup%28%7B%22maxWidth%22%3A%20%22100%25%22%7D%29%3B%0A%0A%20%20%20%20%20%20%20%20%0A%20%20%20%20%20%20%20%20%20%20%20%20var%20html_31a59516716047028cfb11ce228d39f6%20%3D%20%24%28%60%3Cdiv%20id%3D%22html_31a59516716047028cfb11ce228d39f6%22%20style%3D%22width%3A%20100.0%25%3B%20height%3A%20100.0%25%3B%22%3Eitamarac%C3%A1%3C/div%3E%60%29%5B0%5D%3B%0A%20%20%20%20%20%20%20%20%20%20%20%20popup_c11459b069874c56b445ee37103620cf.setContent%28html_31a59516716047028cfb11ce228d39f6%29%3B%0A%20%20%20%20%20%20%20%20%0A%0A%20%20%20%20%20%20%20%20marker_af371e129c824a61949a4948b5d56ec3.bindPopup%28popup_c11459b069874c56b445ee37103620cf%29%0A%20%20%20%20%20%20%20%20%3B%0A%0A%20%20%20%20%20%20%20%20%0A%20%20%20%20%0A%20%20%20%20%0A%20%20%20%20%20%20%20%20%20%20%20%20marker_af371e129c824a61949a4948b5d56ec3.bindTooltip%28%0A%20%20%20%20%20%20%20%20%20%20%20%20%20%20%20%20%60%3Cdiv%3E%0A%20%20%20%20%20%20%20%20%20%20%20%20%20%20%20%20%20%20%20%20%20Click%20aqui%21%0A%20%20%20%20%20%20%20%20%20%20%20%20%20%20%20%20%20%3C/div%3E%60%2C%0A%20%20%20%20%20%20%20%20%20%20%20%20%20%20%20%20%7B%22sticky%22%3A%20true%7D%0A%20%20%20%20%20%20%20%20%20%20%20%20%29%3B%0A%20%20%20%20%20%20%20%20%0A%20%20%20%20%0A%20%20%20%20%20%20%20%20%20%20%20%20var%20marker_0883b95a9365499dab89a2b20aa8944c%20%3D%20L.marker%28%0A%20%20%20%20%20%20%20%20%20%20%20%20%20%20%20%20%5B-8.26847781521217%2C%20-34.9465551054554%5D%2C%0A%20%20%20%20%20%20%20%20%20%20%20%20%20%20%20%20%7B%7D%0A%20%20%20%20%20%20%20%20%20%20%20%20%29.addTo%28map_a1f79c559c794d608a5d5fcfe0a0adba%29%3B%0A%20%20%20%20%20%20%20%20%0A%20%20%20%20%0A%20%20%20%20%20%20%20%20var%20popup_f85b251c5dc64789b1ff3949b8d5ffe6%20%3D%20L.popup%28%7B%22maxWidth%22%3A%20%22100%25%22%7D%29%3B%0A%0A%20%20%20%20%20%20%20%20%0A%20%20%20%20%20%20%20%20%20%20%20%20var%20html_80709d4e4a3c479e8402e69ff1a08c68%20%3D%20%24%28%60%3Cdiv%20id%3D%22html_80709d4e4a3c479e8402e69ff1a08c68%22%20style%3D%22width%3A%20100.0%25%3B%20height%3A%20100.0%25%3B%22%3Epaiva%3C/div%3E%60%29%5B0%5D%3B%0A%20%20%20%20%20%20%20%20%20%20%20%20popup_f85b251c5dc64789b1ff3949b8d5ffe6.setContent%28html_80709d4e4a3c479e8402e69ff1a08c68%29%3B%0A%20%20%20%20%20%20%20%20%0A%0A%20%20%20%20%20%20%20%20marker_0883b95a9365499dab89a2b20aa8944c.bindPopup%28popup_f85b251c5dc64789b1ff3949b8d5ffe6%29%0A%20%20%20%20%20%20%20%20%3B%0A%0A%20%20%20%20%20%20%20%20%0A%20%20%20%20%0A%20%20%20%20%0A%20%20%20%20%20%20%20%20%20%20%20%20marker_0883b95a9365499dab89a2b20aa8944c.bindTooltip%28%0A%20%20%20%20%20%20%20%20%20%20%20%20%20%20%20%20%60%3Cdiv%3E%0A%20%20%20%20%20%20%20%20%20%20%20%20%20%20%20%20%20%20%20%20%20Click%20aqui%21%0A%20%20%20%20%20%20%20%20%20%20%20%20%20%20%20%20%20%3C/div%3E%60%2C%0A%20%20%20%20%20%20%20%20%20%20%20%20%20%20%20%20%7B%22sticky%22%3A%20true%7D%0A%20%20%20%20%20%20%20%20%20%20%20%20%29%3B%0A%20%20%20%20%20%20%20%20%0A%20%20%20%20%0A%20%20%20%20%20%20%20%20%20%20%20%20var%20marker_84666098563741869abc51a6f95a6da6%20%3D%20L.marker%28%0A%20%20%20%20%20%20%20%20%20%20%20%20%20%20%20%20%5B-7.91357829122554%2C%20-34.8225515338408%5D%2C%0A%20%20%20%20%20%20%20%20%20%20%20%20%20%20%20%20%7B%7D%0A%20%20%20%20%20%20%20%20%20%20%20%20%29.addTo%28map_a1f79c559c794d608a5d5fcfe0a0adba%29%3B%0A%20%20%20%20%20%20%20%20%0A%20%20%20%20%0A%20%20%20%20%20%20%20%20var%20popup_c9454dc1aedc4789985e2778a0cd1123%20%3D%20L.popup%28%7B%22maxWidth%22%3A%20%22100%25%22%7D%29%3B%0A%0A%20%20%20%20%20%20%20%20%0A%20%20%20%20%20%20%20%20%20%20%20%20var%20html_7b0b19be2da64164bdd62923fb5a493d%20%3D%20%24%28%60%3Cdiv%20id%3D%22html_7b0b19be2da64164bdd62923fb5a493d%22%20style%3D%22width%3A%20100.0%25%3B%20height%3A%20100.0%25%3B%22%3Epau_amarelo_paulista%3C/div%3E%60%29%5B0%5D%3B%0A%20%20%20%20%20%20%20%20%20%20%20%20popup_c9454dc1aedc4789985e2778a0cd1123.setContent%28html_7b0b19be2da64164bdd62923fb5a493d%29%3B%0A%20%20%20%20%20%20%20%20%0A%0A%20%20%20%20%20%20%20%20marker_84666098563741869abc51a6f95a6da6.bindPopup%28popup_c9454dc1aedc4789985e2778a0cd1123%29%0A%20%20%20%20%20%20%20%20%3B%0A%0A%20%20%20%20%20%20%20%20%0A%20%20%20%20%0A%20%20%20%20%0A%20%20%20%20%20%20%20%20%20%20%20%20marker_84666098563741869abc51a6f95a6da6.bindTooltip%28%0A%20%20%20%20%20%20%20%20%20%20%20%20%20%20%20%20%60%3Cdiv%3E%0A%20%20%20%20%20%20%20%20%20%20%20%20%20%20%20%20%20%20%20%20%20Click%20aqui%21%0A%20%20%20%20%20%20%20%20%20%20%20%20%20%20%20%20%20%3C/div%3E%60%2C%0A%20%20%20%20%20%20%20%20%20%20%20%20%20%20%20%20%7B%22sticky%22%3A%20true%7D%0A%20%20%20%20%20%20%20%20%20%20%20%20%29%3B%0A%20%20%20%20%20%20%20%20%0A%20%20%20%20%0A%20%20%20%20%20%20%20%20%20%20%20%20var%20marker_7e78dfd691584a1ea50463a7bd62779b%20%3D%20L.marker%28%0A%20%20%20%20%20%20%20%20%20%20%20%20%20%20%20%20%5B-8.16861462331677%2C%20-34.9142004999995%5D%2C%0A%20%20%20%20%20%20%20%20%20%20%20%20%20%20%20%20%7B%7D%0A%20%20%20%20%20%20%20%20%20%20%20%20%29.addTo%28map_a1f79c559c794d608a5d5fcfe0a0adba%29%3B%0A%20%20%20%20%20%20%20%20%0A%20%20%20%20%0A%20%20%20%20%20%20%20%20var%20popup_65f45044ed3c4701b23469a72ceb9f0e%20%3D%20L.popup%28%7B%22maxWidth%22%3A%20%22100%25%22%7D%29%3B%0A%0A%20%20%20%20%20%20%20%20%0A%20%20%20%20%20%20%20%20%20%20%20%20var%20html_7c5b9f28906e463ab3fdaf1495638a9c%20%3D%20%24%28%60%3Cdiv%20id%3D%22html_7c5b9f28906e463ab3fdaf1495638a9c%22%20style%3D%22width%3A%20100.0%25%3B%20height%3A%20100.0%25%3B%22%3Epiedade%3C/div%3E%60%29%5B0%5D%3B%0A%20%20%20%20%20%20%20%20%20%20%20%20popup_65f45044ed3c4701b23469a72ceb9f0e.setContent%28html_7c5b9f28906e463ab3fdaf1495638a9c%29%3B%0A%20%20%20%20%20%20%20%20%0A%0A%20%20%20%20%20%20%20%20marker_7e78dfd691584a1ea50463a7bd62779b.bindPopup%28popup_65f45044ed3c4701b23469a72ceb9f0e%29%0A%20%20%20%20%20%20%20%20%3B%0A%0A%20%20%20%20%20%20%20%20%0A%20%20%20%20%0A%20%20%20%20%0A%20%20%20%20%20%20%20%20%20%20%20%20marker_7e78dfd691584a1ea50463a7bd62779b.bindTooltip%28%0A%20%20%20%20%20%20%20%20%20%20%20%20%20%20%20%20%60%3Cdiv%3E%0A%20%20%20%20%20%20%20%20%20%20%20%20%20%20%20%20%20%20%20%20%20Click%20aqui%21%0A%20%20%20%20%20%20%20%20%20%20%20%20%20%20%20%20%20%3C/div%3E%60%2C%0A%20%20%20%20%20%20%20%20%20%20%20%20%20%20%20%20%7B%22sticky%22%3A%20true%7D%0A%20%20%20%20%20%20%20%20%20%20%20%20%29%3B%0A%20%20%20%20%20%20%20%20%0A%20%20%20%20%0A%20%20%20%20%20%20%20%20%20%20%20%20var%20marker_70dc6c74dd564d46821082cfa38a08ac%20%3D%20L.marker%28%0A%20%20%20%20%20%20%20%20%20%20%20%20%20%20%20%20%5B-8.09567612926708%2C%20-34.8820605841214%5D%2C%0A%20%20%20%20%20%20%20%20%20%20%20%20%20%20%20%20%7B%7D%0A%20%20%20%20%20%20%20%20%20%20%20%20%29.addTo%28map_a1f79c559c794d608a5d5fcfe0a0adba%29%3B%0A%20%20%20%20%20%20%20%20%0A%20%20%20%20%0A%20%20%20%20%20%20%20%20var%20popup_18ec407093d44cb3adf939b0e7c244ce%20%3D%20L.popup%28%7B%22maxWidth%22%3A%20%22100%25%22%7D%29%3B%0A%0A%20%20%20%20%20%20%20%20%0A%20%20%20%20%20%20%20%20%20%20%20%20var%20html_6e27c6fb50854612a81b6f60326cad2a%20%3D%20%24%28%60%3Cdiv%20id%3D%22html_6e27c6fb50854612a81b6f60326cad2a%22%20style%3D%22width%3A%20100.0%25%3B%20height%3A%20100.0%25%3B%22%3Epina%3C/div%3E%60%29%5B0%5D%3B%0A%20%20%20%20%20%20%20%20%20%20%20%20popup_18ec407093d44cb3adf939b0e7c244ce.setContent%28html_6e27c6fb50854612a81b6f60326cad2a%29%3B%0A%20%20%20%20%20%20%20%20%0A%0A%20%20%20%20%20%20%20%20marker_70dc6c74dd564d46821082cfa38a08ac.bindPopup%28popup_18ec407093d44cb3adf939b0e7c244ce%29%0A%20%20%20%20%20%20%20%20%3B%0A%0A%20%20%20%20%20%20%20%20%0A%20%20%20%20%0A%20%20%20%20%0A%20%20%20%20%20%20%20%20%20%20%20%20marker_70dc6c74dd564d46821082cfa38a08ac.bindTooltip%28%0A%20%20%20%20%20%20%20%20%20%20%20%20%20%20%20%20%60%3Cdiv%3E%0A%20%20%20%20%20%20%20%20%20%20%20%20%20%20%20%20%20%20%20%20%20Click%20aqui%21%0A%20%20%20%20%20%20%20%20%20%20%20%20%20%20%20%20%20%3C/div%3E%60%2C%0A%20%20%20%20%20%20%20%20%20%20%20%20%20%20%20%20%7B%22sticky%22%3A%20true%7D%0A%20%20%20%20%20%20%20%20%20%20%20%20%29%3B%0A%20%20%20%20%20%20%20%20%0A%20%20%20%20%0A%20%20%20%20%20%20%20%20%20%20%20%20var%20marker_45bd8ac77b3e48d0802facbec1e7ffaa%20%3D%20L.marker%28%0A%20%20%20%20%20%20%20%20%20%20%20%20%20%20%20%20%5B-8.02577808922562%2C%20-34.8574041507609%5D%2C%0A%20%20%20%20%20%20%20%20%20%20%20%20%20%20%20%20%7B%7D%0A%20%20%20%20%20%20%20%20%20%20%20%20%29.addTo%28map_a1f79c559c794d608a5d5fcfe0a0adba%29%3B%0A%20%20%20%20%20%20%20%20%0A%20%20%20%20%0A%20%20%20%20%20%20%20%20var%20popup_fe80500b5d0d4f2e85ff05931012738a%20%3D%20L.popup%28%7B%22maxWidth%22%3A%20%22100%25%22%7D%29%3B%0A%0A%20%20%20%20%20%20%20%20%0A%20%20%20%20%20%20%20%20%20%20%20%20var%20html_a4dfff3a4eb24e37b844469e8337c6b0%20%3D%20%24%28%60%3Cdiv%20id%3D%22html_a4dfff3a4eb24e37b844469e8337c6b0%22%20style%3D%22width%3A%20100.0%25%3B%20height%3A%20100.0%25%3B%22%3Epunta_del_chifre%3C/div%3E%60%29%5B0%5D%3B%0A%20%20%20%20%20%20%20%20%20%20%20%20popup_fe80500b5d0d4f2e85ff05931012738a.setContent%28html_a4dfff3a4eb24e37b844469e8337c6b0%29%3B%0A%20%20%20%20%20%20%20%20%0A%0A%20%20%20%20%20%20%20%20marker_45bd8ac77b3e48d0802facbec1e7ffaa.bindPopup%28popup_fe80500b5d0d4f2e85ff05931012738a%29%0A%20%20%20%20%20%20%20%20%3B%0A%0A%20%20%20%20%20%20%20%20%0A%20%20%20%20%0A%20%20%20%20%0A%20%20%20%20%20%20%20%20%20%20%20%20marker_45bd8ac77b3e48d0802facbec1e7ffaa.bindTooltip%28%0A%20%20%20%20%20%20%20%20%20%20%20%20%20%20%20%20%60%3Cdiv%3E%0A%20%20%20%20%20%20%20%20%20%20%20%20%20%20%20%20%20%20%20%20%20Click%20aqui%21%0A%20%20%20%20%20%20%20%20%20%20%20%20%20%20%20%20%20%3C/div%3E%60%2C%0A%20%20%20%20%20%20%20%20%20%20%20%20%20%20%20%20%7B%22sticky%22%3A%20true%7D%0A%20%20%20%20%20%20%20%20%20%20%20%20%29%3B%0A%20%20%20%20%20%20%20%20%0A%3C/script%3E onload=\"this.contentDocument.open();this.contentDocument.write(    decodeURIComponent(this.getAttribute('data-html')));this.contentDocument.close();\" allowfullscreen webkitallowfullscreen mozallowfullscreen></iframe></div></div>"
      ],
      "text/plain": [
       "<folium.folium.Map at 0x1203a02f700>"
      ]
     },
     "execution_count": 123,
     "metadata": {},
     "output_type": "execute_result"
    }
   ],
   "source": [
    "for (index, row) in df_coordenates.iterrows():\n",
    "    folium.Marker(location=[row.loc['latitude'], row.loc['longitude']],\n",
    "    popup=row.loc['name'],\n",
    "    tooltip='Click aqui!'\n",
    "    ).add_to(mapa)\n",
    "mapa"
   ]
  },
  {
   "cell_type": "markdown",
   "id": "56abd4a5",
   "metadata": {},
   "source": [
    "### Criação de coluna \"attacks\" com soma de ataques de tubarão por localização em novo DataFrame \"df_coordenates\""
   ]
  },
  {
   "cell_type": "code",
   "execution_count": 124,
   "id": "4a13b3f4",
   "metadata": {},
   "outputs": [],
   "source": [
    "df_coordenates.columns= [column.lower().replace('unnamed: 3','attacks') for column in df_coordenates.columns]"
   ]
  },
  {
   "cell_type": "code",
   "execution_count": 125,
   "id": "231bbb71",
   "metadata": {},
   "outputs": [
    {
     "data": {
      "text/html": [
       "<div>\n",
       "<style scoped>\n",
       "    .dataframe tbody tr th:only-of-type {\n",
       "        vertical-align: middle;\n",
       "    }\n",
       "\n",
       "    .dataframe tbody tr th {\n",
       "        vertical-align: top;\n",
       "    }\n",
       "\n",
       "    .dataframe thead th {\n",
       "        text-align: right;\n",
       "    }\n",
       "</style>\n",
       "<table border=\"1\" class=\"dataframe\">\n",
       "  <thead>\n",
       "    <tr style=\"text-align: right;\">\n",
       "      <th></th>\n",
       "      <th>name</th>\n",
       "      <th>latitude</th>\n",
       "      <th>longitude</th>\n",
       "      <th>attacks</th>\n",
       "    </tr>\n",
       "  </thead>\n",
       "  <tbody>\n",
       "    <tr>\n",
       "      <th>0</th>\n",
       "      <td>barra_de_jangada</td>\n",
       "      <td>-8.229063</td>\n",
       "      <td>-34.942106</td>\n",
       "      <td>NaN</td>\n",
       "    </tr>\n",
       "    <tr>\n",
       "      <th>1</th>\n",
       "      <td>boa_viagem</td>\n",
       "      <td>-8.108573</td>\n",
       "      <td>-34.889246</td>\n",
       "      <td>NaN</td>\n",
       "    </tr>\n",
       "    <tr>\n",
       "      <th>2</th>\n",
       "      <td>cacimba_do_padre</td>\n",
       "      <td>-3.848898</td>\n",
       "      <td>-32.438872</td>\n",
       "      <td>NaN</td>\n",
       "    </tr>\n",
       "    <tr>\n",
       "      <th>3</th>\n",
       "      <td>candeias</td>\n",
       "      <td>-8.205228</td>\n",
       "      <td>-34.918137</td>\n",
       "      <td>NaN</td>\n",
       "    </tr>\n",
       "    <tr>\n",
       "      <th>4</th>\n",
       "      <td>enseada_dos_corais</td>\n",
       "      <td>-8.316620</td>\n",
       "      <td>-34.949801</td>\n",
       "      <td>NaN</td>\n",
       "    </tr>\n",
       "    <tr>\n",
       "      <th>5</th>\n",
       "      <td>fernando_de_noronha</td>\n",
       "      <td>-8.066268</td>\n",
       "      <td>-34.888406</td>\n",
       "      <td>NaN</td>\n",
       "    </tr>\n",
       "    <tr>\n",
       "      <th>6</th>\n",
       "      <td>itamaracá</td>\n",
       "      <td>-7.751604</td>\n",
       "      <td>-34.825297</td>\n",
       "      <td>NaN</td>\n",
       "    </tr>\n",
       "    <tr>\n",
       "      <th>7</th>\n",
       "      <td>paiva</td>\n",
       "      <td>-8.268478</td>\n",
       "      <td>-34.946555</td>\n",
       "      <td>NaN</td>\n",
       "    </tr>\n",
       "    <tr>\n",
       "      <th>8</th>\n",
       "      <td>pau_amarelo_paulista</td>\n",
       "      <td>-7.913578</td>\n",
       "      <td>-34.822552</td>\n",
       "      <td>NaN</td>\n",
       "    </tr>\n",
       "    <tr>\n",
       "      <th>9</th>\n",
       "      <td>piedade</td>\n",
       "      <td>-8.168615</td>\n",
       "      <td>-34.914200</td>\n",
       "      <td>NaN</td>\n",
       "    </tr>\n",
       "    <tr>\n",
       "      <th>10</th>\n",
       "      <td>pina</td>\n",
       "      <td>-8.095676</td>\n",
       "      <td>-34.882061</td>\n",
       "      <td>NaN</td>\n",
       "    </tr>\n",
       "    <tr>\n",
       "      <th>11</th>\n",
       "      <td>punta_del_chifre</td>\n",
       "      <td>-8.025778</td>\n",
       "      <td>-34.857404</td>\n",
       "      <td>NaN</td>\n",
       "    </tr>\n",
       "  </tbody>\n",
       "</table>\n",
       "</div>"
      ],
      "text/plain": [
       "                    name  latitude  longitude  attacks\n",
       "0       barra_de_jangada -8.229063 -34.942106      NaN\n",
       "1             boa_viagem -8.108573 -34.889246      NaN\n",
       "2       cacimba_do_padre -3.848898 -32.438872      NaN\n",
       "3               candeias -8.205228 -34.918137      NaN\n",
       "4     enseada_dos_corais -8.316620 -34.949801      NaN\n",
       "5    fernando_de_noronha -8.066268 -34.888406      NaN\n",
       "6              itamaracá -7.751604 -34.825297      NaN\n",
       "7                  paiva -8.268478 -34.946555      NaN\n",
       "8   pau_amarelo_paulista -7.913578 -34.822552      NaN\n",
       "9                piedade -8.168615 -34.914200      NaN\n",
       "10                  pina -8.095676 -34.882061      NaN\n",
       "11      punta_del_chifre -8.025778 -34.857404      NaN"
      ]
     },
     "execution_count": 125,
     "metadata": {},
     "output_type": "execute_result"
    }
   ],
   "source": [
    "df_coordenates"
   ]
  },
  {
   "cell_type": "code",
   "execution_count": 126,
   "id": "92c3de69",
   "metadata": {},
   "outputs": [],
   "source": [
    "count = df_pernambuco.loc_check.value_counts()"
   ]
  },
  {
   "cell_type": "code",
   "execution_count": 127,
   "id": "38713b8c",
   "metadata": {},
   "outputs": [],
   "source": [
    "count = count.to_dict()"
   ]
  },
  {
   "cell_type": "code",
   "execution_count": 128,
   "id": "d858ad4a",
   "metadata": {},
   "outputs": [
    {
     "data": {
      "text/plain": [
       "dict_values([26, 24, 5, 4, 4, 2, 2, 2, 2, 2, 2, 1, 1])"
      ]
     },
     "execution_count": 128,
     "metadata": {},
     "output_type": "execute_result"
    }
   ],
   "source": [
    "count.values()"
   ]
  },
  {
   "cell_type": "code",
   "execution_count": 129,
   "id": "48527440",
   "metadata": {},
   "outputs": [
    {
     "data": {
      "text/plain": [
       "{'piedade': 26,\n",
       " 'boa_viagem': 24,\n",
       " 'pina': 5,\n",
       " 'punta_del_chifre': 4,\n",
       " 'paiva': 4,\n",
       " 'enseada_dos_corais': 2,\n",
       " 'candeias': 2,\n",
       " 'barra_de_jangada': 2,\n",
       " 'Unknown': 2,\n",
       " 'fernando_de_noronha': 2,\n",
       " 'pau_amarelo_paulista': 2,\n",
       " 'cacimba_do_padre': 1,\n",
       " 'itamaracá': 1}"
      ]
     },
     "execution_count": 129,
     "metadata": {},
     "output_type": "execute_result"
    }
   ],
   "source": [
    "count"
   ]
  },
  {
   "cell_type": "markdown",
   "id": "0fb65afd",
   "metadata": {},
   "source": [
    "### Descarte de dois registros com localização desconhecida"
   ]
  },
  {
   "cell_type": "code",
   "execution_count": 130,
   "id": "1d9b65b3",
   "metadata": {},
   "outputs": [
    {
     "data": {
      "text/plain": [
       "2"
      ]
     },
     "execution_count": 130,
     "metadata": {},
     "output_type": "execute_result"
    }
   ],
   "source": [
    "count.pop('Unknown')"
   ]
  },
  {
   "cell_type": "code",
   "execution_count": 131,
   "id": "4b78fb4d",
   "metadata": {},
   "outputs": [
    {
     "data": {
      "text/plain": [
       "{'piedade': 26,\n",
       " 'boa_viagem': 24,\n",
       " 'pina': 5,\n",
       " 'punta_del_chifre': 4,\n",
       " 'paiva': 4,\n",
       " 'enseada_dos_corais': 2,\n",
       " 'candeias': 2,\n",
       " 'barra_de_jangada': 2,\n",
       " 'fernando_de_noronha': 2,\n",
       " 'pau_amarelo_paulista': 2,\n",
       " 'cacimba_do_padre': 1,\n",
       " 'itamaracá': 1}"
      ]
     },
     "execution_count": 131,
     "metadata": {},
     "output_type": "execute_result"
    }
   ],
   "source": [
    "count"
   ]
  },
  {
   "cell_type": "code",
   "execution_count": 132,
   "id": "df16dd52",
   "metadata": {},
   "outputs": [],
   "source": [
    "df_coordenates['attacks'] = df_coordenates.append(count, ignore_index=True, sort=False)"
   ]
  },
  {
   "cell_type": "code",
   "execution_count": 133,
   "id": "d7480fee",
   "metadata": {},
   "outputs": [],
   "source": [
    "df_coordenates['attacks'] = count.values()"
   ]
  },
  {
   "cell_type": "code",
   "execution_count": 134,
   "id": "8b313998",
   "metadata": {
    "scrolled": true
   },
   "outputs": [
    {
     "data": {
      "text/html": [
       "<div>\n",
       "<style scoped>\n",
       "    .dataframe tbody tr th:only-of-type {\n",
       "        vertical-align: middle;\n",
       "    }\n",
       "\n",
       "    .dataframe tbody tr th {\n",
       "        vertical-align: top;\n",
       "    }\n",
       "\n",
       "    .dataframe thead th {\n",
       "        text-align: right;\n",
       "    }\n",
       "</style>\n",
       "<table border=\"1\" class=\"dataframe\">\n",
       "  <thead>\n",
       "    <tr style=\"text-align: right;\">\n",
       "      <th></th>\n",
       "      <th>name</th>\n",
       "      <th>latitude</th>\n",
       "      <th>longitude</th>\n",
       "      <th>attacks</th>\n",
       "    </tr>\n",
       "  </thead>\n",
       "  <tbody>\n",
       "    <tr>\n",
       "      <th>0</th>\n",
       "      <td>barra_de_jangada</td>\n",
       "      <td>-8.229063</td>\n",
       "      <td>-34.942106</td>\n",
       "      <td>26</td>\n",
       "    </tr>\n",
       "    <tr>\n",
       "      <th>1</th>\n",
       "      <td>boa_viagem</td>\n",
       "      <td>-8.108573</td>\n",
       "      <td>-34.889246</td>\n",
       "      <td>24</td>\n",
       "    </tr>\n",
       "    <tr>\n",
       "      <th>2</th>\n",
       "      <td>cacimba_do_padre</td>\n",
       "      <td>-3.848898</td>\n",
       "      <td>-32.438872</td>\n",
       "      <td>5</td>\n",
       "    </tr>\n",
       "    <tr>\n",
       "      <th>3</th>\n",
       "      <td>candeias</td>\n",
       "      <td>-8.205228</td>\n",
       "      <td>-34.918137</td>\n",
       "      <td>4</td>\n",
       "    </tr>\n",
       "    <tr>\n",
       "      <th>4</th>\n",
       "      <td>enseada_dos_corais</td>\n",
       "      <td>-8.316620</td>\n",
       "      <td>-34.949801</td>\n",
       "      <td>4</td>\n",
       "    </tr>\n",
       "    <tr>\n",
       "      <th>5</th>\n",
       "      <td>fernando_de_noronha</td>\n",
       "      <td>-8.066268</td>\n",
       "      <td>-34.888406</td>\n",
       "      <td>2</td>\n",
       "    </tr>\n",
       "    <tr>\n",
       "      <th>6</th>\n",
       "      <td>itamaracá</td>\n",
       "      <td>-7.751604</td>\n",
       "      <td>-34.825297</td>\n",
       "      <td>2</td>\n",
       "    </tr>\n",
       "    <tr>\n",
       "      <th>7</th>\n",
       "      <td>paiva</td>\n",
       "      <td>-8.268478</td>\n",
       "      <td>-34.946555</td>\n",
       "      <td>2</td>\n",
       "    </tr>\n",
       "    <tr>\n",
       "      <th>8</th>\n",
       "      <td>pau_amarelo_paulista</td>\n",
       "      <td>-7.913578</td>\n",
       "      <td>-34.822552</td>\n",
       "      <td>2</td>\n",
       "    </tr>\n",
       "    <tr>\n",
       "      <th>9</th>\n",
       "      <td>piedade</td>\n",
       "      <td>-8.168615</td>\n",
       "      <td>-34.914200</td>\n",
       "      <td>2</td>\n",
       "    </tr>\n",
       "    <tr>\n",
       "      <th>10</th>\n",
       "      <td>pina</td>\n",
       "      <td>-8.095676</td>\n",
       "      <td>-34.882061</td>\n",
       "      <td>1</td>\n",
       "    </tr>\n",
       "    <tr>\n",
       "      <th>11</th>\n",
       "      <td>punta_del_chifre</td>\n",
       "      <td>-8.025778</td>\n",
       "      <td>-34.857404</td>\n",
       "      <td>1</td>\n",
       "    </tr>\n",
       "  </tbody>\n",
       "</table>\n",
       "</div>"
      ],
      "text/plain": [
       "                    name  latitude  longitude  attacks\n",
       "0       barra_de_jangada -8.229063 -34.942106       26\n",
       "1             boa_viagem -8.108573 -34.889246       24\n",
       "2       cacimba_do_padre -3.848898 -32.438872        5\n",
       "3               candeias -8.205228 -34.918137        4\n",
       "4     enseada_dos_corais -8.316620 -34.949801        4\n",
       "5    fernando_de_noronha -8.066268 -34.888406        2\n",
       "6              itamaracá -7.751604 -34.825297        2\n",
       "7                  paiva -8.268478 -34.946555        2\n",
       "8   pau_amarelo_paulista -7.913578 -34.822552        2\n",
       "9                piedade -8.168615 -34.914200        2\n",
       "10                  pina -8.095676 -34.882061        1\n",
       "11      punta_del_chifre -8.025778 -34.857404        1"
      ]
     },
     "execution_count": 134,
     "metadata": {},
     "output_type": "execute_result"
    }
   ],
   "source": [
    "df_coordenates"
   ]
  },
  {
   "cell_type": "code",
   "execution_count": 135,
   "id": "abc6e104",
   "metadata": {},
   "outputs": [],
   "source": [
    "df_coordenates['attacks'] = df_coordenates.attacks.astype('str')"
   ]
  },
  {
   "cell_type": "markdown",
   "id": "e23222da",
   "metadata": {},
   "source": [
    "### Edição do texto dentro do Pop-up\n",
    "\n",
    "###### Esta etapa poderá passar por otimizações"
   ]
  },
  {
   "cell_type": "code",
   "execution_count": 136,
   "id": "8174989c",
   "metadata": {
    "scrolled": true
   },
   "outputs": [
    {
     "data": {
      "text/html": [
       "<div style=\"width:100%;\"><div style=\"position:relative;width:100%;height:0;padding-bottom:60%;\"><span style=\"color:#565656\">Make this Notebook Trusted to load map: File -> Trust Notebook</span><iframe src=\"about:blank\" style=\"position:absolute;width:100%;height:100%;left:0;top:0;border:none !important;\" data-html=%3C%21DOCTYPE%20html%3E%0A%3Chead%3E%20%20%20%20%0A%20%20%20%20%3Cmeta%20http-equiv%3D%22content-type%22%20content%3D%22text/html%3B%20charset%3DUTF-8%22%20/%3E%0A%20%20%20%20%0A%20%20%20%20%20%20%20%20%3Cscript%3E%0A%20%20%20%20%20%20%20%20%20%20%20%20L_NO_TOUCH%20%3D%20false%3B%0A%20%20%20%20%20%20%20%20%20%20%20%20L_DISABLE_3D%20%3D%20false%3B%0A%20%20%20%20%20%20%20%20%3C/script%3E%0A%20%20%20%20%0A%20%20%20%20%3Cstyle%3Ehtml%2C%20body%20%7Bwidth%3A%20100%25%3Bheight%3A%20100%25%3Bmargin%3A%200%3Bpadding%3A%200%3B%7D%3C/style%3E%0A%20%20%20%20%3Cstyle%3E%23map%20%7Bposition%3Aabsolute%3Btop%3A0%3Bbottom%3A0%3Bright%3A0%3Bleft%3A0%3B%7D%3C/style%3E%0A%20%20%20%20%3Cscript%20src%3D%22https%3A//cdn.jsdelivr.net/npm/leaflet%401.6.0/dist/leaflet.js%22%3E%3C/script%3E%0A%20%20%20%20%3Cscript%20src%3D%22https%3A//code.jquery.com/jquery-1.12.4.min.js%22%3E%3C/script%3E%0A%20%20%20%20%3Cscript%20src%3D%22https%3A//maxcdn.bootstrapcdn.com/bootstrap/3.2.0/js/bootstrap.min.js%22%3E%3C/script%3E%0A%20%20%20%20%3Cscript%20src%3D%22https%3A//cdnjs.cloudflare.com/ajax/libs/Leaflet.awesome-markers/2.0.2/leaflet.awesome-markers.js%22%3E%3C/script%3E%0A%20%20%20%20%3Clink%20rel%3D%22stylesheet%22%20href%3D%22https%3A//cdn.jsdelivr.net/npm/leaflet%401.6.0/dist/leaflet.css%22/%3E%0A%20%20%20%20%3Clink%20rel%3D%22stylesheet%22%20href%3D%22https%3A//maxcdn.bootstrapcdn.com/bootstrap/3.2.0/css/bootstrap.min.css%22/%3E%0A%20%20%20%20%3Clink%20rel%3D%22stylesheet%22%20href%3D%22https%3A//maxcdn.bootstrapcdn.com/bootstrap/3.2.0/css/bootstrap-theme.min.css%22/%3E%0A%20%20%20%20%3Clink%20rel%3D%22stylesheet%22%20href%3D%22https%3A//maxcdn.bootstrapcdn.com/font-awesome/4.6.3/css/font-awesome.min.css%22/%3E%0A%20%20%20%20%3Clink%20rel%3D%22stylesheet%22%20href%3D%22https%3A//cdnjs.cloudflare.com/ajax/libs/Leaflet.awesome-markers/2.0.2/leaflet.awesome-markers.css%22/%3E%0A%20%20%20%20%3Clink%20rel%3D%22stylesheet%22%20href%3D%22https%3A//cdn.jsdelivr.net/gh/python-visualization/folium/folium/templates/leaflet.awesome.rotate.min.css%22/%3E%0A%20%20%20%20%0A%20%20%20%20%20%20%20%20%20%20%20%20%3Cmeta%20name%3D%22viewport%22%20content%3D%22width%3Ddevice-width%2C%0A%20%20%20%20%20%20%20%20%20%20%20%20%20%20%20%20initial-scale%3D1.0%2C%20maximum-scale%3D1.0%2C%20user-scalable%3Dno%22%20/%3E%0A%20%20%20%20%20%20%20%20%20%20%20%20%3Cstyle%3E%0A%20%20%20%20%20%20%20%20%20%20%20%20%20%20%20%20%23map_a1f79c559c794d608a5d5fcfe0a0adba%20%7B%0A%20%20%20%20%20%20%20%20%20%20%20%20%20%20%20%20%20%20%20%20position%3A%20relative%3B%0A%20%20%20%20%20%20%20%20%20%20%20%20%20%20%20%20%20%20%20%20width%3A%20100.0%25%3B%0A%20%20%20%20%20%20%20%20%20%20%20%20%20%20%20%20%20%20%20%20height%3A%20100.0%25%3B%0A%20%20%20%20%20%20%20%20%20%20%20%20%20%20%20%20%20%20%20%20left%3A%200.0%25%3B%0A%20%20%20%20%20%20%20%20%20%20%20%20%20%20%20%20%20%20%20%20top%3A%200.0%25%3B%0A%20%20%20%20%20%20%20%20%20%20%20%20%20%20%20%20%7D%0A%20%20%20%20%20%20%20%20%20%20%20%20%3C/style%3E%0A%20%20%20%20%20%20%20%20%0A%3C/head%3E%0A%3Cbody%3E%20%20%20%20%0A%20%20%20%20%0A%20%20%20%20%20%20%20%20%20%20%20%20%3Cdiv%20class%3D%22folium-map%22%20id%3D%22map_a1f79c559c794d608a5d5fcfe0a0adba%22%20%3E%3C/div%3E%0A%20%20%20%20%20%20%20%20%0A%3C/body%3E%0A%3Cscript%3E%20%20%20%20%0A%20%20%20%20%0A%20%20%20%20%20%20%20%20%20%20%20%20var%20map_a1f79c559c794d608a5d5fcfe0a0adba%20%3D%20L.map%28%0A%20%20%20%20%20%20%20%20%20%20%20%20%20%20%20%20%22map_a1f79c559c794d608a5d5fcfe0a0adba%22%2C%0A%20%20%20%20%20%20%20%20%20%20%20%20%20%20%20%20%7B%0A%20%20%20%20%20%20%20%20%20%20%20%20%20%20%20%20%20%20%20%20center%3A%20%5B-8.027223049248697%2C%20-34.869305493039306%5D%2C%0A%20%20%20%20%20%20%20%20%20%20%20%20%20%20%20%20%20%20%20%20crs%3A%20L.CRS.EPSG3857%2C%0A%20%20%20%20%20%20%20%20%20%20%20%20%20%20%20%20%20%20%20%20zoom%3A%2011%2C%0A%20%20%20%20%20%20%20%20%20%20%20%20%20%20%20%20%20%20%20%20zoomControl%3A%20true%2C%0A%20%20%20%20%20%20%20%20%20%20%20%20%20%20%20%20%20%20%20%20preferCanvas%3A%20false%2C%0A%20%20%20%20%20%20%20%20%20%20%20%20%20%20%20%20%7D%0A%20%20%20%20%20%20%20%20%20%20%20%20%29%3B%0A%0A%20%20%20%20%20%20%20%20%20%20%20%20%0A%0A%20%20%20%20%20%20%20%20%0A%20%20%20%20%0A%20%20%20%20%20%20%20%20%20%20%20%20var%20tile_layer_40b83b09c0a4482bb39bd93e4d50335d%20%3D%20L.tileLayer%28%0A%20%20%20%20%20%20%20%20%20%20%20%20%20%20%20%20%22https%3A//%7Bs%7D.tile.openstreetmap.org/%7Bz%7D/%7Bx%7D/%7By%7D.png%22%2C%0A%20%20%20%20%20%20%20%20%20%20%20%20%20%20%20%20%7B%22attribution%22%3A%20%22Data%20by%20%5Cu0026copy%3B%20%5Cu003ca%20href%3D%5C%22http%3A//openstreetmap.org%5C%22%5Cu003eOpenStreetMap%5Cu003c/a%5Cu003e%2C%20under%20%5Cu003ca%20href%3D%5C%22http%3A//www.openstreetmap.org/copyright%5C%22%5Cu003eODbL%5Cu003c/a%5Cu003e.%22%2C%20%22detectRetina%22%3A%20false%2C%20%22maxNativeZoom%22%3A%2018%2C%20%22maxZoom%22%3A%2018%2C%20%22minZoom%22%3A%200%2C%20%22noWrap%22%3A%20false%2C%20%22opacity%22%3A%201%2C%20%22subdomains%22%3A%20%22abc%22%2C%20%22tms%22%3A%20false%7D%0A%20%20%20%20%20%20%20%20%20%20%20%20%29.addTo%28map_a1f79c559c794d608a5d5fcfe0a0adba%29%3B%0A%20%20%20%20%20%20%20%20%0A%20%20%20%20%0A%20%20%20%20%20%20%20%20%20%20%20%20var%20marker_14eed287fe60406c878b33a3e9178043%20%3D%20L.marker%28%0A%20%20%20%20%20%20%20%20%20%20%20%20%20%20%20%20%5B-8.22906325741136%2C%20-34.9421057603418%5D%2C%0A%20%20%20%20%20%20%20%20%20%20%20%20%20%20%20%20%7B%7D%0A%20%20%20%20%20%20%20%20%20%20%20%20%29.addTo%28map_a1f79c559c794d608a5d5fcfe0a0adba%29%3B%0A%20%20%20%20%20%20%20%20%0A%20%20%20%20%0A%20%20%20%20%20%20%20%20var%20popup_6bab69db97dd45bba2c103a144ecbd4c%20%3D%20L.popup%28%7B%22maxWidth%22%3A%20%22100%25%22%7D%29%3B%0A%0A%20%20%20%20%20%20%20%20%0A%20%20%20%20%20%20%20%20%20%20%20%20var%20html_cc480dde00884aab9ff73d1d099bd320%20%3D%20%24%28%60%3Cdiv%20id%3D%22html_cc480dde00884aab9ff73d1d099bd320%22%20style%3D%22width%3A%20100.0%25%3B%20height%3A%20100.0%25%3B%22%3Ebarra_de_jangada%3C/div%3E%60%29%5B0%5D%3B%0A%20%20%20%20%20%20%20%20%20%20%20%20popup_6bab69db97dd45bba2c103a144ecbd4c.setContent%28html_cc480dde00884aab9ff73d1d099bd320%29%3B%0A%20%20%20%20%20%20%20%20%0A%0A%20%20%20%20%20%20%20%20marker_14eed287fe60406c878b33a3e9178043.bindPopup%28popup_6bab69db97dd45bba2c103a144ecbd4c%29%0A%20%20%20%20%20%20%20%20%3B%0A%0A%20%20%20%20%20%20%20%20%0A%20%20%20%20%0A%20%20%20%20%0A%20%20%20%20%20%20%20%20%20%20%20%20marker_14eed287fe60406c878b33a3e9178043.bindTooltip%28%0A%20%20%20%20%20%20%20%20%20%20%20%20%20%20%20%20%60%3Cdiv%3E%0A%20%20%20%20%20%20%20%20%20%20%20%20%20%20%20%20%20%20%20%20%20Click%20aqui%21%0A%20%20%20%20%20%20%20%20%20%20%20%20%20%20%20%20%20%3C/div%3E%60%2C%0A%20%20%20%20%20%20%20%20%20%20%20%20%20%20%20%20%7B%22sticky%22%3A%20true%7D%0A%20%20%20%20%20%20%20%20%20%20%20%20%29%3B%0A%20%20%20%20%20%20%20%20%0A%20%20%20%20%0A%20%20%20%20%20%20%20%20%20%20%20%20var%20marker_50c7ea7c4a164ede9489eeb83897eb1f%20%3D%20L.marker%28%0A%20%20%20%20%20%20%20%20%20%20%20%20%20%20%20%20%5B-8.10857303981487%2C%20-34.8892463211503%5D%2C%0A%20%20%20%20%20%20%20%20%20%20%20%20%20%20%20%20%7B%7D%0A%20%20%20%20%20%20%20%20%20%20%20%20%29.addTo%28map_a1f79c559c794d608a5d5fcfe0a0adba%29%3B%0A%20%20%20%20%20%20%20%20%0A%20%20%20%20%0A%20%20%20%20%20%20%20%20var%20popup_b2ab16d33b5a42a58260491fce221cf3%20%3D%20L.popup%28%7B%22maxWidth%22%3A%20%22100%25%22%7D%29%3B%0A%0A%20%20%20%20%20%20%20%20%0A%20%20%20%20%20%20%20%20%20%20%20%20var%20html_e8d494875ec74e7581e3d7cc9fb487a4%20%3D%20%24%28%60%3Cdiv%20id%3D%22html_e8d494875ec74e7581e3d7cc9fb487a4%22%20style%3D%22width%3A%20100.0%25%3B%20height%3A%20100.0%25%3B%22%3Eboa_viagem%3C/div%3E%60%29%5B0%5D%3B%0A%20%20%20%20%20%20%20%20%20%20%20%20popup_b2ab16d33b5a42a58260491fce221cf3.setContent%28html_e8d494875ec74e7581e3d7cc9fb487a4%29%3B%0A%20%20%20%20%20%20%20%20%0A%0A%20%20%20%20%20%20%20%20marker_50c7ea7c4a164ede9489eeb83897eb1f.bindPopup%28popup_b2ab16d33b5a42a58260491fce221cf3%29%0A%20%20%20%20%20%20%20%20%3B%0A%0A%20%20%20%20%20%20%20%20%0A%20%20%20%20%0A%20%20%20%20%0A%20%20%20%20%20%20%20%20%20%20%20%20marker_50c7ea7c4a164ede9489eeb83897eb1f.bindTooltip%28%0A%20%20%20%20%20%20%20%20%20%20%20%20%20%20%20%20%60%3Cdiv%3E%0A%20%20%20%20%20%20%20%20%20%20%20%20%20%20%20%20%20%20%20%20%20Click%20aqui%21%0A%20%20%20%20%20%20%20%20%20%20%20%20%20%20%20%20%20%3C/div%3E%60%2C%0A%20%20%20%20%20%20%20%20%20%20%20%20%20%20%20%20%7B%22sticky%22%3A%20true%7D%0A%20%20%20%20%20%20%20%20%20%20%20%20%29%3B%0A%20%20%20%20%20%20%20%20%0A%20%20%20%20%0A%20%20%20%20%20%20%20%20%20%20%20%20var%20marker_566705302e4e4cbfa245e0f3c0050954%20%3D%20L.marker%28%0A%20%20%20%20%20%20%20%20%20%20%20%20%20%20%20%20%5B-3.84889764599607%2C%20-32.4388716116362%5D%2C%0A%20%20%20%20%20%20%20%20%20%20%20%20%20%20%20%20%7B%7D%0A%20%20%20%20%20%20%20%20%20%20%20%20%29.addTo%28map_a1f79c559c794d608a5d5fcfe0a0adba%29%3B%0A%20%20%20%20%20%20%20%20%0A%20%20%20%20%0A%20%20%20%20%20%20%20%20var%20popup_afc5dc2d8f584956abf0fd8a4b0c5bed%20%3D%20L.popup%28%7B%22maxWidth%22%3A%20%22100%25%22%7D%29%3B%0A%0A%20%20%20%20%20%20%20%20%0A%20%20%20%20%20%20%20%20%20%20%20%20var%20html_060fb6983f1c482f98bc0ecb363844f2%20%3D%20%24%28%60%3Cdiv%20id%3D%22html_060fb6983f1c482f98bc0ecb363844f2%22%20style%3D%22width%3A%20100.0%25%3B%20height%3A%20100.0%25%3B%22%3Ecacimba_do_padre%3C/div%3E%60%29%5B0%5D%3B%0A%20%20%20%20%20%20%20%20%20%20%20%20popup_afc5dc2d8f584956abf0fd8a4b0c5bed.setContent%28html_060fb6983f1c482f98bc0ecb363844f2%29%3B%0A%20%20%20%20%20%20%20%20%0A%0A%20%20%20%20%20%20%20%20marker_566705302e4e4cbfa245e0f3c0050954.bindPopup%28popup_afc5dc2d8f584956abf0fd8a4b0c5bed%29%0A%20%20%20%20%20%20%20%20%3B%0A%0A%20%20%20%20%20%20%20%20%0A%20%20%20%20%0A%20%20%20%20%0A%20%20%20%20%20%20%20%20%20%20%20%20marker_566705302e4e4cbfa245e0f3c0050954.bindTooltip%28%0A%20%20%20%20%20%20%20%20%20%20%20%20%20%20%20%20%60%3Cdiv%3E%0A%20%20%20%20%20%20%20%20%20%20%20%20%20%20%20%20%20%20%20%20%20Click%20aqui%21%0A%20%20%20%20%20%20%20%20%20%20%20%20%20%20%20%20%20%3C/div%3E%60%2C%0A%20%20%20%20%20%20%20%20%20%20%20%20%20%20%20%20%7B%22sticky%22%3A%20true%7D%0A%20%20%20%20%20%20%20%20%20%20%20%20%29%3B%0A%20%20%20%20%20%20%20%20%0A%20%20%20%20%0A%20%20%20%20%20%20%20%20%20%20%20%20var%20marker_aaaae97233c140ff8f22c8dda2b0164c%20%3D%20L.marker%28%0A%20%20%20%20%20%20%20%20%20%20%20%20%20%20%20%20%5B-8.20522836450443%2C%20-34.9181368845543%5D%2C%0A%20%20%20%20%20%20%20%20%20%20%20%20%20%20%20%20%7B%7D%0A%20%20%20%20%20%20%20%20%20%20%20%20%29.addTo%28map_a1f79c559c794d608a5d5fcfe0a0adba%29%3B%0A%20%20%20%20%20%20%20%20%0A%20%20%20%20%0A%20%20%20%20%20%20%20%20var%20popup_81782723aae64600b915b948b5ca0e9d%20%3D%20L.popup%28%7B%22maxWidth%22%3A%20%22100%25%22%7D%29%3B%0A%0A%20%20%20%20%20%20%20%20%0A%20%20%20%20%20%20%20%20%20%20%20%20var%20html_255e37dec6fe4e22bb40df65a0685e4d%20%3D%20%24%28%60%3Cdiv%20id%3D%22html_255e37dec6fe4e22bb40df65a0685e4d%22%20style%3D%22width%3A%20100.0%25%3B%20height%3A%20100.0%25%3B%22%3Ecandeias%3C/div%3E%60%29%5B0%5D%3B%0A%20%20%20%20%20%20%20%20%20%20%20%20popup_81782723aae64600b915b948b5ca0e9d.setContent%28html_255e37dec6fe4e22bb40df65a0685e4d%29%3B%0A%20%20%20%20%20%20%20%20%0A%0A%20%20%20%20%20%20%20%20marker_aaaae97233c140ff8f22c8dda2b0164c.bindPopup%28popup_81782723aae64600b915b948b5ca0e9d%29%0A%20%20%20%20%20%20%20%20%3B%0A%0A%20%20%20%20%20%20%20%20%0A%20%20%20%20%0A%20%20%20%20%0A%20%20%20%20%20%20%20%20%20%20%20%20marker_aaaae97233c140ff8f22c8dda2b0164c.bindTooltip%28%0A%20%20%20%20%20%20%20%20%20%20%20%20%20%20%20%20%60%3Cdiv%3E%0A%20%20%20%20%20%20%20%20%20%20%20%20%20%20%20%20%20%20%20%20%20Click%20aqui%21%0A%20%20%20%20%20%20%20%20%20%20%20%20%20%20%20%20%20%3C/div%3E%60%2C%0A%20%20%20%20%20%20%20%20%20%20%20%20%20%20%20%20%7B%22sticky%22%3A%20true%7D%0A%20%20%20%20%20%20%20%20%20%20%20%20%29%3B%0A%20%20%20%20%20%20%20%20%0A%20%20%20%20%0A%20%20%20%20%20%20%20%20%20%20%20%20var%20marker_fd5270f533034f7bbd1edc5663e53f9d%20%3D%20L.marker%28%0A%20%20%20%20%20%20%20%20%20%20%20%20%20%20%20%20%5B-8.3166203054719%2C%20-34.949800544453%5D%2C%0A%20%20%20%20%20%20%20%20%20%20%20%20%20%20%20%20%7B%7D%0A%20%20%20%20%20%20%20%20%20%20%20%20%29.addTo%28map_a1f79c559c794d608a5d5fcfe0a0adba%29%3B%0A%20%20%20%20%20%20%20%20%0A%20%20%20%20%0A%20%20%20%20%20%20%20%20var%20popup_af0ddf36563349a3968e161cd12d04ee%20%3D%20L.popup%28%7B%22maxWidth%22%3A%20%22100%25%22%7D%29%3B%0A%0A%20%20%20%20%20%20%20%20%0A%20%20%20%20%20%20%20%20%20%20%20%20var%20html_1e09bf8b8e51497a86eea4b84d677c59%20%3D%20%24%28%60%3Cdiv%20id%3D%22html_1e09bf8b8e51497a86eea4b84d677c59%22%20style%3D%22width%3A%20100.0%25%3B%20height%3A%20100.0%25%3B%22%3Eenseada_dos_corais%3C/div%3E%60%29%5B0%5D%3B%0A%20%20%20%20%20%20%20%20%20%20%20%20popup_af0ddf36563349a3968e161cd12d04ee.setContent%28html_1e09bf8b8e51497a86eea4b84d677c59%29%3B%0A%20%20%20%20%20%20%20%20%0A%0A%20%20%20%20%20%20%20%20marker_fd5270f533034f7bbd1edc5663e53f9d.bindPopup%28popup_af0ddf36563349a3968e161cd12d04ee%29%0A%20%20%20%20%20%20%20%20%3B%0A%0A%20%20%20%20%20%20%20%20%0A%20%20%20%20%0A%20%20%20%20%0A%20%20%20%20%20%20%20%20%20%20%20%20marker_fd5270f533034f7bbd1edc5663e53f9d.bindTooltip%28%0A%20%20%20%20%20%20%20%20%20%20%20%20%20%20%20%20%60%3Cdiv%3E%0A%20%20%20%20%20%20%20%20%20%20%20%20%20%20%20%20%20%20%20%20%20Click%20aqui%21%0A%20%20%20%20%20%20%20%20%20%20%20%20%20%20%20%20%20%3C/div%3E%60%2C%0A%20%20%20%20%20%20%20%20%20%20%20%20%20%20%20%20%7B%22sticky%22%3A%20true%7D%0A%20%20%20%20%20%20%20%20%20%20%20%20%29%3B%0A%20%20%20%20%20%20%20%20%0A%20%20%20%20%0A%20%20%20%20%20%20%20%20%20%20%20%20var%20marker_9a2a871d76654cdc825f2703af3d0795%20%3D%20L.marker%28%0A%20%20%20%20%20%20%20%20%20%20%20%20%20%20%20%20%5B-8.06626842720967%2C%20-34.8884061375187%5D%2C%0A%20%20%20%20%20%20%20%20%20%20%20%20%20%20%20%20%7B%7D%0A%20%20%20%20%20%20%20%20%20%20%20%20%29.addTo%28map_a1f79c559c794d608a5d5fcfe0a0adba%29%3B%0A%20%20%20%20%20%20%20%20%0A%20%20%20%20%0A%20%20%20%20%20%20%20%20var%20popup_8b807f2d72cf40a386197597ce91e37d%20%3D%20L.popup%28%7B%22maxWidth%22%3A%20%22100%25%22%7D%29%3B%0A%0A%20%20%20%20%20%20%20%20%0A%20%20%20%20%20%20%20%20%20%20%20%20var%20html_7090dd6c316c4005a6e386c43f56a158%20%3D%20%24%28%60%3Cdiv%20id%3D%22html_7090dd6c316c4005a6e386c43f56a158%22%20style%3D%22width%3A%20100.0%25%3B%20height%3A%20100.0%25%3B%22%3Efernando_de_noronha%3C/div%3E%60%29%5B0%5D%3B%0A%20%20%20%20%20%20%20%20%20%20%20%20popup_8b807f2d72cf40a386197597ce91e37d.setContent%28html_7090dd6c316c4005a6e386c43f56a158%29%3B%0A%20%20%20%20%20%20%20%20%0A%0A%20%20%20%20%20%20%20%20marker_9a2a871d76654cdc825f2703af3d0795.bindPopup%28popup_8b807f2d72cf40a386197597ce91e37d%29%0A%20%20%20%20%20%20%20%20%3B%0A%0A%20%20%20%20%20%20%20%20%0A%20%20%20%20%0A%20%20%20%20%0A%20%20%20%20%20%20%20%20%20%20%20%20marker_9a2a871d76654cdc825f2703af3d0795.bindTooltip%28%0A%20%20%20%20%20%20%20%20%20%20%20%20%20%20%20%20%60%3Cdiv%3E%0A%20%20%20%20%20%20%20%20%20%20%20%20%20%20%20%20%20%20%20%20%20Click%20aqui%21%0A%20%20%20%20%20%20%20%20%20%20%20%20%20%20%20%20%20%3C/div%3E%60%2C%0A%20%20%20%20%20%20%20%20%20%20%20%20%20%20%20%20%7B%22sticky%22%3A%20true%7D%0A%20%20%20%20%20%20%20%20%20%20%20%20%29%3B%0A%20%20%20%20%20%20%20%20%0A%20%20%20%20%0A%20%20%20%20%20%20%20%20%20%20%20%20var%20marker_af371e129c824a61949a4948b5d56ec3%20%3D%20L.marker%28%0A%20%20%20%20%20%20%20%20%20%20%20%20%20%20%20%20%5B-7.7516044107398%2C%20-34.8252974167234%5D%2C%0A%20%20%20%20%20%20%20%20%20%20%20%20%20%20%20%20%7B%7D%0A%20%20%20%20%20%20%20%20%20%20%20%20%29.addTo%28map_a1f79c559c794d608a5d5fcfe0a0adba%29%3B%0A%20%20%20%20%20%20%20%20%0A%20%20%20%20%0A%20%20%20%20%20%20%20%20var%20popup_c11459b069874c56b445ee37103620cf%20%3D%20L.popup%28%7B%22maxWidth%22%3A%20%22100%25%22%7D%29%3B%0A%0A%20%20%20%20%20%20%20%20%0A%20%20%20%20%20%20%20%20%20%20%20%20var%20html_31a59516716047028cfb11ce228d39f6%20%3D%20%24%28%60%3Cdiv%20id%3D%22html_31a59516716047028cfb11ce228d39f6%22%20style%3D%22width%3A%20100.0%25%3B%20height%3A%20100.0%25%3B%22%3Eitamarac%C3%A1%3C/div%3E%60%29%5B0%5D%3B%0A%20%20%20%20%20%20%20%20%20%20%20%20popup_c11459b069874c56b445ee37103620cf.setContent%28html_31a59516716047028cfb11ce228d39f6%29%3B%0A%20%20%20%20%20%20%20%20%0A%0A%20%20%20%20%20%20%20%20marker_af371e129c824a61949a4948b5d56ec3.bindPopup%28popup_c11459b069874c56b445ee37103620cf%29%0A%20%20%20%20%20%20%20%20%3B%0A%0A%20%20%20%20%20%20%20%20%0A%20%20%20%20%0A%20%20%20%20%0A%20%20%20%20%20%20%20%20%20%20%20%20marker_af371e129c824a61949a4948b5d56ec3.bindTooltip%28%0A%20%20%20%20%20%20%20%20%20%20%20%20%20%20%20%20%60%3Cdiv%3E%0A%20%20%20%20%20%20%20%20%20%20%20%20%20%20%20%20%20%20%20%20%20Click%20aqui%21%0A%20%20%20%20%20%20%20%20%20%20%20%20%20%20%20%20%20%3C/div%3E%60%2C%0A%20%20%20%20%20%20%20%20%20%20%20%20%20%20%20%20%7B%22sticky%22%3A%20true%7D%0A%20%20%20%20%20%20%20%20%20%20%20%20%29%3B%0A%20%20%20%20%20%20%20%20%0A%20%20%20%20%0A%20%20%20%20%20%20%20%20%20%20%20%20var%20marker_0883b95a9365499dab89a2b20aa8944c%20%3D%20L.marker%28%0A%20%20%20%20%20%20%20%20%20%20%20%20%20%20%20%20%5B-8.26847781521217%2C%20-34.9465551054554%5D%2C%0A%20%20%20%20%20%20%20%20%20%20%20%20%20%20%20%20%7B%7D%0A%20%20%20%20%20%20%20%20%20%20%20%20%29.addTo%28map_a1f79c559c794d608a5d5fcfe0a0adba%29%3B%0A%20%20%20%20%20%20%20%20%0A%20%20%20%20%0A%20%20%20%20%20%20%20%20var%20popup_f85b251c5dc64789b1ff3949b8d5ffe6%20%3D%20L.popup%28%7B%22maxWidth%22%3A%20%22100%25%22%7D%29%3B%0A%0A%20%20%20%20%20%20%20%20%0A%20%20%20%20%20%20%20%20%20%20%20%20var%20html_80709d4e4a3c479e8402e69ff1a08c68%20%3D%20%24%28%60%3Cdiv%20id%3D%22html_80709d4e4a3c479e8402e69ff1a08c68%22%20style%3D%22width%3A%20100.0%25%3B%20height%3A%20100.0%25%3B%22%3Epaiva%3C/div%3E%60%29%5B0%5D%3B%0A%20%20%20%20%20%20%20%20%20%20%20%20popup_f85b251c5dc64789b1ff3949b8d5ffe6.setContent%28html_80709d4e4a3c479e8402e69ff1a08c68%29%3B%0A%20%20%20%20%20%20%20%20%0A%0A%20%20%20%20%20%20%20%20marker_0883b95a9365499dab89a2b20aa8944c.bindPopup%28popup_f85b251c5dc64789b1ff3949b8d5ffe6%29%0A%20%20%20%20%20%20%20%20%3B%0A%0A%20%20%20%20%20%20%20%20%0A%20%20%20%20%0A%20%20%20%20%0A%20%20%20%20%20%20%20%20%20%20%20%20marker_0883b95a9365499dab89a2b20aa8944c.bindTooltip%28%0A%20%20%20%20%20%20%20%20%20%20%20%20%20%20%20%20%60%3Cdiv%3E%0A%20%20%20%20%20%20%20%20%20%20%20%20%20%20%20%20%20%20%20%20%20Click%20aqui%21%0A%20%20%20%20%20%20%20%20%20%20%20%20%20%20%20%20%20%3C/div%3E%60%2C%0A%20%20%20%20%20%20%20%20%20%20%20%20%20%20%20%20%7B%22sticky%22%3A%20true%7D%0A%20%20%20%20%20%20%20%20%20%20%20%20%29%3B%0A%20%20%20%20%20%20%20%20%0A%20%20%20%20%0A%20%20%20%20%20%20%20%20%20%20%20%20var%20marker_84666098563741869abc51a6f95a6da6%20%3D%20L.marker%28%0A%20%20%20%20%20%20%20%20%20%20%20%20%20%20%20%20%5B-7.91357829122554%2C%20-34.8225515338408%5D%2C%0A%20%20%20%20%20%20%20%20%20%20%20%20%20%20%20%20%7B%7D%0A%20%20%20%20%20%20%20%20%20%20%20%20%29.addTo%28map_a1f79c559c794d608a5d5fcfe0a0adba%29%3B%0A%20%20%20%20%20%20%20%20%0A%20%20%20%20%0A%20%20%20%20%20%20%20%20var%20popup_c9454dc1aedc4789985e2778a0cd1123%20%3D%20L.popup%28%7B%22maxWidth%22%3A%20%22100%25%22%7D%29%3B%0A%0A%20%20%20%20%20%20%20%20%0A%20%20%20%20%20%20%20%20%20%20%20%20var%20html_7b0b19be2da64164bdd62923fb5a493d%20%3D%20%24%28%60%3Cdiv%20id%3D%22html_7b0b19be2da64164bdd62923fb5a493d%22%20style%3D%22width%3A%20100.0%25%3B%20height%3A%20100.0%25%3B%22%3Epau_amarelo_paulista%3C/div%3E%60%29%5B0%5D%3B%0A%20%20%20%20%20%20%20%20%20%20%20%20popup_c9454dc1aedc4789985e2778a0cd1123.setContent%28html_7b0b19be2da64164bdd62923fb5a493d%29%3B%0A%20%20%20%20%20%20%20%20%0A%0A%20%20%20%20%20%20%20%20marker_84666098563741869abc51a6f95a6da6.bindPopup%28popup_c9454dc1aedc4789985e2778a0cd1123%29%0A%20%20%20%20%20%20%20%20%3B%0A%0A%20%20%20%20%20%20%20%20%0A%20%20%20%20%0A%20%20%20%20%0A%20%20%20%20%20%20%20%20%20%20%20%20marker_84666098563741869abc51a6f95a6da6.bindTooltip%28%0A%20%20%20%20%20%20%20%20%20%20%20%20%20%20%20%20%60%3Cdiv%3E%0A%20%20%20%20%20%20%20%20%20%20%20%20%20%20%20%20%20%20%20%20%20Click%20aqui%21%0A%20%20%20%20%20%20%20%20%20%20%20%20%20%20%20%20%20%3C/div%3E%60%2C%0A%20%20%20%20%20%20%20%20%20%20%20%20%20%20%20%20%7B%22sticky%22%3A%20true%7D%0A%20%20%20%20%20%20%20%20%20%20%20%20%29%3B%0A%20%20%20%20%20%20%20%20%0A%20%20%20%20%0A%20%20%20%20%20%20%20%20%20%20%20%20var%20marker_7e78dfd691584a1ea50463a7bd62779b%20%3D%20L.marker%28%0A%20%20%20%20%20%20%20%20%20%20%20%20%20%20%20%20%5B-8.16861462331677%2C%20-34.9142004999995%5D%2C%0A%20%20%20%20%20%20%20%20%20%20%20%20%20%20%20%20%7B%7D%0A%20%20%20%20%20%20%20%20%20%20%20%20%29.addTo%28map_a1f79c559c794d608a5d5fcfe0a0adba%29%3B%0A%20%20%20%20%20%20%20%20%0A%20%20%20%20%0A%20%20%20%20%20%20%20%20var%20popup_65f45044ed3c4701b23469a72ceb9f0e%20%3D%20L.popup%28%7B%22maxWidth%22%3A%20%22100%25%22%7D%29%3B%0A%0A%20%20%20%20%20%20%20%20%0A%20%20%20%20%20%20%20%20%20%20%20%20var%20html_7c5b9f28906e463ab3fdaf1495638a9c%20%3D%20%24%28%60%3Cdiv%20id%3D%22html_7c5b9f28906e463ab3fdaf1495638a9c%22%20style%3D%22width%3A%20100.0%25%3B%20height%3A%20100.0%25%3B%22%3Epiedade%3C/div%3E%60%29%5B0%5D%3B%0A%20%20%20%20%20%20%20%20%20%20%20%20popup_65f45044ed3c4701b23469a72ceb9f0e.setContent%28html_7c5b9f28906e463ab3fdaf1495638a9c%29%3B%0A%20%20%20%20%20%20%20%20%0A%0A%20%20%20%20%20%20%20%20marker_7e78dfd691584a1ea50463a7bd62779b.bindPopup%28popup_65f45044ed3c4701b23469a72ceb9f0e%29%0A%20%20%20%20%20%20%20%20%3B%0A%0A%20%20%20%20%20%20%20%20%0A%20%20%20%20%0A%20%20%20%20%0A%20%20%20%20%20%20%20%20%20%20%20%20marker_7e78dfd691584a1ea50463a7bd62779b.bindTooltip%28%0A%20%20%20%20%20%20%20%20%20%20%20%20%20%20%20%20%60%3Cdiv%3E%0A%20%20%20%20%20%20%20%20%20%20%20%20%20%20%20%20%20%20%20%20%20Click%20aqui%21%0A%20%20%20%20%20%20%20%20%20%20%20%20%20%20%20%20%20%3C/div%3E%60%2C%0A%20%20%20%20%20%20%20%20%20%20%20%20%20%20%20%20%7B%22sticky%22%3A%20true%7D%0A%20%20%20%20%20%20%20%20%20%20%20%20%29%3B%0A%20%20%20%20%20%20%20%20%0A%20%20%20%20%0A%20%20%20%20%20%20%20%20%20%20%20%20var%20marker_70dc6c74dd564d46821082cfa38a08ac%20%3D%20L.marker%28%0A%20%20%20%20%20%20%20%20%20%20%20%20%20%20%20%20%5B-8.09567612926708%2C%20-34.8820605841214%5D%2C%0A%20%20%20%20%20%20%20%20%20%20%20%20%20%20%20%20%7B%7D%0A%20%20%20%20%20%20%20%20%20%20%20%20%29.addTo%28map_a1f79c559c794d608a5d5fcfe0a0adba%29%3B%0A%20%20%20%20%20%20%20%20%0A%20%20%20%20%0A%20%20%20%20%20%20%20%20var%20popup_18ec407093d44cb3adf939b0e7c244ce%20%3D%20L.popup%28%7B%22maxWidth%22%3A%20%22100%25%22%7D%29%3B%0A%0A%20%20%20%20%20%20%20%20%0A%20%20%20%20%20%20%20%20%20%20%20%20var%20html_6e27c6fb50854612a81b6f60326cad2a%20%3D%20%24%28%60%3Cdiv%20id%3D%22html_6e27c6fb50854612a81b6f60326cad2a%22%20style%3D%22width%3A%20100.0%25%3B%20height%3A%20100.0%25%3B%22%3Epina%3C/div%3E%60%29%5B0%5D%3B%0A%20%20%20%20%20%20%20%20%20%20%20%20popup_18ec407093d44cb3adf939b0e7c244ce.setContent%28html_6e27c6fb50854612a81b6f60326cad2a%29%3B%0A%20%20%20%20%20%20%20%20%0A%0A%20%20%20%20%20%20%20%20marker_70dc6c74dd564d46821082cfa38a08ac.bindPopup%28popup_18ec407093d44cb3adf939b0e7c244ce%29%0A%20%20%20%20%20%20%20%20%3B%0A%0A%20%20%20%20%20%20%20%20%0A%20%20%20%20%0A%20%20%20%20%0A%20%20%20%20%20%20%20%20%20%20%20%20marker_70dc6c74dd564d46821082cfa38a08ac.bindTooltip%28%0A%20%20%20%20%20%20%20%20%20%20%20%20%20%20%20%20%60%3Cdiv%3E%0A%20%20%20%20%20%20%20%20%20%20%20%20%20%20%20%20%20%20%20%20%20Click%20aqui%21%0A%20%20%20%20%20%20%20%20%20%20%20%20%20%20%20%20%20%3C/div%3E%60%2C%0A%20%20%20%20%20%20%20%20%20%20%20%20%20%20%20%20%7B%22sticky%22%3A%20true%7D%0A%20%20%20%20%20%20%20%20%20%20%20%20%29%3B%0A%20%20%20%20%20%20%20%20%0A%20%20%20%20%0A%20%20%20%20%20%20%20%20%20%20%20%20var%20marker_45bd8ac77b3e48d0802facbec1e7ffaa%20%3D%20L.marker%28%0A%20%20%20%20%20%20%20%20%20%20%20%20%20%20%20%20%5B-8.02577808922562%2C%20-34.8574041507609%5D%2C%0A%20%20%20%20%20%20%20%20%20%20%20%20%20%20%20%20%7B%7D%0A%20%20%20%20%20%20%20%20%20%20%20%20%29.addTo%28map_a1f79c559c794d608a5d5fcfe0a0adba%29%3B%0A%20%20%20%20%20%20%20%20%0A%20%20%20%20%0A%20%20%20%20%20%20%20%20var%20popup_fe80500b5d0d4f2e85ff05931012738a%20%3D%20L.popup%28%7B%22maxWidth%22%3A%20%22100%25%22%7D%29%3B%0A%0A%20%20%20%20%20%20%20%20%0A%20%20%20%20%20%20%20%20%20%20%20%20var%20html_a4dfff3a4eb24e37b844469e8337c6b0%20%3D%20%24%28%60%3Cdiv%20id%3D%22html_a4dfff3a4eb24e37b844469e8337c6b0%22%20style%3D%22width%3A%20100.0%25%3B%20height%3A%20100.0%25%3B%22%3Epunta_del_chifre%3C/div%3E%60%29%5B0%5D%3B%0A%20%20%20%20%20%20%20%20%20%20%20%20popup_fe80500b5d0d4f2e85ff05931012738a.setContent%28html_a4dfff3a4eb24e37b844469e8337c6b0%29%3B%0A%20%20%20%20%20%20%20%20%0A%0A%20%20%20%20%20%20%20%20marker_45bd8ac77b3e48d0802facbec1e7ffaa.bindPopup%28popup_fe80500b5d0d4f2e85ff05931012738a%29%0A%20%20%20%20%20%20%20%20%3B%0A%0A%20%20%20%20%20%20%20%20%0A%20%20%20%20%0A%20%20%20%20%0A%20%20%20%20%20%20%20%20%20%20%20%20marker_45bd8ac77b3e48d0802facbec1e7ffaa.bindTooltip%28%0A%20%20%20%20%20%20%20%20%20%20%20%20%20%20%20%20%60%3Cdiv%3E%0A%20%20%20%20%20%20%20%20%20%20%20%20%20%20%20%20%20%20%20%20%20Click%20aqui%21%0A%20%20%20%20%20%20%20%20%20%20%20%20%20%20%20%20%20%3C/div%3E%60%2C%0A%20%20%20%20%20%20%20%20%20%20%20%20%20%20%20%20%7B%22sticky%22%3A%20true%7D%0A%20%20%20%20%20%20%20%20%20%20%20%20%29%3B%0A%20%20%20%20%20%20%20%20%0A%20%20%20%20%0A%20%20%20%20%20%20%20%20%20%20%20%20var%20marker_1b22d4e2385c4b36b18eb5f2201d61e6%20%3D%20L.marker%28%0A%20%20%20%20%20%20%20%20%20%20%20%20%20%20%20%20%5B-8.22906325741136%2C%20-34.9421057603418%5D%2C%0A%20%20%20%20%20%20%20%20%20%20%20%20%20%20%20%20%7B%7D%0A%20%20%20%20%20%20%20%20%20%20%20%20%29.addTo%28map_a1f79c559c794d608a5d5fcfe0a0adba%29%3B%0A%20%20%20%20%20%20%20%20%0A%20%20%20%20%0A%20%20%20%20%20%20%20%20var%20popup_1ad4b163327d4e5dba1815afa06c2708%20%3D%20L.popup%28%7B%22maxWidth%22%3A%20%22100%25%22%7D%29%3B%0A%0A%20%20%20%20%20%20%20%20%0A%20%20%20%20%20%20%20%20%20%20%20%20var%20html_ef3ff1d159514696918764acbef1d3ea%20%3D%20%24%28%60%3Cdiv%20id%3D%22html_ef3ff1d159514696918764acbef1d3ea%22%20style%3D%22width%3A%20100.0%25%3B%20height%3A%20100.0%25%3B%22%3Ebarra_de_jangada%20%20%20N%C2%BA%20Ataques%3A%2026%3C/div%3E%60%29%5B0%5D%3B%0A%20%20%20%20%20%20%20%20%20%20%20%20popup_1ad4b163327d4e5dba1815afa06c2708.setContent%28html_ef3ff1d159514696918764acbef1d3ea%29%3B%0A%20%20%20%20%20%20%20%20%0A%0A%20%20%20%20%20%20%20%20marker_1b22d4e2385c4b36b18eb5f2201d61e6.bindPopup%28popup_1ad4b163327d4e5dba1815afa06c2708%29%0A%20%20%20%20%20%20%20%20%3B%0A%0A%20%20%20%20%20%20%20%20%0A%20%20%20%20%0A%20%20%20%20%0A%20%20%20%20%20%20%20%20%20%20%20%20marker_1b22d4e2385c4b36b18eb5f2201d61e6.bindTooltip%28%0A%20%20%20%20%20%20%20%20%20%20%20%20%20%20%20%20%60%3Cdiv%3E%0A%20%20%20%20%20%20%20%20%20%20%20%20%20%20%20%20%20%20%20%20%20Click%20aqui%21%0A%20%20%20%20%20%20%20%20%20%20%20%20%20%20%20%20%20%3C/div%3E%60%2C%0A%20%20%20%20%20%20%20%20%20%20%20%20%20%20%20%20%7B%22sticky%22%3A%20true%7D%0A%20%20%20%20%20%20%20%20%20%20%20%20%29%3B%0A%20%20%20%20%20%20%20%20%0A%20%20%20%20%0A%20%20%20%20%20%20%20%20%20%20%20%20var%20marker_cf6e3f088d2a49d1accf967a6ca9f629%20%3D%20L.marker%28%0A%20%20%20%20%20%20%20%20%20%20%20%20%20%20%20%20%5B-8.10857303981487%2C%20-34.8892463211503%5D%2C%0A%20%20%20%20%20%20%20%20%20%20%20%20%20%20%20%20%7B%7D%0A%20%20%20%20%20%20%20%20%20%20%20%20%29.addTo%28map_a1f79c559c794d608a5d5fcfe0a0adba%29%3B%0A%20%20%20%20%20%20%20%20%0A%20%20%20%20%0A%20%20%20%20%20%20%20%20var%20popup_eca973bd76ec4293a6750715a30b96e3%20%3D%20L.popup%28%7B%22maxWidth%22%3A%20%22100%25%22%7D%29%3B%0A%0A%20%20%20%20%20%20%20%20%0A%20%20%20%20%20%20%20%20%20%20%20%20var%20html_4f450e3427a44636a85b1e225740b683%20%3D%20%24%28%60%3Cdiv%20id%3D%22html_4f450e3427a44636a85b1e225740b683%22%20style%3D%22width%3A%20100.0%25%3B%20height%3A%20100.0%25%3B%22%3Eboa_viagem%20%20%20N%C2%BA%20Ataques%3A%2024%3C/div%3E%60%29%5B0%5D%3B%0A%20%20%20%20%20%20%20%20%20%20%20%20popup_eca973bd76ec4293a6750715a30b96e3.setContent%28html_4f450e3427a44636a85b1e225740b683%29%3B%0A%20%20%20%20%20%20%20%20%0A%0A%20%20%20%20%20%20%20%20marker_cf6e3f088d2a49d1accf967a6ca9f629.bindPopup%28popup_eca973bd76ec4293a6750715a30b96e3%29%0A%20%20%20%20%20%20%20%20%3B%0A%0A%20%20%20%20%20%20%20%20%0A%20%20%20%20%0A%20%20%20%20%0A%20%20%20%20%20%20%20%20%20%20%20%20marker_cf6e3f088d2a49d1accf967a6ca9f629.bindTooltip%28%0A%20%20%20%20%20%20%20%20%20%20%20%20%20%20%20%20%60%3Cdiv%3E%0A%20%20%20%20%20%20%20%20%20%20%20%20%20%20%20%20%20%20%20%20%20Click%20aqui%21%0A%20%20%20%20%20%20%20%20%20%20%20%20%20%20%20%20%20%3C/div%3E%60%2C%0A%20%20%20%20%20%20%20%20%20%20%20%20%20%20%20%20%7B%22sticky%22%3A%20true%7D%0A%20%20%20%20%20%20%20%20%20%20%20%20%29%3B%0A%20%20%20%20%20%20%20%20%0A%20%20%20%20%0A%20%20%20%20%20%20%20%20%20%20%20%20var%20marker_9bce70a8a81944e89bf02ee4a22282c1%20%3D%20L.marker%28%0A%20%20%20%20%20%20%20%20%20%20%20%20%20%20%20%20%5B-3.84889764599607%2C%20-32.4388716116362%5D%2C%0A%20%20%20%20%20%20%20%20%20%20%20%20%20%20%20%20%7B%7D%0A%20%20%20%20%20%20%20%20%20%20%20%20%29.addTo%28map_a1f79c559c794d608a5d5fcfe0a0adba%29%3B%0A%20%20%20%20%20%20%20%20%0A%20%20%20%20%0A%20%20%20%20%20%20%20%20var%20popup_c8707e8f77df4fbea384966988a8b690%20%3D%20L.popup%28%7B%22maxWidth%22%3A%20%22100%25%22%7D%29%3B%0A%0A%20%20%20%20%20%20%20%20%0A%20%20%20%20%20%20%20%20%20%20%20%20var%20html_f9a130fc5a414cbebc31cb168b0c88e3%20%3D%20%24%28%60%3Cdiv%20id%3D%22html_f9a130fc5a414cbebc31cb168b0c88e3%22%20style%3D%22width%3A%20100.0%25%3B%20height%3A%20100.0%25%3B%22%3Ecacimba_do_padre%20%20%20N%C2%BA%20Ataques%3A%205%3C/div%3E%60%29%5B0%5D%3B%0A%20%20%20%20%20%20%20%20%20%20%20%20popup_c8707e8f77df4fbea384966988a8b690.setContent%28html_f9a130fc5a414cbebc31cb168b0c88e3%29%3B%0A%20%20%20%20%20%20%20%20%0A%0A%20%20%20%20%20%20%20%20marker_9bce70a8a81944e89bf02ee4a22282c1.bindPopup%28popup_c8707e8f77df4fbea384966988a8b690%29%0A%20%20%20%20%20%20%20%20%3B%0A%0A%20%20%20%20%20%20%20%20%0A%20%20%20%20%0A%20%20%20%20%0A%20%20%20%20%20%20%20%20%20%20%20%20marker_9bce70a8a81944e89bf02ee4a22282c1.bindTooltip%28%0A%20%20%20%20%20%20%20%20%20%20%20%20%20%20%20%20%60%3Cdiv%3E%0A%20%20%20%20%20%20%20%20%20%20%20%20%20%20%20%20%20%20%20%20%20Click%20aqui%21%0A%20%20%20%20%20%20%20%20%20%20%20%20%20%20%20%20%20%3C/div%3E%60%2C%0A%20%20%20%20%20%20%20%20%20%20%20%20%20%20%20%20%7B%22sticky%22%3A%20true%7D%0A%20%20%20%20%20%20%20%20%20%20%20%20%29%3B%0A%20%20%20%20%20%20%20%20%0A%20%20%20%20%0A%20%20%20%20%20%20%20%20%20%20%20%20var%20marker_a43d179ab0a145b5bdade0c16429211a%20%3D%20L.marker%28%0A%20%20%20%20%20%20%20%20%20%20%20%20%20%20%20%20%5B-8.20522836450443%2C%20-34.9181368845543%5D%2C%0A%20%20%20%20%20%20%20%20%20%20%20%20%20%20%20%20%7B%7D%0A%20%20%20%20%20%20%20%20%20%20%20%20%29.addTo%28map_a1f79c559c794d608a5d5fcfe0a0adba%29%3B%0A%20%20%20%20%20%20%20%20%0A%20%20%20%20%0A%20%20%20%20%20%20%20%20var%20popup_47aedf6f97a8423eb1983a72f00edc8c%20%3D%20L.popup%28%7B%22maxWidth%22%3A%20%22100%25%22%7D%29%3B%0A%0A%20%20%20%20%20%20%20%20%0A%20%20%20%20%20%20%20%20%20%20%20%20var%20html_45092a925684402698518a0e04b8c114%20%3D%20%24%28%60%3Cdiv%20id%3D%22html_45092a925684402698518a0e04b8c114%22%20style%3D%22width%3A%20100.0%25%3B%20height%3A%20100.0%25%3B%22%3Ecandeias%20%20%20N%C2%BA%20Ataques%3A%204%3C/div%3E%60%29%5B0%5D%3B%0A%20%20%20%20%20%20%20%20%20%20%20%20popup_47aedf6f97a8423eb1983a72f00edc8c.setContent%28html_45092a925684402698518a0e04b8c114%29%3B%0A%20%20%20%20%20%20%20%20%0A%0A%20%20%20%20%20%20%20%20marker_a43d179ab0a145b5bdade0c16429211a.bindPopup%28popup_47aedf6f97a8423eb1983a72f00edc8c%29%0A%20%20%20%20%20%20%20%20%3B%0A%0A%20%20%20%20%20%20%20%20%0A%20%20%20%20%0A%20%20%20%20%0A%20%20%20%20%20%20%20%20%20%20%20%20marker_a43d179ab0a145b5bdade0c16429211a.bindTooltip%28%0A%20%20%20%20%20%20%20%20%20%20%20%20%20%20%20%20%60%3Cdiv%3E%0A%20%20%20%20%20%20%20%20%20%20%20%20%20%20%20%20%20%20%20%20%20Click%20aqui%21%0A%20%20%20%20%20%20%20%20%20%20%20%20%20%20%20%20%20%3C/div%3E%60%2C%0A%20%20%20%20%20%20%20%20%20%20%20%20%20%20%20%20%7B%22sticky%22%3A%20true%7D%0A%20%20%20%20%20%20%20%20%20%20%20%20%29%3B%0A%20%20%20%20%20%20%20%20%0A%20%20%20%20%0A%20%20%20%20%20%20%20%20%20%20%20%20var%20marker_65bfe7d928ce43239478248ddde825ee%20%3D%20L.marker%28%0A%20%20%20%20%20%20%20%20%20%20%20%20%20%20%20%20%5B-8.3166203054719%2C%20-34.949800544453%5D%2C%0A%20%20%20%20%20%20%20%20%20%20%20%20%20%20%20%20%7B%7D%0A%20%20%20%20%20%20%20%20%20%20%20%20%29.addTo%28map_a1f79c559c794d608a5d5fcfe0a0adba%29%3B%0A%20%20%20%20%20%20%20%20%0A%20%20%20%20%0A%20%20%20%20%20%20%20%20var%20popup_56da2bdeada14de9bcf722066411ff92%20%3D%20L.popup%28%7B%22maxWidth%22%3A%20%22100%25%22%7D%29%3B%0A%0A%20%20%20%20%20%20%20%20%0A%20%20%20%20%20%20%20%20%20%20%20%20var%20html_868e49dd8bc8468f8e2564f39a300266%20%3D%20%24%28%60%3Cdiv%20id%3D%22html_868e49dd8bc8468f8e2564f39a300266%22%20style%3D%22width%3A%20100.0%25%3B%20height%3A%20100.0%25%3B%22%3Eenseada_dos_corais%20%20%20N%C2%BA%20Ataques%3A%204%3C/div%3E%60%29%5B0%5D%3B%0A%20%20%20%20%20%20%20%20%20%20%20%20popup_56da2bdeada14de9bcf722066411ff92.setContent%28html_868e49dd8bc8468f8e2564f39a300266%29%3B%0A%20%20%20%20%20%20%20%20%0A%0A%20%20%20%20%20%20%20%20marker_65bfe7d928ce43239478248ddde825ee.bindPopup%28popup_56da2bdeada14de9bcf722066411ff92%29%0A%20%20%20%20%20%20%20%20%3B%0A%0A%20%20%20%20%20%20%20%20%0A%20%20%20%20%0A%20%20%20%20%0A%20%20%20%20%20%20%20%20%20%20%20%20marker_65bfe7d928ce43239478248ddde825ee.bindTooltip%28%0A%20%20%20%20%20%20%20%20%20%20%20%20%20%20%20%20%60%3Cdiv%3E%0A%20%20%20%20%20%20%20%20%20%20%20%20%20%20%20%20%20%20%20%20%20Click%20aqui%21%0A%20%20%20%20%20%20%20%20%20%20%20%20%20%20%20%20%20%3C/div%3E%60%2C%0A%20%20%20%20%20%20%20%20%20%20%20%20%20%20%20%20%7B%22sticky%22%3A%20true%7D%0A%20%20%20%20%20%20%20%20%20%20%20%20%29%3B%0A%20%20%20%20%20%20%20%20%0A%20%20%20%20%0A%20%20%20%20%20%20%20%20%20%20%20%20var%20marker_ce776da5c89645409b4e126a82e9f6af%20%3D%20L.marker%28%0A%20%20%20%20%20%20%20%20%20%20%20%20%20%20%20%20%5B-8.06626842720967%2C%20-34.8884061375187%5D%2C%0A%20%20%20%20%20%20%20%20%20%20%20%20%20%20%20%20%7B%7D%0A%20%20%20%20%20%20%20%20%20%20%20%20%29.addTo%28map_a1f79c559c794d608a5d5fcfe0a0adba%29%3B%0A%20%20%20%20%20%20%20%20%0A%20%20%20%20%0A%20%20%20%20%20%20%20%20var%20popup_e9445e34bbdb43fda8a6954cbe8833d7%20%3D%20L.popup%28%7B%22maxWidth%22%3A%20%22100%25%22%7D%29%3B%0A%0A%20%20%20%20%20%20%20%20%0A%20%20%20%20%20%20%20%20%20%20%20%20var%20html_b9597ad0888e4415b081095e48b6ce11%20%3D%20%24%28%60%3Cdiv%20id%3D%22html_b9597ad0888e4415b081095e48b6ce11%22%20style%3D%22width%3A%20100.0%25%3B%20height%3A%20100.0%25%3B%22%3Efernando_de_noronha%20%20%20N%C2%BA%20Ataques%3A%202%3C/div%3E%60%29%5B0%5D%3B%0A%20%20%20%20%20%20%20%20%20%20%20%20popup_e9445e34bbdb43fda8a6954cbe8833d7.setContent%28html_b9597ad0888e4415b081095e48b6ce11%29%3B%0A%20%20%20%20%20%20%20%20%0A%0A%20%20%20%20%20%20%20%20marker_ce776da5c89645409b4e126a82e9f6af.bindPopup%28popup_e9445e34bbdb43fda8a6954cbe8833d7%29%0A%20%20%20%20%20%20%20%20%3B%0A%0A%20%20%20%20%20%20%20%20%0A%20%20%20%20%0A%20%20%20%20%0A%20%20%20%20%20%20%20%20%20%20%20%20marker_ce776da5c89645409b4e126a82e9f6af.bindTooltip%28%0A%20%20%20%20%20%20%20%20%20%20%20%20%20%20%20%20%60%3Cdiv%3E%0A%20%20%20%20%20%20%20%20%20%20%20%20%20%20%20%20%20%20%20%20%20Click%20aqui%21%0A%20%20%20%20%20%20%20%20%20%20%20%20%20%20%20%20%20%3C/div%3E%60%2C%0A%20%20%20%20%20%20%20%20%20%20%20%20%20%20%20%20%7B%22sticky%22%3A%20true%7D%0A%20%20%20%20%20%20%20%20%20%20%20%20%29%3B%0A%20%20%20%20%20%20%20%20%0A%20%20%20%20%0A%20%20%20%20%20%20%20%20%20%20%20%20var%20marker_e2c1d9094169478985882986576eb778%20%3D%20L.marker%28%0A%20%20%20%20%20%20%20%20%20%20%20%20%20%20%20%20%5B-7.7516044107398%2C%20-34.8252974167234%5D%2C%0A%20%20%20%20%20%20%20%20%20%20%20%20%20%20%20%20%7B%7D%0A%20%20%20%20%20%20%20%20%20%20%20%20%29.addTo%28map_a1f79c559c794d608a5d5fcfe0a0adba%29%3B%0A%20%20%20%20%20%20%20%20%0A%20%20%20%20%0A%20%20%20%20%20%20%20%20var%20popup_25a40c31f96b4086a7a638af4ae453b6%20%3D%20L.popup%28%7B%22maxWidth%22%3A%20%22100%25%22%7D%29%3B%0A%0A%20%20%20%20%20%20%20%20%0A%20%20%20%20%20%20%20%20%20%20%20%20var%20html_508ebf9e41794ed4847155ab13ea3131%20%3D%20%24%28%60%3Cdiv%20id%3D%22html_508ebf9e41794ed4847155ab13ea3131%22%20style%3D%22width%3A%20100.0%25%3B%20height%3A%20100.0%25%3B%22%3Eitamarac%C3%A1%20%20%20N%C2%BA%20Ataques%3A%202%3C/div%3E%60%29%5B0%5D%3B%0A%20%20%20%20%20%20%20%20%20%20%20%20popup_25a40c31f96b4086a7a638af4ae453b6.setContent%28html_508ebf9e41794ed4847155ab13ea3131%29%3B%0A%20%20%20%20%20%20%20%20%0A%0A%20%20%20%20%20%20%20%20marker_e2c1d9094169478985882986576eb778.bindPopup%28popup_25a40c31f96b4086a7a638af4ae453b6%29%0A%20%20%20%20%20%20%20%20%3B%0A%0A%20%20%20%20%20%20%20%20%0A%20%20%20%20%0A%20%20%20%20%0A%20%20%20%20%20%20%20%20%20%20%20%20marker_e2c1d9094169478985882986576eb778.bindTooltip%28%0A%20%20%20%20%20%20%20%20%20%20%20%20%20%20%20%20%60%3Cdiv%3E%0A%20%20%20%20%20%20%20%20%20%20%20%20%20%20%20%20%20%20%20%20%20Click%20aqui%21%0A%20%20%20%20%20%20%20%20%20%20%20%20%20%20%20%20%20%3C/div%3E%60%2C%0A%20%20%20%20%20%20%20%20%20%20%20%20%20%20%20%20%7B%22sticky%22%3A%20true%7D%0A%20%20%20%20%20%20%20%20%20%20%20%20%29%3B%0A%20%20%20%20%20%20%20%20%0A%20%20%20%20%0A%20%20%20%20%20%20%20%20%20%20%20%20var%20marker_dc768c1d5a494c95b61c8add0bbdbef0%20%3D%20L.marker%28%0A%20%20%20%20%20%20%20%20%20%20%20%20%20%20%20%20%5B-8.26847781521217%2C%20-34.9465551054554%5D%2C%0A%20%20%20%20%20%20%20%20%20%20%20%20%20%20%20%20%7B%7D%0A%20%20%20%20%20%20%20%20%20%20%20%20%29.addTo%28map_a1f79c559c794d608a5d5fcfe0a0adba%29%3B%0A%20%20%20%20%20%20%20%20%0A%20%20%20%20%0A%20%20%20%20%20%20%20%20var%20popup_23d8698cbdce4f4a81233254053aff84%20%3D%20L.popup%28%7B%22maxWidth%22%3A%20%22100%25%22%7D%29%3B%0A%0A%20%20%20%20%20%20%20%20%0A%20%20%20%20%20%20%20%20%20%20%20%20var%20html_1f7a7a83d1684e1599b4a2d3fcacfb55%20%3D%20%24%28%60%3Cdiv%20id%3D%22html_1f7a7a83d1684e1599b4a2d3fcacfb55%22%20style%3D%22width%3A%20100.0%25%3B%20height%3A%20100.0%25%3B%22%3Epaiva%20%20%20N%C2%BA%20Ataques%3A%202%3C/div%3E%60%29%5B0%5D%3B%0A%20%20%20%20%20%20%20%20%20%20%20%20popup_23d8698cbdce4f4a81233254053aff84.setContent%28html_1f7a7a83d1684e1599b4a2d3fcacfb55%29%3B%0A%20%20%20%20%20%20%20%20%0A%0A%20%20%20%20%20%20%20%20marker_dc768c1d5a494c95b61c8add0bbdbef0.bindPopup%28popup_23d8698cbdce4f4a81233254053aff84%29%0A%20%20%20%20%20%20%20%20%3B%0A%0A%20%20%20%20%20%20%20%20%0A%20%20%20%20%0A%20%20%20%20%0A%20%20%20%20%20%20%20%20%20%20%20%20marker_dc768c1d5a494c95b61c8add0bbdbef0.bindTooltip%28%0A%20%20%20%20%20%20%20%20%20%20%20%20%20%20%20%20%60%3Cdiv%3E%0A%20%20%20%20%20%20%20%20%20%20%20%20%20%20%20%20%20%20%20%20%20Click%20aqui%21%0A%20%20%20%20%20%20%20%20%20%20%20%20%20%20%20%20%20%3C/div%3E%60%2C%0A%20%20%20%20%20%20%20%20%20%20%20%20%20%20%20%20%7B%22sticky%22%3A%20true%7D%0A%20%20%20%20%20%20%20%20%20%20%20%20%29%3B%0A%20%20%20%20%20%20%20%20%0A%20%20%20%20%0A%20%20%20%20%20%20%20%20%20%20%20%20var%20marker_8b53504761ae424e80058e4a7d7f1981%20%3D%20L.marker%28%0A%20%20%20%20%20%20%20%20%20%20%20%20%20%20%20%20%5B-7.91357829122554%2C%20-34.8225515338408%5D%2C%0A%20%20%20%20%20%20%20%20%20%20%20%20%20%20%20%20%7B%7D%0A%20%20%20%20%20%20%20%20%20%20%20%20%29.addTo%28map_a1f79c559c794d608a5d5fcfe0a0adba%29%3B%0A%20%20%20%20%20%20%20%20%0A%20%20%20%20%0A%20%20%20%20%20%20%20%20var%20popup_5e5d8454f57946398c3e4ee826306777%20%3D%20L.popup%28%7B%22maxWidth%22%3A%20%22100%25%22%7D%29%3B%0A%0A%20%20%20%20%20%20%20%20%0A%20%20%20%20%20%20%20%20%20%20%20%20var%20html_168f5c7ece8e466ba9c9d5b9748d230b%20%3D%20%24%28%60%3Cdiv%20id%3D%22html_168f5c7ece8e466ba9c9d5b9748d230b%22%20style%3D%22width%3A%20100.0%25%3B%20height%3A%20100.0%25%3B%22%3Epau_amarelo_paulista%20%20%20N%C2%BA%20Ataques%3A%202%3C/div%3E%60%29%5B0%5D%3B%0A%20%20%20%20%20%20%20%20%20%20%20%20popup_5e5d8454f57946398c3e4ee826306777.setContent%28html_168f5c7ece8e466ba9c9d5b9748d230b%29%3B%0A%20%20%20%20%20%20%20%20%0A%0A%20%20%20%20%20%20%20%20marker_8b53504761ae424e80058e4a7d7f1981.bindPopup%28popup_5e5d8454f57946398c3e4ee826306777%29%0A%20%20%20%20%20%20%20%20%3B%0A%0A%20%20%20%20%20%20%20%20%0A%20%20%20%20%0A%20%20%20%20%0A%20%20%20%20%20%20%20%20%20%20%20%20marker_8b53504761ae424e80058e4a7d7f1981.bindTooltip%28%0A%20%20%20%20%20%20%20%20%20%20%20%20%20%20%20%20%60%3Cdiv%3E%0A%20%20%20%20%20%20%20%20%20%20%20%20%20%20%20%20%20%20%20%20%20Click%20aqui%21%0A%20%20%20%20%20%20%20%20%20%20%20%20%20%20%20%20%20%3C/div%3E%60%2C%0A%20%20%20%20%20%20%20%20%20%20%20%20%20%20%20%20%7B%22sticky%22%3A%20true%7D%0A%20%20%20%20%20%20%20%20%20%20%20%20%29%3B%0A%20%20%20%20%20%20%20%20%0A%20%20%20%20%0A%20%20%20%20%20%20%20%20%20%20%20%20var%20marker_c824476e937441289d7a5b22b6258ee4%20%3D%20L.marker%28%0A%20%20%20%20%20%20%20%20%20%20%20%20%20%20%20%20%5B-8.16861462331677%2C%20-34.9142004999995%5D%2C%0A%20%20%20%20%20%20%20%20%20%20%20%20%20%20%20%20%7B%7D%0A%20%20%20%20%20%20%20%20%20%20%20%20%29.addTo%28map_a1f79c559c794d608a5d5fcfe0a0adba%29%3B%0A%20%20%20%20%20%20%20%20%0A%20%20%20%20%0A%20%20%20%20%20%20%20%20var%20popup_5fbcb5c5f8274012b3b90c47ceea140f%20%3D%20L.popup%28%7B%22maxWidth%22%3A%20%22100%25%22%7D%29%3B%0A%0A%20%20%20%20%20%20%20%20%0A%20%20%20%20%20%20%20%20%20%20%20%20var%20html_a31e44cbbaf242baaa46e5a816864a04%20%3D%20%24%28%60%3Cdiv%20id%3D%22html_a31e44cbbaf242baaa46e5a816864a04%22%20style%3D%22width%3A%20100.0%25%3B%20height%3A%20100.0%25%3B%22%3Epiedade%20%20%20N%C2%BA%20Ataques%3A%202%3C/div%3E%60%29%5B0%5D%3B%0A%20%20%20%20%20%20%20%20%20%20%20%20popup_5fbcb5c5f8274012b3b90c47ceea140f.setContent%28html_a31e44cbbaf242baaa46e5a816864a04%29%3B%0A%20%20%20%20%20%20%20%20%0A%0A%20%20%20%20%20%20%20%20marker_c824476e937441289d7a5b22b6258ee4.bindPopup%28popup_5fbcb5c5f8274012b3b90c47ceea140f%29%0A%20%20%20%20%20%20%20%20%3B%0A%0A%20%20%20%20%20%20%20%20%0A%20%20%20%20%0A%20%20%20%20%0A%20%20%20%20%20%20%20%20%20%20%20%20marker_c824476e937441289d7a5b22b6258ee4.bindTooltip%28%0A%20%20%20%20%20%20%20%20%20%20%20%20%20%20%20%20%60%3Cdiv%3E%0A%20%20%20%20%20%20%20%20%20%20%20%20%20%20%20%20%20%20%20%20%20Click%20aqui%21%0A%20%20%20%20%20%20%20%20%20%20%20%20%20%20%20%20%20%3C/div%3E%60%2C%0A%20%20%20%20%20%20%20%20%20%20%20%20%20%20%20%20%7B%22sticky%22%3A%20true%7D%0A%20%20%20%20%20%20%20%20%20%20%20%20%29%3B%0A%20%20%20%20%20%20%20%20%0A%20%20%20%20%0A%20%20%20%20%20%20%20%20%20%20%20%20var%20marker_bb8ea1019e614fb5b26bdfe5a34cfc43%20%3D%20L.marker%28%0A%20%20%20%20%20%20%20%20%20%20%20%20%20%20%20%20%5B-8.09567612926708%2C%20-34.8820605841214%5D%2C%0A%20%20%20%20%20%20%20%20%20%20%20%20%20%20%20%20%7B%7D%0A%20%20%20%20%20%20%20%20%20%20%20%20%29.addTo%28map_a1f79c559c794d608a5d5fcfe0a0adba%29%3B%0A%20%20%20%20%20%20%20%20%0A%20%20%20%20%0A%20%20%20%20%20%20%20%20var%20popup_a15a0b506ba34025b465ebcb07a23623%20%3D%20L.popup%28%7B%22maxWidth%22%3A%20%22100%25%22%7D%29%3B%0A%0A%20%20%20%20%20%20%20%20%0A%20%20%20%20%20%20%20%20%20%20%20%20var%20html_78bf583aead8471fb5126af5037ce979%20%3D%20%24%28%60%3Cdiv%20id%3D%22html_78bf583aead8471fb5126af5037ce979%22%20style%3D%22width%3A%20100.0%25%3B%20height%3A%20100.0%25%3B%22%3Epina%20%20%20N%C2%BA%20Ataques%3A%201%3C/div%3E%60%29%5B0%5D%3B%0A%20%20%20%20%20%20%20%20%20%20%20%20popup_a15a0b506ba34025b465ebcb07a23623.setContent%28html_78bf583aead8471fb5126af5037ce979%29%3B%0A%20%20%20%20%20%20%20%20%0A%0A%20%20%20%20%20%20%20%20marker_bb8ea1019e614fb5b26bdfe5a34cfc43.bindPopup%28popup_a15a0b506ba34025b465ebcb07a23623%29%0A%20%20%20%20%20%20%20%20%3B%0A%0A%20%20%20%20%20%20%20%20%0A%20%20%20%20%0A%20%20%20%20%0A%20%20%20%20%20%20%20%20%20%20%20%20marker_bb8ea1019e614fb5b26bdfe5a34cfc43.bindTooltip%28%0A%20%20%20%20%20%20%20%20%20%20%20%20%20%20%20%20%60%3Cdiv%3E%0A%20%20%20%20%20%20%20%20%20%20%20%20%20%20%20%20%20%20%20%20%20Click%20aqui%21%0A%20%20%20%20%20%20%20%20%20%20%20%20%20%20%20%20%20%3C/div%3E%60%2C%0A%20%20%20%20%20%20%20%20%20%20%20%20%20%20%20%20%7B%22sticky%22%3A%20true%7D%0A%20%20%20%20%20%20%20%20%20%20%20%20%29%3B%0A%20%20%20%20%20%20%20%20%0A%20%20%20%20%0A%20%20%20%20%20%20%20%20%20%20%20%20var%20marker_aae5e72a5f2c4c318c5fe1e7645a56c7%20%3D%20L.marker%28%0A%20%20%20%20%20%20%20%20%20%20%20%20%20%20%20%20%5B-8.02577808922562%2C%20-34.8574041507609%5D%2C%0A%20%20%20%20%20%20%20%20%20%20%20%20%20%20%20%20%7B%7D%0A%20%20%20%20%20%20%20%20%20%20%20%20%29.addTo%28map_a1f79c559c794d608a5d5fcfe0a0adba%29%3B%0A%20%20%20%20%20%20%20%20%0A%20%20%20%20%0A%20%20%20%20%20%20%20%20var%20popup_d9285853f6384f88a7a2d570fe622c47%20%3D%20L.popup%28%7B%22maxWidth%22%3A%20%22100%25%22%7D%29%3B%0A%0A%20%20%20%20%20%20%20%20%0A%20%20%20%20%20%20%20%20%20%20%20%20var%20html_2a13c514d06744dba18356397d215eb5%20%3D%20%24%28%60%3Cdiv%20id%3D%22html_2a13c514d06744dba18356397d215eb5%22%20style%3D%22width%3A%20100.0%25%3B%20height%3A%20100.0%25%3B%22%3Epunta_del_chifre%20%20%20N%C2%BA%20Ataques%3A%201%3C/div%3E%60%29%5B0%5D%3B%0A%20%20%20%20%20%20%20%20%20%20%20%20popup_d9285853f6384f88a7a2d570fe622c47.setContent%28html_2a13c514d06744dba18356397d215eb5%29%3B%0A%20%20%20%20%20%20%20%20%0A%0A%20%20%20%20%20%20%20%20marker_aae5e72a5f2c4c318c5fe1e7645a56c7.bindPopup%28popup_d9285853f6384f88a7a2d570fe622c47%29%0A%20%20%20%20%20%20%20%20%3B%0A%0A%20%20%20%20%20%20%20%20%0A%20%20%20%20%0A%20%20%20%20%0A%20%20%20%20%20%20%20%20%20%20%20%20marker_aae5e72a5f2c4c318c5fe1e7645a56c7.bindTooltip%28%0A%20%20%20%20%20%20%20%20%20%20%20%20%20%20%20%20%60%3Cdiv%3E%0A%20%20%20%20%20%20%20%20%20%20%20%20%20%20%20%20%20%20%20%20%20Click%20aqui%21%0A%20%20%20%20%20%20%20%20%20%20%20%20%20%20%20%20%20%3C/div%3E%60%2C%0A%20%20%20%20%20%20%20%20%20%20%20%20%20%20%20%20%7B%22sticky%22%3A%20true%7D%0A%20%20%20%20%20%20%20%20%20%20%20%20%29%3B%0A%20%20%20%20%20%20%20%20%0A%3C/script%3E onload=\"this.contentDocument.open();this.contentDocument.write(    decodeURIComponent(this.getAttribute('data-html')));this.contentDocument.close();\" allowfullscreen webkitallowfullscreen mozallowfullscreen></iframe></div></div>"
      ],
      "text/plain": [
       "<folium.folium.Map at 0x1203a02f700>"
      ]
     },
     "execution_count": 136,
     "metadata": {},
     "output_type": "execute_result"
    }
   ],
   "source": [
    "for (index, row) in df_coordenates.iterrows():\n",
    "    folium.Marker(location=[row.loc['latitude'], row.loc['longitude']],\n",
    "    popup=row.loc['name'] + ' ' + '\\n Nº Ataques:'+ ' ' + row.loc['attacks'],\n",
    "    tooltip='Click aqui!'\n",
    "    ).add_to(mapa)\n",
    "mapa"
   ]
  },
  {
   "cell_type": "markdown",
   "id": "f3885dc1",
   "metadata": {},
   "source": [
    "### Visão geral df_pernambuco"
   ]
  },
  {
   "cell_type": "code",
   "execution_count": 137,
   "id": "8493cd33",
   "metadata": {},
   "outputs": [
    {
     "data": {
      "text/html": [
       "<div>\n",
       "<style scoped>\n",
       "    .dataframe tbody tr th:only-of-type {\n",
       "        vertical-align: middle;\n",
       "    }\n",
       "\n",
       "    .dataframe tbody tr th {\n",
       "        vertical-align: top;\n",
       "    }\n",
       "\n",
       "    .dataframe thead th {\n",
       "        text-align: right;\n",
       "    }\n",
       "</style>\n",
       "<table border=\"1\" class=\"dataframe\">\n",
       "  <thead>\n",
       "    <tr style=\"text-align: right;\">\n",
       "      <th></th>\n",
       "      <th>date</th>\n",
       "      <th>year</th>\n",
       "      <th>type</th>\n",
       "      <th>country</th>\n",
       "      <th>area</th>\n",
       "      <th>location</th>\n",
       "      <th>activity</th>\n",
       "      <th>sex_</th>\n",
       "      <th>age</th>\n",
       "      <th>injury</th>\n",
       "      <th>fatal_(y_n)</th>\n",
       "      <th>species_</th>\n",
       "      <th>day_of_week</th>\n",
       "      <th>loc_check</th>\n",
       "    </tr>\n",
       "  </thead>\n",
       "  <tbody>\n",
       "    <tr>\n",
       "      <th>3</th>\n",
       "      <td>2021-07-25</td>\n",
       "      <td>2021</td>\n",
       "      <td>Unprovoked</td>\n",
       "      <td>BRAZIL</td>\n",
       "      <td>Pernambuco</td>\n",
       "      <td>Piedade</td>\n",
       "      <td>Squatting in the water</td>\n",
       "      <td>M</td>\n",
       "      <td>32</td>\n",
       "      <td>Lacerations to poster thigh and buttock</td>\n",
       "      <td>N</td>\n",
       "      <td>NaN</td>\n",
       "      <td>Sunday</td>\n",
       "      <td>piedade</td>\n",
       "    </tr>\n",
       "    <tr>\n",
       "      <th>13</th>\n",
       "      <td>2021-07-10</td>\n",
       "      <td>2021</td>\n",
       "      <td>Unprovoked</td>\n",
       "      <td>BRAZIL</td>\n",
       "      <td>Pernambuco</td>\n",
       "      <td>Piedade</td>\n",
       "      <td>Wading</td>\n",
       "      <td>M</td>\n",
       "      <td>51</td>\n",
       "      <td>FATAL</td>\n",
       "      <td>Y</td>\n",
       "      <td>NaN</td>\n",
       "      <td>Saturday</td>\n",
       "      <td>piedade</td>\n",
       "    </tr>\n",
       "    <tr>\n",
       "      <th>65</th>\n",
       "      <td>2021-01-13</td>\n",
       "      <td>2021</td>\n",
       "      <td>Unprovoked</td>\n",
       "      <td>BRAZIL</td>\n",
       "      <td>Pernambuco</td>\n",
       "      <td>Cacimba do Padre Beach</td>\n",
       "      <td>Surfing</td>\n",
       "      <td>M</td>\n",
       "      <td>52</td>\n",
       "      <td>Puncture wounds to right hand</td>\n",
       "      <td>N</td>\n",
       "      <td>NaN</td>\n",
       "      <td>Wednesday</td>\n",
       "      <td>cacimba_do_padre</td>\n",
       "    </tr>\n",
       "    <tr>\n",
       "      <th>357</th>\n",
       "      <td>2018-06-03</td>\n",
       "      <td>2018</td>\n",
       "      <td>Unprovoked</td>\n",
       "      <td>BRAZIL</td>\n",
       "      <td>Pernambuco</td>\n",
       "      <td>Piedade Beach, Recife</td>\n",
       "      <td>Swimming</td>\n",
       "      <td>M</td>\n",
       "      <td>18</td>\n",
       "      <td>FATAL</td>\n",
       "      <td>Y</td>\n",
       "      <td>Tiger shark</td>\n",
       "      <td>Sunday</td>\n",
       "      <td>piedade</td>\n",
       "    </tr>\n",
       "    <tr>\n",
       "      <th>380</th>\n",
       "      <td>2018-04-15</td>\n",
       "      <td>2018</td>\n",
       "      <td>Unprovoked</td>\n",
       "      <td>BRAZIL</td>\n",
       "      <td>Pernambuco</td>\n",
       "      <td>Piedade</td>\n",
       "      <td>Swimming</td>\n",
       "      <td>M</td>\n",
       "      <td>34</td>\n",
       "      <td>Multiple severe injuries to arms and leg, leg ...</td>\n",
       "      <td>NaN</td>\n",
       "      <td>NaN</td>\n",
       "      <td>Sunday</td>\n",
       "      <td>piedade</td>\n",
       "    </tr>\n",
       "    <tr>\n",
       "      <th>...</th>\n",
       "      <td>...</td>\n",
       "      <td>...</td>\n",
       "      <td>...</td>\n",
       "      <td>...</td>\n",
       "      <td>...</td>\n",
       "      <td>...</td>\n",
       "      <td>...</td>\n",
       "      <td>...</td>\n",
       "      <td>...</td>\n",
       "      <td>...</td>\n",
       "      <td>...</td>\n",
       "      <td>...</td>\n",
       "      <td>...</td>\n",
       "      <td>...</td>\n",
       "    </tr>\n",
       "    <tr>\n",
       "      <th>2893</th>\n",
       "      <td>1992-09-10</td>\n",
       "      <td>1992</td>\n",
       "      <td>Unprovoked</td>\n",
       "      <td>BRAZIL</td>\n",
       "      <td>Pernambuco</td>\n",
       "      <td>Boa Viagem, Recife</td>\n",
       "      <td>Swimming</td>\n",
       "      <td>M</td>\n",
       "      <td>NaN</td>\n",
       "      <td>FATAL</td>\n",
       "      <td>Y</td>\n",
       "      <td>NaN</td>\n",
       "      <td>Thursday</td>\n",
       "      <td>boa_viagem</td>\n",
       "    </tr>\n",
       "    <tr>\n",
       "      <th>2905</th>\n",
       "      <td>1992-06-28</td>\n",
       "      <td>1992</td>\n",
       "      <td>Unprovoked</td>\n",
       "      <td>BRAZIL</td>\n",
       "      <td>Pernambuco</td>\n",
       "      <td>Piedade</td>\n",
       "      <td>Swimming</td>\n",
       "      <td>M</td>\n",
       "      <td>NaN</td>\n",
       "      <td>FATAL</td>\n",
       "      <td>Y</td>\n",
       "      <td>NaN</td>\n",
       "      <td>Sunday</td>\n",
       "      <td>piedade</td>\n",
       "    </tr>\n",
       "    <tr>\n",
       "      <th>2960</th>\n",
       "      <td>1991-04-24</td>\n",
       "      <td>1991</td>\n",
       "      <td>Provoked</td>\n",
       "      <td>BRAZIL</td>\n",
       "      <td>Pernambuco</td>\n",
       "      <td>Praia de Pau Amarelo, Recife</td>\n",
       "      <td>Fishing</td>\n",
       "      <td>NaN</td>\n",
       "      <td>NaN</td>\n",
       "      <td>2 fingers severed by netted shark PROVOKED INC...</td>\n",
       "      <td>N</td>\n",
       "      <td>170-kg, 2.8 m shark</td>\n",
       "      <td>Wednesday</td>\n",
       "      <td>pau_amarelo_paulista</td>\n",
       "    </tr>\n",
       "    <tr>\n",
       "      <th>3415</th>\n",
       "      <td>1980-11-11</td>\n",
       "      <td>1980</td>\n",
       "      <td>Unprovoked</td>\n",
       "      <td>BRAZIL</td>\n",
       "      <td>Pernambuco</td>\n",
       "      <td>Piedade</td>\n",
       "      <td>Swimming</td>\n",
       "      <td>M</td>\n",
       "      <td>16</td>\n",
       "      <td>FATAL</td>\n",
       "      <td>Y</td>\n",
       "      <td>NaN</td>\n",
       "      <td>Tuesday</td>\n",
       "      <td>piedade</td>\n",
       "    </tr>\n",
       "    <tr>\n",
       "      <th>4938</th>\n",
       "      <td>1947-10-10</td>\n",
       "      <td>1947</td>\n",
       "      <td>Unprovoked</td>\n",
       "      <td>BRAZIL</td>\n",
       "      <td>Pernambuco</td>\n",
       "      <td>Piedade</td>\n",
       "      <td>Swimming</td>\n",
       "      <td>M</td>\n",
       "      <td>25</td>\n",
       "      <td>FATAL</td>\n",
       "      <td>Y</td>\n",
       "      <td>NaN</td>\n",
       "      <td>Friday</td>\n",
       "      <td>piedade</td>\n",
       "    </tr>\n",
       "  </tbody>\n",
       "</table>\n",
       "<p>77 rows × 14 columns</p>\n",
       "</div>"
      ],
      "text/plain": [
       "           date  year        type country        area  \\\n",
       "3    2021-07-25  2021  Unprovoked  BRAZIL  Pernambuco   \n",
       "13   2021-07-10  2021  Unprovoked  BRAZIL  Pernambuco   \n",
       "65   2021-01-13  2021  Unprovoked  BRAZIL  Pernambuco   \n",
       "357  2018-06-03  2018  Unprovoked  BRAZIL  Pernambuco   \n",
       "380  2018-04-15  2018  Unprovoked  BRAZIL  Pernambuco   \n",
       "...         ...   ...         ...     ...         ...   \n",
       "2893 1992-09-10  1992  Unprovoked  BRAZIL  Pernambuco   \n",
       "2905 1992-06-28  1992  Unprovoked  BRAZIL  Pernambuco   \n",
       "2960 1991-04-24  1991    Provoked  BRAZIL  Pernambuco   \n",
       "3415 1980-11-11  1980  Unprovoked  BRAZIL  Pernambuco   \n",
       "4938 1947-10-10  1947  Unprovoked  BRAZIL  Pernambuco   \n",
       "\n",
       "                          location                activity sex_  age  \\\n",
       "3                          Piedade  Squatting in the water    M   32   \n",
       "13                         Piedade                  Wading    M   51   \n",
       "65          Cacimba do Padre Beach                 Surfing    M   52   \n",
       "357          Piedade Beach, Recife                Swimming    M   18   \n",
       "380                        Piedade                Swimming    M   34   \n",
       "...                            ...                     ...  ...  ...   \n",
       "2893            Boa Viagem, Recife                Swimming    M  NaN   \n",
       "2905                       Piedade                Swimming    M  NaN   \n",
       "2960  Praia de Pau Amarelo, Recife                 Fishing  NaN  NaN   \n",
       "3415                       Piedade                Swimming    M   16   \n",
       "4938                       Piedade               Swimming     M   25   \n",
       "\n",
       "                                                 injury fatal_(y_n)  \\\n",
       "3               Lacerations to poster thigh and buttock           N   \n",
       "13                                                FATAL           Y   \n",
       "65                        Puncture wounds to right hand           N   \n",
       "357                                               FATAL           Y   \n",
       "380   Multiple severe injuries to arms and leg, leg ...         NaN   \n",
       "...                                                 ...         ...   \n",
       "2893                                              FATAL           Y   \n",
       "2905                                              FATAL           Y   \n",
       "2960  2 fingers severed by netted shark PROVOKED INC...           N   \n",
       "3415                                              FATAL           Y   \n",
       "4938                                              FATAL           Y   \n",
       "\n",
       "                 species_ day_of_week             loc_check  \n",
       "3                     NaN      Sunday               piedade  \n",
       "13                    NaN    Saturday               piedade  \n",
       "65                    NaN   Wednesday      cacimba_do_padre  \n",
       "357           Tiger shark      Sunday               piedade  \n",
       "380                   NaN      Sunday               piedade  \n",
       "...                   ...         ...                   ...  \n",
       "2893                  NaN    Thursday            boa_viagem  \n",
       "2905                  NaN      Sunday               piedade  \n",
       "2960  170-kg, 2.8 m shark   Wednesday  pau_amarelo_paulista  \n",
       "3415                  NaN     Tuesday               piedade  \n",
       "4938                  NaN      Friday               piedade  \n",
       "\n",
       "[77 rows x 14 columns]"
      ]
     },
     "execution_count": 137,
     "metadata": {},
     "output_type": "execute_result"
    }
   ],
   "source": [
    "df_pernambuco"
   ]
  },
  {
   "cell_type": "markdown",
   "id": "db6cdfe1",
   "metadata": {},
   "source": [
    "### Construção da análise Ataques x Anos"
   ]
  },
  {
   "cell_type": "code",
   "execution_count": 138,
   "id": "9372ac31",
   "metadata": {},
   "outputs": [
    {
     "data": {
      "text/plain": [
       "1994    10\n",
       "2004     7\n",
       "2002     7\n",
       "2006     5\n",
       "1996     4\n",
       "1998     4\n",
       "2021     3\n",
       "1997     3\n",
       "1995     3\n",
       "1993     3\n",
       "1992     3\n",
       "2011     3\n",
       "2009     2\n",
       "2017     2\n",
       "2015     2\n",
       "2013     2\n",
       "2018     2\n",
       "2003     2\n",
       "2008     2\n",
       "1999     2\n",
       "2007     1\n",
       "2012     1\n",
       "1980     1\n",
       "2001     1\n",
       "1991     1\n",
       "1947     1\n",
       "Name: year, dtype: int64"
      ]
     },
     "execution_count": 138,
     "metadata": {},
     "output_type": "execute_result"
    }
   ],
   "source": [
    "df_pernambuco.year.value_counts()"
   ]
  },
  {
   "cell_type": "code",
   "execution_count": 139,
   "id": "3e33137d",
   "metadata": {},
   "outputs": [],
   "source": [
    "df_years = pd.DataFrame(df_pernambuco.year.sort_values(ascending=True).value_counts())"
   ]
  },
  {
   "cell_type": "code",
   "execution_count": 140,
   "id": "5c671018",
   "metadata": {},
   "outputs": [],
   "source": [
    "df_years.columns= [column.replace(\"year\", 'times') for column in df_years.columns]"
   ]
  },
  {
   "cell_type": "code",
   "execution_count": 141,
   "id": "9bc0bdd7",
   "metadata": {
    "scrolled": true
   },
   "outputs": [],
   "source": [
    "df_years['index'] = df_years.index"
   ]
  },
  {
   "cell_type": "code",
   "execution_count": 142,
   "id": "4a860457",
   "metadata": {},
   "outputs": [],
   "source": [
    "df_years = df_years.sort_values(by='index')"
   ]
  },
  {
   "cell_type": "code",
   "execution_count": 143,
   "id": "3e8d65bb",
   "metadata": {},
   "outputs": [
    {
     "data": {
      "text/html": [
       "<div>\n",
       "<style scoped>\n",
       "    .dataframe tbody tr th:only-of-type {\n",
       "        vertical-align: middle;\n",
       "    }\n",
       "\n",
       "    .dataframe tbody tr th {\n",
       "        vertical-align: top;\n",
       "    }\n",
       "\n",
       "    .dataframe thead th {\n",
       "        text-align: right;\n",
       "    }\n",
       "</style>\n",
       "<table border=\"1\" class=\"dataframe\">\n",
       "  <thead>\n",
       "    <tr style=\"text-align: right;\">\n",
       "      <th></th>\n",
       "      <th>times</th>\n",
       "      <th>index</th>\n",
       "    </tr>\n",
       "  </thead>\n",
       "  <tbody>\n",
       "    <tr>\n",
       "      <th>1947</th>\n",
       "      <td>1</td>\n",
       "      <td>1947</td>\n",
       "    </tr>\n",
       "    <tr>\n",
       "      <th>1980</th>\n",
       "      <td>1</td>\n",
       "      <td>1980</td>\n",
       "    </tr>\n",
       "    <tr>\n",
       "      <th>1991</th>\n",
       "      <td>1</td>\n",
       "      <td>1991</td>\n",
       "    </tr>\n",
       "    <tr>\n",
       "      <th>1992</th>\n",
       "      <td>3</td>\n",
       "      <td>1992</td>\n",
       "    </tr>\n",
       "    <tr>\n",
       "      <th>1993</th>\n",
       "      <td>3</td>\n",
       "      <td>1993</td>\n",
       "    </tr>\n",
       "    <tr>\n",
       "      <th>1994</th>\n",
       "      <td>10</td>\n",
       "      <td>1994</td>\n",
       "    </tr>\n",
       "    <tr>\n",
       "      <th>1995</th>\n",
       "      <td>3</td>\n",
       "      <td>1995</td>\n",
       "    </tr>\n",
       "    <tr>\n",
       "      <th>1996</th>\n",
       "      <td>4</td>\n",
       "      <td>1996</td>\n",
       "    </tr>\n",
       "    <tr>\n",
       "      <th>1997</th>\n",
       "      <td>3</td>\n",
       "      <td>1997</td>\n",
       "    </tr>\n",
       "    <tr>\n",
       "      <th>1998</th>\n",
       "      <td>4</td>\n",
       "      <td>1998</td>\n",
       "    </tr>\n",
       "    <tr>\n",
       "      <th>1999</th>\n",
       "      <td>2</td>\n",
       "      <td>1999</td>\n",
       "    </tr>\n",
       "    <tr>\n",
       "      <th>2001</th>\n",
       "      <td>1</td>\n",
       "      <td>2001</td>\n",
       "    </tr>\n",
       "    <tr>\n",
       "      <th>2002</th>\n",
       "      <td>7</td>\n",
       "      <td>2002</td>\n",
       "    </tr>\n",
       "    <tr>\n",
       "      <th>2003</th>\n",
       "      <td>2</td>\n",
       "      <td>2003</td>\n",
       "    </tr>\n",
       "    <tr>\n",
       "      <th>2004</th>\n",
       "      <td>7</td>\n",
       "      <td>2004</td>\n",
       "    </tr>\n",
       "    <tr>\n",
       "      <th>2006</th>\n",
       "      <td>5</td>\n",
       "      <td>2006</td>\n",
       "    </tr>\n",
       "    <tr>\n",
       "      <th>2007</th>\n",
       "      <td>1</td>\n",
       "      <td>2007</td>\n",
       "    </tr>\n",
       "    <tr>\n",
       "      <th>2008</th>\n",
       "      <td>2</td>\n",
       "      <td>2008</td>\n",
       "    </tr>\n",
       "    <tr>\n",
       "      <th>2009</th>\n",
       "      <td>2</td>\n",
       "      <td>2009</td>\n",
       "    </tr>\n",
       "    <tr>\n",
       "      <th>2011</th>\n",
       "      <td>3</td>\n",
       "      <td>2011</td>\n",
       "    </tr>\n",
       "    <tr>\n",
       "      <th>2012</th>\n",
       "      <td>1</td>\n",
       "      <td>2012</td>\n",
       "    </tr>\n",
       "    <tr>\n",
       "      <th>2013</th>\n",
       "      <td>2</td>\n",
       "      <td>2013</td>\n",
       "    </tr>\n",
       "    <tr>\n",
       "      <th>2015</th>\n",
       "      <td>2</td>\n",
       "      <td>2015</td>\n",
       "    </tr>\n",
       "    <tr>\n",
       "      <th>2017</th>\n",
       "      <td>2</td>\n",
       "      <td>2017</td>\n",
       "    </tr>\n",
       "    <tr>\n",
       "      <th>2018</th>\n",
       "      <td>2</td>\n",
       "      <td>2018</td>\n",
       "    </tr>\n",
       "    <tr>\n",
       "      <th>2021</th>\n",
       "      <td>3</td>\n",
       "      <td>2021</td>\n",
       "    </tr>\n",
       "  </tbody>\n",
       "</table>\n",
       "</div>"
      ],
      "text/plain": [
       "      times  index\n",
       "1947      1   1947\n",
       "1980      1   1980\n",
       "1991      1   1991\n",
       "1992      3   1992\n",
       "1993      3   1993\n",
       "1994     10   1994\n",
       "1995      3   1995\n",
       "1996      4   1996\n",
       "1997      3   1997\n",
       "1998      4   1998\n",
       "1999      2   1999\n",
       "2001      1   2001\n",
       "2002      7   2002\n",
       "2003      2   2003\n",
       "2004      7   2004\n",
       "2006      5   2006\n",
       "2007      1   2007\n",
       "2008      2   2008\n",
       "2009      2   2009\n",
       "2011      3   2011\n",
       "2012      1   2012\n",
       "2013      2   2013\n",
       "2015      2   2015\n",
       "2017      2   2017\n",
       "2018      2   2018\n",
       "2021      3   2021"
      ]
     },
     "execution_count": 143,
     "metadata": {},
     "output_type": "execute_result"
    }
   ],
   "source": [
    "df_years"
   ]
  },
  {
   "cell_type": "code",
   "execution_count": 144,
   "id": "8c3f287f",
   "metadata": {
    "scrolled": true
   },
   "outputs": [],
   "source": [
    "#Metodo nao usado\n",
    "#df_anos = pd.DataFrame({'Anos':df_pernambuco.year.astype('float64'), 'attacks':df_pernambuco.year.value_counts()})\n",
    "#df_anos"
   ]
  },
  {
   "cell_type": "code",
   "execution_count": 145,
   "id": "66450fe1",
   "metadata": {},
   "outputs": [
    {
     "data": {
      "text/plain": [
       "Int64Index([1947, 1980, 1991, 1992, 1993, 1994, 1995, 1996, 1997, 1998, 1999,\n",
       "            2001, 2002, 2003, 2004, 2006, 2007, 2008, 2009, 2011, 2012, 2013,\n",
       "            2015, 2017, 2018, 2021],\n",
       "           dtype='int64')"
      ]
     },
     "execution_count": 145,
     "metadata": {},
     "output_type": "execute_result"
    }
   ],
   "source": [
    "df_years.index"
   ]
  },
  {
   "cell_type": "code",
   "execution_count": 146,
   "id": "2bee4e35",
   "metadata": {},
   "outputs": [
    {
     "data": {
      "text/plain": [
       "[1, 1, 1, 3, 3, 10, 3, 4, 3, 4, 2, 1, 7, 2, 7, 5, 1, 2, 2, 3, 1, 2, 2, 2, 2, 3]"
      ]
     },
     "execution_count": 146,
     "metadata": {},
     "output_type": "execute_result"
    }
   ],
   "source": [
    "list(df_years.times)"
   ]
  },
  {
   "cell_type": "markdown",
   "id": "0904ffe3",
   "metadata": {},
   "source": [
    "### Criação do gráfico Ataques vs Anos "
   ]
  },
  {
   "cell_type": "code",
   "execution_count": 201,
   "id": "720f6e92",
   "metadata": {},
   "outputs": [
    {
     "data": {
      "image/png": "[encoded data removed]",
      "text/plain": [
       "<Figure size 432x288 with 1 Axes>"
      ]
     },
     "metadata": {
      "needs_background": "light"
     },
     "output_type": "display_data"
    }
   ],
   "source": [
    "plt.plot([1947, 1980, 1991, 1992, 1993, 1994, 1995, 1996, 1997, 1998, 1999,\n",
    "            2001, 2002, 2003, 2004, 2006, 2007, 2008, 2009, 2011, 2012, 2013,\n",
    "            2015, 2017, 2018, 2021], [1, 1, 1, 3, 3, 10, 3, 4, 3, 4, 2, 1, 7, 2, 7, 5, 1, 2, 2, 3, 1, 2, 2, 2, 2, 3])\n",
    "plt.xlabel('Y ears')\n",
    "plt.ylabel('Attacks')\n",
    "plt.show()"
   ]
  },
  {
   "cell_type": "code",
   "execution_count": 148,
   "id": "327888a4",
   "metadata": {},
   "outputs": [
    {
     "data": {
      "text/html": [
       "<div>\n",
       "<style scoped>\n",
       "    .dataframe tbody tr th:only-of-type {\n",
       "        vertical-align: middle;\n",
       "    }\n",
       "\n",
       "    .dataframe tbody tr th {\n",
       "        vertical-align: top;\n",
       "    }\n",
       "\n",
       "    .dataframe thead th {\n",
       "        text-align: right;\n",
       "    }\n",
       "</style>\n",
       "<table border=\"1\" class=\"dataframe\">\n",
       "  <thead>\n",
       "    <tr style=\"text-align: right;\">\n",
       "      <th></th>\n",
       "      <th>date</th>\n",
       "      <th>year</th>\n",
       "      <th>type</th>\n",
       "      <th>country</th>\n",
       "      <th>area</th>\n",
       "      <th>location</th>\n",
       "      <th>activity</th>\n",
       "      <th>sex_</th>\n",
       "      <th>age</th>\n",
       "      <th>injury</th>\n",
       "      <th>fatal_(y_n)</th>\n",
       "      <th>species_</th>\n",
       "      <th>day_of_week</th>\n",
       "      <th>loc_check</th>\n",
       "    </tr>\n",
       "  </thead>\n",
       "  <tbody>\n",
       "    <tr>\n",
       "      <th>3</th>\n",
       "      <td>2021-07-25</td>\n",
       "      <td>2021</td>\n",
       "      <td>Unprovoked</td>\n",
       "      <td>BRAZIL</td>\n",
       "      <td>Pernambuco</td>\n",
       "      <td>Piedade</td>\n",
       "      <td>Squatting in the water</td>\n",
       "      <td>M</td>\n",
       "      <td>32</td>\n",
       "      <td>Lacerations to poster thigh and buttock</td>\n",
       "      <td>N</td>\n",
       "      <td>NaN</td>\n",
       "      <td>Sunday</td>\n",
       "      <td>piedade</td>\n",
       "    </tr>\n",
       "    <tr>\n",
       "      <th>13</th>\n",
       "      <td>2021-07-10</td>\n",
       "      <td>2021</td>\n",
       "      <td>Unprovoked</td>\n",
       "      <td>BRAZIL</td>\n",
       "      <td>Pernambuco</td>\n",
       "      <td>Piedade</td>\n",
       "      <td>Wading</td>\n",
       "      <td>M</td>\n",
       "      <td>51</td>\n",
       "      <td>FATAL</td>\n",
       "      <td>Y</td>\n",
       "      <td>NaN</td>\n",
       "      <td>Saturday</td>\n",
       "      <td>piedade</td>\n",
       "    </tr>\n",
       "    <tr>\n",
       "      <th>65</th>\n",
       "      <td>2021-01-13</td>\n",
       "      <td>2021</td>\n",
       "      <td>Unprovoked</td>\n",
       "      <td>BRAZIL</td>\n",
       "      <td>Pernambuco</td>\n",
       "      <td>Cacimba do Padre Beach</td>\n",
       "      <td>Surfing</td>\n",
       "      <td>M</td>\n",
       "      <td>52</td>\n",
       "      <td>Puncture wounds to right hand</td>\n",
       "      <td>N</td>\n",
       "      <td>NaN</td>\n",
       "      <td>Wednesday</td>\n",
       "      <td>cacimba_do_padre</td>\n",
       "    </tr>\n",
       "    <tr>\n",
       "      <th>357</th>\n",
       "      <td>2018-06-03</td>\n",
       "      <td>2018</td>\n",
       "      <td>Unprovoked</td>\n",
       "      <td>BRAZIL</td>\n",
       "      <td>Pernambuco</td>\n",
       "      <td>Piedade Beach, Recife</td>\n",
       "      <td>Swimming</td>\n",
       "      <td>M</td>\n",
       "      <td>18</td>\n",
       "      <td>FATAL</td>\n",
       "      <td>Y</td>\n",
       "      <td>Tiger shark</td>\n",
       "      <td>Sunday</td>\n",
       "      <td>piedade</td>\n",
       "    </tr>\n",
       "    <tr>\n",
       "      <th>380</th>\n",
       "      <td>2018-04-15</td>\n",
       "      <td>2018</td>\n",
       "      <td>Unprovoked</td>\n",
       "      <td>BRAZIL</td>\n",
       "      <td>Pernambuco</td>\n",
       "      <td>Piedade</td>\n",
       "      <td>Swimming</td>\n",
       "      <td>M</td>\n",
       "      <td>34</td>\n",
       "      <td>Multiple severe injuries to arms and leg, leg ...</td>\n",
       "      <td>NaN</td>\n",
       "      <td>NaN</td>\n",
       "      <td>Sunday</td>\n",
       "      <td>piedade</td>\n",
       "    </tr>\n",
       "    <tr>\n",
       "      <th>...</th>\n",
       "      <td>...</td>\n",
       "      <td>...</td>\n",
       "      <td>...</td>\n",
       "      <td>...</td>\n",
       "      <td>...</td>\n",
       "      <td>...</td>\n",
       "      <td>...</td>\n",
       "      <td>...</td>\n",
       "      <td>...</td>\n",
       "      <td>...</td>\n",
       "      <td>...</td>\n",
       "      <td>...</td>\n",
       "      <td>...</td>\n",
       "      <td>...</td>\n",
       "    </tr>\n",
       "    <tr>\n",
       "      <th>2893</th>\n",
       "      <td>1992-09-10</td>\n",
       "      <td>1992</td>\n",
       "      <td>Unprovoked</td>\n",
       "      <td>BRAZIL</td>\n",
       "      <td>Pernambuco</td>\n",
       "      <td>Boa Viagem, Recife</td>\n",
       "      <td>Swimming</td>\n",
       "      <td>M</td>\n",
       "      <td>NaN</td>\n",
       "      <td>FATAL</td>\n",
       "      <td>Y</td>\n",
       "      <td>NaN</td>\n",
       "      <td>Thursday</td>\n",
       "      <td>boa_viagem</td>\n",
       "    </tr>\n",
       "    <tr>\n",
       "      <th>2905</th>\n",
       "      <td>1992-06-28</td>\n",
       "      <td>1992</td>\n",
       "      <td>Unprovoked</td>\n",
       "      <td>BRAZIL</td>\n",
       "      <td>Pernambuco</td>\n",
       "      <td>Piedade</td>\n",
       "      <td>Swimming</td>\n",
       "      <td>M</td>\n",
       "      <td>NaN</td>\n",
       "      <td>FATAL</td>\n",
       "      <td>Y</td>\n",
       "      <td>NaN</td>\n",
       "      <td>Sunday</td>\n",
       "      <td>piedade</td>\n",
       "    </tr>\n",
       "    <tr>\n",
       "      <th>2960</th>\n",
       "      <td>1991-04-24</td>\n",
       "      <td>1991</td>\n",
       "      <td>Provoked</td>\n",
       "      <td>BRAZIL</td>\n",
       "      <td>Pernambuco</td>\n",
       "      <td>Praia de Pau Amarelo, Recife</td>\n",
       "      <td>Fishing</td>\n",
       "      <td>NaN</td>\n",
       "      <td>NaN</td>\n",
       "      <td>2 fingers severed by netted shark PROVOKED INC...</td>\n",
       "      <td>N</td>\n",
       "      <td>170-kg, 2.8 m shark</td>\n",
       "      <td>Wednesday</td>\n",
       "      <td>pau_amarelo_paulista</td>\n",
       "    </tr>\n",
       "    <tr>\n",
       "      <th>3415</th>\n",
       "      <td>1980-11-11</td>\n",
       "      <td>1980</td>\n",
       "      <td>Unprovoked</td>\n",
       "      <td>BRAZIL</td>\n",
       "      <td>Pernambuco</td>\n",
       "      <td>Piedade</td>\n",
       "      <td>Swimming</td>\n",
       "      <td>M</td>\n",
       "      <td>16</td>\n",
       "      <td>FATAL</td>\n",
       "      <td>Y</td>\n",
       "      <td>NaN</td>\n",
       "      <td>Tuesday</td>\n",
       "      <td>piedade</td>\n",
       "    </tr>\n",
       "    <tr>\n",
       "      <th>4938</th>\n",
       "      <td>1947-10-10</td>\n",
       "      <td>1947</td>\n",
       "      <td>Unprovoked</td>\n",
       "      <td>BRAZIL</td>\n",
       "      <td>Pernambuco</td>\n",
       "      <td>Piedade</td>\n",
       "      <td>Swimming</td>\n",
       "      <td>M</td>\n",
       "      <td>25</td>\n",
       "      <td>FATAL</td>\n",
       "      <td>Y</td>\n",
       "      <td>NaN</td>\n",
       "      <td>Friday</td>\n",
       "      <td>piedade</td>\n",
       "    </tr>\n",
       "  </tbody>\n",
       "</table>\n",
       "<p>77 rows × 14 columns</p>\n",
       "</div>"
      ],
      "text/plain": [
       "           date  year        type country        area  \\\n",
       "3    2021-07-25  2021  Unprovoked  BRAZIL  Pernambuco   \n",
       "13   2021-07-10  2021  Unprovoked  BRAZIL  Pernambuco   \n",
       "65   2021-01-13  2021  Unprovoked  BRAZIL  Pernambuco   \n",
       "357  2018-06-03  2018  Unprovoked  BRAZIL  Pernambuco   \n",
       "380  2018-04-15  2018  Unprovoked  BRAZIL  Pernambuco   \n",
       "...         ...   ...         ...     ...         ...   \n",
       "2893 1992-09-10  1992  Unprovoked  BRAZIL  Pernambuco   \n",
       "2905 1992-06-28  1992  Unprovoked  BRAZIL  Pernambuco   \n",
       "2960 1991-04-24  1991    Provoked  BRAZIL  Pernambuco   \n",
       "3415 1980-11-11  1980  Unprovoked  BRAZIL  Pernambuco   \n",
       "4938 1947-10-10  1947  Unprovoked  BRAZIL  Pernambuco   \n",
       "\n",
       "                          location                activity sex_  age  \\\n",
       "3                          Piedade  Squatting in the water    M   32   \n",
       "13                         Piedade                  Wading    M   51   \n",
       "65          Cacimba do Padre Beach                 Surfing    M   52   \n",
       "357          Piedade Beach, Recife                Swimming    M   18   \n",
       "380                        Piedade                Swimming    M   34   \n",
       "...                            ...                     ...  ...  ...   \n",
       "2893            Boa Viagem, Recife                Swimming    M  NaN   \n",
       "2905                       Piedade                Swimming    M  NaN   \n",
       "2960  Praia de Pau Amarelo, Recife                 Fishing  NaN  NaN   \n",
       "3415                       Piedade                Swimming    M   16   \n",
       "4938                       Piedade               Swimming     M   25   \n",
       "\n",
       "                                                 injury fatal_(y_n)  \\\n",
       "3               Lacerations to poster thigh and buttock           N   \n",
       "13                                                FATAL           Y   \n",
       "65                        Puncture wounds to right hand           N   \n",
       "357                                               FATAL           Y   \n",
       "380   Multiple severe injuries to arms and leg, leg ...         NaN   \n",
       "...                                                 ...         ...   \n",
       "2893                                              FATAL           Y   \n",
       "2905                                              FATAL           Y   \n",
       "2960  2 fingers severed by netted shark PROVOKED INC...           N   \n",
       "3415                                              FATAL           Y   \n",
       "4938                                              FATAL           Y   \n",
       "\n",
       "                 species_ day_of_week             loc_check  \n",
       "3                     NaN      Sunday               piedade  \n",
       "13                    NaN    Saturday               piedade  \n",
       "65                    NaN   Wednesday      cacimba_do_padre  \n",
       "357           Tiger shark      Sunday               piedade  \n",
       "380                   NaN      Sunday               piedade  \n",
       "...                   ...         ...                   ...  \n",
       "2893                  NaN    Thursday            boa_viagem  \n",
       "2905                  NaN      Sunday               piedade  \n",
       "2960  170-kg, 2.8 m shark   Wednesday  pau_amarelo_paulista  \n",
       "3415                  NaN     Tuesday               piedade  \n",
       "4938                  NaN      Friday               piedade  \n",
       "\n",
       "[77 rows x 14 columns]"
      ]
     },
     "execution_count": 148,
     "metadata": {},
     "output_type": "execute_result"
    }
   ],
   "source": [
    "df_pernambuco"
   ]
  },
  {
   "cell_type": "markdown",
   "id": "5779d0f9",
   "metadata": {},
   "source": [
    "### Construção da análise Ataques vs Dia da Semana"
   ]
  },
  {
   "cell_type": "code",
   "execution_count": 149,
   "id": "a56b230f",
   "metadata": {},
   "outputs": [],
   "source": [
    "df_dow = pd.DataFrame(df_pernambuco.day_of_week.sort_values(ascending=True).value_counts())"
   ]
  },
  {
   "cell_type": "code",
   "execution_count": 150,
   "id": "9c3978f0",
   "metadata": {},
   "outputs": [
    {
     "data": {
      "text/html": [
       "<div>\n",
       "<style scoped>\n",
       "    .dataframe tbody tr th:only-of-type {\n",
       "        vertical-align: middle;\n",
       "    }\n",
       "\n",
       "    .dataframe tbody tr th {\n",
       "        vertical-align: top;\n",
       "    }\n",
       "\n",
       "    .dataframe thead th {\n",
       "        text-align: right;\n",
       "    }\n",
       "</style>\n",
       "<table border=\"1\" class=\"dataframe\">\n",
       "  <thead>\n",
       "    <tr style=\"text-align: right;\">\n",
       "      <th></th>\n",
       "      <th>day_of_week</th>\n",
       "    </tr>\n",
       "  </thead>\n",
       "  <tbody>\n",
       "    <tr>\n",
       "      <th>Sunday</th>\n",
       "      <td>22</td>\n",
       "    </tr>\n",
       "    <tr>\n",
       "      <th>Monday</th>\n",
       "      <td>14</td>\n",
       "    </tr>\n",
       "    <tr>\n",
       "      <th>Wednesday</th>\n",
       "      <td>10</td>\n",
       "    </tr>\n",
       "    <tr>\n",
       "      <th>Saturday</th>\n",
       "      <td>10</td>\n",
       "    </tr>\n",
       "    <tr>\n",
       "      <th>Tuesday</th>\n",
       "      <td>10</td>\n",
       "    </tr>\n",
       "    <tr>\n",
       "      <th>Friday</th>\n",
       "      <td>6</td>\n",
       "    </tr>\n",
       "    <tr>\n",
       "      <th>Thursday</th>\n",
       "      <td>5</td>\n",
       "    </tr>\n",
       "  </tbody>\n",
       "</table>\n",
       "</div>"
      ],
      "text/plain": [
       "           day_of_week\n",
       "Sunday              22\n",
       "Monday              14\n",
       "Wednesday           10\n",
       "Saturday            10\n",
       "Tuesday             10\n",
       "Friday               6\n",
       "Thursday             5"
      ]
     },
     "execution_count": 150,
     "metadata": {},
     "output_type": "execute_result"
    }
   ],
   "source": [
    "df_dow"
   ]
  },
  {
   "cell_type": "code",
   "execution_count": 151,
   "id": "0b75a349",
   "metadata": {},
   "outputs": [],
   "source": [
    "df_dow['day'] = df_dow.index"
   ]
  },
  {
   "cell_type": "code",
   "execution_count": 152,
   "id": "b1532608",
   "metadata": {},
   "outputs": [],
   "source": [
    "df_dow.columns= [column.replace(\"day_of_week\", 'times') for column in df_dow.columns]"
   ]
  },
  {
   "cell_type": "code",
   "execution_count": 153,
   "id": "c48fef30",
   "metadata": {},
   "outputs": [
    {
     "data": {
      "text/html": [
       "<div>\n",
       "<style scoped>\n",
       "    .dataframe tbody tr th:only-of-type {\n",
       "        vertical-align: middle;\n",
       "    }\n",
       "\n",
       "    .dataframe tbody tr th {\n",
       "        vertical-align: top;\n",
       "    }\n",
       "\n",
       "    .dataframe thead th {\n",
       "        text-align: right;\n",
       "    }\n",
       "</style>\n",
       "<table border=\"1\" class=\"dataframe\">\n",
       "  <thead>\n",
       "    <tr style=\"text-align: right;\">\n",
       "      <th></th>\n",
       "      <th>times</th>\n",
       "      <th>day</th>\n",
       "    </tr>\n",
       "  </thead>\n",
       "  <tbody>\n",
       "    <tr>\n",
       "      <th>Sunday</th>\n",
       "      <td>22</td>\n",
       "      <td>Sunday</td>\n",
       "    </tr>\n",
       "    <tr>\n",
       "      <th>Monday</th>\n",
       "      <td>14</td>\n",
       "      <td>Monday</td>\n",
       "    </tr>\n",
       "    <tr>\n",
       "      <th>Wednesday</th>\n",
       "      <td>10</td>\n",
       "      <td>Wednesday</td>\n",
       "    </tr>\n",
       "    <tr>\n",
       "      <th>Saturday</th>\n",
       "      <td>10</td>\n",
       "      <td>Saturday</td>\n",
       "    </tr>\n",
       "    <tr>\n",
       "      <th>Tuesday</th>\n",
       "      <td>10</td>\n",
       "      <td>Tuesday</td>\n",
       "    </tr>\n",
       "    <tr>\n",
       "      <th>Friday</th>\n",
       "      <td>6</td>\n",
       "      <td>Friday</td>\n",
       "    </tr>\n",
       "    <tr>\n",
       "      <th>Thursday</th>\n",
       "      <td>5</td>\n",
       "      <td>Thursday</td>\n",
       "    </tr>\n",
       "  </tbody>\n",
       "</table>\n",
       "</div>"
      ],
      "text/plain": [
       "           times        day\n",
       "Sunday        22     Sunday\n",
       "Monday        14     Monday\n",
       "Wednesday     10  Wednesday\n",
       "Saturday      10   Saturday\n",
       "Tuesday       10    Tuesday\n",
       "Friday         6     Friday\n",
       "Thursday       5   Thursday"
      ]
     },
     "execution_count": 153,
     "metadata": {},
     "output_type": "execute_result"
    }
   ],
   "source": [
    "df_dow"
   ]
  },
  {
   "cell_type": "markdown",
   "id": "bb520bbe",
   "metadata": {},
   "source": [
    "### Criação do gráfico Ataques vs Dia da Semana"
   ]
  },
  {
   "cell_type": "code",
   "execution_count": 154,
   "id": "fae0990b",
   "metadata": {},
   "outputs": [
    {
     "data": {
      "text/plain": [
       "<AxesSubplot:>"
      ]
     },
     "execution_count": 154,
     "metadata": {},
     "output_type": "execute_result"
    },
    {
     "data": {
      "image/png": "[encoded data removed]",
      "text/plain": [
       "<Figure size 432x288 with 1 Axes>"
      ]
     },
     "metadata": {
      "needs_background": "light"
     },
     "output_type": "display_data"
    }
   ],
   "source": [
    "df_dow.plot(kind='bar')"
   ]
  },
  {
   "cell_type": "code",
   "execution_count": 155,
   "id": "dd87dbfe",
   "metadata": {},
   "outputs": [
    {
     "data": {
      "image/png": "[encoded data removed]",
      "text/plain": [
       "<Figure size 432x288 with 1 Axes>"
      ]
     },
     "metadata": {
      "needs_background": "light"
     },
     "output_type": "display_data"
    }
   ],
   "source": [
    "sns.barplot(['Sunday', 'Monday', 'Tuesday', 'Saturday', 'Wednesday', 'Friday',\n",
    "       'Thursday'], [22, 14, 10, 10, 10, 6, 5])\n",
    "plt.xlabel(\"Day o Week\")\n",
    "plt.ylabel(\"Attacks\")\n",
    "\n",
    "plt.show()"
   ]
  },
  {
   "cell_type": "code",
   "execution_count": 156,
   "id": "48e566f6",
   "metadata": {},
   "outputs": [
    {
     "data": {
      "text/plain": [
       "Index(['Sunday', 'Monday', 'Wednesday', 'Saturday', 'Tuesday', 'Friday',\n",
       "       'Thursday'],\n",
       "      dtype='object')"
      ]
     },
     "execution_count": 156,
     "metadata": {},
     "output_type": "execute_result"
    }
   ],
   "source": [
    "df_dow.index"
   ]
  },
  {
   "cell_type": "code",
   "execution_count": 157,
   "id": "39db4f83",
   "metadata": {},
   "outputs": [
    {
     "data": {
      "text/plain": [
       "[22, 14, 10, 10, 10, 6, 5]"
      ]
     },
     "execution_count": 157,
     "metadata": {},
     "output_type": "execute_result"
    }
   ],
   "source": [
    "list(df_dow.times)"
   ]
  },
  {
   "cell_type": "code",
   "execution_count": 158,
   "id": "431a2dd0",
   "metadata": {
    "scrolled": true
   },
   "outputs": [
    {
     "data": {
      "image/png": "[encoded data removed]",
      "text/plain": [
       "<Figure size 432x288 with 1 Axes>"
      ]
     },
     "metadata": {
      "needs_background": "light"
     },
     "output_type": "display_data"
    }
   ],
   "source": [
    "sns.barplot(['Sunday', 'Monday', 'Tuesday', 'Saturday', 'Wednesday', 'Friday',\n",
    "       'Thursday'], [22, 14, 10, 10, 10, 6, 5])\n",
    "plt.xlabel(\"Day o Week\")\n",
    "plt.ylabel(\"Attacks\")\n",
    "\n",
    "plt.show()"
   ]
  },
  {
   "cell_type": "code",
   "execution_count": 159,
   "id": "2dbcab8b",
   "metadata": {},
   "outputs": [
    {
     "data": {
      "text/plain": [
       "False    70\n",
       "True      7\n",
       "Name: sex_, dtype: int64"
      ]
     },
     "execution_count": 159,
     "metadata": {},
     "output_type": "execute_result"
    }
   ],
   "source": [
    "df_pernambuco.sex_.isnull().value_counts()"
   ]
  },
  {
   "cell_type": "markdown",
   "id": "4513b408",
   "metadata": {},
   "source": [
    "### Construção da análise Ataques vs Sexo"
   ]
  },
  {
   "cell_type": "code",
   "execution_count": 160,
   "id": "3d23591d",
   "metadata": {},
   "outputs": [],
   "source": [
    "df_sex = pd.DataFrame(df_pernambuco.sex_.sort_values(ascending=True).value_counts())"
   ]
  },
  {
   "cell_type": "code",
   "execution_count": 161,
   "id": "a9bb1af0",
   "metadata": {},
   "outputs": [
    {
     "data": {
      "text/html": [
       "<div>\n",
       "<style scoped>\n",
       "    .dataframe tbody tr th:only-of-type {\n",
       "        vertical-align: middle;\n",
       "    }\n",
       "\n",
       "    .dataframe tbody tr th {\n",
       "        vertical-align: top;\n",
       "    }\n",
       "\n",
       "    .dataframe thead th {\n",
       "        text-align: right;\n",
       "    }\n",
       "</style>\n",
       "<table border=\"1\" class=\"dataframe\">\n",
       "  <thead>\n",
       "    <tr style=\"text-align: right;\">\n",
       "      <th></th>\n",
       "      <th>sex_</th>\n",
       "    </tr>\n",
       "  </thead>\n",
       "  <tbody>\n",
       "    <tr>\n",
       "      <th>M</th>\n",
       "      <td>67</td>\n",
       "    </tr>\n",
       "    <tr>\n",
       "      <th>F</th>\n",
       "      <td>3</td>\n",
       "    </tr>\n",
       "  </tbody>\n",
       "</table>\n",
       "</div>"
      ],
      "text/plain": [
       "   sex_\n",
       "M    67\n",
       "F     3"
      ]
     },
     "execution_count": 161,
     "metadata": {},
     "output_type": "execute_result"
    }
   ],
   "source": [
    "df_sex"
   ]
  },
  {
   "cell_type": "code",
   "execution_count": 162,
   "id": "6bf626ff",
   "metadata": {},
   "outputs": [],
   "source": [
    "df_sex['newc'] = df_sex.index"
   ]
  },
  {
   "cell_type": "code",
   "execution_count": 163,
   "id": "b0d6a44f",
   "metadata": {},
   "outputs": [],
   "source": [
    "df_sex.columns= [column.replace(\"sex_\", 'times') for column in df_sex.columns]"
   ]
  },
  {
   "cell_type": "code",
   "execution_count": 164,
   "id": "b04d37dc",
   "metadata": {},
   "outputs": [
    {
     "data": {
      "text/html": [
       "<div>\n",
       "<style scoped>\n",
       "    .dataframe tbody tr th:only-of-type {\n",
       "        vertical-align: middle;\n",
       "    }\n",
       "\n",
       "    .dataframe tbody tr th {\n",
       "        vertical-align: top;\n",
       "    }\n",
       "\n",
       "    .dataframe thead th {\n",
       "        text-align: right;\n",
       "    }\n",
       "</style>\n",
       "<table border=\"1\" class=\"dataframe\">\n",
       "  <thead>\n",
       "    <tr style=\"text-align: right;\">\n",
       "      <th></th>\n",
       "      <th>times</th>\n",
       "      <th>newc</th>\n",
       "    </tr>\n",
       "  </thead>\n",
       "  <tbody>\n",
       "    <tr>\n",
       "      <th>M</th>\n",
       "      <td>67</td>\n",
       "      <td>M</td>\n",
       "    </tr>\n",
       "    <tr>\n",
       "      <th>F</th>\n",
       "      <td>3</td>\n",
       "      <td>F</td>\n",
       "    </tr>\n",
       "  </tbody>\n",
       "</table>\n",
       "</div>"
      ],
      "text/plain": [
       "   times newc\n",
       "M     67    M\n",
       "F      3    F"
      ]
     },
     "execution_count": 164,
     "metadata": {},
     "output_type": "execute_result"
    }
   ],
   "source": [
    "df_sex"
   ]
  },
  {
   "cell_type": "markdown",
   "id": "71d797b3",
   "metadata": {},
   "source": [
    "### Criação do gráfico Ataques vs Sexo"
   ]
  },
  {
   "cell_type": "code",
   "execution_count": 165,
   "id": "5a86dbc6",
   "metadata": {},
   "outputs": [
    {
     "data": {
      "text/plain": [
       "([<matplotlib.patches.Wedge at 0x12007e7ee80>,\n",
       "  <matplotlib.patches.Wedge at 0x1203b270d00>,\n",
       "  <matplotlib.patches.Wedge at 0x1203b276f40>],\n",
       " [Text(-1.0097082618227442, 0.4364507142930266, ''),\n",
       "  Text(0.8458456338817486, -0.7032390515629682, ''),\n",
       "  Text(1.055442297353649, -0.30990572269135586, '')])"
      ]
     },
     "execution_count": 165,
     "metadata": {},
     "output_type": "execute_result"
    },
    {
     "data": {
      "image/png": "[encoded data removed]",
      "text/plain": [
       "<Figure size 432x432 with 1 Axes>"
      ]
     },
     "metadata": {},
     "output_type": "display_data"
    }
   ],
   "source": [
    "labels= 'Masc', 'Fem', 'Unknown'\n",
    "sizes= [67, 3, 7]\n",
    "explode = (0, 0.1, 0)\n",
    "fig1, ax1 = plt.subplots(figsize=(6, 6))\n",
    "ax1.pie(sizes, explode=explode, labels=labels, autopct='%1.1f%%',\n",
    "        shadow=True)\n",
    "\n",
    "ax1.axis('equal')\n",
    "\n",
    "plt.pie(sizes)\n",
    "\n"
   ]
  },
  {
   "cell_type": "code",
   "execution_count": 166,
   "id": "b555112e",
   "metadata": {},
   "outputs": [],
   "source": [
    "df_pernambuco.columns= [column.replace(\"fatal_(y_n)\", 'fatal') for column in df_pernambuco.columns]"
   ]
  },
  {
   "cell_type": "code",
   "execution_count": 167,
   "id": "26a21655",
   "metadata": {},
   "outputs": [
    {
     "data": {
      "text/plain": [
       "False    73\n",
       "True      4\n",
       "Name: fatal, dtype: int64"
      ]
     },
     "execution_count": 167,
     "metadata": {},
     "output_type": "execute_result"
    }
   ],
   "source": [
    "df_pernambuco.fatal.isnull().value_counts()"
   ]
  },
  {
   "cell_type": "code",
   "execution_count": 168,
   "id": "713ac4a3",
   "metadata": {},
   "outputs": [],
   "source": [
    "df_fatal = pd.DataFrame(df_pernambuco.fatal.sort_values(ascending=True).value_counts())"
   ]
  },
  {
   "cell_type": "code",
   "execution_count": 169,
   "id": "3bdf6c11",
   "metadata": {},
   "outputs": [
    {
     "data": {
      "text/html": [
       "<div>\n",
       "<style scoped>\n",
       "    .dataframe tbody tr th:only-of-type {\n",
       "        vertical-align: middle;\n",
       "    }\n",
       "\n",
       "    .dataframe tbody tr th {\n",
       "        vertical-align: top;\n",
       "    }\n",
       "\n",
       "    .dataframe thead th {\n",
       "        text-align: right;\n",
       "    }\n",
       "</style>\n",
       "<table border=\"1\" class=\"dataframe\">\n",
       "  <thead>\n",
       "    <tr style=\"text-align: right;\">\n",
       "      <th></th>\n",
       "      <th>fatal</th>\n",
       "    </tr>\n",
       "  </thead>\n",
       "  <tbody>\n",
       "    <tr>\n",
       "      <th>N</th>\n",
       "      <td>43</td>\n",
       "    </tr>\n",
       "    <tr>\n",
       "      <th>Y</th>\n",
       "      <td>30</td>\n",
       "    </tr>\n",
       "  </tbody>\n",
       "</table>\n",
       "</div>"
      ],
      "text/plain": [
       "   fatal\n",
       "N     43\n",
       "Y     30"
      ]
     },
     "execution_count": 169,
     "metadata": {},
     "output_type": "execute_result"
    }
   ],
   "source": [
    "df_fatal"
   ]
  },
  {
   "cell_type": "code",
   "execution_count": 170,
   "id": "35cdfc72",
   "metadata": {},
   "outputs": [],
   "source": [
    "df_fatal['yn'] = df_fatal.index"
   ]
  },
  {
   "cell_type": "code",
   "execution_count": 171,
   "id": "5672fc68",
   "metadata": {},
   "outputs": [
    {
     "data": {
      "text/html": [
       "<div>\n",
       "<style scoped>\n",
       "    .dataframe tbody tr th:only-of-type {\n",
       "        vertical-align: middle;\n",
       "    }\n",
       "\n",
       "    .dataframe tbody tr th {\n",
       "        vertical-align: top;\n",
       "    }\n",
       "\n",
       "    .dataframe thead th {\n",
       "        text-align: right;\n",
       "    }\n",
       "</style>\n",
       "<table border=\"1\" class=\"dataframe\">\n",
       "  <thead>\n",
       "    <tr style=\"text-align: right;\">\n",
       "      <th></th>\n",
       "      <th>fatal</th>\n",
       "      <th>yn</th>\n",
       "    </tr>\n",
       "  </thead>\n",
       "  <tbody>\n",
       "    <tr>\n",
       "      <th>N</th>\n",
       "      <td>43</td>\n",
       "      <td>N</td>\n",
       "    </tr>\n",
       "    <tr>\n",
       "      <th>Y</th>\n",
       "      <td>30</td>\n",
       "      <td>Y</td>\n",
       "    </tr>\n",
       "  </tbody>\n",
       "</table>\n",
       "</div>"
      ],
      "text/plain": [
       "   fatal yn\n",
       "N     43  N\n",
       "Y     30  Y"
      ]
     },
     "execution_count": 171,
     "metadata": {},
     "output_type": "execute_result"
    }
   ],
   "source": [
    "df_fatal"
   ]
  },
  {
   "cell_type": "markdown",
   "id": "71be00fb",
   "metadata": {},
   "source": [
    "### Construção do gráfico Ataques Fatais"
   ]
  },
  {
   "cell_type": "code",
   "execution_count": 172,
   "id": "45906a47",
   "metadata": {},
   "outputs": [
    {
     "data": {
      "text/plain": [
       "([<matplotlib.patches.Wedge at 0x1203a0287f0>,\n",
       "  <matplotlib.patches.Wedge at 0x12039a95160>,\n",
       "  <matplotlib.patches.Wedge at 0x12039a8a8e0>],\n",
       " [Text(0.373878263188282, 1.0345119836499304, ''),\n",
       "  Text(-0.536993821983836, -0.9600196014411333, ''),\n",
       "  Text(1.0853837333075735, -0.17872367350553883, '')])"
      ]
     },
     "execution_count": 172,
     "metadata": {},
     "output_type": "execute_result"
    },
    {
     "data": {
      "image/png": "[encoded data removed]",
      "text/plain": [
       "<Figure size 432x432 with 1 Axes>"
      ]
     },
     "metadata": {},
     "output_type": "display_data"
    }
   ],
   "source": [
    "labels= 'Fatal', 'Not Fatal', 'Unknown'\n",
    "sizes= [30, 43, 4]\n",
    "explode = (0, 0.1, 0)\n",
    "fig1, ax1 = plt.subplots(figsize=(6, 6))\n",
    "ax1.pie(sizes, labels=labels, autopct='%1.1f%%',\n",
    "        shadow=True)\n",
    "\n",
    "ax1.axis('equal')\n",
    "\n",
    "plt.pie(sizes)"
   ]
  },
  {
   "cell_type": "markdown",
   "id": "30c895b2",
   "metadata": {},
   "source": [
    "### Análise dados em \"activity\""
   ]
  },
  {
   "cell_type": "markdown",
   "id": "8a24bbf0",
   "metadata": {},
   "source": [
    "### Análise dados nulos"
   ]
  },
  {
   "cell_type": "code",
   "execution_count": 173,
   "id": "19717949",
   "metadata": {},
   "outputs": [
    {
     "data": {
      "text/plain": [
       "False    71\n",
       "True      6\n",
       "Name: activity, dtype: int64"
      ]
     },
     "execution_count": 173,
     "metadata": {},
     "output_type": "execute_result"
    }
   ],
   "source": [
    "df_pernambuco.activity.isnull().value_counts()"
   ]
  },
  {
   "cell_type": "code",
   "execution_count": 174,
   "id": "53abd074",
   "metadata": {},
   "outputs": [],
   "source": [
    "df_activity = df_pernambuco.activity.sort_values().head(20)"
   ]
  },
  {
   "cell_type": "markdown",
   "id": "961ec0bf",
   "metadata": {},
   "source": [
    "### Tratamento de dados em \"activity\""
   ]
  },
  {
   "cell_type": "code",
   "execution_count": 175,
   "id": "7af89453",
   "metadata": {},
   "outputs": [
    {
     "data": {
      "text/plain": [
       "2001                        Bathing\n",
       "2043                  Body boarding\n",
       "1829                  Body boarding\n",
       "2890                  Body boarding\n",
       "2867                  Body boarding\n",
       "2960                        Fishing\n",
       "533     Grabbing shark for a selfie\n",
       "1664      Removing fish from a trap\n",
       "681                    Scuba diving\n",
       "3            Squatting in the water\n",
       "2513                        Surfing\n",
       "2138                        Surfing\n",
       "2165                        Surfing\n",
       "2601                        Surfing\n",
       "2766                        Surfing\n",
       "2765                        Surfing\n",
       "2202                        Surfing\n",
       "2517                        Surfing\n",
       "2632                        Surfing\n",
       "2221                        Surfing\n",
       "Name: activity, dtype: string"
      ]
     },
     "execution_count": 175,
     "metadata": {},
     "output_type": "execute_result"
    }
   ],
   "source": [
    "df_activity.astype('string')"
   ]
  },
  {
   "cell_type": "code",
   "execution_count": 176,
   "id": "05446670",
   "metadata": {},
   "outputs": [
    {
     "data": {
      "text/plain": [
       "2001                        Bathing\n",
       "2043                  Body boarding\n",
       "2960                        Fishing\n",
       "533     Grabbing shark for a selfie\n",
       "1664      Removing fish from a trap\n",
       "681                    Scuba diving\n",
       "3            Squatting in the water\n",
       "2513                        Surfing\n",
       "Name: activity, dtype: object"
      ]
     },
     "execution_count": 176,
     "metadata": {},
     "output_type": "execute_result"
    }
   ],
   "source": [
    "df_activity.sort_values(ascending=True).drop_duplicates()"
   ]
  },
  {
   "cell_type": "code",
   "execution_count": 177,
   "id": "74314730",
   "metadata": {},
   "outputs": [],
   "source": [
    "df_activity = pd.DataFrame(df_pernambuco.activity.sort_values(ascending=True).value_counts())"
   ]
  },
  {
   "cell_type": "code",
   "execution_count": 178,
   "id": "1d31b5a8",
   "metadata": {},
   "outputs": [
    {
     "data": {
      "text/html": [
       "<div>\n",
       "<style scoped>\n",
       "    .dataframe tbody tr th:only-of-type {\n",
       "        vertical-align: middle;\n",
       "    }\n",
       "\n",
       "    .dataframe tbody tr th {\n",
       "        vertical-align: top;\n",
       "    }\n",
       "\n",
       "    .dataframe thead th {\n",
       "        text-align: right;\n",
       "    }\n",
       "</style>\n",
       "<table border=\"1\" class=\"dataframe\">\n",
       "  <thead>\n",
       "    <tr style=\"text-align: right;\">\n",
       "      <th></th>\n",
       "      <th>activity</th>\n",
       "    </tr>\n",
       "  </thead>\n",
       "  <tbody>\n",
       "    <tr>\n",
       "      <th>Surfing</th>\n",
       "      <td>31</td>\n",
       "    </tr>\n",
       "    <tr>\n",
       "      <th>Swimming</th>\n",
       "      <td>25</td>\n",
       "    </tr>\n",
       "    <tr>\n",
       "      <th>Body boarding</th>\n",
       "      <td>4</td>\n",
       "    </tr>\n",
       "    <tr>\n",
       "      <th>Swimming</th>\n",
       "      <td>2</td>\n",
       "    </tr>\n",
       "    <tr>\n",
       "      <th>Wading</th>\n",
       "      <td>2</td>\n",
       "    </tr>\n",
       "    <tr>\n",
       "      <th>Grabbing shark for a selfie</th>\n",
       "      <td>1</td>\n",
       "    </tr>\n",
       "    <tr>\n",
       "      <th>Squatting in the water</th>\n",
       "      <td>1</td>\n",
       "    </tr>\n",
       "    <tr>\n",
       "      <th>Scuba diving</th>\n",
       "      <td>1</td>\n",
       "    </tr>\n",
       "    <tr>\n",
       "      <th>Fishing</th>\n",
       "      <td>1</td>\n",
       "    </tr>\n",
       "    <tr>\n",
       "      <th>Swimming, attempting to rescue a girl  believed to be drowning</th>\n",
       "      <td>1</td>\n",
       "    </tr>\n",
       "    <tr>\n",
       "      <th>Removing fish from a trap</th>\n",
       "      <td>1</td>\n",
       "    </tr>\n",
       "    <tr>\n",
       "      <th>Bathing</th>\n",
       "      <td>1</td>\n",
       "    </tr>\n",
       "  </tbody>\n",
       "</table>\n",
       "</div>"
      ],
      "text/plain": [
       "                                                    activity\n",
       "Surfing                                                   31\n",
       "Swimming                                                  25\n",
       "Body boarding                                              4\n",
       "Swimming                                                   2\n",
       "Wading                                                     2\n",
       "Grabbing shark for a selfie                                1\n",
       "Squatting in the water                                     1\n",
       "Scuba diving                                               1\n",
       "Fishing                                                    1\n",
       "Swimming, attempting to rescue a girl  believed...         1\n",
       "Removing fish from a trap                                  1\n",
       "Bathing                                                    1"
      ]
     },
     "execution_count": 178,
     "metadata": {},
     "output_type": "execute_result"
    }
   ],
   "source": [
    "df_activity"
   ]
  },
  {
   "cell_type": "code",
   "execution_count": 179,
   "id": "31a18ac2",
   "metadata": {},
   "outputs": [],
   "source": [
    "df_activity['doing'] = df_activity.index"
   ]
  },
  {
   "cell_type": "code",
   "execution_count": 180,
   "id": "8dc29002",
   "metadata": {},
   "outputs": [
    {
     "data": {
      "text/html": [
       "<div>\n",
       "<style scoped>\n",
       "    .dataframe tbody tr th:only-of-type {\n",
       "        vertical-align: middle;\n",
       "    }\n",
       "\n",
       "    .dataframe tbody tr th {\n",
       "        vertical-align: top;\n",
       "    }\n",
       "\n",
       "    .dataframe thead th {\n",
       "        text-align: right;\n",
       "    }\n",
       "</style>\n",
       "<table border=\"1\" class=\"dataframe\">\n",
       "  <thead>\n",
       "    <tr style=\"text-align: right;\">\n",
       "      <th></th>\n",
       "      <th>activity</th>\n",
       "      <th>doing</th>\n",
       "    </tr>\n",
       "  </thead>\n",
       "  <tbody>\n",
       "    <tr>\n",
       "      <th>Surfing</th>\n",
       "      <td>31</td>\n",
       "      <td>Surfing</td>\n",
       "    </tr>\n",
       "    <tr>\n",
       "      <th>Swimming</th>\n",
       "      <td>25</td>\n",
       "      <td>Swimming</td>\n",
       "    </tr>\n",
       "    <tr>\n",
       "      <th>Body boarding</th>\n",
       "      <td>4</td>\n",
       "      <td>Body boarding</td>\n",
       "    </tr>\n",
       "    <tr>\n",
       "      <th>Swimming</th>\n",
       "      <td>2</td>\n",
       "      <td>Swimming</td>\n",
       "    </tr>\n",
       "    <tr>\n",
       "      <th>Wading</th>\n",
       "      <td>2</td>\n",
       "      <td>Wading</td>\n",
       "    </tr>\n",
       "    <tr>\n",
       "      <th>Grabbing shark for a selfie</th>\n",
       "      <td>1</td>\n",
       "      <td>Grabbing shark for a selfie</td>\n",
       "    </tr>\n",
       "    <tr>\n",
       "      <th>Squatting in the water</th>\n",
       "      <td>1</td>\n",
       "      <td>Squatting in the water</td>\n",
       "    </tr>\n",
       "    <tr>\n",
       "      <th>Scuba diving</th>\n",
       "      <td>1</td>\n",
       "      <td>Scuba diving</td>\n",
       "    </tr>\n",
       "    <tr>\n",
       "      <th>Fishing</th>\n",
       "      <td>1</td>\n",
       "      <td>Fishing</td>\n",
       "    </tr>\n",
       "    <tr>\n",
       "      <th>Swimming, attempting to rescue a girl  believed to be drowning</th>\n",
       "      <td>1</td>\n",
       "      <td>Swimming, attempting to rescue a girl  believe...</td>\n",
       "    </tr>\n",
       "    <tr>\n",
       "      <th>Removing fish from a trap</th>\n",
       "      <td>1</td>\n",
       "      <td>Removing fish from a trap</td>\n",
       "    </tr>\n",
       "    <tr>\n",
       "      <th>Bathing</th>\n",
       "      <td>1</td>\n",
       "      <td>Bathing</td>\n",
       "    </tr>\n",
       "  </tbody>\n",
       "</table>\n",
       "</div>"
      ],
      "text/plain": [
       "                                                    activity  \\\n",
       "Surfing                                                   31   \n",
       "Swimming                                                  25   \n",
       "Body boarding                                              4   \n",
       "Swimming                                                   2   \n",
       "Wading                                                     2   \n",
       "Grabbing shark for a selfie                                1   \n",
       "Squatting in the water                                     1   \n",
       "Scuba diving                                               1   \n",
       "Fishing                                                    1   \n",
       "Swimming, attempting to rescue a girl  believed...         1   \n",
       "Removing fish from a trap                                  1   \n",
       "Bathing                                                    1   \n",
       "\n",
       "                                                                                                doing  \n",
       "Surfing                                                                                       Surfing  \n",
       "Swimming                                                                                     Swimming  \n",
       "Body boarding                                                                           Body boarding  \n",
       "Swimming                                                                                    Swimming   \n",
       "Wading                                                                                         Wading  \n",
       "Grabbing shark for a selfie                                               Grabbing shark for a selfie  \n",
       "Squatting in the water                                                         Squatting in the water  \n",
       "Scuba diving                                                                             Scuba diving  \n",
       "Fishing                                                                                       Fishing  \n",
       "Swimming, attempting to rescue a girl  believed...  Swimming, attempting to rescue a girl  believe...  \n",
       "Removing fish from a trap                                                   Removing fish from a trap  \n",
       "Bathing                                                                                       Bathing  "
      ]
     },
     "execution_count": 180,
     "metadata": {},
     "output_type": "execute_result"
    }
   ],
   "source": [
    "df_activity"
   ]
  },
  {
   "cell_type": "code",
   "execution_count": 181,
   "id": "afdc7bea",
   "metadata": {},
   "outputs": [],
   "source": [
    "df_activity['doing'] = df_activity.doing.astype('string')"
   ]
  },
  {
   "cell_type": "code",
   "execution_count": 182,
   "id": "7ccaa033",
   "metadata": {},
   "outputs": [],
   "source": [
    "df_activity.doing = df_activity.doing.replace('Squatting in the water', 'Playin in the water')"
   ]
  },
  {
   "cell_type": "code",
   "execution_count": 183,
   "id": "d448ceb0",
   "metadata": {},
   "outputs": [
    {
     "data": {
      "text/html": [
       "<div>\n",
       "<style scoped>\n",
       "    .dataframe tbody tr th:only-of-type {\n",
       "        vertical-align: middle;\n",
       "    }\n",
       "\n",
       "    .dataframe tbody tr th {\n",
       "        vertical-align: top;\n",
       "    }\n",
       "\n",
       "    .dataframe thead th {\n",
       "        text-align: right;\n",
       "    }\n",
       "</style>\n",
       "<table border=\"1\" class=\"dataframe\">\n",
       "  <thead>\n",
       "    <tr style=\"text-align: right;\">\n",
       "      <th></th>\n",
       "      <th>activity</th>\n",
       "      <th>doing</th>\n",
       "    </tr>\n",
       "  </thead>\n",
       "  <tbody>\n",
       "    <tr>\n",
       "      <th>Surfing</th>\n",
       "      <td>31</td>\n",
       "      <td>Surfing</td>\n",
       "    </tr>\n",
       "    <tr>\n",
       "      <th>Swimming</th>\n",
       "      <td>25</td>\n",
       "      <td>Swimming</td>\n",
       "    </tr>\n",
       "    <tr>\n",
       "      <th>Body boarding</th>\n",
       "      <td>4</td>\n",
       "      <td>Body boarding</td>\n",
       "    </tr>\n",
       "    <tr>\n",
       "      <th>Swimming</th>\n",
       "      <td>2</td>\n",
       "      <td>Swimming</td>\n",
       "    </tr>\n",
       "    <tr>\n",
       "      <th>Wading</th>\n",
       "      <td>2</td>\n",
       "      <td>Wading</td>\n",
       "    </tr>\n",
       "    <tr>\n",
       "      <th>Grabbing shark for a selfie</th>\n",
       "      <td>1</td>\n",
       "      <td>Grabbing shark for a selfie</td>\n",
       "    </tr>\n",
       "    <tr>\n",
       "      <th>Squatting in the water</th>\n",
       "      <td>1</td>\n",
       "      <td>Playin in the water</td>\n",
       "    </tr>\n",
       "    <tr>\n",
       "      <th>Scuba diving</th>\n",
       "      <td>1</td>\n",
       "      <td>Scuba diving</td>\n",
       "    </tr>\n",
       "    <tr>\n",
       "      <th>Fishing</th>\n",
       "      <td>1</td>\n",
       "      <td>Fishing</td>\n",
       "    </tr>\n",
       "    <tr>\n",
       "      <th>Swimming, attempting to rescue a girl  believed to be drowning</th>\n",
       "      <td>1</td>\n",
       "      <td>Swimming, attempting to rescue a girl  believe...</td>\n",
       "    </tr>\n",
       "    <tr>\n",
       "      <th>Removing fish from a trap</th>\n",
       "      <td>1</td>\n",
       "      <td>Removing fish from a trap</td>\n",
       "    </tr>\n",
       "    <tr>\n",
       "      <th>Bathing</th>\n",
       "      <td>1</td>\n",
       "      <td>Bathing</td>\n",
       "    </tr>\n",
       "  </tbody>\n",
       "</table>\n",
       "</div>"
      ],
      "text/plain": [
       "                                                    activity  \\\n",
       "Surfing                                                   31   \n",
       "Swimming                                                  25   \n",
       "Body boarding                                              4   \n",
       "Swimming                                                   2   \n",
       "Wading                                                     2   \n",
       "Grabbing shark for a selfie                                1   \n",
       "Squatting in the water                                     1   \n",
       "Scuba diving                                               1   \n",
       "Fishing                                                    1   \n",
       "Swimming, attempting to rescue a girl  believed...         1   \n",
       "Removing fish from a trap                                  1   \n",
       "Bathing                                                    1   \n",
       "\n",
       "                                                                                                doing  \n",
       "Surfing                                                                                       Surfing  \n",
       "Swimming                                                                                     Swimming  \n",
       "Body boarding                                                                           Body boarding  \n",
       "Swimming                                                                                    Swimming   \n",
       "Wading                                                                                         Wading  \n",
       "Grabbing shark for a selfie                                               Grabbing shark for a selfie  \n",
       "Squatting in the water                                                            Playin in the water  \n",
       "Scuba diving                                                                             Scuba diving  \n",
       "Fishing                                                                                       Fishing  \n",
       "Swimming, attempting to rescue a girl  believed...  Swimming, attempting to rescue a girl  believe...  \n",
       "Removing fish from a trap                                                   Removing fish from a trap  \n",
       "Bathing                                                                                       Bathing  "
      ]
     },
     "execution_count": 183,
     "metadata": {},
     "output_type": "execute_result"
    }
   ],
   "source": [
    "df_activity"
   ]
  },
  {
   "cell_type": "markdown",
   "id": "3fa0d4cb",
   "metadata": {},
   "source": [
    "### Criação gráfico Activity"
   ]
  },
  {
   "cell_type": "code",
   "execution_count": 184,
   "id": "9df91f9b",
   "metadata": {},
   "outputs": [
    {
     "data": {
      "text/plain": [
       "([<matplotlib.patches.Wedge at 0x1203b394a00>,\n",
       "  <matplotlib.patches.Wedge at 0x1203b394550>,\n",
       "  <matplotlib.patches.Wedge at 0x1203b2c3e80>],\n",
       " [Text(0.23808358650393224, 1.0739256053551498, ''),\n",
       "  Text(-0.8726887161176866, -0.6696375174382512, ''),\n",
       "  Text(0.8426488175527442, -0.7070664539326994, '')])"
      ]
     },
     "execution_count": 184,
     "metadata": {},
     "output_type": "execute_result"
    },
    {
     "data": {
      "image/png": "[encoded data removed]",
      "text/plain": [
       "<Figure size 432x432 with 1 Axes>"
      ]
     },
     "metadata": {},
     "output_type": "display_data"
    }
   ],
   "source": [
    "labels= 'Surfing', 'Swiming', 'Other'\n",
    "sizes= [31, 25, 16]\n",
    "explode = (0, 0.1, 0)\n",
    "fig1, ax1 = plt.subplots(figsize=(6, 6))\n",
    "ax1.pie(sizes, labels=labels, autopct='%1.1f%%',\n",
    "        shadow=True)\n",
    "\n",
    "ax1.axis('equal')\n",
    "\n",
    "plt.pie(sizes)"
   ]
  },
  {
   "cell_type": "code",
   "execution_count": 185,
   "id": "755916b2",
   "metadata": {},
   "outputs": [
    {
     "data": {
      "text/plain": [
       "[31, 25, 4, 2, 2, 1, 1, 1, 1, 1, 1, 1]"
      ]
     },
     "execution_count": 185,
     "metadata": {},
     "output_type": "execute_result"
    }
   ],
   "source": [
    "#Não usado\n",
    "list(df_activity.activity)"
   ]
  },
  {
   "cell_type": "code",
   "execution_count": 186,
   "id": "62ff56cd",
   "metadata": {},
   "outputs": [
    {
     "data": {
      "image/png": "[encoded data removed]",
      "text/plain": [
       "<Figure size 432x288 with 1 Axes>"
      ]
     },
     "metadata": {
      "needs_background": "light"
     },
     "output_type": "display_data"
    }
   ],
   "source": [
    "#Não usado\n",
    "sns.barplot(['Sports', 'Lazer', 'Unknow'], [64, 7, 6])\n",
    "plt.xlabel(\"Activity\")\n",
    "plt.ylabel(\"Attacks\")\n",
    "\n",
    "plt.show()"
   ]
  },
  {
   "cell_type": "code",
   "execution_count": 207,
   "id": "eb5a991d",
   "metadata": {},
   "outputs": [
    {
     "data": {
      "image/png": "[encoded data removed]",
      "text/plain": [
       "<Figure size 432x288 with 1 Axes>"
      ]
     },
     "metadata": {
      "needs_background": "light"
     },
     "output_type": "display_data"
    }
   ],
   "source": [
    "sns.barplot(['Surfing', 'Swiming', 'Other'], [31, 25, 21])\n",
    "plt.xlabel(\"Activity\")\n",
    "plt.ylabel(\"Attacks\")\n",
    "\n",
    "plt.show()"
   ]
  },
  {
   "cell_type": "code",
   "execution_count": null,
   "id": "d9942db4",
   "metadata": {},
   "outputs": [],
   "source": []
  }
 ],
 "metadata": {
  "kernelspec": {
   "display_name": "Python 3",
   "language": "python",
   "name": "python3"
  },
  "language_info": {
   "codemirror_mode": {
    "name": "ipython",
    "version": 3
   },
   "file_extension": ".py",
   "mimetype": "text/x-python",
   "name": "python",
   "nbconvert_exporter": "python",
   "pygments_lexer": "ipython3",
   "version": "3.8.8"
  }
 },
 "nbformat": 4,
 "nbformat_minor": 5
}
